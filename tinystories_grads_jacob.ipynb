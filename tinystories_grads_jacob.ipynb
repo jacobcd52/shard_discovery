{
 "cells": [
  {
   "cell_type": "code",
   "execution_count": 12,
   "metadata": {},
   "outputs": [
    {
     "name": "stdout",
     "output_type": "stream",
     "text": [
      "The autoreload extension is already loaded. To reload it, use:\n",
      "  %reload_ext autoreload\n"
     ]
    }
   ],
   "source": [
    "%load_ext autoreload\n",
    "%autoreload 2\n",
    "\n",
    "from transformer_lens import HookedTransformer\n",
    "import torch\n",
    "from datasets import load_dataset\n",
    "\n",
    "from tinystories_grads_jacob_utils import collect_gradients"
   ]
  },
  {
   "cell_type": "code",
   "execution_count": 4,
   "metadata": {},
   "outputs": [
    {
     "name": "stderr",
     "output_type": "stream",
     "text": [
      "WARNING:root:With reduced precision, it is advised to use `from_pretrained_no_processing` instead of `from_pretrained`.\n"
     ]
    },
    {
     "name": "stdout",
     "output_type": "stream",
     "text": [
      "Loaded pretrained model tiny-stories-1M into HookedTransformer\n"
     ]
    }
   ],
   "source": [
    "model = HookedTransformer.from_pretrained(\"tiny-stories-1M\", dtype=\"bfloat16\", device=\"cuda\")\n",
    "dataset = load_dataset(\"roneneldan/TinyStories\", split=\"train\", streaming=True)"
   ]
  },
  {
   "cell_type": "code",
   "execution_count": null,
   "metadata": {},
   "outputs": [
    {
     "data": {
      "application/vnd.jupyter.widget-view+json": {
       "model_id": "3df0526e8923459fb165706fd6817daf",
       "version_major": 2,
       "version_minor": 0
      },
      "text/plain": [
       "Collecting Gradients:   0%|          | 0/32 [00:00<?, ?it/s]"
      ]
     },
     "metadata": {},
     "output_type": "display_data"
    },
    {
     "name": "stdout",
     "output_type": "stream",
     "text": [
      "\n",
      "Finished. Collected gradients for 32 tokens.\n",
      "Final CPU Memory Usage: 64.22 GB\n",
      "\n",
      "Shape of collected gradients: torch.Size([32, 128, 64])\n"
     ]
    }
   ],
   "source": [
    "# 2. Set parameters for gradient collection\n",
    "layer_to_inspect = 3\n",
    "batch_size = 256 # Adjust based on your GPU memory\n",
    "num_tokens_to_collect = 10_000 \n",
    "print_frequency = 10 # Print memory usage every batch\n",
    "\n",
    "# 3. Collect gradients\n",
    "gradients = collect_gradients(\n",
    "    model=model,\n",
    "    dataset=dataset,\n",
    "    layer=layer_to_inspect,\n",
    "    batch_size=batch_size,\n",
    "    n_tokens_to_collect=num_tokens_to_collect,\n",
    "    print_freq=print_frequency,\n",
    "    max_seq_len=128\n",
    ")\n",
    "\n",
    "# 4. Inspect the result\n",
    "print(f\"\\nShape of collected gradients: {gradients.shape}\")\n",
    "# Expected shape: (num_tokens_to_collect, model.cfg.d_model)\n",
    "# e.g., (8192, 512) for pythia-70m"
   ]
  },
  {
   "cell_type": "code",
   "execution_count": 16,
   "metadata": {},
   "outputs": [
    {
     "data": {
      "text/plain": [
       "tensor([-0.0084,  0.0020,  0.0012,  0.0093, -0.0029, -0.0004,  0.0011, -0.0003,\n",
       "        -0.0063, -0.0008, -0.0044,  0.0062, -0.0013,  0.0042, -0.0043,  0.0046,\n",
       "        -0.0016, -0.0013, -0.0078,  0.0058, -0.0009,  0.0038, -0.0023,  0.0119,\n",
       "        -0.0014, -0.0053,  0.0079, -0.0031, -0.0019,  0.0037,  0.0100, -0.0066,\n",
       "         0.0002, -0.0063,  0.0062,  0.0011,  0.0018, -0.0008,  0.0020, -0.0012,\n",
       "        -0.0014, -0.0028,  0.0024, -0.0031, -0.0027,  0.0072, -0.0009, -0.0053,\n",
       "        -0.0090,  0.0087, -0.0018,  0.0008,  0.0013, -0.0056, -0.0011, -0.0025,\n",
       "         0.0019,  0.0021,  0.0021,  0.0035, -0.0015,  0.0046, -0.0029, -0.0079],\n",
       "       dtype=torch.bfloat16)"
      ]
     },
     "execution_count": 16,
     "metadata": {},
     "output_type": "execute_result"
    }
   ],
   "source": [
    "gradients[0]"
   ]
  }
 ],
 "metadata": {
  "kernelspec": {
   "display_name": "Python 3",
   "language": "python",
   "name": "python3"
  },
  "language_info": {
   "codemirror_mode": {
    "name": "ipython",
    "version": 3
   },
   "file_extension": ".py",
   "mimetype": "text/x-python",
   "name": "python",
   "nbconvert_exporter": "python",
   "pygments_lexer": "ipython3",
   "version": "3.10.12"
  }
 },
 "nbformat": 4,
 "nbformat_minor": 2
}
