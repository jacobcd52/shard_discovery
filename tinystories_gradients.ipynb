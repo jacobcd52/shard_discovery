{
  "cells": [
    {
      "cell_type": "code",
      "execution_count": 1,
      "metadata": {},
      "outputs": [
        {
          "name": "stdout",
          "output_type": "stream",
          "text": [
            "✅ All libraries imported successfully\n"
          ]
        }
      ],
      "source": [
        "# Import required libraries\n",
        "import torch\n",
        "import os\n",
        "import warnings\n",
        "warnings.filterwarnings('ignore')\n",
        "\n",
        "# HuggingFace libraries\n",
        "from transformers import AutoTokenizer, AutoModelForCausalLM\n",
        "from datasets import load_dataset\n",
        "\n",
        "# Import our custom modules\n",
        "from efficient_gradient_collector import (\n",
        "    TokenAwareGradientCollector, collect_gradients_from_stories, \n",
        "    load_single_layer_gradients, save_gradients_by_layer, load_single_layer_optimized\n",
        ")\n",
        "from visualization_utils import create_multiple_tsne_visualizations, print_gradient_summary\n",
        "\n",
        "print(\"✅ All libraries imported successfully\")\n"
      ]
    },
    {
      "cell_type": "code",
      "execution_count": 2,
      "metadata": {},
      "outputs": [
        {
          "name": "stdout",
          "output_type": "stream",
          "text": [
            "Configuration set. Saving to: tinystories_gradients\n",
            "Will save in batches of 50 samples\n"
          ]
        }
      ],
      "source": [
        "# Configuration\n",
        "MODEL_NAME = \"roneneldan/TinyStories-1M\"\n",
        "DATASET_NAME = \"roneneldan/TinyStories\"\n",
        "SAVE_DIR = \"tinystories_gradients\"\n",
        "MAX_SAMPLES = 2500  # Number of samples to collect gradients from\n",
        "MAX_LENGTH = 128   # Maximum sequence length\n",
        "BATCH_SIZE = 8     # Batch size for gradient collection\n",
        "SAVE_BATCH_SIZE = 50  # Save to disk every N samples (memory efficient)\n",
        "TOKEN_CONTEXT_WINDOW = 5  # Number of tokens before/after to show\n",
        "\n",
        "# Create save directory\n",
        "os.makedirs(SAVE_DIR, exist_ok=True)\n",
        "os.makedirs(os.path.join(SAVE_DIR, 'batches'), exist_ok=True)  # For batch files\n",
        "print(f\"Configuration set. Saving to: {SAVE_DIR}\")\n",
        "print(f\"Will save in batches of {SAVE_BATCH_SIZE} samples\")\n"
      ]
    },
    {
      "cell_type": "code",
      "execution_count": 3,
      "metadata": {},
      "outputs": [
        {
          "name": "stdout",
          "output_type": "stream",
          "text": [
            "Loading model: roneneldan/TinyStories-1M\n",
            "Model loaded on cuda\n",
            "Model type: gpt_neo\n",
            "Tokenizer vocab size: 50257\n",
            "Model parameters: 3,745,984\n",
            "\n",
            "Model architecture:\n",
            "  transformer.wte.weight: torch.Size([50257, 64])\n",
            "  transformer.wpe.weight: torch.Size([2048, 64])\n",
            "  transformer.h.0.ln_1.weight: torch.Size([64])\n",
            "  transformer.h.0.ln_1.bias: torch.Size([64])\n",
            "  transformer.h.0.attn.attention.k_proj.weight: torch.Size([64, 64])\n",
            "  transformer.h.0.attn.attention.v_proj.weight: torch.Size([64, 64])\n",
            "  transformer.h.0.attn.attention.q_proj.weight: torch.Size([64, 64])\n",
            "  transformer.h.0.attn.attention.out_proj.weight: torch.Size([64, 64])\n",
            "  transformer.h.0.attn.attention.out_proj.bias: torch.Size([64])\n",
            "  transformer.h.0.ln_2.weight: torch.Size([64])\n",
            "  transformer.h.0.ln_2.bias: torch.Size([64])\n",
            "  transformer.h.0.mlp.c_fc.weight: torch.Size([256, 64])\n",
            "  transformer.h.0.mlp.c_fc.bias: torch.Size([256])\n",
            "  transformer.h.0.mlp.c_proj.weight: torch.Size([64, 256])\n",
            "  transformer.h.0.mlp.c_proj.bias: torch.Size([64])\n",
            "  transformer.h.1.ln_1.weight: torch.Size([64])\n",
            "  transformer.h.1.ln_1.bias: torch.Size([64])\n",
            "  transformer.h.1.attn.attention.k_proj.weight: torch.Size([64, 64])\n",
            "  transformer.h.1.attn.attention.v_proj.weight: torch.Size([64, 64])\n",
            "  transformer.h.1.attn.attention.q_proj.weight: torch.Size([64, 64])\n",
            "  transformer.h.1.attn.attention.out_proj.weight: torch.Size([64, 64])\n",
            "  transformer.h.1.attn.attention.out_proj.bias: torch.Size([64])\n",
            "  transformer.h.1.ln_2.weight: torch.Size([64])\n",
            "  transformer.h.1.ln_2.bias: torch.Size([64])\n",
            "  transformer.h.1.mlp.c_fc.weight: torch.Size([256, 64])\n",
            "  transformer.h.1.mlp.c_fc.bias: torch.Size([256])\n",
            "  transformer.h.1.mlp.c_proj.weight: torch.Size([64, 256])\n",
            "  transformer.h.1.mlp.c_proj.bias: torch.Size([64])\n",
            "  transformer.h.2.ln_1.weight: torch.Size([64])\n",
            "  transformer.h.2.ln_1.bias: torch.Size([64])\n",
            "  transformer.h.2.attn.attention.k_proj.weight: torch.Size([64, 64])\n",
            "  transformer.h.2.attn.attention.v_proj.weight: torch.Size([64, 64])\n",
            "  transformer.h.2.attn.attention.q_proj.weight: torch.Size([64, 64])\n",
            "  transformer.h.2.attn.attention.out_proj.weight: torch.Size([64, 64])\n",
            "  transformer.h.2.attn.attention.out_proj.bias: torch.Size([64])\n",
            "  transformer.h.2.ln_2.weight: torch.Size([64])\n",
            "  transformer.h.2.ln_2.bias: torch.Size([64])\n",
            "  transformer.h.2.mlp.c_fc.weight: torch.Size([256, 64])\n",
            "  transformer.h.2.mlp.c_fc.bias: torch.Size([256])\n",
            "  transformer.h.2.mlp.c_proj.weight: torch.Size([64, 256])\n",
            "  transformer.h.2.mlp.c_proj.bias: torch.Size([64])\n",
            "  transformer.h.3.ln_1.weight: torch.Size([64])\n",
            "  transformer.h.3.ln_1.bias: torch.Size([64])\n",
            "  transformer.h.3.attn.attention.k_proj.weight: torch.Size([64, 64])\n",
            "  transformer.h.3.attn.attention.v_proj.weight: torch.Size([64, 64])\n",
            "  transformer.h.3.attn.attention.q_proj.weight: torch.Size([64, 64])\n",
            "  transformer.h.3.attn.attention.out_proj.weight: torch.Size([64, 64])\n",
            "  transformer.h.3.attn.attention.out_proj.bias: torch.Size([64])\n",
            "  transformer.h.3.ln_2.weight: torch.Size([64])\n",
            "  transformer.h.3.ln_2.bias: torch.Size([64])\n",
            "  transformer.h.3.mlp.c_fc.weight: torch.Size([256, 64])\n",
            "  transformer.h.3.mlp.c_fc.bias: torch.Size([256])\n",
            "  transformer.h.3.mlp.c_proj.weight: torch.Size([64, 256])\n",
            "  transformer.h.3.mlp.c_proj.bias: torch.Size([64])\n",
            "  transformer.h.4.ln_1.weight: torch.Size([64])\n",
            "  transformer.h.4.ln_1.bias: torch.Size([64])\n",
            "  transformer.h.4.attn.attention.k_proj.weight: torch.Size([64, 64])\n",
            "  transformer.h.4.attn.attention.v_proj.weight: torch.Size([64, 64])\n",
            "  transformer.h.4.attn.attention.q_proj.weight: torch.Size([64, 64])\n",
            "  transformer.h.4.attn.attention.out_proj.weight: torch.Size([64, 64])\n",
            "  transformer.h.4.attn.attention.out_proj.bias: torch.Size([64])\n",
            "  transformer.h.4.ln_2.weight: torch.Size([64])\n",
            "  transformer.h.4.ln_2.bias: torch.Size([64])\n",
            "  transformer.h.4.mlp.c_fc.weight: torch.Size([256, 64])\n",
            "  transformer.h.4.mlp.c_fc.bias: torch.Size([256])\n",
            "  transformer.h.4.mlp.c_proj.weight: torch.Size([64, 256])\n",
            "  transformer.h.4.mlp.c_proj.bias: torch.Size([64])\n",
            "  transformer.h.5.ln_1.weight: torch.Size([64])\n",
            "  transformer.h.5.ln_1.bias: torch.Size([64])\n",
            "  transformer.h.5.attn.attention.k_proj.weight: torch.Size([64, 64])\n",
            "  transformer.h.5.attn.attention.v_proj.weight: torch.Size([64, 64])\n",
            "  transformer.h.5.attn.attention.q_proj.weight: torch.Size([64, 64])\n",
            "  transformer.h.5.attn.attention.out_proj.weight: torch.Size([64, 64])\n",
            "  transformer.h.5.attn.attention.out_proj.bias: torch.Size([64])\n",
            "  transformer.h.5.ln_2.weight: torch.Size([64])\n",
            "  transformer.h.5.ln_2.bias: torch.Size([64])\n",
            "  transformer.h.5.mlp.c_fc.weight: torch.Size([256, 64])\n",
            "  transformer.h.5.mlp.c_fc.bias: torch.Size([256])\n",
            "  transformer.h.5.mlp.c_proj.weight: torch.Size([64, 256])\n",
            "  transformer.h.5.mlp.c_proj.bias: torch.Size([64])\n",
            "  transformer.h.6.ln_1.weight: torch.Size([64])\n",
            "  transformer.h.6.ln_1.bias: torch.Size([64])\n",
            "  transformer.h.6.attn.attention.k_proj.weight: torch.Size([64, 64])\n",
            "  transformer.h.6.attn.attention.v_proj.weight: torch.Size([64, 64])\n",
            "  transformer.h.6.attn.attention.q_proj.weight: torch.Size([64, 64])\n",
            "  transformer.h.6.attn.attention.out_proj.weight: torch.Size([64, 64])\n",
            "  transformer.h.6.attn.attention.out_proj.bias: torch.Size([64])\n",
            "  transformer.h.6.ln_2.weight: torch.Size([64])\n",
            "  transformer.h.6.ln_2.bias: torch.Size([64])\n",
            "  transformer.h.6.mlp.c_fc.weight: torch.Size([256, 64])\n",
            "  transformer.h.6.mlp.c_fc.bias: torch.Size([256])\n",
            "  transformer.h.6.mlp.c_proj.weight: torch.Size([64, 256])\n",
            "  transformer.h.6.mlp.c_proj.bias: torch.Size([64])\n",
            "  transformer.h.7.ln_1.weight: torch.Size([64])\n",
            "  transformer.h.7.ln_1.bias: torch.Size([64])\n",
            "  transformer.h.7.attn.attention.k_proj.weight: torch.Size([64, 64])\n",
            "  transformer.h.7.attn.attention.v_proj.weight: torch.Size([64, 64])\n",
            "  transformer.h.7.attn.attention.q_proj.weight: torch.Size([64, 64])\n",
            "  transformer.h.7.attn.attention.out_proj.weight: torch.Size([64, 64])\n",
            "  transformer.h.7.attn.attention.out_proj.bias: torch.Size([64])\n",
            "  transformer.h.7.ln_2.weight: torch.Size([64])\n",
            "  transformer.h.7.ln_2.bias: torch.Size([64])\n",
            "  transformer.h.7.mlp.c_fc.weight: torch.Size([256, 64])\n",
            "  transformer.h.7.mlp.c_fc.bias: torch.Size([256])\n",
            "  transformer.h.7.mlp.c_proj.weight: torch.Size([64, 256])\n",
            "  transformer.h.7.mlp.c_proj.bias: torch.Size([64])\n",
            "  transformer.ln_f.weight: torch.Size([64])\n",
            "  transformer.ln_f.bias: torch.Size([64])\n"
          ]
        }
      ],
      "source": [
        "# Load TinyStories model and tokenizer\n",
        "print(f\"Loading model: {MODEL_NAME}\")\n",
        "\n",
        "# Load tokenizer (use GPT-Neo tokenizer as specified in model card)\n",
        "tokenizer = AutoTokenizer.from_pretrained(\"EleutherAI/gpt-neo-125M\")\n",
        "if tokenizer.pad_token is None:\n",
        "    tokenizer.pad_token = tokenizer.eos_token\n",
        "\n",
        "# Load model\n",
        "model = AutoModelForCausalLM.from_pretrained(MODEL_NAME)\n",
        "device = torch.device(\"cuda\" if torch.cuda.is_available() else \"cpu\")\n",
        "model = model.to(device)\n",
        "model.eval()\n",
        "\n",
        "print(f\"Model loaded on {device}\")\n",
        "print(f\"Model type: {model.config.model_type}\")\n",
        "print(f\"Tokenizer vocab size: {tokenizer.vocab_size}\")\n",
        "print(f\"Model parameters: {sum(p.numel() for p in model.parameters()):,}\")\n",
        "\n",
        "# Show model architecture\n",
        "print(\"\\nModel architecture:\")\n",
        "for name, param in model.named_parameters():\n",
        "    if param.requires_grad:\n",
        "        print(f\"  {name}: {param.shape}\")\n"
      ]
    },
    {
      "cell_type": "code",
      "execution_count": 4,
      "metadata": {},
      "outputs": [
        {
          "name": "stdout",
          "output_type": "stream",
          "text": [
            "Loading dataset: roneneldan/TinyStories\n",
            "Loaded 2500 stories\n",
            "\n",
            "Example story:\n",
            "'One day, a little girl named Lily found a needle in her room. She knew it was difficult to play with it because it was sharp. Lily wanted to share the needle with her mom, so she could sew a button on...'\n"
          ]
        }
      ],
      "source": [
        "# Load TinyStories dataset\n",
        "print(f\"Loading dataset: {DATASET_NAME}\")\n",
        "\n",
        "dataset = load_dataset(DATASET_NAME, split=\"train\", streaming=True)\n",
        "\n",
        "# Sample some stories\n",
        "stories = []\n",
        "for i, example in enumerate(dataset):\n",
        "    if i >= MAX_SAMPLES:\n",
        "        break\n",
        "    stories.append(example['text'])\n",
        "\n",
        "print(f\"Loaded {len(stories)} stories\")\n",
        "print(f\"\\nExample story:\")\n",
        "print(f\"'{stories[0][:200]}...'\")\n"
      ]
    },
    {
      "cell_type": "code",
      "execution_count": 5,
      "metadata": {},
      "outputs": [
        {
          "name": "stdout",
          "output_type": "stream",
          "text": [
            "Tracking 108 parameters\n",
            "Will save batches of 50 samples to tinystories_gradients/batches\n",
            "Using device: cuda:0 (GPU: True)\n",
            "🔄 Starting gradient collection with progressive batch saving...\n",
            "Processed 8 / 2500 stories\n",
            "Processed 25 samples (saved 0 batches)\n",
            "💾 Saved batch 0 with 50 samples\n",
            "Processed 50 samples (saved 1 batches)\n",
            "Processed 75 samples (saved 1 batches)\n",
            "Processed 88 / 2500 stories\n",
            "💾 Saved batch 1 with 50 samples\n",
            "Processed 100 samples (saved 2 batches)\n",
            "Processed 125 samples (saved 2 batches)\n",
            "💾 Saved batch 2 with 50 samples\n",
            "Processed 150 samples (saved 3 batches)\n",
            "Processed 168 / 2500 stories\n",
            "Processed 175 samples (saved 3 batches)\n",
            "💾 Saved batch 3 with 50 samples\n",
            "Processed 200 samples (saved 4 batches)\n",
            "Processed 225 samples (saved 4 batches)\n",
            "Processed 248 / 2500 stories\n",
            "💾 Saved batch 4 with 50 samples\n",
            "Processed 250 samples (saved 5 batches)\n",
            "Processed 275 samples (saved 5 batches)\n",
            "💾 Saved batch 5 with 50 samples\n",
            "Processed 300 samples (saved 6 batches)\n",
            "Processed 325 samples (saved 6 batches)\n",
            "Processed 328 / 2500 stories\n",
            "💾 Saved batch 6 with 50 samples\n",
            "Processed 350 samples (saved 7 batches)\n",
            "Processed 375 samples (saved 7 batches)\n",
            "💾 Saved batch 7 with 50 samples\n",
            "Processed 400 samples (saved 8 batches)\n",
            "Processed 408 / 2500 stories\n",
            "Processed 425 samples (saved 8 batches)\n",
            "💾 Saved batch 8 with 50 samples\n",
            "Processed 450 samples (saved 9 batches)\n",
            "Processed 475 samples (saved 9 batches)\n",
            "Processed 488 / 2500 stories\n",
            "💾 Saved batch 9 with 50 samples\n",
            "Processed 500 samples (saved 10 batches)\n",
            "Processed 525 samples (saved 10 batches)\n",
            "💾 Saved batch 10 with 50 samples\n",
            "Processed 550 samples (saved 11 batches)\n",
            "Processed 568 / 2500 stories\n",
            "Processed 575 samples (saved 11 batches)\n",
            "💾 Saved batch 11 with 50 samples\n",
            "Processed 600 samples (saved 12 batches)\n",
            "Processed 625 samples (saved 12 batches)\n",
            "Processed 648 / 2500 stories\n",
            "💾 Saved batch 12 with 50 samples\n",
            "Processed 650 samples (saved 13 batches)\n",
            "Processed 675 samples (saved 13 batches)\n",
            "💾 Saved batch 13 with 50 samples\n",
            "Processed 700 samples (saved 14 batches)\n",
            "Processed 725 samples (saved 14 batches)\n",
            "Processed 728 / 2500 stories\n",
            "💾 Saved batch 14 with 50 samples\n",
            "Processed 750 samples (saved 15 batches)\n",
            "Processed 775 samples (saved 15 batches)\n",
            "💾 Saved batch 15 with 50 samples\n",
            "Processed 800 samples (saved 16 batches)\n",
            "Processed 808 / 2500 stories\n",
            "Processed 825 samples (saved 16 batches)\n",
            "💾 Saved batch 16 with 50 samples\n",
            "Processed 850 samples (saved 17 batches)\n",
            "Processed 875 samples (saved 17 batches)\n",
            "Processed 888 / 2500 stories\n",
            "💾 Saved batch 17 with 50 samples\n",
            "Processed 900 samples (saved 18 batches)\n",
            "Processed 925 samples (saved 18 batches)\n",
            "💾 Saved batch 18 with 50 samples\n",
            "Processed 950 samples (saved 19 batches)\n",
            "Processed 968 / 2500 stories\n",
            "Processed 975 samples (saved 19 batches)\n",
            "💾 Saved batch 19 with 50 samples\n",
            "Processed 1000 samples (saved 20 batches)\n",
            "Processed 1025 samples (saved 20 batches)\n",
            "Processed 1048 / 2500 stories\n",
            "💾 Saved batch 20 with 50 samples\n",
            "Processed 1050 samples (saved 21 batches)\n",
            "Processed 1075 samples (saved 21 batches)\n",
            "💾 Saved batch 21 with 50 samples\n",
            "Processed 1100 samples (saved 22 batches)\n",
            "Processed 1125 samples (saved 22 batches)\n",
            "Processed 1128 / 2500 stories\n",
            "💾 Saved batch 22 with 50 samples\n",
            "Processed 1150 samples (saved 23 batches)\n",
            "Processed 1175 samples (saved 23 batches)\n",
            "💾 Saved batch 23 with 50 samples\n",
            "Processed 1200 samples (saved 24 batches)\n",
            "Processed 1208 / 2500 stories\n",
            "Processed 1225 samples (saved 24 batches)\n",
            "💾 Saved batch 24 with 50 samples\n",
            "Processed 1250 samples (saved 25 batches)\n",
            "Processed 1275 samples (saved 25 batches)\n",
            "Processed 1288 / 2500 stories\n",
            "💾 Saved batch 25 with 50 samples\n",
            "Processed 1300 samples (saved 26 batches)\n",
            "Processed 1325 samples (saved 26 batches)\n",
            "💾 Saved batch 26 with 50 samples\n",
            "Processed 1350 samples (saved 27 batches)\n",
            "Processed 1368 / 2500 stories\n",
            "Processed 1375 samples (saved 27 batches)\n",
            "💾 Saved batch 27 with 50 samples\n",
            "Processed 1400 samples (saved 28 batches)\n",
            "Processed 1425 samples (saved 28 batches)\n",
            "Processed 1448 / 2500 stories\n",
            "💾 Saved batch 28 with 50 samples\n",
            "Processed 1450 samples (saved 29 batches)\n",
            "Processed 1475 samples (saved 29 batches)\n",
            "💾 Saved batch 29 with 50 samples\n",
            "Processed 1500 samples (saved 30 batches)\n",
            "Processed 1525 samples (saved 30 batches)\n",
            "Processed 1528 / 2500 stories\n",
            "💾 Saved batch 30 with 50 samples\n",
            "Processed 1550 samples (saved 31 batches)\n",
            "Processed 1575 samples (saved 31 batches)\n",
            "💾 Saved batch 31 with 50 samples\n",
            "Processed 1600 samples (saved 32 batches)\n",
            "Processed 1608 / 2500 stories\n",
            "Processed 1625 samples (saved 32 batches)\n",
            "💾 Saved batch 32 with 50 samples\n",
            "Processed 1650 samples (saved 33 batches)\n",
            "Processed 1675 samples (saved 33 batches)\n",
            "Processed 1688 / 2500 stories\n",
            "💾 Saved batch 33 with 50 samples\n",
            "Processed 1700 samples (saved 34 batches)\n",
            "Processed 1725 samples (saved 34 batches)\n",
            "💾 Saved batch 34 with 50 samples\n",
            "Processed 1750 samples (saved 35 batches)\n",
            "Processed 1768 / 2500 stories\n",
            "Processed 1775 samples (saved 35 batches)\n",
            "💾 Saved batch 35 with 50 samples\n",
            "Processed 1800 samples (saved 36 batches)\n",
            "Processed 1825 samples (saved 36 batches)\n",
            "Processed 1848 / 2500 stories\n",
            "💾 Saved batch 36 with 50 samples\n",
            "Processed 1850 samples (saved 37 batches)\n",
            "Processed 1875 samples (saved 37 batches)\n",
            "💾 Saved batch 37 with 50 samples\n",
            "Processed 1900 samples (saved 38 batches)\n",
            "Processed 1925 samples (saved 38 batches)\n",
            "Processed 1928 / 2500 stories\n",
            "💾 Saved batch 38 with 50 samples\n",
            "Processed 1950 samples (saved 39 batches)\n",
            "Processed 1975 samples (saved 39 batches)\n",
            "💾 Saved batch 39 with 50 samples\n",
            "Processed 2000 samples (saved 40 batches)\n",
            "Processed 2008 / 2500 stories\n",
            "Processed 2025 samples (saved 40 batches)\n",
            "💾 Saved batch 40 with 50 samples\n",
            "Processed 2050 samples (saved 41 batches)\n",
            "Processed 2075 samples (saved 41 batches)\n",
            "Processed 2088 / 2500 stories\n",
            "💾 Saved batch 41 with 50 samples\n",
            "Processed 2100 samples (saved 42 batches)\n",
            "Processed 2125 samples (saved 42 batches)\n",
            "💾 Saved batch 42 with 50 samples\n",
            "Processed 2150 samples (saved 43 batches)\n",
            "Processed 2168 / 2500 stories\n",
            "Processed 2175 samples (saved 43 batches)\n",
            "💾 Saved batch 43 with 50 samples\n",
            "Processed 2200 samples (saved 44 batches)\n",
            "Processed 2225 samples (saved 44 batches)\n",
            "Processed 2248 / 2500 stories\n",
            "💾 Saved batch 44 with 50 samples\n",
            "Processed 2250 samples (saved 45 batches)\n",
            "Processed 2275 samples (saved 45 batches)\n",
            "💾 Saved batch 45 with 50 samples\n",
            "Processed 2300 samples (saved 46 batches)\n",
            "Processed 2325 samples (saved 46 batches)\n",
            "Processed 2328 / 2500 stories\n",
            "💾 Saved batch 46 with 50 samples\n",
            "Processed 2350 samples (saved 47 batches)\n",
            "Processed 2375 samples (saved 47 batches)\n",
            "💾 Saved batch 47 with 50 samples\n",
            "Processed 2400 samples (saved 48 batches)\n",
            "Processed 2408 / 2500 stories\n",
            "Processed 2425 samples (saved 48 batches)\n",
            "💾 Saved batch 48 with 50 samples\n",
            "Processed 2450 samples (saved 49 batches)\n",
            "Processed 2475 samples (saved 49 batches)\n",
            "Processed 2488 / 2500 stories\n",
            "💾 Saved batch 49 with 50 samples\n",
            "Processed 2500 samples (saved 50 batches)\n",
            "✅ Collection complete! Saved 50 batches with 2500 total samples\n",
            "✅ Gradient collection complete!\n",
            "Total samples processed: 2500\n",
            "Total batches saved: 50\n",
            "Data saved to: tinystories_gradients/batches\n"
          ]
        }
      ],
      "source": [
        "# Collect gradients using the imported function\n",
        "collector = collect_gradients_from_stories(\n",
        "    model=model,\n",
        "    tokenizer=tokenizer,\n",
        "    stories=stories,\n",
        "    save_dir=SAVE_DIR,\n",
        "    max_samples=MAX_SAMPLES,\n",
        "    max_length=MAX_LENGTH,\n",
        "    batch_size=BATCH_SIZE,\n",
        "    save_batch_size=SAVE_BATCH_SIZE,\n",
        "    token_context_window=TOKEN_CONTEXT_WINDOW\n",
        ")\n"
      ]
    },
    {
      "cell_type": "code",
      "execution_count": null,
      "metadata": {},
      "outputs": [],
      "source": [
        "# Configuration for single layer analysis\n",
        "print(\"🎯 Single Layer Analysis Configuration\")\n",
        "print(\"Available layer options:\")\n",
        "print(\"  - transformer.wte.weight (word embeddings)\")\n",
        "print(\"  - transformer.wpe.weight (position embeddings)\")\n",
        "print(\"  - transformer.h.0.attn.attention.q_proj.weight (first layer query projection)\")\n",
        "print(\"  - transformer.h.0.attn.attention.k_proj.weight (first layer key projection)\")\n",
        "print(\"  - transformer.h.0.attn.attention.v_proj.weight (first layer value projection)\")\n",
        "print(\"  - transformer.h.0.mlp.c_fc.weight (first layer MLP)\")\n",
        "print(\"  - transformer.h.7.attn.attention.q_proj.weight (last layer query projection)\")\n",
        "print(\"  - transformer.h.7.mlp.c_fc.weight (last layer MLP)\")\n",
        "print()\n",
        "print(\"💡 To change the target layer, modify TARGET_LAYER in the next cell\")\n",
        "print(\"💡 To load all layers, set USE_SINGLE_LAYER = False\")\n"
      ]
    },
    {
      "cell_type": "code",
      "execution_count": 6,
      "metadata": {},
      "outputs": [
        {
          "name": "stdout",
          "output_type": "stream",
          "text": [
            "🔄 Reorganizing gradient storage by layer for optimal efficiency...\n",
            "This is a one-time process that will make future analysis much faster.\n",
            "\n",
            "🔄 Reorganizing 50 batch files by layer...\n",
            "📊 Found 108 layers to reorganize\n"
          ]
        },
        {
          "name": "stderr",
          "output_type": "stream",
          "text": [
            "Reorganizing batches: 100%|██████████| 50/50 [01:36<00:00,  1.93s/batch]"
          ]
        },
        {
          "name": "stdout",
          "output_type": "stream",
          "text": [
            "✅ Reorganization complete!\n",
            "📁 Original storage: 34.89 GB\n",
            "📁 New storage: 34.90 GB\n",
            "💾 Storage identical (expected - same data, different organization)\n",
            "🚀 Loading efficiency: Up to 108x faster for single layer analysis\n",
            "📂 New structure: tinystories_gradients/layers/{layer_name}/batch_XXXX_gradients.pt\n",
            "✅ Storage reorganization complete!\n",
            "   Future single-layer analysis will be 108x faster\n",
            "   You can now use load_single_layer_optimized() for best performance\n"
          ]
        },
        {
          "name": "stderr",
          "output_type": "stream",
          "text": [
            "\n"
          ]
        }
      ],
      "source": [
        "# OPTIONAL: Reorganize storage for maximum efficiency\n",
        "# This reorganizes the current 50 × 715MB files into layer-specific storage\n",
        "# Benefits: 108x faster loading, same storage, better organization\n",
        "\n",
        "REORGANIZE_STORAGE = True  # Set to True to reorganize existing data\n",
        "\n",
        "if REORGANIZE_STORAGE and 'collector' in locals():\n",
        "    print(\"🔄 Reorganizing gradient storage by layer for optimal efficiency...\")\n",
        "    print(\"This is a one-time process that will make future analysis much faster.\")\n",
        "    print()\n",
        "    \n",
        "    success = save_gradients_by_layer(collector)\n",
        "    \n",
        "    if success:\n",
        "        print(\"✅ Storage reorganization complete!\")\n",
        "        print(\"   Future single-layer analysis will be 108x faster\")\n",
        "        print(\"   You can now use load_single_layer_optimized() for best performance\")\n",
        "    else:\n",
        "        print(\"❌ Storage reorganization failed. Will use original format.\")\n",
        "else:\n",
        "    print(\"ℹ️  Skipping storage reorganization (set REORGANIZE_STORAGE=True to enable)\")\n",
        "    print(\"   Current format works but is less efficient for single-layer analysis\")\n"
      ]
    },
    {
      "cell_type": "code",
      "execution_count": 11,
      "metadata": {},
      "outputs": [
        {
          "name": "stdout",
          "output_type": "stream",
          "text": [
            "💾 Loading single layer gradients for memory efficiency...\n",
            "Target layer: transformer.h.0.attn.attention.v_proj.weight\n",
            "🚀 Loading from optimized layer-specific storage...\n",
            "📁 Found 50 optimized batch files\n"
          ]
        },
        {
          "name": "stderr",
          "output_type": "stream",
          "text": [
            "Loading layer batches: 100%|██████████| 50/50 [00:00<00:00, 1273.01file/s]\n"
          ]
        },
        {
          "name": "stdout",
          "output_type": "stream",
          "text": [
            "✅ Loaded 2500 samples for layer transformer.h.0.attn.attention.v_proj.weight\n",
            "   Memory: 39.1 MB (vs 4218.8 MB for all layers)\n",
            "✅ Data loaded successfully\n",
            "Available parameters: ['transformer.h.0.attn.attention.v_proj.weight']\n",
            "Total token samples: 2500\n",
            "  transformer.h.0.attn.attention.v_proj.weight: torch.Size([2500, 64, 64]) (39.1 MB)\n",
            "📊 Total gradient data in memory: 39.1 MB\n"
          ]
        }
      ],
      "source": [
        "# Option to use single layer gradient loading for memory efficiency\n",
        "USE_SINGLE_LAYER = True  # Set to False to load all layers\n",
        "TARGET_LAYER = \"transformer.h.0.attn.attention.v_proj.weight\"  # Specify which layer to analyze\n",
        "\n",
        "if USE_SINGLE_LAYER:\n",
        "    print(\"💾 Loading single layer gradients for memory efficiency...\")\n",
        "    print(f\"Target layer: {TARGET_LAYER}\")\n",
        "    \n",
        "    # Try optimized loading first, fallback to standard loading\n",
        "    try:\n",
        "        gradient_tensors, token_data = load_single_layer_optimized(collector, target_layer=TARGET_LAYER)\n",
        "    except Exception as e:\n",
        "        print(f\"⚠️  Optimized loading failed: {e}\")\n",
        "        print(\"🔄 Falling back to standard loading...\")\n",
        "        gradient_tensors, token_data = load_single_layer_gradients(collector, target_layer=TARGET_LAYER)\n",
        "    \n",
        "    if gradient_tensors is None:\n",
        "        print(\"❌ Failed to load single layer gradients! Trying to show available layers...\")\n",
        "        gradient_tensors, token_data = load_single_layer_gradients(collector, target_layer=None)\n",
        "    \n",
        "else:\n",
        "    print(\"💾 Loading all saved batches for visualization...\")\n",
        "    gradient_tensors, token_data = collector.load_all_batches()\n",
        "\n",
        "if gradient_tensors is None or token_data is None:\n",
        "    print(\"❌ No data found! Please run gradient collection first.\")\n",
        "else:\n",
        "    print(f\"✅ Data loaded successfully\")\n",
        "    print(f\"Available parameters: {list(gradient_tensors.keys())}\")\n",
        "    print(f\"Total token samples: {len(token_data)}\")\n",
        "    \n",
        "    # Show memory usage\n",
        "    total_memory = 0\n",
        "    for name, grads in gradient_tensors.items():\n",
        "        mem_mb = grads.nelement() * grads.element_size() / (1024**2)\n",
        "        total_memory += mem_mb\n",
        "        print(f\"  {name}: {grads.shape} ({mem_mb:.1f} MB)\")\n",
        "        \n",
        "    print(f\"📊 Total gradient data in memory: {total_memory:.1f} MB\")\n"
      ]
    },
    {
      "cell_type": "code",
      "execution_count": 12,
      "metadata": {},
      "outputs": [
        {
          "name": "stdout",
          "output_type": "stream",
          "text": [
            "🎨 Creating t-SNE visualization for single layer: transformer.h.0.attn.attention.v_proj.weight\n",
            "🎨 Creating t-SNE visualizations...\n",
            "Visualizing parameters: ['transformer.h.0.attn.attention.v_proj.weight']\n",
            "\n",
            "Creating t-SNE for transformer.h.0.attn.attention.v_proj.weight...\n",
            "Original gradient shape: torch.Size([2500, 64, 64])\n",
            "Using 500 samples for t-SNE\n",
            "Running t-SNE...\n",
            "[t-SNE] Computing 91 nearest neighbors...\n",
            "[t-SNE] Indexed 500 samples in 0.002s...\n",
            "[t-SNE] Computed neighbors for 500 samples in 0.060s...\n",
            "[t-SNE] Computed conditional probabilities for sample 500 / 500\n",
            "[t-SNE] Mean sigma: 17.024346\n",
            "[t-SNE] KL divergence after 250 iterations with early exaggeration: 69.289207\n",
            "[t-SNE] KL divergence after 1000 iterations: 1.569001\n"
          ]
        },
        {
          "data": {
            "application/vnd.plotly.v1+json": {
              "config": {
                "plotlyServerURL": "https://plot.ly"
              },
              "data": [
                {
                  "hovertemplate": "%{text}<extra></extra>",
                  "marker": {
                    "color": [
                      128,
                      128,
                      128,
                      128,
                      128,
                      128,
                      128,
                      128,
                      128,
                      128,
                      128,
                      128,
                      128,
                      128,
                      128,
                      128,
                      128,
                      128,
                      128,
                      128,
                      128,
                      128,
                      128,
                      128,
                      128,
                      128,
                      128,
                      128,
                      128,
                      128,
                      128,
                      128,
                      128,
                      128,
                      128,
                      128,
                      128,
                      128,
                      128,
                      128,
                      128,
                      128,
                      128,
                      128,
                      128,
                      128,
                      128,
                      128,
                      128,
                      128,
                      128,
                      128,
                      128,
                      128,
                      128,
                      128,
                      128,
                      128,
                      128,
                      128,
                      128,
                      128,
                      128,
                      128,
                      128,
                      128,
                      128,
                      128,
                      128,
                      128,
                      128,
                      128,
                      128,
                      128,
                      128,
                      128,
                      128,
                      128,
                      128,
                      128,
                      128,
                      128,
                      128,
                      128,
                      128,
                      128,
                      128,
                      128,
                      128,
                      128,
                      128,
                      128,
                      128,
                      128,
                      128,
                      128,
                      128,
                      128,
                      128,
                      128,
                      128,
                      128,
                      128,
                      128,
                      128,
                      128,
                      128,
                      128,
                      128,
                      128,
                      128,
                      128,
                      128,
                      128,
                      128,
                      128,
                      128,
                      128,
                      128,
                      128,
                      128,
                      128,
                      128,
                      128,
                      128,
                      128,
                      128,
                      128,
                      128,
                      128,
                      128,
                      128,
                      128,
                      128,
                      128,
                      128,
                      128,
                      128,
                      128,
                      128,
                      128,
                      128,
                      128,
                      128,
                      128,
                      128,
                      128,
                      128,
                      128,
                      128,
                      128,
                      128,
                      128,
                      128,
                      128,
                      128,
                      128,
                      128,
                      128,
                      128,
                      128,
                      128,
                      128,
                      128,
                      128,
                      128,
                      128,
                      128,
                      128,
                      128,
                      128,
                      128,
                      128,
                      128,
                      128,
                      128,
                      128,
                      128,
                      128,
                      128,
                      128,
                      128,
                      128,
                      128,
                      128,
                      128,
                      128,
                      128,
                      128,
                      128,
                      128,
                      128,
                      128,
                      128,
                      128,
                      128,
                      128,
                      128,
                      128,
                      128,
                      128,
                      128,
                      128,
                      128,
                      128,
                      128,
                      128,
                      128,
                      128,
                      128,
                      128,
                      128,
                      128,
                      128,
                      128,
                      128,
                      128,
                      128,
                      128,
                      128,
                      128,
                      128,
                      128,
                      128,
                      128,
                      128,
                      128,
                      128,
                      128,
                      128,
                      128,
                      128,
                      128,
                      128,
                      128,
                      128,
                      128,
                      128,
                      128,
                      128,
                      128,
                      128,
                      128,
                      128,
                      128,
                      128,
                      128,
                      128,
                      128,
                      128,
                      128,
                      128,
                      128,
                      128,
                      128,
                      128,
                      128,
                      128,
                      128,
                      128,
                      128,
                      128,
                      128,
                      128,
                      128,
                      128,
                      128,
                      128,
                      128,
                      128,
                      128,
                      128,
                      128,
                      128,
                      128,
                      128,
                      128,
                      128,
                      128,
                      128,
                      128,
                      128,
                      128,
                      128,
                      128,
                      128,
                      128,
                      128,
                      128,
                      128,
                      128,
                      128,
                      128,
                      128,
                      128,
                      128,
                      128,
                      128,
                      128,
                      128,
                      128,
                      128,
                      128,
                      128,
                      128,
                      128,
                      128,
                      128,
                      128,
                      128,
                      128,
                      128,
                      128,
                      128,
                      128,
                      128,
                      128,
                      128,
                      128,
                      128,
                      128,
                      128,
                      128,
                      128,
                      128,
                      128,
                      128,
                      128,
                      128,
                      128,
                      128,
                      128,
                      128,
                      128,
                      128,
                      128,
                      128,
                      128,
                      128,
                      128,
                      128,
                      128,
                      128,
                      128,
                      128,
                      128,
                      128,
                      128,
                      128,
                      128,
                      128,
                      128,
                      128,
                      128,
                      128,
                      128,
                      128,
                      128,
                      128,
                      128,
                      128,
                      128,
                      128,
                      128,
                      128,
                      128,
                      128,
                      128,
                      128,
                      128,
                      128,
                      128,
                      128,
                      128,
                      128,
                      128,
                      128,
                      128,
                      128,
                      128,
                      128,
                      128,
                      128,
                      128,
                      128,
                      128,
                      128,
                      128,
                      128,
                      128,
                      128,
                      128,
                      128,
                      128,
                      128,
                      128,
                      128,
                      128,
                      128,
                      128,
                      128,
                      128,
                      128,
                      128,
                      128,
                      128,
                      128,
                      128,
                      128,
                      128,
                      128,
                      128,
                      128,
                      128,
                      128,
                      128,
                      128,
                      128,
                      128,
                      128,
                      128,
                      128,
                      128,
                      128,
                      128,
                      128,
                      128,
                      128,
                      128,
                      128,
                      128,
                      128,
                      128,
                      128,
                      128,
                      128,
                      128,
                      128,
                      128,
                      128,
                      128,
                      128,
                      128,
                      128,
                      128,
                      128,
                      128,
                      128,
                      128,
                      128,
                      128,
                      128,
                      128,
                      128,
                      128,
                      128,
                      128,
                      128,
                      128,
                      128,
                      128,
                      128,
                      128,
                      128,
                      128,
                      128,
                      128,
                      128,
                      128,
                      128,
                      128,
                      128,
                      128,
                      128,
                      128,
                      128,
                      128,
                      128,
                      128,
                      128,
                      128,
                      128,
                      128,
                      128,
                      128,
                      128,
                      128,
                      128,
                      128,
                      128,
                      128,
                      128,
                      128,
                      128,
                      128,
                      128,
                      128,
                      128,
                      128,
                      128
                    ],
                    "colorbar": {
                      "title": {
                        "text": "Sequence Length"
                      }
                    },
                    "colorscale": [
                      [
                        0,
                        "#440154"
                      ],
                      [
                        0.1111111111111111,
                        "#482878"
                      ],
                      [
                        0.2222222222222222,
                        "#3e4989"
                      ],
                      [
                        0.3333333333333333,
                        "#31688e"
                      ],
                      [
                        0.4444444444444444,
                        "#26828e"
                      ],
                      [
                        0.5555555555555556,
                        "#1f9e89"
                      ],
                      [
                        0.6666666666666666,
                        "#35b779"
                      ],
                      [
                        0.7777777777777778,
                        "#6ece58"
                      ],
                      [
                        0.8888888888888888,
                        "#b5de2b"
                      ],
                      [
                        1,
                        "#fde725"
                      ]
                    ],
                    "opacity": 0.7,
                    "size": 8
                  },
                  "mode": "markers",
                  "name": "Gradient Points",
                  "text": [
                    "Sample 1226<br>Sequence length: 128<br><br>Text preview:<br>Once upon a time, there was a very cheerful little sock. Every day, he would race around the house, bringing smiles and laughter with him wherever he ...<br><br>Token examples (context with <b>target</b> token):<br>  0: <b>Once</b> upon a time, there<br>  1: Once <b>upon</b> a time, there was<br>  2: Once upon <b>a</b> time, there was a<br>  3: Once upon a <b>time,</b> there was a very<br>  4: Once upon a time, <b>there</b> was a very cheerful<br>  5: Once upon a time, there <b>was</b> a very cheerful little<br>  6: upon a time, there was <b>a</b> very cheerful little sock<br>  7: a time, there was a <b>very</b> cheerful little sock.",
                    "Sample 1652<br>Sequence length: 128<br><br>Text preview:<br>Once there was a little girl called Mandy. She had a wonderful model plane. Every day after school, she would take it out and throw it high into the s...<br><br>Token examples (context with <b>target</b> token):<br>  0: <b>Once</b> there was a little girl<br>  1: Once <b>there</b> was a little girl called<br>  2: Once there <b>was</b> a little girl called M<br>  3: Once there was <b>a</b> little girl called Mandy<br>  4: Once there was a <b>little</b> girl called Mandy.<br>  5: Once there was a little <b>girl</b> called Mandy. She<br>  6: there was a little girl <b>called</b> Mandy. She had<br>  7: was a little girl called <b>Mandy.</b> She had a",
                    "Sample 2401<br>Sequence length: 128<br><br>Text preview:<br>Once upon a time, a little girl named Lily went outside to play. She saw her friend, a little boy named Timmy, and ran over to him.\n\n\"Hi Timmy, what a...<br><br>Token examples (context with <b>target</b> token):<br>  0: <b>Once</b> upon a time, a<br>  1: Once <b>upon</b> a time, a little<br>  2: Once upon <b>a</b> time, a little girl<br>  3: Once upon a <b>time,</b> a little girl named<br>  4: Once upon a time, <b>a</b> little girl named Lily<br>  5: Once upon a time, a <b>little</b> girl named Lily went<br>  6: upon a time, a little <b>girl</b> named Lily went outside<br>  7: a time, a little girl <b>named</b> Lily went outside to",
                    "Sample 926<br>Sequence length: 128<br><br>Text preview:<br>Tom and Lily are friends. They like to play outside. One day, they see a big kite in the sky. It is red and yellow and has a long tail.\n\n\"Wow, look at...<br><br>Token examples (context with <b>target</b> token):<br>  0: <b>Tom</b> and Lily are friends.<br>  1: Tom <b>and</b> Lily are friends. They<br>  2: Tom and <b>Lily</b> are friends. They like<br>  3: Tom and Lily <b>are</b> friends. They like to<br>  4: Tom and Lily are <b>friends.</b> They like to play<br>  5: Tom and Lily are friends. <b>They</b> like to play outside<br>  6: and Lily are friends. They <b>like</b> to play outside.<br>  7: Lily are friends. They like <b>to</b> play outside. One",
                    "Sample 2392<br>Sequence length: 128<br><br>Text preview:<br>Once upon a time, there was a bunny named Benny. Benny loved to hop around in the fields and eat wheat. One day, Benny got lost and couldn't find his ...<br><br>Token examples (context with <b>target</b> token):<br>  0: <b>Once</b> upon a time, there<br>  1: Once <b>upon</b> a time, there was<br>  2: Once upon <b>a</b> time, there was a<br>  3: Once upon a <b>time,</b> there was a bunny<br>  4: Once upon a time, <b>there</b> was a bunny named<br>  5: Once upon a time, there <b>was</b> a bunny named Benny<br>  6: upon a time, there was <b>a</b> bunny named Benny.<br>  7: a time, there was a <b>bunny</b> named Benny. Benny",
                    "Sample 1299<br>Sequence length: 128<br><br>Text preview:<br>Mama was very happy. She was going to a party. She wanted to decorate the house. She got her brush and some paint and started to paint the walls. She ...<br><br>Token examples (context with <b>target</b> token):<br>  0: <b>Mama</b> was very happy.<br>  1: Mama <b>was</b> very happy. She<br>  2: Mama was <b>very</b> happy. She was<br>  3: Mama was very <b>happy.</b> She was going<br>  4: Mama was very happy. <b>She</b> was going to<br>  5: Mama was very happy. She <b>was</b> going to a<br>  6: ama was very happy. She <b>was</b> going to a party<br>  7: was very happy. She was <b>going</b> to a party.",
                    "Sample 1653<br>Sequence length: 128<br><br>Text preview:<br>Once, there was a little girl who loved to play the flute. She would put on her pretty dress and run to the park, her favorite spot to perform.\n\nOne d...<br><br>Token examples (context with <b>target</b> token):<br>  0: <b>Once,</b> there was a little<br>  1: Once, <b>there</b> was a little girl<br>  2: Once, there <b>was</b> a little girl who<br>  3: Once, there was <b>a</b> little girl who loved<br>  4: Once, there was a <b>little</b> girl who loved to<br>  5: Once, there was a little <b>girl</b> who loved to play<br>  6: , there was a little <b>girl</b> who loved to play the<br>  7: there was a little girl <b>who</b> loved to play the fl",
                    "Sample 945<br>Sequence length: 128<br><br>Text preview:<br>Lily and Tom were playing with their blocks in the living room. They liked to build towers and houses and bridges with the colorful blocks. They were ...<br><br>Token examples (context with <b>target</b> token):<br>  0: <b>Lily</b> and Tom were playing<br>  1: Lily <b>and</b> Tom were playing with<br>  2: Lily and <b>Tom</b> were playing with their<br>  3: Lily and Tom <b>were</b> playing with their blocks<br>  4: Lily and Tom were <b>playing</b> with their blocks in<br>  5: Lily and Tom were playing <b>with</b> their blocks in the<br>  6: ily and Tom were playing <b>with</b> their blocks in the living<br>  7: and Tom were playing with <b>their</b> blocks in the living room",
                    "Sample 308<br>Sequence length: 128<br><br>Text preview:<br>Once upon a time, there was a small, weak girl. One day, she went on an adventure and went to the beach. On the beach, she saw the ocean, which was bi...<br><br>Token examples (context with <b>target</b> token):<br>  0: <b>Once</b> upon a time, there<br>  1: Once <b>upon</b> a time, there was<br>  2: Once upon <b>a</b> time, there was a<br>  3: Once upon a <b>time,</b> there was a small<br>  4: Once upon a time, <b>there</b> was a small,<br>  5: Once upon a time, there <b>was</b> a small, weak<br>  6: upon a time, there was <b>a</b> small, weak girl<br>  7: a time, there was a <b>small,</b> weak girl.",
                    "Sample 899<br>Sequence length: 128<br><br>Text preview:<br>Once upon a time, there was a little girl named Lily. She loved to play dress-up and wear costumes. One day, she found a brilliant mask in her toy box...<br><br>Token examples (context with <b>target</b> token):<br>  0: <b>Once</b> upon a time, there<br>  1: Once <b>upon</b> a time, there was<br>  2: Once upon <b>a</b> time, there was a<br>  3: Once upon a <b>time,</b> there was a little<br>  4: Once upon a time, <b>there</b> was a little girl<br>  5: Once upon a time, there <b>was</b> a little girl named<br>  6: upon a time, there was <b>a</b> little girl named Lily<br>  7: a time, there was a <b>little</b> girl named Lily.",
                    "Sample 1964<br>Sequence length: 128<br><br>Text preview:<br>Cindy was a three year old girl who loved playing in the garden. One day she ran out of the house and opened the gate. She was so excited to explore, ...<br><br>Token examples (context with <b>target</b> token):<br>  0: <b>Cindy</b> was a three<br>  1: Cindy <b>was</b> a three year<br>  2: Cindy was <b>a</b> three year old<br>  3: Cindy was a <b>three</b> year old girl<br>  4: Cindy was a three <b>year</b> old girl who<br>  5: Cindy was a three year <b>old</b> girl who loved<br>  6: indy was a three year <b>old</b> girl who loved playing<br>  7: y was a three year <b>old</b> girl who loved playing in",
                    "Sample 2187<br>Sequence length: 128<br><br>Text preview:<br>Lily liked to watch the screen with her mom. The screen showed funny animals and people who made her laugh. Sometimes, her mom would tell her the name...<br><br>Token examples (context with <b>target</b> token):<br>  0: <b>Lily</b> liked to watch the<br>  1: Lily <b>liked</b> to watch the screen<br>  2: Lily liked <b>to</b> watch the screen with<br>  3: Lily liked to <b>watch</b> the screen with her<br>  4: Lily liked to watch <b>the</b> screen with her mom<br>  5: Lily liked to watch the <b>screen</b> with her mom.<br>  6: ily liked to watch the <b>screen</b> with her mom. The<br>  7: liked to watch the screen <b>with</b> her mom. The screen",
                    "Sample 389<br>Sequence length: 128<br><br>Text preview:<br>Sandy was walking in the woods one day when she saw a big, tall tree. She had never seen a tree so big before! She smiled and nodded her head in appro...<br><br>Token examples (context with <b>target</b> token):<br>  0: <b>Sandy</b> was walking in the<br>  1: Sandy <b>was</b> walking in the woods<br>  2: Sandy was <b>walking</b> in the woods one<br>  3: Sandy was walking <b>in</b> the woods one day<br>  4: Sandy was walking in <b>the</b> woods one day when<br>  5: Sandy was walking in the <b>woods</b> one day when she<br>  6: andy was walking in the <b>woods</b> one day when she saw<br>  7: was walking in the woods <b>one</b> day when she saw a",
                    "Sample 821<br>Sequence length: 128<br><br>Text preview:<br>Once upon a time, there was a little girl named Lily. She had a big jar of butter, but it was so heavy that she couldn't carry it. So, she asked her m...<br><br>Token examples (context with <b>target</b> token):<br>  0: <b>Once</b> upon a time, there<br>  1: Once <b>upon</b> a time, there was<br>  2: Once upon <b>a</b> time, there was a<br>  3: Once upon a <b>time,</b> there was a little<br>  4: Once upon a time, <b>there</b> was a little girl<br>  5: Once upon a time, there <b>was</b> a little girl named<br>  6: upon a time, there was <b>a</b> little girl named Lily<br>  7: a time, there was a <b>little</b> girl named Lily.",
                    "Sample 1117<br>Sequence length: 128<br><br>Text preview:<br>Once upon a time there was a big exam. It was hard for some of the kids, but not for Susie. She was going to pass it easily!\n\nSusie studied hard for t...<br><br>Token examples (context with <b>target</b> token):<br>  0: <b>Once</b> upon a time there was<br>  1: Once <b>upon</b> a time there was a<br>  2: Once upon <b>a</b> time there was a big<br>  3: Once upon a <b>time</b> there was a big exam<br>  4: Once upon a time <b>there</b> was a big exam.<br>  5: Once upon a time there <b>was</b> a big exam. It<br>  6: upon a time there was <b>a</b> big exam. It was<br>  7: a time there was a <b>big</b> exam. It was hard",
                    "Sample 2079<br>Sequence length: 128<br><br>Text preview:<br>Once upon a time there was a little boy named Tom. Tom loved to play with all his toys but he also liked to ask questions.\n\nOne day Tom asked his Mom ...<br><br>Token examples (context with <b>target</b> token):<br>  0: <b>Once</b> upon a time there was<br>  1: Once <b>upon</b> a time there was a<br>  2: Once upon <b>a</b> time there was a little<br>  3: Once upon a <b>time</b> there was a little boy<br>  4: Once upon a time <b>there</b> was a little boy named<br>  5: Once upon a time there <b>was</b> a little boy named Tom<br>  6: upon a time there was <b>a</b> little boy named Tom.<br>  7: a time there was a <b>little</b> boy named Tom. Tom",
                    "Sample 2177<br>Sequence length: 128<br><br>Text preview:<br>Lily and Ben were at the beach with their mom and dad. They liked to play in the sand and make castles and tunnels. They also liked to swim in the wat...<br><br>Token examples (context with <b>target</b> token):<br>  0: <b>Lily</b> and Ben were at<br>  1: Lily <b>and</b> Ben were at the<br>  2: Lily and <b>Ben</b> were at the beach<br>  3: Lily and Ben <b>were</b> at the beach with<br>  4: Lily and Ben were <b>at</b> the beach with their<br>  5: Lily and Ben were at <b>the</b> beach with their mom<br>  6: ily and Ben were at <b>the</b> beach with their mom and<br>  7: and Ben were at the <b>beach</b> with their mom and dad",
                    "Sample 954<br>Sequence length: 128<br><br>Text preview:<br>Tom and Sue are friends. They like to play in the farm. One day, they see a new animal in the farm. It is a mule. A mule is like a horse, but with lon...<br><br>Token examples (context with <b>target</b> token):<br>  0: <b>Tom</b> and Sue are friends.<br>  1: Tom <b>and</b> Sue are friends. They<br>  2: Tom and <b>Sue</b> are friends. They like<br>  3: Tom and Sue <b>are</b> friends. They like to<br>  4: Tom and Sue are <b>friends.</b> They like to play<br>  5: Tom and Sue are friends. <b>They</b> like to play in<br>  6: and Sue are friends. They <b>like</b> to play in the<br>  7: Sue are friends. They like <b>to</b> play in the farm",
                    "Sample 648<br>Sequence length: 128<br><br>Text preview:<br>Once upon a time there was a big, bright moon. It weighed a lot! It was so heavy that it looked like it was going to fall out of the sky. \n\nOne day, a...<br><br>Token examples (context with <b>target</b> token):<br>  0: <b>Once</b> upon a time there was<br>  1: Once <b>upon</b> a time there was a<br>  2: Once upon <b>a</b> time there was a big<br>  3: Once upon a <b>time</b> there was a big,<br>  4: Once upon a time <b>there</b> was a big, bright<br>  5: Once upon a time there <b>was</b> a big, bright moon<br>  6: upon a time there was <b>a</b> big, bright moon.<br>  7: a time there was a <b>big,</b> bright moon. It",
                    "Sample 1878<br>Sequence length: 128<br><br>Text preview:<br>Once there was a boy called Tom. Tom's mummy brought him a thermometer from the shop. It was an original thermometer, not a copy. \nTom was very excite...<br><br>Token examples (context with <b>target</b> token):<br>  0: <b>Once</b> there was a boy called<br>  1: Once <b>there</b> was a boy called Tom<br>  2: Once there <b>was</b> a boy called Tom.<br>  3: Once there was <b>a</b> boy called Tom. Tom<br>  4: Once there was a <b>boy</b> called Tom. Tom's<br>  5: Once there was a boy <b>called</b> Tom. Tom's mummy<br>  6: there was a boy called <b>Tom.</b> Tom's mummy brought<br>  7: was a boy called Tom. <b>Tom's</b> mummy brought him",
                    "Sample 2138<br>Sequence length: 128<br><br>Text preview:<br>Tom and Lily were twins who liked to look at the stars at night. They had a big book with pictures of stars, planets and comets. They learned that com...<br><br>Token examples (context with <b>target</b> token):<br>  0: <b>Tom</b> and Lily were twins who<br>  1: Tom <b>and</b> Lily were twins who liked<br>  2: Tom and <b>Lily</b> were twins who liked to<br>  3: Tom and Lily <b>were</b> twins who liked to look<br>  4: Tom and Lily were <b>twins</b> who liked to look at<br>  5: Tom and Lily were twins <b>who</b> liked to look at the<br>  6: and Lily were twins who <b>liked</b> to look at the stars<br>  7: Lily were twins who liked <b>to</b> look at the stars at",
                    "Sample 564<br>Sequence length: 128<br><br>Text preview:<br>Once upon a time, there was a big dream. It was so big, it filled up a whole page! The dream was so amazing, it made everyone smile. They couldn't wai...<br><br>Token examples (context with <b>target</b> token):<br>  0: <b>Once</b> upon a time, there<br>  1: Once <b>upon</b> a time, there was<br>  2: Once upon <b>a</b> time, there was a<br>  3: Once upon a <b>time,</b> there was a big<br>  4: Once upon a time, <b>there</b> was a big dream<br>  5: Once upon a time, there <b>was</b> a big dream.<br>  6: upon a time, there was <b>a</b> big dream. It<br>  7: a time, there was a <b>big</b> dream. It was",
                    "Sample 246<br>Sequence length: 128<br><br>Text preview:<br>Mummy and Daddy were picking flowers in the garden. Mummy picked a red daisy, Daddy picked a purple thistle and the little girl picked a beautiful lil...<br><br>Token examples (context with <b>target</b> token):<br>  0: <b>Mummy</b> and Daddy were picking<br>  1: Mummy <b>and</b> Daddy were picking flowers<br>  2: Mummy and <b>Daddy</b> were picking flowers in<br>  3: Mummy and Daddy <b>were</b> picking flowers in the<br>  4: Mummy and Daddy were <b>picking</b> flowers in the garden<br>  5: Mummy and Daddy were picking <b>flowers</b> in the garden.<br>  6: ummy and Daddy were picking <b>flowers</b> in the garden. M<br>  7: and Daddy were picking flowers <b>in</b> the garden. Mummy",
                    "Sample 2175<br>Sequence length: 128<br><br>Text preview:<br>Lily liked to wander in the park. She saw many things: trees, flowers, birds, dogs. She liked to say hello to them. One day, she saw a big tunnel. It ...<br><br>Token examples (context with <b>target</b> token):<br>  0: <b>Lily</b> liked to wander in<br>  1: Lily <b>liked</b> to wander in the<br>  2: Lily liked <b>to</b> wander in the park<br>  3: Lily liked to <b>wander</b> in the park.<br>  4: Lily liked to wander <b>in</b> the park. She<br>  5: Lily liked to wander in <b>the</b> park. She saw<br>  6: ily liked to wander in <b>the</b> park. She saw many<br>  7: liked to wander in the <b>park.</b> She saw many things",
                    "Sample 2165<br>Sequence length: 128<br><br>Text preview:<br>Lily was deaf. She could not hear what the teacher said in the classroom. She could not hear what the other kids said to her. She felt sad and lonely....<br><br>Token examples (context with <b>target</b> token):<br>  0: <b>Lily</b> was deaf. She<br>  1: Lily <b>was</b> deaf. She could<br>  2: Lily was <b>deaf.</b> She could not<br>  3: Lily was deaf. <b>She</b> could not hear<br>  4: Lily was deaf. She <b>could</b> not hear what<br>  5: Lily was deaf. She could <b>not</b> hear what the<br>  6: ily was deaf. She could <b>not</b> hear what the teacher<br>  7: was deaf. She could not <b>hear</b> what the teacher said",
                    "Sample 1157<br>Sequence length: 128<br><br>Text preview:<br>Once upon a time there was an ordinary barber. He cut people's hair and made them feel happy. Every day he watched people come and go from his shop. O...<br><br>Token examples (context with <b>target</b> token):<br>  0: <b>Once</b> upon a time there was<br>  1: Once <b>upon</b> a time there was an<br>  2: Once upon <b>a</b> time there was an ordinary<br>  3: Once upon a <b>time</b> there was an ordinary bar<br>  4: Once upon a time <b>there</b> was an ordinary barber<br>  5: Once upon a time there <b>was</b> an ordinary barber.<br>  6: upon a time there was <b>an</b> ordinary barber. He<br>  7: a time there was an <b>ordinary</b> barber. He cut",
                    "Sample 1319<br>Sequence length: 128<br><br>Text preview:<br>Once upon a time there was a brilliant battery. The battery was very special and could mix things. One day, the battery wanted to mix some glue and wa...<br><br>Token examples (context with <b>target</b> token):<br>  0: <b>Once</b> upon a time there was<br>  1: Once <b>upon</b> a time there was a<br>  2: Once upon <b>a</b> time there was a brilliant<br>  3: Once upon a <b>time</b> there was a brilliant battery<br>  4: Once upon a time <b>there</b> was a brilliant battery.<br>  5: Once upon a time there <b>was</b> a brilliant battery. The<br>  6: upon a time there was <b>a</b> brilliant battery. The battery<br>  7: a time there was a <b>brilliant</b> battery. The battery was",
                    "Sample 1585<br>Sequence length: 128<br><br>Text preview:<br>Once there was a little girl called Lucy. She was only three years old and very excited. She went to her bedroom to sort her toys. She found all kinds...<br><br>Token examples (context with <b>target</b> token):<br>  0: <b>Once</b> there was a little girl<br>  1: Once <b>there</b> was a little girl called<br>  2: Once there <b>was</b> a little girl called Lucy<br>  3: Once there was <b>a</b> little girl called Lucy.<br>  4: Once there was a <b>little</b> girl called Lucy. She<br>  5: Once there was a little <b>girl</b> called Lucy. She was<br>  6: there was a little girl <b>called</b> Lucy. She was only<br>  7: was a little girl called <b>Lucy.</b> She was only three",
                    "Sample 904<br>Sequence length: 128<br><br>Text preview:<br>Sara and Tom like to play in the park. They like to climb the trees and swing on the branches. One day, they find a big branch on the ground. It is br...<br><br>Token examples (context with <b>target</b> token):<br>  0: <b>Sara</b> and Tom like to<br>  1: Sara <b>and</b> Tom like to play<br>  2: Sara and <b>Tom</b> like to play in<br>  3: Sara and Tom <b>like</b> to play in the<br>  4: Sara and Tom like <b>to</b> play in the park<br>  5: Sara and Tom like to <b>play</b> in the park.<br>  6: ara and Tom like to <b>play</b> in the park. They<br>  7: and Tom like to play <b>in</b> the park. They like",
                    "Sample 1311<br>Sequence length: 128<br><br>Text preview:<br>Once upon a time, there was a boat. The boat wanted to sail far away. It sailed and sailed until it came across an ugly doctor. The doctor was so ugly...<br><br>Token examples (context with <b>target</b> token):<br>  0: <b>Once</b> upon a time, there<br>  1: Once <b>upon</b> a time, there was<br>  2: Once upon <b>a</b> time, there was a<br>  3: Once upon a <b>time,</b> there was a boat<br>  4: Once upon a time, <b>there</b> was a boat.<br>  5: Once upon a time, there <b>was</b> a boat. The<br>  6: upon a time, there was <b>a</b> boat. The boat<br>  7: a time, there was a <b>boat.</b> The boat wanted",
                    "Sample 1289<br>Sequence length: 128<br><br>Text preview:<br>One day, Mary saw an ugly rainbow in the sky. She smiled and said, \"Wow!\" She wanted to mark the rainbow so she found some bright, colourful paper and...<br><br>Token examples (context with <b>target</b> token):<br>  0: <b>One</b> day, Mary saw an<br>  1: One <b>day,</b> Mary saw an ugly<br>  2: One day, <b>Mary</b> saw an ugly rainbow<br>  3: One day, Mary <b>saw</b> an ugly rainbow in<br>  4: One day, Mary saw <b>an</b> ugly rainbow in the<br>  5: One day, Mary saw an <b>ugly</b> rainbow in the sky<br>  6: day, Mary saw an ugly <b>rainbow</b> in the sky.<br>  7: , Mary saw an ugly <b>rainbow</b> in the sky. She",
                    "Sample 1227<br>Sequence length: 128<br><br>Text preview:<br>The little boy wanted to go on an adventure. He wanted to see something new and exciting. He put on his purple shoes and grabbed his pail.\n\nThen he mo...<br><br>Token examples (context with <b>target</b> token):<br>  0: <b>The</b> little boy wanted to go<br>  1: The <b>little</b> boy wanted to go on<br>  2: The little <b>boy</b> wanted to go on an<br>  3: The little boy <b>wanted</b> to go on an adventure<br>  4: The little boy wanted <b>to</b> go on an adventure.<br>  5: The little boy wanted to <b>go</b> on an adventure. He<br>  6: little boy wanted to go <b>on</b> an adventure. He wanted<br>  7: boy wanted to go on <b>an</b> adventure. He wanted to",
                    "Sample 888<br>Sequence length: 128<br><br>Text preview:<br>Once upon a time, there was a gorilla named Bob who lived in the jungle. He loved to play with his friends and eat bananas. One day, Bob found a broke...<br><br>Token examples (context with <b>target</b> token):<br>  0: <b>Once</b> upon a time, there<br>  1: Once <b>upon</b> a time, there was<br>  2: Once upon <b>a</b> time, there was a<br>  3: Once upon a <b>time,</b> there was a gorilla<br>  4: Once upon a time, <b>there</b> was a gorilla named<br>  5: Once upon a time, there <b>was</b> a gorilla named Bob<br>  6: upon a time, there was <b>a</b> gorilla named Bob who<br>  7: a time, there was a <b>gorilla</b> named Bob who lived",
                    "Sample 1124<br>Sequence length: 128<br><br>Text preview:<br>Once upon a time, there was a little boy named Jack. He had bright happy eyes and loved to explore.\n\nOne day, Jack decided to go on an adventure. He c...<br><br>Token examples (context with <b>target</b> token):<br>  0: <b>Once</b> upon a time, there<br>  1: Once <b>upon</b> a time, there was<br>  2: Once upon <b>a</b> time, there was a<br>  3: Once upon a <b>time,</b> there was a little<br>  4: Once upon a time, <b>there</b> was a little boy<br>  5: Once upon a time, there <b>was</b> a little boy named<br>  6: upon a time, there was <b>a</b> little boy named Jack<br>  7: a time, there was a <b>little</b> boy named Jack.",
                    "Sample 1643<br>Sequence length: 128<br><br>Text preview:<br>Tommy wanted to help his mum. She had lots of bags to carry, and so he tried to pick one up. It was too heavy, even though he tried very hard to carry...<br><br>Token examples (context with <b>target</b> token):<br>  0: <b>Tommy</b> wanted to help his<br>  1: Tommy <b>wanted</b> to help his mum<br>  2: Tommy wanted <b>to</b> help his mum.<br>  3: Tommy wanted to <b>help</b> his mum. She<br>  4: Tommy wanted to help <b>his</b> mum. She had<br>  5: Tommy wanted to help his <b>mum.</b> She had lots<br>  6: my wanted to help his <b>mum.</b> She had lots of<br>  7: wanted to help his mum. <b>She</b> had lots of bags",
                    "Sample 1000<br>Sequence length: 128<br><br>Text preview:<br>Once upon a time, there was a little girl named Lily. She had a teddy bear named Teddy that she loved very much. Teddy was special to her because he w...<br><br>Token examples (context with <b>target</b> token):<br>  0: <b>Once</b> upon a time, there<br>  1: Once <b>upon</b> a time, there was<br>  2: Once upon <b>a</b> time, there was a<br>  3: Once upon a <b>time,</b> there was a little<br>  4: Once upon a time, <b>there</b> was a little girl<br>  5: Once upon a time, there <b>was</b> a little girl named<br>  6: upon a time, there was <b>a</b> little girl named Lily<br>  7: a time, there was a <b>little</b> girl named Lily.",
                    "Sample 1562<br>Sequence length: 128<br><br>Text preview:<br>Once upon a time there was a wise old man who lived in a small factory. He had been stirring things in the factory for many years, always working hard...<br><br>Token examples (context with <b>target</b> token):<br>  0: <b>Once</b> upon a time there was<br>  1: Once <b>upon</b> a time there was a<br>  2: Once upon <b>a</b> time there was a wise<br>  3: Once upon a <b>time</b> there was a wise old<br>  4: Once upon a time <b>there</b> was a wise old man<br>  5: Once upon a time there <b>was</b> a wise old man who<br>  6: upon a time there was <b>a</b> wise old man who lived<br>  7: a time there was a <b>wise</b> old man who lived in",
                    "Sample 764<br>Sequence length: 128<br><br>Text preview:<br>Sara and Ben like to play outside. But today, the sky is gray and the rain is falling. Sara and Ben are sad. They want to have fun.\n\nThey look for a p...<br><br>Token examples (context with <b>target</b> token):<br>  0: <b>Sara</b> and Ben like to<br>  1: Sara <b>and</b> Ben like to play<br>  2: Sara and <b>Ben</b> like to play outside<br>  3: Sara and Ben <b>like</b> to play outside.<br>  4: Sara and Ben like <b>to</b> play outside. But<br>  5: Sara and Ben like to <b>play</b> outside. But today<br>  6: ara and Ben like to <b>play</b> outside. But today,<br>  7: and Ben like to play <b>outside.</b> But today, the",
                    "Sample 1404<br>Sequence length: 128<br><br>Text preview:<br>One day, a big number war happened. In this war, all the numbers wanted to be the best. The number one was very alert. It saw that the other numbers w...<br><br>Token examples (context with <b>target</b> token):<br>  0: <b>One</b> day, a big number<br>  1: One <b>day,</b> a big number war<br>  2: One day, <b>a</b> big number war happened<br>  3: One day, a <b>big</b> number war happened.<br>  4: One day, a big <b>number</b> war happened. In<br>  5: One day, a big number <b>war</b> happened. In this<br>  6: day, a big number war <b>happened.</b> In this war<br>  7: , a big number war <b>happened.</b> In this war,",
                    "Sample 2024<br>Sequence length: 128<br><br>Text preview:<br>Once upon a time there was a brave boy named Tom. He was always looking for new things to explore. One day, he was walking in the forest when he notic...<br><br>Token examples (context with <b>target</b> token):<br>  0: <b>Once</b> upon a time there was<br>  1: Once <b>upon</b> a time there was a<br>  2: Once upon <b>a</b> time there was a brave<br>  3: Once upon a <b>time</b> there was a brave boy<br>  4: Once upon a time <b>there</b> was a brave boy named<br>  5: Once upon a time there <b>was</b> a brave boy named Tom<br>  6: upon a time there was <b>a</b> brave boy named Tom.<br>  7: a time there was a <b>brave</b> boy named Tom. He",
                    "Sample 588<br>Sequence length: 128<br><br>Text preview:<br>Once upon a time, there was a mighty river. Everyday, lots of traffic would come over the river. Boats, cars, planes. All sorts of things!\n\nBut one da...<br><br>Token examples (context with <b>target</b> token):<br>  0: <b>Once</b> upon a time, there<br>  1: Once <b>upon</b> a time, there was<br>  2: Once upon <b>a</b> time, there was a<br>  3: Once upon a <b>time,</b> there was a mighty<br>  4: Once upon a time, <b>there</b> was a mighty river<br>  5: Once upon a time, there <b>was</b> a mighty river.<br>  6: upon a time, there was <b>a</b> mighty river. Everyday<br>  7: a time, there was a <b>mighty</b> river. Everyday,",
                    "Sample 1961<br>Sequence length: 128<br><br>Text preview:<br>Once upon a time there was a little girl named Emily. She was three years old and loved to explore the world around her.\n\nOne day Emily was playing in...<br><br>Token examples (context with <b>target</b> token):<br>  0: <b>Once</b> upon a time there was<br>  1: Once <b>upon</b> a time there was a<br>  2: Once upon <b>a</b> time there was a little<br>  3: Once upon a <b>time</b> there was a little girl<br>  4: Once upon a time <b>there</b> was a little girl named<br>  5: Once upon a time there <b>was</b> a little girl named Emily<br>  6: upon a time there was <b>a</b> little girl named Emily.<br>  7: a time there was a <b>little</b> girl named Emily. She",
                    "Sample 1683<br>Sequence length: 128<br><br>Text preview:<br>Once upon a time there was a little boy. His name was Timmy. He liked to paint. But one day, something terrible happened. He got red paint on his shir...<br><br>Token examples (context with <b>target</b> token):<br>  0: <b>Once</b> upon a time there was<br>  1: Once <b>upon</b> a time there was a<br>  2: Once upon <b>a</b> time there was a little<br>  3: Once upon a <b>time</b> there was a little boy<br>  4: Once upon a time <b>there</b> was a little boy.<br>  5: Once upon a time there <b>was</b> a little boy. His<br>  6: upon a time there was <b>a</b> little boy. His name<br>  7: a time there was a <b>little</b> boy. His name was",
                    "Sample 1346<br>Sequence length: 128<br><br>Text preview:<br>Once upon a time there was a brilliant girl who loved to eat cookies. Every day, she got a cookie from her mommy after dinner. Every day she chose one...<br><br>Token examples (context with <b>target</b> token):<br>  0: <b>Once</b> upon a time there was<br>  1: Once <b>upon</b> a time there was a<br>  2: Once upon <b>a</b> time there was a brilliant<br>  3: Once upon a <b>time</b> there was a brilliant girl<br>  4: Once upon a time <b>there</b> was a brilliant girl who<br>  5: Once upon a time there <b>was</b> a brilliant girl who loved<br>  6: upon a time there was <b>a</b> brilliant girl who loved to<br>  7: a time there was a <b>brilliant</b> girl who loved to eat",
                    "Sample 1354<br>Sequence length: 128<br><br>Text preview:<br>Once upon a time, there was a little girl named Anna. She had a big, purple ball. She loved to play with it every day. One day, she saw a weak, small ...<br><br>Token examples (context with <b>target</b> token):<br>  0: <b>Once</b> upon a time, there<br>  1: Once <b>upon</b> a time, there was<br>  2: Once upon <b>a</b> time, there was a<br>  3: Once upon a <b>time,</b> there was a little<br>  4: Once upon a time, <b>there</b> was a little girl<br>  5: Once upon a time, there <b>was</b> a little girl named<br>  6: upon a time, there was <b>a</b> little girl named Anna<br>  7: a time, there was a <b>little</b> girl named Anna.",
                    "Sample 603<br>Sequence length: 128<br><br>Text preview:<br>Once upon a time, there was a silly monkey. He was very foolish and always got into trouble.\n\nOne day, he decided he wanted to find a banana. He thoug...<br><br>Token examples (context with <b>target</b> token):<br>  0: <b>Once</b> upon a time, there<br>  1: Once <b>upon</b> a time, there was<br>  2: Once upon <b>a</b> time, there was a<br>  3: Once upon a <b>time,</b> there was a silly<br>  4: Once upon a time, <b>there</b> was a silly monkey<br>  5: Once upon a time, there <b>was</b> a silly monkey.<br>  6: upon a time, there was <b>a</b> silly monkey. He<br>  7: a time, there was a <b>silly</b> monkey. He was",
                    "Sample 533<br>Sequence length: 128<br><br>Text preview:<br>Once upon a time there was a little girl called Anna. Anna was very excited to learn something new. She wanted to learn how to use a fork.\n\nOne day, h...<br><br>Token examples (context with <b>target</b> token):<br>  0: <b>Once</b> upon a time there was<br>  1: Once <b>upon</b> a time there was a<br>  2: Once upon <b>a</b> time there was a little<br>  3: Once upon a <b>time</b> there was a little girl<br>  4: Once upon a time <b>there</b> was a little girl called<br>  5: Once upon a time there <b>was</b> a little girl called Anna<br>  6: upon a time there was <b>a</b> little girl called Anna.<br>  7: a time there was a <b>little</b> girl called Anna. Anna",
                    "Sample 1965<br>Sequence length: 128<br><br>Text preview:<br>Once upon a time there was a little girl named Ruby. She was only three and she liked to explore everything.\n\nOne day, Ruby found a cabinet that she h...<br><br>Token examples (context with <b>target</b> token):<br>  0: <b>Once</b> upon a time there was<br>  1: Once <b>upon</b> a time there was a<br>  2: Once upon <b>a</b> time there was a little<br>  3: Once upon a <b>time</b> there was a little girl<br>  4: Once upon a time <b>there</b> was a little girl named<br>  5: Once upon a time there <b>was</b> a little girl named Ruby<br>  6: upon a time there was <b>a</b> little girl named Ruby.<br>  7: a time there was a <b>little</b> girl named Ruby. She",
                    "Sample 1863<br>Sequence length: 128<br><br>Text preview:<br>Once upon a time there was a boat called Sunny. It sailed out on the ocean. One day it sailed to a new place and a new person got on board. \n\nThe pers...<br><br>Token examples (context with <b>target</b> token):<br>  0: <b>Once</b> upon a time there was<br>  1: Once <b>upon</b> a time there was a<br>  2: Once upon <b>a</b> time there was a boat<br>  3: Once upon a <b>time</b> there was a boat called<br>  4: Once upon a time <b>there</b> was a boat called Sunny<br>  5: Once upon a time there <b>was</b> a boat called Sunny.<br>  6: upon a time there was <b>a</b> boat called Sunny. It<br>  7: a time there was a <b>boat</b> called Sunny. It sailed",
                    "Sample 912<br>Sequence length: 128<br><br>Text preview:<br>Ben and Lily were adventurous twins who liked to explore new places. One day, they found a big suitcase in the attic. It was old and dusty, but it had...<br><br>Token examples (context with <b>target</b> token):<br>  0: <b>Ben</b> and Lily were adventurous twins<br>  1: Ben <b>and</b> Lily were adventurous twins who<br>  2: Ben and <b>Lily</b> were adventurous twins who liked<br>  3: Ben and Lily <b>were</b> adventurous twins who liked to<br>  4: Ben and Lily were <b>adventurous</b> twins who liked to explore<br>  5: Ben and Lily were adventurous <b>twins</b> who liked to explore new<br>  6: and Lily were adventurous twins <b>who</b> liked to explore new places<br>  7: Lily were adventurous twins who <b>liked</b> to explore new places.",
                    "Sample 1963<br>Sequence length: 128<br><br>Text preview:<br>Once upon a time, there was a huge bear. He was walking around in the woods looking for a friend. He wanted someone to play with.\n\nHe came across a li...<br><br>Token examples (context with <b>target</b> token):<br>  0: <b>Once</b> upon a time, there<br>  1: Once <b>upon</b> a time, there was<br>  2: Once upon <b>a</b> time, there was a<br>  3: Once upon a <b>time,</b> there was a huge<br>  4: Once upon a time, <b>there</b> was a huge bear<br>  5: Once upon a time, there <b>was</b> a huge bear.<br>  6: upon a time, there was <b>a</b> huge bear. He<br>  7: a time, there was a <b>huge</b> bear. He was",
                    "Sample 773<br>Sequence length: 128<br><br>Text preview:<br>Lily liked to create things with her crayons and paper. She made pictures of flowers, stars, and animals. One day, she wanted to create something new....<br><br>Token examples (context with <b>target</b> token):<br>  0: <b>Lily</b> liked to create things<br>  1: Lily <b>liked</b> to create things with<br>  2: Lily liked <b>to</b> create things with her<br>  3: Lily liked to <b>create</b> things with her cr<br>  4: Lily liked to create <b>things</b> with her cray<br>  5: Lily liked to create things <b>with</b> her crayons<br>  6: ily liked to create things <b>with</b> her crayons and<br>  7: liked to create things with <b>her</b> crayons and paper",
                    "Sample 356<br>Sequence length: 128<br><br>Text preview:<br>Once upon a time there was a bad jungle. No one wanted to go near it, because it was so bad. But one day a little girl decided to go in and explore. S...<br><br>Token examples (context with <b>target</b> token):<br>  0: <b>Once</b> upon a time there was<br>  1: Once <b>upon</b> a time there was a<br>  2: Once upon <b>a</b> time there was a bad<br>  3: Once upon a <b>time</b> there was a bad jungle<br>  4: Once upon a time <b>there</b> was a bad jungle.<br>  5: Once upon a time there <b>was</b> a bad jungle. No<br>  6: upon a time there was <b>a</b> bad jungle. No one<br>  7: a time there was a <b>bad</b> jungle. No one wanted",
                    "Sample 2272<br>Sequence length: 128<br><br>Text preview:<br>Lily and Ben are playing in the park. They see a big brown dog. The dog is friendly and wags its tail. Lily and Ben want to pet the dog.\n\n\"Hello, dog!...<br><br>Token examples (context with <b>target</b> token):<br>  0: <b>Lily</b> and Ben are playing<br>  1: Lily <b>and</b> Ben are playing in<br>  2: Lily and <b>Ben</b> are playing in the<br>  3: Lily and Ben <b>are</b> playing in the park<br>  4: Lily and Ben are <b>playing</b> in the park.<br>  5: Lily and Ben are playing <b>in</b> the park. They<br>  6: ily and Ben are playing <b>in</b> the park. They see<br>  7: and Ben are playing in <b>the</b> park. They see a",
                    "Sample 1954<br>Sequence length: 128<br><br>Text preview:<br>Once upon a time, there was a little girl called Amy. She was only three years old. One day Amy went to visit her grandmother who lived in a fancy hou...<br><br>Token examples (context with <b>target</b> token):<br>  0: <b>Once</b> upon a time, there<br>  1: Once <b>upon</b> a time, there was<br>  2: Once upon <b>a</b> time, there was a<br>  3: Once upon a <b>time,</b> there was a little<br>  4: Once upon a time, <b>there</b> was a little girl<br>  5: Once upon a time, there <b>was</b> a little girl called<br>  6: upon a time, there was <b>a</b> little girl called Amy<br>  7: a time, there was a <b>little</b> girl called Amy.",
                    "Sample 1043<br>Sequence length: 128<br><br>Text preview:<br>Once upon a time, there was a little girl named Lily. She loved to play with her toys and explore the world around her. One day, she went to the park ...<br><br>Token examples (context with <b>target</b> token):<br>  0: <b>Once</b> upon a time, there<br>  1: Once <b>upon</b> a time, there was<br>  2: Once upon <b>a</b> time, there was a<br>  3: Once upon a <b>time,</b> there was a little<br>  4: Once upon a time, <b>there</b> was a little girl<br>  5: Once upon a time, there <b>was</b> a little girl named<br>  6: upon a time, there was <b>a</b> little girl named Lily<br>  7: a time, there was a <b>little</b> girl named Lily.",
                    "Sample 1833<br>Sequence length: 128<br><br>Text preview:<br>Once upon a time, there were two friends, Max and Jane. Max was strong, while Jane was not. Max decided to show her how strong he was, and so he said ...<br><br>Token examples (context with <b>target</b> token):<br>  0: <b>Once</b> upon a time, there<br>  1: Once <b>upon</b> a time, there were<br>  2: Once upon <b>a</b> time, there were two<br>  3: Once upon a <b>time,</b> there were two friends<br>  4: Once upon a time, <b>there</b> were two friends,<br>  5: Once upon a time, there <b>were</b> two friends, Max<br>  6: upon a time, there were <b>two</b> friends, Max and<br>  7: a time, there were two <b>friends,</b> Max and Jane",
                    "Sample 424<br>Sequence length: 128<br><br>Text preview:<br>Once upon a time, there was a young boy who loved blueberries. One day, he saw a big blueberry bush and he ran over to it. He was so excited! He grabb...<br><br>Token examples (context with <b>target</b> token):<br>  0: <b>Once</b> upon a time, there<br>  1: Once <b>upon</b> a time, there was<br>  2: Once upon <b>a</b> time, there was a<br>  3: Once upon a <b>time,</b> there was a young<br>  4: Once upon a time, <b>there</b> was a young boy<br>  5: Once upon a time, there <b>was</b> a young boy who<br>  6: upon a time, there was <b>a</b> young boy who loved<br>  7: a time, there was a <b>young</b> boy who loved blue",
                    "Sample 2186<br>Sequence length: 128<br><br>Text preview:<br>Tom and Mia were playing with a balloon in the park. They liked to toss it to each other and watch it float in the air. Sometimes, they would try to c...<br><br>Token examples (context with <b>target</b> token):<br>  0: <b>Tom</b> and Mia were playing with<br>  1: Tom <b>and</b> Mia were playing with a<br>  2: Tom and <b>Mia</b> were playing with a balloon<br>  3: Tom and Mia <b>were</b> playing with a balloon in<br>  4: Tom and Mia were <b>playing</b> with a balloon in the<br>  5: Tom and Mia were playing <b>with</b> a balloon in the park<br>  6: and Mia were playing with <b>a</b> balloon in the park.<br>  7: Mia were playing with a <b>balloon</b> in the park. They",
                    "Sample 367<br>Sequence length: 128<br><br>Text preview:<br>Jack and Jill were best friends. Jack wanted to show Jill an exciting surprise so he sent her a letter. In the letter it said that he was going on a r...<br><br>Token examples (context with <b>target</b> token):<br>  0: <b>Jack</b> and Jill were best friends<br>  1: Jack <b>and</b> Jill were best friends.<br>  2: Jack and <b>Jill</b> were best friends. Jack<br>  3: Jack and Jill <b>were</b> best friends. Jack wanted<br>  4: Jack and Jill were <b>best</b> friends. Jack wanted to<br>  5: Jack and Jill were best <b>friends.</b> Jack wanted to show<br>  6: and Jill were best friends. <b>Jack</b> wanted to show Jill<br>  7: Jill were best friends. Jack <b>wanted</b> to show Jill an",
                    "Sample 1427<br>Sequence length: 128<br><br>Text preview:<br>Once upon a time, in a big, dark house, there lived a stubborn little girl named Lily. She loved to play with her toys and run around the house. One d...<br><br>Token examples (context with <b>target</b> token):<br>  0: <b>Once</b> upon a time, in<br>  1: Once <b>upon</b> a time, in a<br>  2: Once upon <b>a</b> time, in a big<br>  3: Once upon a <b>time,</b> in a big,<br>  4: Once upon a time, <b>in</b> a big, dark<br>  5: Once upon a time, in <b>a</b> big, dark house<br>  6: upon a time, in a <b>big,</b> dark house,<br>  7: a time, in a big, <b>dark</b> house, there",
                    "Sample 1356<br>Sequence length: 128<br><br>Text preview:<br>Once upon a time, there was a little girl named Sally. She lived in a small house with her mommy and daddy. Sally had a neighbor named Mr. Brown. Mr. ...<br><br>Token examples (context with <b>target</b> token):<br>  0: <b>Once</b> upon a time, there<br>  1: Once <b>upon</b> a time, there was<br>  2: Once upon <b>a</b> time, there was a<br>  3: Once upon a <b>time,</b> there was a little<br>  4: Once upon a time, <b>there</b> was a little girl<br>  5: Once upon a time, there <b>was</b> a little girl named<br>  6: upon a time, there was <b>a</b> little girl named Sally<br>  7: a time, there was a <b>little</b> girl named Sally.",
                    "Sample 544<br>Sequence length: 128<br><br>Text preview:<br>Once upon a time there was a plane in the sky. It made a funny noise and was going on an adventure. But then something went wrong and the plane starte...<br><br>Token examples (context with <b>target</b> token):<br>  0: <b>Once</b> upon a time there was<br>  1: Once <b>upon</b> a time there was a<br>  2: Once upon <b>a</b> time there was a plane<br>  3: Once upon a <b>time</b> there was a plane in<br>  4: Once upon a time <b>there</b> was a plane in the<br>  5: Once upon a time there <b>was</b> a plane in the sky<br>  6: upon a time there was <b>a</b> plane in the sky.<br>  7: a time there was a <b>plane</b> in the sky. It",
                    "Sample 750<br>Sequence length: 128<br><br>Text preview:<br>Lily and Ben were best friends. They liked to play with their toys in the garden. One day, Lily brought a new doll. It had long hair and a pretty dres...<br><br>Token examples (context with <b>target</b> token):<br>  0: <b>Lily</b> and Ben were best<br>  1: Lily <b>and</b> Ben were best friends<br>  2: Lily and <b>Ben</b> were best friends.<br>  3: Lily and Ben <b>were</b> best friends. They<br>  4: Lily and Ben were <b>best</b> friends. They liked<br>  5: Lily and Ben were best <b>friends.</b> They liked to<br>  6: ily and Ben were best <b>friends.</b> They liked to play<br>  7: and Ben were best friends. <b>They</b> liked to play with",
                    "Sample 279<br>Sequence length: 128<br><br>Text preview:<br>Once upon a time there was a three year old girl named Lily. She was playing with her favorite toy when suddenly she heard a loud noise. \n\nLily was af...<br><br>Token examples (context with <b>target</b> token):<br>  0: <b>Once</b> upon a time there was<br>  1: Once <b>upon</b> a time there was a<br>  2: Once upon <b>a</b> time there was a three<br>  3: Once upon a <b>time</b> there was a three year<br>  4: Once upon a time <b>there</b> was a three year old<br>  5: Once upon a time there <b>was</b> a three year old girl<br>  6: upon a time there was <b>a</b> three year old girl named<br>  7: a time there was a <b>three</b> year old girl named Lily",
                    "Sample 1419<br>Sequence length: 128<br><br>Text preview:<br>One day, Tim saw an enormous rocket in his yard. He was very excited. He wanted to show his friend, Sam. \"Sam, come see the big rocket!\" Tim said.\n\nSa...<br><br>Token examples (context with <b>target</b> token):<br>  0: <b>One</b> day, Tim saw an<br>  1: One <b>day,</b> Tim saw an enormous<br>  2: One day, <b>Tim</b> saw an enormous rocket<br>  3: One day, Tim <b>saw</b> an enormous rocket in<br>  4: One day, Tim saw <b>an</b> enormous rocket in his<br>  5: One day, Tim saw an <b>enormous</b> rocket in his yard<br>  6: day, Tim saw an enormous <b>rocket</b> in his yard.<br>  7: , Tim saw an enormous <b>rocket</b> in his yard. He",
                    "Sample 1546<br>Sequence length: 128<br><br>Text preview:<br>Once upon a time, a little boy named Bob was very curious. One day, he decided to go on an adventure and explore the woods nearby his house. He grabbe...<br><br>Token examples (context with <b>target</b> token):<br>  0: <b>Once</b> upon a time, a<br>  1: Once <b>upon</b> a time, a little<br>  2: Once upon <b>a</b> time, a little boy<br>  3: Once upon a <b>time,</b> a little boy named<br>  4: Once upon a time, <b>a</b> little boy named Bob<br>  5: Once upon a time, a <b>little</b> boy named Bob was<br>  6: upon a time, a little <b>boy</b> named Bob was very<br>  7: a time, a little boy <b>named</b> Bob was very curious",
                    "Sample 1493<br>Sequence length: 128<br><br>Text preview:<br>Once upon a time, a little boy named Tim went on a vacation with his family. They went to a big park with lots of trees, flowers, and a big lake. Tim ...<br><br>Token examples (context with <b>target</b> token):<br>  0: <b>Once</b> upon a time, a<br>  1: Once <b>upon</b> a time, a little<br>  2: Once upon <b>a</b> time, a little boy<br>  3: Once upon a <b>time,</b> a little boy named<br>  4: Once upon a time, <b>a</b> little boy named Tim<br>  5: Once upon a time, a <b>little</b> boy named Tim went<br>  6: upon a time, a little <b>boy</b> named Tim went on<br>  7: a time, a little boy <b>named</b> Tim went on a",
                    "Sample 2331<br>Sequence length: 128<br><br>Text preview:<br>Tom liked to play with his toy iron. It was orange and shiny and made a funny noise when he pressed a button. He liked to pretend he was ironing his c...<br><br>Token examples (context with <b>target</b> token):<br>  0: <b>Tom</b> liked to play with his<br>  1: Tom <b>liked</b> to play with his toy<br>  2: Tom liked <b>to</b> play with his toy iron<br>  3: Tom liked to <b>play</b> with his toy iron.<br>  4: Tom liked to play <b>with</b> his toy iron. It<br>  5: Tom liked to play with <b>his</b> toy iron. It was<br>  6: liked to play with his <b>toy</b> iron. It was orange<br>  7: to play with his toy <b>iron.</b> It was orange and",
                    "Sample 425<br>Sequence length: 128<br><br>Text preview:<br>Once upon a time, there was a violin. It was special and it was magical, but the violin was all alone. One day, the violin was feeling very scared and...<br><br>Token examples (context with <b>target</b> token):<br>  0: <b>Once</b> upon a time, there<br>  1: Once <b>upon</b> a time, there was<br>  2: Once upon <b>a</b> time, there was a<br>  3: Once upon a <b>time,</b> there was a violin<br>  4: Once upon a time, <b>there</b> was a violin.<br>  5: Once upon a time, there <b>was</b> a violin. It<br>  6: upon a time, there was <b>a</b> violin. It was<br>  7: a time, there was a <b>violin.</b> It was special",
                    "Sample 1417<br>Sequence length: 128<br><br>Text preview:<br>Once upon a time, there was a little fish named Fin. Fin lived in the big sea with his family. They had a small home near some rocks. One day, Fin saw...<br><br>Token examples (context with <b>target</b> token):<br>  0: <b>Once</b> upon a time, there<br>  1: Once <b>upon</b> a time, there was<br>  2: Once upon <b>a</b> time, there was a<br>  3: Once upon a <b>time,</b> there was a little<br>  4: Once upon a time, <b>there</b> was a little fish<br>  5: Once upon a time, there <b>was</b> a little fish named<br>  6: upon a time, there was <b>a</b> little fish named Fin<br>  7: a time, there was a <b>little</b> fish named Fin.",
                    "Sample 2245<br>Sequence length: 128<br><br>Text preview:<br>Once upon a time, there was a little girl named Lily. She loved to eat oatmeal for breakfast every day. One morning, her mom made her oatmeal with som...<br><br>Token examples (context with <b>target</b> token):<br>  0: <b>Once</b> upon a time, there<br>  1: Once <b>upon</b> a time, there was<br>  2: Once upon <b>a</b> time, there was a<br>  3: Once upon a <b>time,</b> there was a little<br>  4: Once upon a time, <b>there</b> was a little girl<br>  5: Once upon a time, there <b>was</b> a little girl named<br>  6: upon a time, there was <b>a</b> little girl named Lily<br>  7: a time, there was a <b>little</b> girl named Lily.",
                    "Sample 1644<br>Sequence length: 128<br><br>Text preview:<br>Once upon a time there was a girl who went on a wild adventure. She had a weird rag with her and it was her best friend. One day, she went deep into t...<br><br>Token examples (context with <b>target</b> token):<br>  0: <b>Once</b> upon a time there was<br>  1: Once <b>upon</b> a time there was a<br>  2: Once upon <b>a</b> time there was a girl<br>  3: Once upon a <b>time</b> there was a girl who<br>  4: Once upon a time <b>there</b> was a girl who went<br>  5: Once upon a time there <b>was</b> a girl who went on<br>  6: upon a time there was <b>a</b> girl who went on a<br>  7: a time there was a <b>girl</b> who went on a wild",
                    "Sample 865<br>Sequence length: 128<br><br>Text preview:<br>Once upon a time, there was a little girl named Lily. She loved wearing her favorite red skirt every day. One day, she went to the park to play with h...<br><br>Token examples (context with <b>target</b> token):<br>  0: <b>Once</b> upon a time, there<br>  1: Once <b>upon</b> a time, there was<br>  2: Once upon <b>a</b> time, there was a<br>  3: Once upon a <b>time,</b> there was a little<br>  4: Once upon a time, <b>there</b> was a little girl<br>  5: Once upon a time, there <b>was</b> a little girl named<br>  6: upon a time, there was <b>a</b> little girl named Lily<br>  7: a time, there was a <b>little</b> girl named Lily.",
                    "Sample 1545<br>Sequence length: 128<br><br>Text preview:<br>Once upon a time, there was a young duck who lived on a farm. He was so small and young, and he loved to go exploring the farm. One day, he was poking...<br><br>Token examples (context with <b>target</b> token):<br>  0: <b>Once</b> upon a time, there<br>  1: Once <b>upon</b> a time, there was<br>  2: Once upon <b>a</b> time, there was a<br>  3: Once upon a <b>time,</b> there was a young<br>  4: Once upon a time, <b>there</b> was a young duck<br>  5: Once upon a time, there <b>was</b> a young duck who<br>  6: upon a time, there was <b>a</b> young duck who lived<br>  7: a time, there was a <b>young</b> duck who lived on",
                    "Sample 1297<br>Sequence length: 128<br><br>Text preview:<br>Once upon a time there was a cute bird. He had two wings and he liked to fly around. One day he decided to go find a new home. But where should he go?...<br><br>Token examples (context with <b>target</b> token):<br>  0: <b>Once</b> upon a time there was<br>  1: Once <b>upon</b> a time there was a<br>  2: Once upon <b>a</b> time there was a cute<br>  3: Once upon a <b>time</b> there was a cute bird<br>  4: Once upon a time <b>there</b> was a cute bird.<br>  5: Once upon a time there <b>was</b> a cute bird. He<br>  6: upon a time there was <b>a</b> cute bird. He had<br>  7: a time there was a <b>cute</b> bird. He had two",
                    "Sample 1744<br>Sequence length: 128<br><br>Text preview:<br>Sam wanted to record a show on tv. He asked his dad to turn on the power. \n\nThe power went on and he was ready to record. He pressed the record button...<br><br>Token examples (context with <b>target</b> token):<br>  0: <b>Sam</b> wanted to record a show<br>  1: Sam <b>wanted</b> to record a show on<br>  2: Sam wanted <b>to</b> record a show on tv<br>  3: Sam wanted to <b>record</b> a show on tv.<br>  4: Sam wanted to record <b>a</b> show on tv. He<br>  5: Sam wanted to record a <b>show</b> on tv. He asked<br>  6: wanted to record a show <b>on</b> tv. He asked his<br>  7: to record a show on <b>tv.</b> He asked his dad",
                    "Sample 1931<br>Sequence length: 128<br><br>Text preview:<br>The ocean was calm and beautiful. There were lots of fish in the water and they were swimming around and having a great time. Suddenly, an octopus sta...<br><br>Token examples (context with <b>target</b> token):<br>  0: <b>The</b> ocean was calm and beautiful<br>  1: The <b>ocean</b> was calm and beautiful.<br>  2: The ocean <b>was</b> calm and beautiful. There<br>  3: The ocean was <b>calm</b> and beautiful. There were<br>  4: The ocean was calm <b>and</b> beautiful. There were lots<br>  5: The ocean was calm and <b>beautiful.</b> There were lots of<br>  6: ocean was calm and beautiful. <b>There</b> were lots of fish<br>  7: was calm and beautiful. There <b>were</b> lots of fish in",
                    "Sample 2243<br>Sequence length: 128<br><br>Text preview:<br>Once upon a time, there was an ordinary boy named Timmy. He loved to play in the park, especially on the swings. One day, he saw a square box on the g...<br><br>Token examples (context with <b>target</b> token):<br>  0: <b>Once</b> upon a time, there<br>  1: Once <b>upon</b> a time, there was<br>  2: Once upon <b>a</b> time, there was an<br>  3: Once upon a <b>time,</b> there was an ordinary<br>  4: Once upon a time, <b>there</b> was an ordinary boy<br>  5: Once upon a time, there <b>was</b> an ordinary boy named<br>  6: upon a time, there was <b>an</b> ordinary boy named Tim<br>  7: a time, there was an <b>ordinary</b> boy named Timmy",
                    "Sample 496<br>Sequence length: 128<br><br>Text preview:<br>Once upon a time, a little girl lived in a big house. One day it was her birthday and her mummy and daddy had a surprise for her! They brought out a b...<br><br>Token examples (context with <b>target</b> token):<br>  0: <b>Once</b> upon a time, a<br>  1: Once <b>upon</b> a time, a little<br>  2: Once upon <b>a</b> time, a little girl<br>  3: Once upon a <b>time,</b> a little girl lived<br>  4: Once upon a time, <b>a</b> little girl lived in<br>  5: Once upon a time, a <b>little</b> girl lived in a<br>  6: upon a time, a little <b>girl</b> lived in a big<br>  7: a time, a little girl <b>lived</b> in a big house",
                    "Sample 775<br>Sequence length: 128<br><br>Text preview:<br>Ben and Lily were playing with their toy cars in the garden. They liked to make them zoom on the grass and the dirt. They had many cars of different c...<br><br>Token examples (context with <b>target</b> token):<br>  0: <b>Ben</b> and Lily were playing with<br>  1: Ben <b>and</b> Lily were playing with their<br>  2: Ben and <b>Lily</b> were playing with their toy<br>  3: Ben and Lily <b>were</b> playing with their toy cars<br>  4: Ben and Lily were <b>playing</b> with their toy cars in<br>  5: Ben and Lily were playing <b>with</b> their toy cars in the<br>  6: and Lily were playing with <b>their</b> toy cars in the garden<br>  7: Lily were playing with their <b>toy</b> cars in the garden.",
                    "Sample 2341<br>Sequence length: 128<br><br>Text preview:<br>Anna and Ben were twins who liked to play in their big house. They had many toys and clothes and books, but their favorite thing was their comb. The c...<br><br>Token examples (context with <b>target</b> token):<br>  0: <b>Anna</b> and Ben were twins who<br>  1: Anna <b>and</b> Ben were twins who liked<br>  2: Anna and <b>Ben</b> were twins who liked to<br>  3: Anna and Ben <b>were</b> twins who liked to play<br>  4: Anna and Ben were <b>twins</b> who liked to play in<br>  5: Anna and Ben were twins <b>who</b> liked to play in their<br>  6: and Ben were twins who <b>liked</b> to play in their big<br>  7: Ben were twins who liked <b>to</b> play in their big house",
                    "Sample 1379<br>Sequence length: 128<br><br>Text preview:<br>One day, a little boy named Tim went to visit his famous friend, Mr. Sun. Mr. Sun lived high up in the sky. Tim looked up and said, \"Hello, Mr. Sun! H...<br><br>Token examples (context with <b>target</b> token):<br>  0: <b>One</b> day, a little boy<br>  1: One <b>day,</b> a little boy named<br>  2: One day, <b>a</b> little boy named Tim<br>  3: One day, a <b>little</b> boy named Tim went<br>  4: One day, a little <b>boy</b> named Tim went to<br>  5: One day, a little boy <b>named</b> Tim went to visit<br>  6: day, a little boy named <b>Tim</b> went to visit his<br>  7: , a little boy named <b>Tim</b> went to visit his famous",
                    "Sample 2318<br>Sequence length: 128<br><br>Text preview:<br>Sara and Ben were playing in the kitchen. They saw a big bowl of fruit on the table. Sara wanted to try a lemon. She picked one up and smelled it. It ...<br><br>Token examples (context with <b>target</b> token):<br>  0: <b>Sara</b> and Ben were playing<br>  1: Sara <b>and</b> Ben were playing in<br>  2: Sara and <b>Ben</b> were playing in the<br>  3: Sara and Ben <b>were</b> playing in the kitchen<br>  4: Sara and Ben were <b>playing</b> in the kitchen.<br>  5: Sara and Ben were playing <b>in</b> the kitchen. They<br>  6: ara and Ben were playing <b>in</b> the kitchen. They saw<br>  7: and Ben were playing in <b>the</b> kitchen. They saw a",
                    "Sample 1160<br>Sequence length: 128<br><br>Text preview:<br>One day there was a scary laser. No one knew what it was for. Everyone was scared because it was so big and loud.\n\nThe people wanted to sort the laser...<br><br>Token examples (context with <b>target</b> token):<br>  0: <b>One</b> day there was a scary<br>  1: One <b>day</b> there was a scary laser<br>  2: One day <b>there</b> was a scary laser.<br>  3: One day there <b>was</b> a scary laser. No<br>  4: One day there was <b>a</b> scary laser. No one<br>  5: One day there was a <b>scary</b> laser. No one knew<br>  6: day there was a scary <b>laser.</b> No one knew what<br>  7: there was a scary laser. <b>No</b> one knew what it",
                    "Sample 323<br>Sequence length: 128<br><br>Text preview:<br>Once upon a time there was a little boy called Billy. Billy was very impatient and he could never wait for anything.\n\nYesterday, Billy wanted to attac...<br><br>Token examples (context with <b>target</b> token):<br>  0: <b>Once</b> upon a time there was<br>  1: Once <b>upon</b> a time there was a<br>  2: Once upon <b>a</b> time there was a little<br>  3: Once upon a <b>time</b> there was a little boy<br>  4: Once upon a time <b>there</b> was a little boy called<br>  5: Once upon a time there <b>was</b> a little boy called Billy<br>  6: upon a time there was <b>a</b> little boy called Billy.<br>  7: a time there was a <b>little</b> boy called Billy. Billy",
                    "Sample 1928<br>Sequence length: 128<br><br>Text preview:<br>Once upon a time there was a little boy named Joe. He was three years old and loved to write. He wrote stories about all sorts of things: animals, foo...<br><br>Token examples (context with <b>target</b> token):<br>  0: <b>Once</b> upon a time there was<br>  1: Once <b>upon</b> a time there was a<br>  2: Once upon <b>a</b> time there was a little<br>  3: Once upon a <b>time</b> there was a little boy<br>  4: Once upon a time <b>there</b> was a little boy named<br>  5: Once upon a time there <b>was</b> a little boy named Joe<br>  6: upon a time there was <b>a</b> little boy named Joe.<br>  7: a time there was a <b>little</b> boy named Joe. He",
                    "Sample 1139<br>Sequence length: 128<br><br>Text preview:<br>John and his mom were walking down the street. John was glad to be with her. As they walked, they saw a big stone by the side of the road. John wanted...<br><br>Token examples (context with <b>target</b> token):<br>  0: <b>John</b> and his mom were walking<br>  1: John <b>and</b> his mom were walking down<br>  2: John and <b>his</b> mom were walking down the<br>  3: John and his <b>mom</b> were walking down the street<br>  4: John and his mom <b>were</b> walking down the street.<br>  5: John and his mom were <b>walking</b> down the street. John<br>  6: and his mom were walking <b>down</b> the street. John was<br>  7: his mom were walking down <b>the</b> street. John was glad",
                    "Sample 78<br>Sequence length: 128<br><br>Text preview:<br>Once, there were two friends who were playing in the yard. One was clumsy and the other wasn't. \n\nThe clumsy one said, â€œLetâ€™s catch a bug!â€\n\nBut ...<br><br>Token examples (context with <b>target</b> token):<br>  0: <b>Once,</b> there were two friends<br>  1: Once, <b>there</b> were two friends who<br>  2: Once, there <b>were</b> two friends who were<br>  3: Once, there were <b>two</b> friends who were playing<br>  4: Once, there were two <b>friends</b> who were playing in<br>  5: Once, there were two friends <b>who</b> were playing in the<br>  6: , there were two friends <b>who</b> were playing in the yard<br>  7: there were two friends who <b>were</b> playing in the yard.",
                    "Sample 1017<br>Sequence length: 128<br><br>Text preview:<br>Once upon a time, there was a little girl named Lily. She had a big, black trunk in her room where she kept all her toys. Lily loved her toys very muc...<br><br>Token examples (context with <b>target</b> token):<br>  0: <b>Once</b> upon a time, there<br>  1: Once <b>upon</b> a time, there was<br>  2: Once upon <b>a</b> time, there was a<br>  3: Once upon a <b>time,</b> there was a little<br>  4: Once upon a time, <b>there</b> was a little girl<br>  5: Once upon a time, there <b>was</b> a little girl named<br>  6: upon a time, there was <b>a</b> little girl named Lily<br>  7: a time, there was a <b>little</b> girl named Lily.",
                    "Sample 1034<br>Sequence length: 128<br><br>Text preview:<br>Once upon a time, there was a little girl who loved to feed the ducks at the pond. She would bring bread in her folder and throw it to the ducks. She ...<br><br>Token examples (context with <b>target</b> token):<br>  0: <b>Once</b> upon a time, there<br>  1: Once <b>upon</b> a time, there was<br>  2: Once upon <b>a</b> time, there was a<br>  3: Once upon a <b>time,</b> there was a little<br>  4: Once upon a time, <b>there</b> was a little girl<br>  5: Once upon a time, there <b>was</b> a little girl who<br>  6: upon a time, there was <b>a</b> little girl who loved<br>  7: a time, there was a <b>little</b> girl who loved to",
                    "Sample 892<br>Sequence length: 128<br><br>Text preview:<br>Once upon a time, there was a little bird. The bird was very hungry and wanted to eat some food. So, the bird flew to a tree and saw some berries. The...<br><br>Token examples (context with <b>target</b> token):<br>  0: <b>Once</b> upon a time, there<br>  1: Once <b>upon</b> a time, there was<br>  2: Once upon <b>a</b> time, there was a<br>  3: Once upon a <b>time,</b> there was a little<br>  4: Once upon a time, <b>there</b> was a little bird<br>  5: Once upon a time, there <b>was</b> a little bird.<br>  6: upon a time, there was <b>a</b> little bird. The<br>  7: a time, there was a <b>little</b> bird. The bird",
                    "Sample 44<br>Sequence length: 128<br><br>Text preview:<br>Once upon a time, there was a little girl named Lily. She lived in a small house with her mom and dad. One day, her mom asked her to go to the park an...<br><br>Token examples (context with <b>target</b> token):<br>  0: <b>Once</b> upon a time, there<br>  1: Once <b>upon</b> a time, there was<br>  2: Once upon <b>a</b> time, there was a<br>  3: Once upon a <b>time,</b> there was a little<br>  4: Once upon a time, <b>there</b> was a little girl<br>  5: Once upon a time, there <b>was</b> a little girl named<br>  6: upon a time, there was <b>a</b> little girl named Lily<br>  7: a time, there was a <b>little</b> girl named Lily.",
                    "Sample 498<br>Sequence length: 128<br><br>Text preview:<br>Once upon a time there was a boy. He liked to watch his toys. One day, he saw a strange figure. He felt a bit guilty and he hid behind his sofa. Then,...<br><br>Token examples (context with <b>target</b> token):<br>  0: <b>Once</b> upon a time there was<br>  1: Once <b>upon</b> a time there was a<br>  2: Once upon <b>a</b> time there was a boy<br>  3: Once upon a <b>time</b> there was a boy.<br>  4: Once upon a time <b>there</b> was a boy. He<br>  5: Once upon a time there <b>was</b> a boy. He liked<br>  6: upon a time there was <b>a</b> boy. He liked to<br>  7: a time there was a <b>boy.</b> He liked to watch",
                    "Sample 1496<br>Sequence length: 128<br><br>Text preview:<br>Once upon a time, in a small town, there was a girl named Amy. She loved to eat delicious apples from her tree. One day, she saw a big, red apple at t...<br><br>Token examples (context with <b>target</b> token):<br>  0: <b>Once</b> upon a time, in<br>  1: Once <b>upon</b> a time, in a<br>  2: Once upon <b>a</b> time, in a small<br>  3: Once upon a <b>time,</b> in a small town<br>  4: Once upon a time, <b>in</b> a small town,<br>  5: Once upon a time, in <b>a</b> small town, there<br>  6: upon a time, in a <b>small</b> town, there was<br>  7: a time, in a small <b>town,</b> there was a",
                    "Sample 1717<br>Sequence length: 128<br><br>Text preview:<br>Once there was a brave little girl called Sarah. One day, Sarah was feeling very adventurous and decided to take a walk in the woods near her house. A...<br><br>Token examples (context with <b>target</b> token):<br>  0: <b>Once</b> there was a brave little<br>  1: Once <b>there</b> was a brave little girl<br>  2: Once there <b>was</b> a brave little girl called<br>  3: Once there was <b>a</b> brave little girl called Sarah<br>  4: Once there was a <b>brave</b> little girl called Sarah.<br>  5: Once there was a brave <b>little</b> girl called Sarah. One<br>  6: there was a brave little <b>girl</b> called Sarah. One day<br>  7: was a brave little girl <b>called</b> Sarah. One day,",
                    "Sample 1917<br>Sequence length: 128<br><br>Text preview:<br>Once there was a girl named Henry. She lived in a child's room and enjoyed painting a lot. One day, Henry wanted to paint a number. She was very anxio...<br><br>Token examples (context with <b>target</b> token):<br>  0: <b>Once</b> there was a girl named<br>  1: Once <b>there</b> was a girl named Henry<br>  2: Once there <b>was</b> a girl named Henry.<br>  3: Once there was <b>a</b> girl named Henry. She<br>  4: Once there was a <b>girl</b> named Henry. She lived<br>  5: Once there was a girl <b>named</b> Henry. She lived in<br>  6: there was a girl named <b>Henry.</b> She lived in a<br>  7: was a girl named Henry. <b>She</b> lived in a child",
                    "Sample 2330<br>Sequence length: 128<br><br>Text preview:<br>Tom and Sam are brothers. They like to play with their toys in their room. Tom is very organized. He puts his toys in boxes and labels them. He has a ...<br><br>Token examples (context with <b>target</b> token):<br>  0: <b>Tom</b> and Sam are brothers.<br>  1: Tom <b>and</b> Sam are brothers. They<br>  2: Tom and <b>Sam</b> are brothers. They like<br>  3: Tom and Sam <b>are</b> brothers. They like to<br>  4: Tom and Sam are <b>brothers.</b> They like to play<br>  5: Tom and Sam are brothers. <b>They</b> like to play with<br>  6: and Sam are brothers. They <b>like</b> to play with their<br>  7: Sam are brothers. They like <b>to</b> play with their toys",
                    "Sample 2280<br>Sequence length: 128<br><br>Text preview:<br>Ben and Mia were best friends. They liked to play together every day. They had a secret fort in the garden, where they kept their toys and snacks. One...<br><br>Token examples (context with <b>target</b> token):<br>  0: <b>Ben</b> and Mia were best friends<br>  1: Ben <b>and</b> Mia were best friends.<br>  2: Ben and <b>Mia</b> were best friends. They<br>  3: Ben and Mia <b>were</b> best friends. They liked<br>  4: Ben and Mia were <b>best</b> friends. They liked to<br>  5: Ben and Mia were best <b>friends.</b> They liked to play<br>  6: and Mia were best friends. <b>They</b> liked to play together<br>  7: Mia were best friends. They <b>liked</b> to play together every",
                    "Sample 1557<br>Sequence length: 128<br><br>Text preview:<br>Claire had a mild day. She was out in her backyard playing. She found a puddle and decided to splash around in it. She jumped and twirled around, feel...<br><br>Token examples (context with <b>target</b> token):<br>  0: <b>Claire</b> had a mild day<br>  1: Claire <b>had</b> a mild day.<br>  2: Claire had <b>a</b> mild day. She<br>  3: Claire had a <b>mild</b> day. She was<br>  4: Claire had a mild <b>day.</b> She was out<br>  5: Claire had a mild day. <b>She</b> was out in<br>  6: aire had a mild day. <b>She</b> was out in her<br>  7: had a mild day. She <b>was</b> out in her backyard",
                    "Sample 1731<br>Sequence length: 128<br><br>Text preview:<br>Once upon a time, there was a girl named Lucy. She was feeling very weak and needed something to drink. She asked her mom, \"Can I have some water, ple...<br><br>Token examples (context with <b>target</b> token):<br>  0: <b>Once</b> upon a time, there<br>  1: Once <b>upon</b> a time, there was<br>  2: Once upon <b>a</b> time, there was a<br>  3: Once upon a <b>time,</b> there was a girl<br>  4: Once upon a time, <b>there</b> was a girl named<br>  5: Once upon a time, there <b>was</b> a girl named Lucy<br>  6: upon a time, there was <b>a</b> girl named Lucy.<br>  7: a time, there was a <b>girl</b> named Lucy. She",
                    "Sample 2232<br>Sequence length: 128<br><br>Text preview:<br>Once upon a time, there was a big fat cat named Tom. Tom loved to play with his toys and eat lots of food. One day, something bad happen to Tom. He hu...<br><br>Token examples (context with <b>target</b> token):<br>  0: <b>Once</b> upon a time, there<br>  1: Once <b>upon</b> a time, there was<br>  2: Once upon <b>a</b> time, there was a<br>  3: Once upon a <b>time,</b> there was a big<br>  4: Once upon a time, <b>there</b> was a big fat<br>  5: Once upon a time, there <b>was</b> a big fat cat<br>  6: upon a time, there was <b>a</b> big fat cat named<br>  7: a time, there was a <b>big</b> fat cat named Tom",
                    "Sample 1960<br>Sequence length: 128<br><br>Text preview:<br>Once upon a time there was a little girl named Jane. She left the house early one morning to go visit her favorite vendor in town. When she arrived al...<br><br>Token examples (context with <b>target</b> token):<br>  0: <b>Once</b> upon a time there was<br>  1: Once <b>upon</b> a time there was a<br>  2: Once upon <b>a</b> time there was a little<br>  3: Once upon a <b>time</b> there was a little girl<br>  4: Once upon a time <b>there</b> was a little girl named<br>  5: Once upon a time there <b>was</b> a little girl named Jane<br>  6: upon a time there was <b>a</b> little girl named Jane.<br>  7: a time there was a <b>little</b> girl named Jane. She",
                    "Sample 741<br>Sequence length: 128<br><br>Text preview:<br>Ben and Lily were friends who liked to play together. They had different skin colors: Ben's skin was brown and Lily's skin was white. They did not car...<br><br>Token examples (context with <b>target</b> token):<br>  0: <b>Ben</b> and Lily were friends who<br>  1: Ben <b>and</b> Lily were friends who liked<br>  2: Ben and <b>Lily</b> were friends who liked to<br>  3: Ben and Lily <b>were</b> friends who liked to play<br>  4: Ben and Lily were <b>friends</b> who liked to play together<br>  5: Ben and Lily were friends <b>who</b> liked to play together.<br>  6: and Lily were friends who <b>liked</b> to play together. They<br>  7: Lily were friends who liked <b>to</b> play together. They had",
                    "Sample 7<br>Sequence length: 128<br><br>Text preview:<br>Once upon a time, in a peaceful town, there lived a little boy named Tim. Tim loved to run and play outside. One day, Tim saw a race in the park. He w...<br><br>Token examples (context with <b>target</b> token):<br>  0: <b>Once</b> upon a time, in<br>  1: Once <b>upon</b> a time, in a<br>  2: Once upon <b>a</b> time, in a peaceful<br>  3: Once upon a <b>time,</b> in a peaceful town<br>  4: Once upon a time, <b>in</b> a peaceful town,<br>  5: Once upon a time, in <b>a</b> peaceful town, there<br>  6: upon a time, in a <b>peaceful</b> town, there lived<br>  7: a time, in a peaceful <b>town,</b> there lived a",
                    "Sample 239<br>Sequence length: 128<br><br>Text preview:<br>One sunny day, Lily and her mom were walking in the park. Lily loved the park; she could smell the sweet smell of nature, and enjoy the sunshine on he...<br><br>Token examples (context with <b>target</b> token):<br>  0: <b>One</b> sunny day, Lily and<br>  1: One <b>sunny</b> day, Lily and her<br>  2: One sunny <b>day,</b> Lily and her mom<br>  3: One sunny day, <b>Lily</b> and her mom were<br>  4: One sunny day, Lily <b>and</b> her mom were walking<br>  5: One sunny day, Lily and <b>her</b> mom were walking in<br>  6: sunny day, Lily and her <b>mom</b> were walking in the<br>  7: day, Lily and her mom <b>were</b> walking in the park",
                    "Sample 89<br>Sequence length: 128<br><br>Text preview:<br>Once upon a time there was a coat frame. It was fit for a special occasion. A little girl named Rachel came to try it on.\n\nRachel noticed that the fra...<br><br>Token examples (context with <b>target</b> token):<br>  0: <b>Once</b> upon a time there was<br>  1: Once <b>upon</b> a time there was a<br>  2: Once upon <b>a</b> time there was a coat<br>  3: Once upon a <b>time</b> there was a coat frame<br>  4: Once upon a time <b>there</b> was a coat frame.<br>  5: Once upon a time there <b>was</b> a coat frame. It<br>  6: upon a time there was <b>a</b> coat frame. It was<br>  7: a time there was a <b>coat</b> frame. It was fit",
                    "Sample 964<br>Sequence length: 128<br><br>Text preview:<br>Tom is a boy who likes to play with balloons. He has many balloons of different colors and shapes. He likes to blow them up and tie them with strings....<br><br>Token examples (context with <b>target</b> token):<br>  0: <b>Tom</b> is a boy who likes<br>  1: Tom <b>is</b> a boy who likes to<br>  2: Tom is <b>a</b> boy who likes to play<br>  3: Tom is a <b>boy</b> who likes to play with<br>  4: Tom is a boy <b>who</b> likes to play with balloons<br>  5: Tom is a boy who <b>likes</b> to play with balloons.<br>  6: is a boy who likes <b>to</b> play with balloons. He<br>  7: a boy who likes to <b>play</b> with balloons. He has",
                    "Sample 911<br>Sequence length: 128<br><br>Text preview:<br>Tom and Anna were playing with scissors and paper. They wanted to make snowflakes and stars. Tom was very good at cutting shapes. He showed Anna how t...<br><br>Token examples (context with <b>target</b> token):<br>  0: <b>Tom</b> and Anna were playing with<br>  1: Tom <b>and</b> Anna were playing with scissors<br>  2: Tom and <b>Anna</b> were playing with scissors and<br>  3: Tom and Anna <b>were</b> playing with scissors and paper<br>  4: Tom and Anna were <b>playing</b> with scissors and paper.<br>  5: Tom and Anna were playing <b>with</b> scissors and paper. They<br>  6: and Anna were playing with <b>scissors</b> and paper. They wanted<br>  7: Anna were playing with scissors <b>and</b> paper. They wanted to",
                    "Sample 1188<br>Sequence length: 128<br><br>Text preview:<br>Once upon a time there was a little boy. He was very restless and wanted something to do. So he decided to go to the park. When he arrived at the park...<br><br>Token examples (context with <b>target</b> token):<br>  0: <b>Once</b> upon a time there was<br>  1: Once <b>upon</b> a time there was a<br>  2: Once upon <b>a</b> time there was a little<br>  3: Once upon a <b>time</b> there was a little boy<br>  4: Once upon a time <b>there</b> was a little boy.<br>  5: Once upon a time there <b>was</b> a little boy. He<br>  6: upon a time there was <b>a</b> little boy. He was<br>  7: a time there was a <b>little</b> boy. He was very",
                    "Sample 1026<br>Sequence length: 128<br><br>Text preview:<br>Once upon a time, there was a little girl named Lily. She had a big water bottle that she loved to carry with her everywhere. One day, she noticed tha...<br><br>Token examples (context with <b>target</b> token):<br>  0: <b>Once</b> upon a time, there<br>  1: Once <b>upon</b> a time, there was<br>  2: Once upon <b>a</b> time, there was a<br>  3: Once upon a <b>time,</b> there was a little<br>  4: Once upon a time, <b>there</b> was a little girl<br>  5: Once upon a time, there <b>was</b> a little girl named<br>  6: upon a time, there was <b>a</b> little girl named Lily<br>  7: a time, there was a <b>little</b> girl named Lily.",
                    "Sample 1802<br>Sequence length: 128<br><br>Text preview:<br>Once upon a time, there were two friends named Sarah and Tony, who loved to go for walks in their town. One day, they wanted to explore a part of town...<br><br>Token examples (context with <b>target</b> token):<br>  0: <b>Once</b> upon a time, there<br>  1: Once <b>upon</b> a time, there were<br>  2: Once upon <b>a</b> time, there were two<br>  3: Once upon a <b>time,</b> there were two friends<br>  4: Once upon a time, <b>there</b> were two friends named<br>  5: Once upon a time, there <b>were</b> two friends named Sarah<br>  6: upon a time, there were <b>two</b> friends named Sarah and<br>  7: a time, there were two <b>friends</b> named Sarah and Tony",
                    "Sample 459<br>Sequence length: 128<br><br>Text preview:<br>Once upon a time, there was a young girl called Ann. She was very hopeful and excited but also a little bit nervous about her first day at school.\n\nOn...<br><br>Token examples (context with <b>target</b> token):<br>  0: <b>Once</b> upon a time, there<br>  1: Once <b>upon</b> a time, there was<br>  2: Once upon <b>a</b> time, there was a<br>  3: Once upon a <b>time,</b> there was a young<br>  4: Once upon a time, <b>there</b> was a young girl<br>  5: Once upon a time, there <b>was</b> a young girl called<br>  6: upon a time, there was <b>a</b> young girl called Ann<br>  7: a time, there was a <b>young</b> girl called Ann.",
                    "Sample 1214<br>Sequence length: 128<br><br>Text preview:<br>Once upon a time there was a little girl who lived near a tunnel. She had a trouble. She wanted to get inside the tunnel to explore it.\n\nSo one day, s...<br><br>Token examples (context with <b>target</b> token):<br>  0: <b>Once</b> upon a time there was<br>  1: Once <b>upon</b> a time there was a<br>  2: Once upon <b>a</b> time there was a little<br>  3: Once upon a <b>time</b> there was a little girl<br>  4: Once upon a time <b>there</b> was a little girl who<br>  5: Once upon a time there <b>was</b> a little girl who lived<br>  6: upon a time there was <b>a</b> little girl who lived near<br>  7: a time there was a <b>little</b> girl who lived near a",
                    "Sample 1375<br>Sequence length: 128<br><br>Text preview:<br>Once upon a time, a little cat named Luna was very hungry. She went outside to find some food. Luna saw a big tree with a lot of birds. She thought, \"...<br><br>Token examples (context with <b>target</b> token):<br>  0: <b>Once</b> upon a time, a<br>  1: Once <b>upon</b> a time, a little<br>  2: Once upon <b>a</b> time, a little cat<br>  3: Once upon a <b>time,</b> a little cat named<br>  4: Once upon a time, <b>a</b> little cat named Luna<br>  5: Once upon a time, a <b>little</b> cat named Luna was<br>  6: upon a time, a little <b>cat</b> named Luna was very<br>  7: a time, a little cat <b>named</b> Luna was very hungry",
                    "Sample 1572<br>Sequence length: 128<br><br>Text preview:<br>Once upon a time, there was a mechanic named Dave. He loved his job and enjoyed fixing things for people. One day, Dave got a very special job - he ha...<br><br>Token examples (context with <b>target</b> token):<br>  0: <b>Once</b> upon a time, there<br>  1: Once <b>upon</b> a time, there was<br>  2: Once upon <b>a</b> time, there was a<br>  3: Once upon a <b>time,</b> there was a mechanic<br>  4: Once upon a time, <b>there</b> was a mechanic named<br>  5: Once upon a time, there <b>was</b> a mechanic named Dave<br>  6: upon a time, there was <b>a</b> mechanic named Dave.<br>  7: a time, there was a <b>mechanic</b> named Dave. He",
                    "Sample 120<br>Sequence length: 128<br><br>Text preview:<br>Mama and Papa had a party for their little girl. It was her third birthday. Everyone had come over to celebrate. There was cake, games, and balloons. ...<br><br>Token examples (context with <b>target</b> token):<br>  0: <b>Mama</b> and Papa had a<br>  1: Mama <b>and</b> Papa had a party<br>  2: Mama and <b>Papa</b> had a party for<br>  3: Mama and Papa <b>had</b> a party for their<br>  4: Mama and Papa had <b>a</b> party for their little<br>  5: Mama and Papa had a <b>party</b> for their little girl<br>  6: ama and Papa had a <b>party</b> for their little girl.<br>  7: and Papa had a party <b>for</b> their little girl. It",
                    "Sample 518<br>Sequence length: 128<br><br>Text preview:<br>Once there was a little boy named Josh. He was three years old and he loved to explore the world. He loved to follow the birds, explore the garden and...<br><br>Token examples (context with <b>target</b> token):<br>  0: <b>Once</b> there was a little boy<br>  1: Once <b>there</b> was a little boy named<br>  2: Once there <b>was</b> a little boy named Josh<br>  3: Once there was <b>a</b> little boy named Josh.<br>  4: Once there was a <b>little</b> boy named Josh. He<br>  5: Once there was a little <b>boy</b> named Josh. He was<br>  6: there was a little boy <b>named</b> Josh. He was three<br>  7: was a little boy named <b>Josh.</b> He was three years",
                    "Sample 244<br>Sequence length: 128<br><br>Text preview:<br>Jenny and her mom were walking in the park one day. Suddenly they noticed a raven on a nearby tree. Jenny asked her mom who the little black bird was....<br><br>Token examples (context with <b>target</b> token):<br>  0: <b>Jenny</b> and her mom were<br>  1: Jenny <b>and</b> her mom were walking<br>  2: Jenny and <b>her</b> mom were walking in<br>  3: Jenny and her <b>mom</b> were walking in the<br>  4: Jenny and her mom <b>were</b> walking in the park<br>  5: Jenny and her mom were <b>walking</b> in the park one<br>  6: enny and her mom were <b>walking</b> in the park one day<br>  7: and her mom were walking <b>in</b> the park one day.",
                    "Sample 1412<br>Sequence length: 128<br><br>Text preview:<br>Once upon a time, there was a smart little girl named Lily. She loved to play in her garden with her friends. They had a club where they would plant p...<br><br>Token examples (context with <b>target</b> token):<br>  0: <b>Once</b> upon a time, there<br>  1: Once <b>upon</b> a time, there was<br>  2: Once upon <b>a</b> time, there was a<br>  3: Once upon a <b>time,</b> there was a smart<br>  4: Once upon a time, <b>there</b> was a smart little<br>  5: Once upon a time, there <b>was</b> a smart little girl<br>  6: upon a time, there was <b>a</b> smart little girl named<br>  7: a time, there was a <b>smart</b> little girl named Lily",
                    "Sample 1348<br>Sequence length: 128<br><br>Text preview:<br>Once upon a time, there was a little girl called Amy. She was three years old. She loved to play in the garden, swing in her swing and be independent....<br><br>Token examples (context with <b>target</b> token):<br>  0: <b>Once</b> upon a time, there<br>  1: Once <b>upon</b> a time, there was<br>  2: Once upon <b>a</b> time, there was a<br>  3: Once upon a <b>time,</b> there was a little<br>  4: Once upon a time, <b>there</b> was a little girl<br>  5: Once upon a time, there <b>was</b> a little girl called<br>  6: upon a time, there was <b>a</b> little girl called Amy<br>  7: a time, there was a <b>little</b> girl called Amy.",
                    "Sample 1238<br>Sequence length: 128<br><br>Text preview:<br>Once upon a time, there was a messy robot. People imagined how wonderful it would be to have a robot living with them. So, the people built the robot....<br><br>Token examples (context with <b>target</b> token):<br>  0: <b>Once</b> upon a time, there<br>  1: Once <b>upon</b> a time, there was<br>  2: Once upon <b>a</b> time, there was a<br>  3: Once upon a <b>time,</b> there was a messy<br>  4: Once upon a time, <b>there</b> was a messy robot<br>  5: Once upon a time, there <b>was</b> a messy robot.<br>  6: upon a time, there was <b>a</b> messy robot. People<br>  7: a time, there was a <b>messy</b> robot. People imagined",
                    "Sample 2223<br>Sequence length: 128<br><br>Text preview:<br>Once upon a time, there was a boy named Timmy. Timmy was walking through the forest when he stumbled on a rock. He fell down and hurt his knee. \n\nSudd...<br><br>Token examples (context with <b>target</b> token):<br>  0: <b>Once</b> upon a time, there<br>  1: Once <b>upon</b> a time, there was<br>  2: Once upon <b>a</b> time, there was a<br>  3: Once upon a <b>time,</b> there was a boy<br>  4: Once upon a time, <b>there</b> was a boy named<br>  5: Once upon a time, there <b>was</b> a boy named Tim<br>  6: upon a time, there was <b>a</b> boy named Timmy<br>  7: a time, there was a <b>boy</b> named Timmy.",
                    "Sample 1597<br>Sequence length: 128<br><br>Text preview:<br>Once there was a little boy who wanted to travel. He enjoyed the peaceful days and wanted to find more. So he packed his bag, kissed his mom goodbye a...<br><br>Token examples (context with <b>target</b> token):<br>  0: <b>Once</b> there was a little boy<br>  1: Once <b>there</b> was a little boy who<br>  2: Once there <b>was</b> a little boy who wanted<br>  3: Once there was <b>a</b> little boy who wanted to<br>  4: Once there was a <b>little</b> boy who wanted to travel<br>  5: Once there was a little <b>boy</b> who wanted to travel.<br>  6: there was a little boy <b>who</b> wanted to travel. He<br>  7: was a little boy who <b>wanted</b> to travel. He enjoyed",
                    "Sample 181<br>Sequence length: 128<br><br>Text preview:<br>One sunny day, Jimmy found an old bicycle in the grass. It was hairy with lots of rust. He couldn't wait to try it! Jimmy ran to get his older brother...<br><br>Token examples (context with <b>target</b> token):<br>  0: <b>One</b> sunny day, Jimmy found<br>  1: One <b>sunny</b> day, Jimmy found an<br>  2: One sunny <b>day,</b> Jimmy found an old<br>  3: One sunny day, <b>Jimmy</b> found an old bicycle<br>  4: One sunny day, Jimmy <b>found</b> an old bicycle in<br>  5: One sunny day, Jimmy found <b>an</b> old bicycle in the<br>  6: sunny day, Jimmy found an <b>old</b> bicycle in the grass<br>  7: day, Jimmy found an old <b>bicycle</b> in the grass.",
                    "Sample 81<br>Sequence length: 128<br><br>Text preview:<br>Once upon a time, there lived a lively young reindeer in the North pole. He was always so excited about the snow and he loved playing out in the cold!...<br><br>Token examples (context with <b>target</b> token):<br>  0: <b>Once</b> upon a time, there<br>  1: Once <b>upon</b> a time, there lived<br>  2: Once upon <b>a</b> time, there lived a<br>  3: Once upon a <b>time,</b> there lived a lively<br>  4: Once upon a time, <b>there</b> lived a lively young<br>  5: Once upon a time, there <b>lived</b> a lively young re<br>  6: upon a time, there lived <b>a</b> lively young reind<br>  7: a time, there lived a <b>lively</b> young reindeer",
                    "Sample 1377<br>Sequence length: 128<br><br>Text preview:<br>Once upon a time, there was a little boy named Tim. Tim had a toy named Spike. Spike was a lucky dinosaur with a big spike on his back. Tim and Spike ...<br><br>Token examples (context with <b>target</b> token):<br>  0: <b>Once</b> upon a time, there<br>  1: Once <b>upon</b> a time, there was<br>  2: Once upon <b>a</b> time, there was a<br>  3: Once upon a <b>time,</b> there was a little<br>  4: Once upon a time, <b>there</b> was a little boy<br>  5: Once upon a time, there <b>was</b> a little boy named<br>  6: upon a time, there was <b>a</b> little boy named Tim<br>  7: a time, there was a <b>little</b> boy named Tim.",
                    "Sample 1758<br>Sequence length: 128<br><br>Text preview:<br>Once upon a time there were two best friends, John and Jane. Every day they would play together in the warm sun.\n\nOne day, they were so excited becaus...<br><br>Token examples (context with <b>target</b> token):<br>  0: <b>Once</b> upon a time there were<br>  1: Once <b>upon</b> a time there were two<br>  2: Once upon <b>a</b> time there were two best<br>  3: Once upon a <b>time</b> there were two best friends<br>  4: Once upon a time <b>there</b> were two best friends,<br>  5: Once upon a time there <b>were</b> two best friends, John<br>  6: upon a time there were <b>two</b> best friends, John and<br>  7: a time there were two <b>best</b> friends, John and Jane",
                    "Sample 1845<br>Sequence length: 128<br><br>Text preview:<br>Once upon a time there were two friends, Sam and Joe. Sam was a bunny and Joe was a bear. Every day, Sam would insist that Joe play with him. But Joe ...<br><br>Token examples (context with <b>target</b> token):<br>  0: <b>Once</b> upon a time there were<br>  1: Once <b>upon</b> a time there were two<br>  2: Once upon <b>a</b> time there were two friends<br>  3: Once upon a <b>time</b> there were two friends,<br>  4: Once upon a time <b>there</b> were two friends, Sam<br>  5: Once upon a time there <b>were</b> two friends, Sam and<br>  6: upon a time there were <b>two</b> friends, Sam and Joe<br>  7: a time there were two <b>friends,</b> Sam and Joe.",
                    "Sample 2071<br>Sequence length: 128<br><br>Text preview:<br>Once upon a time there was a little girl called Sally who loved to explore. One day, she discovered a special tree that she had never seen before. The...<br><br>Token examples (context with <b>target</b> token):<br>  0: <b>Once</b> upon a time there was<br>  1: Once <b>upon</b> a time there was a<br>  2: Once upon <b>a</b> time there was a little<br>  3: Once upon a <b>time</b> there was a little girl<br>  4: Once upon a time <b>there</b> was a little girl called<br>  5: Once upon a time there <b>was</b> a little girl called Sally<br>  6: upon a time there was <b>a</b> little girl called Sally who<br>  7: a time there was a <b>little</b> girl called Sally who loved",
                    "Sample 1118<br>Sequence length: 128<br><br>Text preview:<br>Once upon a time, there was a small baby rabbit. He was hopping through the forest one day when he saw a beautiful billboard. It shined brightly in th...<br><br>Token examples (context with <b>target</b> token):<br>  0: <b>Once</b> upon a time, there<br>  1: Once <b>upon</b> a time, there was<br>  2: Once upon <b>a</b> time, there was a<br>  3: Once upon a <b>time,</b> there was a small<br>  4: Once upon a time, <b>there</b> was a small baby<br>  5: Once upon a time, there <b>was</b> a small baby rabbit<br>  6: upon a time, there was <b>a</b> small baby rabbit.<br>  7: a time, there was a <b>small</b> baby rabbit. He",
                    "Sample 1471<br>Sequence length: 128<br><br>Text preview:<br>One day, a big dog named Max went for a walk. He saw a little boy named Tim. Tim had a red ball. Max wanted to play with the ball, so he asked Tim, \"C...<br><br>Token examples (context with <b>target</b> token):<br>  0: <b>One</b> day, a big dog<br>  1: One <b>day,</b> a big dog named<br>  2: One day, <b>a</b> big dog named Max<br>  3: One day, a <b>big</b> dog named Max went<br>  4: One day, a big <b>dog</b> named Max went for<br>  5: One day, a big dog <b>named</b> Max went for a<br>  6: day, a big dog named <b>Max</b> went for a walk<br>  7: , a big dog named <b>Max</b> went for a walk.",
                    "Sample 167<br>Sequence length: 128<br><br>Text preview:<br>Once upon a time there was a kid named Todd. He was three years old and loved adventure. One day, he decided to sail out to sea on a homemade raft. \n\n...<br><br>Token examples (context with <b>target</b> token):<br>  0: <b>Once</b> upon a time there was<br>  1: Once <b>upon</b> a time there was a<br>  2: Once upon <b>a</b> time there was a kid<br>  3: Once upon a <b>time</b> there was a kid named<br>  4: Once upon a time <b>there</b> was a kid named Todd<br>  5: Once upon a time there <b>was</b> a kid named Todd.<br>  6: upon a time there was <b>a</b> kid named Todd. He<br>  7: a time there was a <b>kid</b> named Todd. He was",
                    "Sample 1462<br>Sequence length: 128<br><br>Text preview:<br>Once upon a time, in a small house, there was a filthy drain. The drain was sad because no one liked it. It wanted to be clean and make friends.\n\nOne ...<br><br>Token examples (context with <b>target</b> token):<br>  0: <b>Once</b> upon a time, in<br>  1: Once <b>upon</b> a time, in a<br>  2: Once upon <b>a</b> time, in a small<br>  3: Once upon a <b>time,</b> in a small house<br>  4: Once upon a time, <b>in</b> a small house,<br>  5: Once upon a time, in <b>a</b> small house, there<br>  6: upon a time, in a <b>small</b> house, there was<br>  7: a time, in a small <b>house,</b> there was a",
                    "Sample 1132<br>Sequence length: 128<br><br>Text preview:<br>Once upon a time, there was a little girl who was very adventurous. One day, she set off to explore the woods. Everything was going great, until she s...<br><br>Token examples (context with <b>target</b> token):<br>  0: <b>Once</b> upon a time, there<br>  1: Once <b>upon</b> a time, there was<br>  2: Once upon <b>a</b> time, there was a<br>  3: Once upon a <b>time,</b> there was a little<br>  4: Once upon a time, <b>there</b> was a little girl<br>  5: Once upon a time, there <b>was</b> a little girl who<br>  6: upon a time, there was <b>a</b> little girl who was<br>  7: a time, there was a <b>little</b> girl who was very",
                    "Sample 551<br>Sequence length: 128<br><br>Text preview:<br>Milly was ill so her Mommy and Daddy decided to give her some tuna. Milly was so excited because she liked tuna. She asked for it every day. That day ...<br><br>Token examples (context with <b>target</b> token):<br>  0: <b>Milly</b> was ill so her<br>  1: Milly <b>was</b> ill so her Mom<br>  2: Milly was <b>ill</b> so her Mommy<br>  3: Milly was ill <b>so</b> her Mommy and<br>  4: Milly was ill so <b>her</b> Mommy and Daddy<br>  5: Milly was ill so her <b>Mommy</b> and Daddy decided<br>  6: illy was ill so her <b>Mommy</b> and Daddy decided to<br>  7: was ill so her Mommy <b>and</b> Daddy decided to give",
                    "Sample 411<br>Sequence length: 128<br><br>Text preview:<br>Jimmy was playing with his truck in the backyard. He was having a lot of fun, pushing it around and making engine noises. But then he started to feel ...<br><br>Token examples (context with <b>target</b> token):<br>  0: <b>Jimmy</b> was playing with his truck<br>  1: Jimmy <b>was</b> playing with his truck in<br>  2: Jimmy was <b>playing</b> with his truck in the<br>  3: Jimmy was playing <b>with</b> his truck in the backyard<br>  4: Jimmy was playing with <b>his</b> truck in the backyard.<br>  5: Jimmy was playing with his <b>truck</b> in the backyard. He<br>  6: was playing with his truck <b>in</b> the backyard. He was<br>  7: playing with his truck in <b>the</b> backyard. He was having",
                    "Sample 1163<br>Sequence length: 128<br><br>Text preview:<br>Once upon a time there was a dog called Max. Max was very serious but he really loved to play. One day, Max was running around the park with his frien...<br><br>Token examples (context with <b>target</b> token):<br>  0: <b>Once</b> upon a time there was<br>  1: Once <b>upon</b> a time there was a<br>  2: Once upon <b>a</b> time there was a dog<br>  3: Once upon a <b>time</b> there was a dog called<br>  4: Once upon a time <b>there</b> was a dog called Max<br>  5: Once upon a time there <b>was</b> a dog called Max.<br>  6: upon a time there was <b>a</b> dog called Max. Max<br>  7: a time there was a <b>dog</b> called Max. Max was",
                    "Sample 1235<br>Sequence length: 128<br><br>Text preview:<br>Once upon a time there was a great big sea. One day, an opportunistic little fish made a very special request. He asked the sea to give him three wish...<br><br>Token examples (context with <b>target</b> token):<br>  0: <b>Once</b> upon a time there was<br>  1: Once <b>upon</b> a time there was a<br>  2: Once upon <b>a</b> time there was a great<br>  3: Once upon a <b>time</b> there was a great big<br>  4: Once upon a time <b>there</b> was a great big sea<br>  5: Once upon a time there <b>was</b> a great big sea.<br>  6: upon a time there was <b>a</b> great big sea. One<br>  7: a time there was a <b>great</b> big sea. One day",
                    "Sample 2283<br>Sequence length: 128<br><br>Text preview:<br>Lily and Anna are sisters. Lily is big and Anna is little. They like to play together in the park. They swing on the swings, slide on the slide, and r...<br><br>Token examples (context with <b>target</b> token):<br>  0: <b>Lily</b> and Anna are sisters<br>  1: Lily <b>and</b> Anna are sisters.<br>  2: Lily and <b>Anna</b> are sisters. Lily<br>  3: Lily and Anna <b>are</b> sisters. Lily is<br>  4: Lily and Anna are <b>sisters.</b> Lily is big<br>  5: Lily and Anna are sisters. <b>Lily</b> is big and<br>  6: ily and Anna are sisters. <b>Lily</b> is big and Anna<br>  7: and Anna are sisters. Lily <b>is</b> big and Anna is",
                    "Sample 442<br>Sequence length: 128<br><br>Text preview:<br>The two friends, Lucy and Max, were very curious. They wanted to find out what was in the big jar. \n\nLucy peeked in and said, \"It looks like sauce!\" M...<br><br>Token examples (context with <b>target</b> token):<br>  0: <b>The</b> two friends, Lucy and<br>  1: The <b>two</b> friends, Lucy and Max<br>  2: The two <b>friends,</b> Lucy and Max,<br>  3: The two friends, <b>Lucy</b> and Max, were<br>  4: The two friends, Lucy <b>and</b> Max, were very<br>  5: The two friends, Lucy and <b>Max,</b> were very curious<br>  6: two friends, Lucy and Max, <b>were</b> very curious.<br>  7: friends, Lucy and Max, were <b>very</b> curious. They",
                    "Sample 599<br>Sequence length: 128<br><br>Text preview:<br>Once upon a time, there was a light that shone in the darkness. One night, something very sad happened. The light became miserable and wasn't so brigh...<br><br>Token examples (context with <b>target</b> token):<br>  0: <b>Once</b> upon a time, there<br>  1: Once <b>upon</b> a time, there was<br>  2: Once upon <b>a</b> time, there was a<br>  3: Once upon a <b>time,</b> there was a light<br>  4: Once upon a time, <b>there</b> was a light that<br>  5: Once upon a time, there <b>was</b> a light that shone<br>  6: upon a time, there was <b>a</b> light that shone in<br>  7: a time, there was a <b>light</b> that shone in the",
                    "Sample 1600<br>Sequence length: 128<br><br>Text preview:<br>Once there was a little girl called Lucy. She was very independent. She liked to do everything by herself.\n\nOne day Lucy was in the garden. She starte...<br><br>Token examples (context with <b>target</b> token):<br>  0: <b>Once</b> there was a little girl<br>  1: Once <b>there</b> was a little girl called<br>  2: Once there <b>was</b> a little girl called Lucy<br>  3: Once there was <b>a</b> little girl called Lucy.<br>  4: Once there was a <b>little</b> girl called Lucy. She<br>  5: Once there was a little <b>girl</b> called Lucy. She was<br>  6: there was a little girl <b>called</b> Lucy. She was very<br>  7: was a little girl called <b>Lucy.</b> She was very independent",
                    "Sample 204<br>Sequence length: 128<br><br>Text preview:<br>Once upon a time there was a little girl called Max. Max loved to play outside in the sunshine. One day, while she was playing, a big bad monster appe...<br><br>Token examples (context with <b>target</b> token):<br>  0: <b>Once</b> upon a time there was<br>  1: Once <b>upon</b> a time there was a<br>  2: Once upon <b>a</b> time there was a little<br>  3: Once upon a <b>time</b> there was a little girl<br>  4: Once upon a time <b>there</b> was a little girl called<br>  5: Once upon a time there <b>was</b> a little girl called Max<br>  6: upon a time there was <b>a</b> little girl called Max.<br>  7: a time there was a <b>little</b> girl called Max. Max",
                    "Sample 1383<br>Sequence length: 128<br><br>Text preview:<br>One day, a little girl named Lucy found a long string in her room. She thought it was very fun to play with. She tied the string to her toy car and pu...<br><br>Token examples (context with <b>target</b> token):<br>  0: <b>One</b> day, a little girl<br>  1: One <b>day,</b> a little girl named<br>  2: One day, <b>a</b> little girl named Lucy<br>  3: One day, a <b>little</b> girl named Lucy found<br>  4: One day, a little <b>girl</b> named Lucy found a<br>  5: One day, a little girl <b>named</b> Lucy found a long<br>  6: day, a little girl named <b>Lucy</b> found a long string<br>  7: , a little girl named <b>Lucy</b> found a long string in",
                    "Sample 2021<br>Sequence length: 128<br><br>Text preview:<br>Once upon a time there was a beautiful ranch. The ranch was filled with colorful animals such as horses, cows and goats.\n\nOne day, a little boy named ...<br><br>Token examples (context with <b>target</b> token):<br>  0: <b>Once</b> upon a time there was<br>  1: Once <b>upon</b> a time there was a<br>  2: Once upon <b>a</b> time there was a beautiful<br>  3: Once upon a <b>time</b> there was a beautiful ranch<br>  4: Once upon a time <b>there</b> was a beautiful ranch.<br>  5: Once upon a time there <b>was</b> a beautiful ranch. The<br>  6: upon a time there was <b>a</b> beautiful ranch. The ranch<br>  7: a time there was a <b>beautiful</b> ranch. The ranch was",
                    "Sample 2155<br>Sequence length: 128<br><br>Text preview:<br>Sara was going to be a princess for the party. She had a pink dress, a shiny crown and a long veil. She felt very attractive and happy.\n\nShe went to t...<br><br>Token examples (context with <b>target</b> token):<br>  0: <b>Sara</b> was going to be<br>  1: Sara <b>was</b> going to be a<br>  2: Sara was <b>going</b> to be a princess<br>  3: Sara was going <b>to</b> be a princess for<br>  4: Sara was going to <b>be</b> a princess for the<br>  5: Sara was going to be <b>a</b> princess for the party<br>  6: ara was going to be <b>a</b> princess for the party.<br>  7: was going to be a <b>princess</b> for the party. She",
                    "Sample 2371<br>Sequence length: 128<br><br>Text preview:<br>Once upon a time, there was a little boy named Timmy. He loved to play outside in the dirt and mud. One day, his mom told him to come inside and wash ...<br><br>Token examples (context with <b>target</b> token):<br>  0: <b>Once</b> upon a time, there<br>  1: Once <b>upon</b> a time, there was<br>  2: Once upon <b>a</b> time, there was a<br>  3: Once upon a <b>time,</b> there was a little<br>  4: Once upon a time, <b>there</b> was a little boy<br>  5: Once upon a time, there <b>was</b> a little boy named<br>  6: upon a time, there was <b>a</b> little boy named Tim<br>  7: a time, there was a <b>little</b> boy named Timmy",
                    "Sample 1416<br>Sequence length: 128<br><br>Text preview:<br>One day, a grumpy cat named Tom found a big motorcycle in the park. He wanted to ride it, but he was too small. Tom saw his friend, a little bird name...<br><br>Token examples (context with <b>target</b> token):<br>  0: <b>One</b> day, a grumpy<br>  1: One <b>day,</b> a grumpy cat<br>  2: One day, <b>a</b> grumpy cat named<br>  3: One day, a <b>grumpy</b> cat named Tom<br>  4: One day, a grumpy <b>cat</b> named Tom found<br>  5: One day, a grumpy cat <b>named</b> Tom found a<br>  6: day, a grumpy cat named <b>Tom</b> found a big<br>  7: , a grumpy cat named <b>Tom</b> found a big motorcycle",
                    "Sample 1682<br>Sequence length: 128<br><br>Text preview:<br>One day, a vendor went to the store to buy things. The store had different types of things inside, such as candy, toys, and books. The vendor was very...<br><br>Token examples (context with <b>target</b> token):<br>  0: <b>One</b> day, a vendor went<br>  1: One <b>day,</b> a vendor went to<br>  2: One day, <b>a</b> vendor went to the<br>  3: One day, a <b>vendor</b> went to the store<br>  4: One day, a vendor <b>went</b> to the store to<br>  5: One day, a vendor went <b>to</b> the store to buy<br>  6: day, a vendor went to <b>the</b> store to buy things<br>  7: , a vendor went to <b>the</b> store to buy things.",
                    "Sample 2275<br>Sequence length: 128<br><br>Text preview:<br>Tom and Lily were playing with their toy trucks in the garden. They had a big pile of sand and some boards to make ramps and bridges. They liked to lo...<br><br>Token examples (context with <b>target</b> token):<br>  0: <b>Tom</b> and Lily were playing with<br>  1: Tom <b>and</b> Lily were playing with their<br>  2: Tom and <b>Lily</b> were playing with their toy<br>  3: Tom and Lily <b>were</b> playing with their toy trucks<br>  4: Tom and Lily were <b>playing</b> with their toy trucks in<br>  5: Tom and Lily were playing <b>with</b> their toy trucks in the<br>  6: and Lily were playing with <b>their</b> toy trucks in the garden<br>  7: Lily were playing with their <b>toy</b> trucks in the garden.",
                    "Sample 1888<br>Sequence length: 128<br><br>Text preview:<br>Once there was a large kitchen. Everything in the kitchen was big. The cabinets were big, the oven was big, and the fridge was also big.\n\nOne day, a l...<br><br>Token examples (context with <b>target</b> token):<br>  0: <b>Once</b> there was a large kitchen<br>  1: Once <b>there</b> was a large kitchen.<br>  2: Once there <b>was</b> a large kitchen. Everything<br>  3: Once there was <b>a</b> large kitchen. Everything in<br>  4: Once there was a <b>large</b> kitchen. Everything in the<br>  5: Once there was a large <b>kitchen.</b> Everything in the kitchen<br>  6: there was a large kitchen. <b>Everything</b> in the kitchen was<br>  7: was a large kitchen. Everything <b>in</b> the kitchen was big",
                    "Sample 414<br>Sequence length: 128<br><br>Text preview:<br>A little boy named John was walking down a street one day. He saw a big barrel near the side of the street. He wondered what was inside the barrel.\n\nJ...<br><br>Token examples (context with <b>target</b> token):<br>  0: <b>A</b> little boy named John was<br>  1: A <b>little</b> boy named John was walking<br>  2: A little <b>boy</b> named John was walking down<br>  3: A little boy <b>named</b> John was walking down a<br>  4: A little boy named <b>John</b> was walking down a street<br>  5: A little boy named John <b>was</b> walking down a street one<br>  6: little boy named John was <b>walking</b> down a street one day<br>  7: boy named John was walking <b>down</b> a street one day.",
                    "Sample 2316<br>Sequence length: 128<br><br>Text preview:<br>Lily was very happy. Today was her birthday. She had a big cake with candles and a lovely dress with flowers. She wanted to share her cake with her fr...<br><br>Token examples (context with <b>target</b> token):<br>  0: <b>Lily</b> was very happy.<br>  1: Lily <b>was</b> very happy. Today<br>  2: Lily was <b>very</b> happy. Today was<br>  3: Lily was very <b>happy.</b> Today was her<br>  4: Lily was very happy. <b>Today</b> was her birthday<br>  5: Lily was very happy. Today <b>was</b> her birthday.<br>  6: ily was very happy. Today <b>was</b> her birthday. She<br>  7: was very happy. Today was <b>her</b> birthday. She had",
                    "Sample 2142<br>Sequence length: 128<br><br>Text preview:<br>Lily and Ben were playing in the snow. They wanted to make an igloo, like the ones they saw in a book. They rolled big balls of snow and piled them up...<br><br>Token examples (context with <b>target</b> token):<br>  0: <b>Lily</b> and Ben were playing<br>  1: Lily <b>and</b> Ben were playing in<br>  2: Lily and <b>Ben</b> were playing in the<br>  3: Lily and Ben <b>were</b> playing in the snow<br>  4: Lily and Ben were <b>playing</b> in the snow.<br>  5: Lily and Ben were playing <b>in</b> the snow. They<br>  6: ily and Ben were playing <b>in</b> the snow. They wanted<br>  7: and Ben were playing in <b>the</b> snow. They wanted to",
                    "Sample 250<br>Sequence length: 128<br><br>Text preview:<br>Once there was a man that had a dirty wet shirt. He was keen to wear it to a special event, so he put it on.\n\nUnfortunately the shirt was too big for ...<br><br>Token examples (context with <b>target</b> token):<br>  0: <b>Once</b> there was a man that<br>  1: Once <b>there</b> was a man that had<br>  2: Once there <b>was</b> a man that had a<br>  3: Once there was <b>a</b> man that had a dirty<br>  4: Once there was a <b>man</b> that had a dirty wet<br>  5: Once there was a man <b>that</b> had a dirty wet shirt<br>  6: there was a man that <b>had</b> a dirty wet shirt.<br>  7: was a man that had <b>a</b> dirty wet shirt. He",
                    "Sample 2053<br>Sequence length: 128<br><br>Text preview:<br>Once upon a time there was a little boy, who wanted to go on a boat. He was very excited, but he knew he had to collect things first to make his boat....<br><br>Token examples (context with <b>target</b> token):<br>  0: <b>Once</b> upon a time there was<br>  1: Once <b>upon</b> a time there was a<br>  2: Once upon <b>a</b> time there was a little<br>  3: Once upon a <b>time</b> there was a little boy<br>  4: Once upon a time <b>there</b> was a little boy,<br>  5: Once upon a time there <b>was</b> a little boy, who<br>  6: upon a time there was <b>a</b> little boy, who wanted<br>  7: a time there was a <b>little</b> boy, who wanted to",
                    "Sample 659<br>Sequence length: 128<br><br>Text preview:<br>Once upon a time, there was a little bunny named Snowy. Snowy was very white and fluffy. One day, Snowy wanted to travel to a new place. Snowy asked h...<br><br>Token examples (context with <b>target</b> token):<br>  0: <b>Once</b> upon a time, there<br>  1: Once <b>upon</b> a time, there was<br>  2: Once upon <b>a</b> time, there was a<br>  3: Once upon a <b>time,</b> there was a little<br>  4: Once upon a time, <b>there</b> was a little bunny<br>  5: Once upon a time, there <b>was</b> a little bunny named<br>  6: upon a time, there was <b>a</b> little bunny named Snow<br>  7: a time, there was a <b>little</b> bunny named Snowy",
                    "Sample 56<br>Sequence length: 128<br><br>Text preview:<br>Once there was a little girl called Mia who loved to jump. Everywhere she went, she jumped. When walking to school, she would jump on the sidewalk. At...<br><br>Token examples (context with <b>target</b> token):<br>  0: <b>Once</b> there was a little girl<br>  1: Once <b>there</b> was a little girl called<br>  2: Once there <b>was</b> a little girl called Mia<br>  3: Once there was <b>a</b> little girl called Mia who<br>  4: Once there was a <b>little</b> girl called Mia who loved<br>  5: Once there was a little <b>girl</b> called Mia who loved to<br>  6: there was a little girl <b>called</b> Mia who loved to jump<br>  7: was a little girl called <b>Mia</b> who loved to jump.",
                    "Sample 1201<br>Sequence length: 128<br><br>Text preview:<br>Once upon a time, there were two friends, Jenny and Matt. They lived in the same neighborhood.\n\nOne day they found out that there was a tube in the at...<br><br>Token examples (context with <b>target</b> token):<br>  0: <b>Once</b> upon a time, there<br>  1: Once <b>upon</b> a time, there were<br>  2: Once upon <b>a</b> time, there were two<br>  3: Once upon a <b>time,</b> there were two friends<br>  4: Once upon a time, <b>there</b> were two friends,<br>  5: Once upon a time, there <b>were</b> two friends, Jenny<br>  6: upon a time, there were <b>two</b> friends, Jenny and<br>  7: a time, there were two <b>friends,</b> Jenny and Matt",
                    "Sample 753<br>Sequence length: 128<br><br>Text preview:<br>Ben and Mia love to swim in the sea. They have big masks and tubes to see the fish. One day, they see a big boat near the shore. The boat has many box...<br><br>Token examples (context with <b>target</b> token):<br>  0: <b>Ben</b> and Mia love to swim<br>  1: Ben <b>and</b> Mia love to swim in<br>  2: Ben and <b>Mia</b> love to swim in the<br>  3: Ben and Mia <b>love</b> to swim in the sea<br>  4: Ben and Mia love <b>to</b> swim in the sea.<br>  5: Ben and Mia love to <b>swim</b> in the sea. They<br>  6: and Mia love to swim <b>in</b> the sea. They have<br>  7: Mia love to swim in <b>the</b> sea. They have big",
                    "Sample 1167<br>Sequence length: 128<br><br>Text preview:<br>Once there was a guard who was feeling very anxious. He had an important job to do, which was to look after the park. But one day something unexpected...<br><br>Token examples (context with <b>target</b> token):<br>  0: <b>Once</b> there was a guard who<br>  1: Once <b>there</b> was a guard who was<br>  2: Once there <b>was</b> a guard who was feeling<br>  3: Once there was <b>a</b> guard who was feeling very<br>  4: Once there was a <b>guard</b> who was feeling very anxious<br>  5: Once there was a guard <b>who</b> was feeling very anxious.<br>  6: there was a guard who <b>was</b> feeling very anxious. He<br>  7: was a guard who was <b>feeling</b> very anxious. He had",
                    "Sample 721<br>Sequence length: 128<br><br>Text preview:<br>Lily liked to draw pictures with her crayons. She had many colors and shapes to make her drawings. She kept her crayons in a box on her desk in her ro...<br><br>Token examples (context with <b>target</b> token):<br>  0: <b>Lily</b> liked to draw pictures<br>  1: Lily <b>liked</b> to draw pictures with<br>  2: Lily liked <b>to</b> draw pictures with her<br>  3: Lily liked to <b>draw</b> pictures with her cr<br>  4: Lily liked to draw <b>pictures</b> with her cray<br>  5: Lily liked to draw pictures <b>with</b> her crayons<br>  6: ily liked to draw pictures <b>with</b> her crayons.<br>  7: liked to draw pictures with <b>her</b> crayons. She",
                    "Sample 805<br>Sequence length: 128<br><br>Text preview:<br>Once upon a time, there was a big truck. The truck was very loud and had many wheels. It was a vehicle that helped move things from one place to anoth...<br><br>Token examples (context with <b>target</b> token):<br>  0: <b>Once</b> upon a time, there<br>  1: Once <b>upon</b> a time, there was<br>  2: Once upon <b>a</b> time, there was a<br>  3: Once upon a <b>time,</b> there was a big<br>  4: Once upon a time, <b>there</b> was a big truck<br>  5: Once upon a time, there <b>was</b> a big truck.<br>  6: upon a time, there was <b>a</b> big truck. The<br>  7: a time, there was a <b>big</b> truck. The truck",
                    "Sample 810<br>Sequence length: 128<br><br>Text preview:<br>Once upon a time, there was a little boy named Timmy. He had a black cat named Mittens. Timmy loved to play with Mittens and bounce his ball around th...<br><br>Token examples (context with <b>target</b> token):<br>  0: <b>Once</b> upon a time, there<br>  1: Once <b>upon</b> a time, there was<br>  2: Once upon <b>a</b> time, there was a<br>  3: Once upon a <b>time,</b> there was a little<br>  4: Once upon a time, <b>there</b> was a little boy<br>  5: Once upon a time, there <b>was</b> a little boy named<br>  6: upon a time, there was <b>a</b> little boy named Tim<br>  7: a time, there was a <b>little</b> boy named Timmy",
                    "Sample 1947<br>Sequence length: 128<br><br>Text preview:<br>Once upon a time there was a little boy. His name was Timmy and he was 3 years old. He had a great big smile on his face. He was very enthusiastic abo...<br><br>Token examples (context with <b>target</b> token):<br>  0: <b>Once</b> upon a time there was<br>  1: Once <b>upon</b> a time there was a<br>  2: Once upon <b>a</b> time there was a little<br>  3: Once upon a <b>time</b> there was a little boy<br>  4: Once upon a time <b>there</b> was a little boy.<br>  5: Once upon a time there <b>was</b> a little boy. His<br>  6: upon a time there was <b>a</b> little boy. His name<br>  7: a time there was a <b>little</b> boy. His name was",
                    "Sample 580<br>Sequence length: 128<br><br>Text preview:<br>Once there was a little girl who came across a hippo. The hippo looked friendly and the little girl wanted to give it a pet. Her mom warned her not to...<br><br>Token examples (context with <b>target</b> token):<br>  0: <b>Once</b> there was a little girl<br>  1: Once <b>there</b> was a little girl who<br>  2: Once there <b>was</b> a little girl who came<br>  3: Once there was <b>a</b> little girl who came across<br>  4: Once there was a <b>little</b> girl who came across a<br>  5: Once there was a little <b>girl</b> who came across a hipp<br>  6: there was a little girl <b>who</b> came across a hippo<br>  7: was a little girl who <b>came</b> across a hippo.",
                    "Sample 2301<br>Sequence length: 128<br><br>Text preview:<br>Tom and Sam are brothers. They like to play sport in the park. They kick a ball, run and jump. They have fun.\n\nBut when they come home, they are dirty...<br><br>Token examples (context with <b>target</b> token):<br>  0: <b>Tom</b> and Sam are brothers.<br>  1: Tom <b>and</b> Sam are brothers. They<br>  2: Tom and <b>Sam</b> are brothers. They like<br>  3: Tom and Sam <b>are</b> brothers. They like to<br>  4: Tom and Sam are <b>brothers.</b> They like to play<br>  5: Tom and Sam are brothers. <b>They</b> like to play sport<br>  6: and Sam are brothers. They <b>like</b> to play sport in<br>  7: Sam are brothers. They like <b>to</b> play sport in the",
                    "Sample 2049<br>Sequence length: 128<br><br>Text preview:<br>Once upon a time, there lived a small boy named Alex. He was curious and liked to explore. One day he decided to march around his house to find someth...<br><br>Token examples (context with <b>target</b> token):<br>  0: <b>Once</b> upon a time, there<br>  1: Once <b>upon</b> a time, there lived<br>  2: Once upon <b>a</b> time, there lived a<br>  3: Once upon a <b>time,</b> there lived a small<br>  4: Once upon a time, <b>there</b> lived a small boy<br>  5: Once upon a time, there <b>lived</b> a small boy named<br>  6: upon a time, there lived <b>a</b> small boy named Alex<br>  7: a time, there lived a <b>small</b> boy named Alex.",
                    "Sample 1216<br>Sequence length: 128<br><br>Text preview:<br>Once upon a time, there were two friends who were very sad. They had been apart for a long time, and it made them feel blue. Then one day, an exciting...<br><br>Token examples (context with <b>target</b> token):<br>  0: <b>Once</b> upon a time, there<br>  1: Once <b>upon</b> a time, there were<br>  2: Once upon <b>a</b> time, there were two<br>  3: Once upon a <b>time,</b> there were two friends<br>  4: Once upon a time, <b>there</b> were two friends who<br>  5: Once upon a time, there <b>were</b> two friends who were<br>  6: upon a time, there were <b>two</b> friends who were very<br>  7: a time, there were two <b>friends</b> who were very sad",
                    "Sample 62<br>Sequence length: 128<br><br>Text preview:<br>Once upon a time, there was a little girl who loved fashion. She spent all of her time imagining what it would be like to have the perfect outfit for ...<br><br>Token examples (context with <b>target</b> token):<br>  0: <b>Once</b> upon a time, there<br>  1: Once <b>upon</b> a time, there was<br>  2: Once upon <b>a</b> time, there was a<br>  3: Once upon a <b>time,</b> there was a little<br>  4: Once upon a time, <b>there</b> was a little girl<br>  5: Once upon a time, there <b>was</b> a little girl who<br>  6: upon a time, there was <b>a</b> little girl who loved<br>  7: a time, there was a <b>little</b> girl who loved fashion",
                    "Sample 1411<br>Sequence length: 128<br><br>Text preview:<br>Once upon a time, there was a little dog named Bobo. Bobo was always ready to play and have fun. One day, he saw a big step in the park. He thought it...<br><br>Token examples (context with <b>target</b> token):<br>  0: <b>Once</b> upon a time, there<br>  1: Once <b>upon</b> a time, there was<br>  2: Once upon <b>a</b> time, there was a<br>  3: Once upon a <b>time,</b> there was a little<br>  4: Once upon a time, <b>there</b> was a little dog<br>  5: Once upon a time, there <b>was</b> a little dog named<br>  6: upon a time, there was <b>a</b> little dog named Bob<br>  7: a time, there was a <b>little</b> dog named Bobo",
                    "Sample 943<br>Sequence length: 128<br><br>Text preview:<br>Anna and Ben are twins. They like to play outside in the garden. One day, they see a big box near the fence. They run to the box and open it. Inside, ...<br><br>Token examples (context with <b>target</b> token):<br>  0: <b>Anna</b> and Ben are twins.<br>  1: Anna <b>and</b> Ben are twins. They<br>  2: Anna and <b>Ben</b> are twins. They like<br>  3: Anna and Ben <b>are</b> twins. They like to<br>  4: Anna and Ben are <b>twins.</b> They like to play<br>  5: Anna and Ben are twins. <b>They</b> like to play outside<br>  6: and Ben are twins. They <b>like</b> to play outside in<br>  7: Ben are twins. They like <b>to</b> play outside in the",
                    "Sample 1900<br>Sequence length: 128<br><br>Text preview:<br>Once upon a time, there was a little girl. She had a big white hat and white shoes. She was so happy.\n\nOne day she went for a walk in the park and som...<br><br>Token examples (context with <b>target</b> token):<br>  0: <b>Once</b> upon a time, there<br>  1: Once <b>upon</b> a time, there was<br>  2: Once upon <b>a</b> time, there was a<br>  3: Once upon a <b>time,</b> there was a little<br>  4: Once upon a time, <b>there</b> was a little girl<br>  5: Once upon a time, there <b>was</b> a little girl.<br>  6: upon a time, there was <b>a</b> little girl. She<br>  7: a time, there was a <b>little</b> girl. She had",
                    "Sample 705<br>Sequence length: 128<br><br>Text preview:<br>Ben likes to draw with his tutor, Miss Lee. She helps him learn new words and colors. Today, they are drawing a big farm with many animals. Ben draws ...<br><br>Token examples (context with <b>target</b> token):<br>  0: <b>Ben</b> likes to draw with his<br>  1: Ben <b>likes</b> to draw with his tutor<br>  2: Ben likes <b>to</b> draw with his tutor,<br>  3: Ben likes to <b>draw</b> with his tutor, Miss<br>  4: Ben likes to draw <b>with</b> his tutor, Miss Lee<br>  5: Ben likes to draw with <b>his</b> tutor, Miss Lee.<br>  6: likes to draw with his <b>tutor,</b> Miss Lee. She<br>  7: to draw with his tutor, <b>Miss</b> Lee. She helps",
                    "Sample 1149<br>Sequence length: 128<br><br>Text preview:<br>Once upon a time there was a little girl who loved to scatter in the morning. Every morning, she would skip around the garden and scatter all the tiny...<br><br>Token examples (context with <b>target</b> token):<br>  0: <b>Once</b> upon a time there was<br>  1: Once <b>upon</b> a time there was a<br>  2: Once upon <b>a</b> time there was a little<br>  3: Once upon a <b>time</b> there was a little girl<br>  4: Once upon a time <b>there</b> was a little girl who<br>  5: Once upon a time there <b>was</b> a little girl who loved<br>  6: upon a time there was <b>a</b> little girl who loved to<br>  7: a time there was a <b>little</b> girl who loved to scatter",
                    "Sample 1748<br>Sequence length: 128<br><br>Text preview:<br>Once upon a time there lived a queen. She was known for her kindness and generosity. Every day, she would take creations from the people of her kingdo...<br><br>Token examples (context with <b>target</b> token):<br>  0: <b>Once</b> upon a time there lived<br>  1: Once <b>upon</b> a time there lived a<br>  2: Once upon <b>a</b> time there lived a queen<br>  3: Once upon a <b>time</b> there lived a queen.<br>  4: Once upon a time <b>there</b> lived a queen. She<br>  5: Once upon a time there <b>lived</b> a queen. She was<br>  6: upon a time there lived <b>a</b> queen. She was known<br>  7: a time there lived a <b>queen.</b> She was known for",
                    "Sample 1345<br>Sequence length: 128<br><br>Text preview:<br>Once there was a comfortable seat in the park. It was brown and furry and looked like a lion. One day a little boy saw the seat and wanted to sit on i...<br><br>Token examples (context with <b>target</b> token):<br>  0: <b>Once</b> there was a comfortable seat<br>  1: Once <b>there</b> was a comfortable seat in<br>  2: Once there <b>was</b> a comfortable seat in the<br>  3: Once there was <b>a</b> comfortable seat in the park<br>  4: Once there was a <b>comfortable</b> seat in the park.<br>  5: Once there was a comfortable <b>seat</b> in the park. It<br>  6: there was a comfortable seat <b>in</b> the park. It was<br>  7: was a comfortable seat in <b>the</b> park. It was brown",
                    "Sample 974<br>Sequence length: 128<br><br>Text preview:<br>Lily and Tom liked to collect things. They had a big box full of shells, rocks, feathers, and stickers. One day, they found a map in a book. It had a ...<br><br>Token examples (context with <b>target</b> token):<br>  0: <b>Lily</b> and Tom liked to<br>  1: Lily <b>and</b> Tom liked to collect<br>  2: Lily and <b>Tom</b> liked to collect things<br>  3: Lily and Tom <b>liked</b> to collect things.<br>  4: Lily and Tom liked <b>to</b> collect things. They<br>  5: Lily and Tom liked to <b>collect</b> things. They had<br>  6: ily and Tom liked to <b>collect</b> things. They had a<br>  7: and Tom liked to collect <b>things.</b> They had a big",
                    "Sample 542<br>Sequence length: 128<br><br>Text preview:<br>One sunny day, Betty went outside to play. She saw a cube and she was so excited. She invited her friend Daisy over to play with her. \n\nBetty and Dais...<br><br>Token examples (context with <b>target</b> token):<br>  0: <b>One</b> sunny day, Betty went<br>  1: One <b>sunny</b> day, Betty went outside<br>  2: One sunny <b>day,</b> Betty went outside to<br>  3: One sunny day, <b>Betty</b> went outside to play<br>  4: One sunny day, Betty <b>went</b> outside to play.<br>  5: One sunny day, Betty went <b>outside</b> to play. She<br>  6: sunny day, Betty went outside <b>to</b> play. She saw<br>  7: day, Betty went outside to <b>play.</b> She saw a",
                    "Sample 2015<br>Sequence length: 128<br><br>Text preview:<br>Bob was a three year old child. He liked to play outside and slide down the slide in his backyard.\n\nOne day, Bob's mom told him that she was getting m...<br><br>Token examples (context with <b>target</b> token):<br>  0: <b>Bob</b> was a three year old<br>  1: Bob <b>was</b> a three year old child<br>  2: Bob was <b>a</b> three year old child.<br>  3: Bob was a <b>three</b> year old child. He<br>  4: Bob was a three <b>year</b> old child. He liked<br>  5: Bob was a three year <b>old</b> child. He liked to<br>  6: was a three year old <b>child.</b> He liked to play<br>  7: a three year old child. <b>He</b> liked to play outside",
                    "Sample 2261<br>Sequence length: 128<br><br>Text preview:<br>Ben and Lily are twins. They like to play with their toys in their room. But today, Mom says they have to help with the laundry. She gives them a big ...<br><br>Token examples (context with <b>target</b> token):<br>  0: <b>Ben</b> and Lily are twins.<br>  1: Ben <b>and</b> Lily are twins. They<br>  2: Ben and <b>Lily</b> are twins. They like<br>  3: Ben and Lily <b>are</b> twins. They like to<br>  4: Ben and Lily are <b>twins.</b> They like to play<br>  5: Ben and Lily are twins. <b>They</b> like to play with<br>  6: and Lily are twins. They <b>like</b> to play with their<br>  7: Lily are twins. They like <b>to</b> play with their toys",
                    "Sample 79<br>Sequence length: 128<br><br>Text preview:<br>One day, Little Bear and his Mommy went for a visit. She took him to a place he had never seen before. It was an icy place with lots of snow. As they ...<br><br>Token examples (context with <b>target</b> token):<br>  0: <b>One</b> day, Little Bear and<br>  1: One <b>day,</b> Little Bear and his<br>  2: One day, <b>Little</b> Bear and his Mom<br>  3: One day, Little <b>Bear</b> and his Mommy<br>  4: One day, Little Bear <b>and</b> his Mommy went<br>  5: One day, Little Bear and <b>his</b> Mommy went for<br>  6: day, Little Bear and his <b>Mommy</b> went for a<br>  7: , Little Bear and his <b>Mommy</b> went for a visit",
                    "Sample 2054<br>Sequence length: 128<br><br>Text preview:<br>Once upon a time, there was a mummy and a daddy. They had a little boy called Jack. Every day, mummy and daddy would prepare Jack's breakfast. Today w...<br><br>Token examples (context with <b>target</b> token):<br>  0: <b>Once</b> upon a time, there<br>  1: Once <b>upon</b> a time, there was<br>  2: Once upon <b>a</b> time, there was a<br>  3: Once upon a <b>time,</b> there was a mummy<br>  4: Once upon a time, <b>there</b> was a mummy and<br>  5: Once upon a time, there <b>was</b> a mummy and a<br>  6: upon a time, there was <b>a</b> mummy and a daddy<br>  7: a time, there was a <b>mummy</b> and a daddy.",
                    "Sample 148<br>Sequence length: 128<br><br>Text preview:<br>Once upon a time there were two friends, Jack and Jill. They were playing together in a big field. \n\nSuddenly, Jack noticed a deep well! He was so exc...<br><br>Token examples (context with <b>target</b> token):<br>  0: <b>Once</b> upon a time there were<br>  1: Once <b>upon</b> a time there were two<br>  2: Once upon <b>a</b> time there were two friends<br>  3: Once upon a <b>time</b> there were two friends,<br>  4: Once upon a time <b>there</b> were two friends, Jack<br>  5: Once upon a time there <b>were</b> two friends, Jack and<br>  6: upon a time there were <b>two</b> friends, Jack and Jill<br>  7: a time there were two <b>friends,</b> Jack and Jill.",
                    "Sample 566<br>Sequence length: 128<br><br>Text preview:<br>Once upon a time, there was a chubby beehive. It flew around looking for food. One day, it decided to sail away. It flew high in the sky, looking down...<br><br>Token examples (context with <b>target</b> token):<br>  0: <b>Once</b> upon a time, there<br>  1: Once <b>upon</b> a time, there was<br>  2: Once upon <b>a</b> time, there was a<br>  3: Once upon a <b>time,</b> there was a ch<br>  4: Once upon a time, <b>there</b> was a chubby<br>  5: Once upon a time, there <b>was</b> a chubby be<br>  6: upon a time, there was <b>a</b> chubby beeh<br>  7: a time, there was a <b>chubby</b> beehive",
                    "Sample 861<br>Sequence length: 128<br><br>Text preview:<br>Once upon a time, there was a race between two animals, a rabbit and a turtle. The rabbit was very fast and the turtle was very slow. The rabbit liked...<br><br>Token examples (context with <b>target</b> token):<br>  0: <b>Once</b> upon a time, there<br>  1: Once <b>upon</b> a time, there was<br>  2: Once upon <b>a</b> time, there was a<br>  3: Once upon a <b>time,</b> there was a race<br>  4: Once upon a time, <b>there</b> was a race between<br>  5: Once upon a time, there <b>was</b> a race between two<br>  6: upon a time, there was <b>a</b> race between two animals<br>  7: a time, there was a <b>race</b> between two animals,",
                    "Sample 2278<br>Sequence length: 128<br><br>Text preview:<br>Tom was a mechanic who liked to fix cars. He had a big garage with many tools and parts. He worked hard every day and helped many people with their ca...<br><br>Token examples (context with <b>target</b> token):<br>  0: <b>Tom</b> was a mechanic who liked<br>  1: Tom <b>was</b> a mechanic who liked to<br>  2: Tom was <b>a</b> mechanic who liked to fix<br>  3: Tom was a <b>mechanic</b> who liked to fix cars<br>  4: Tom was a mechanic <b>who</b> liked to fix cars.<br>  5: Tom was a mechanic who <b>liked</b> to fix cars. He<br>  6: was a mechanic who liked <b>to</b> fix cars. He had<br>  7: a mechanic who liked to <b>fix</b> cars. He had a",
                    "Sample 1791<br>Sequence length: 128<br><br>Text preview:<br>Once upon a time there was a little boy named Timmy. He loved to go for walks. One day, Timmy was walking to the top of a hill. On the hill he saw a b...<br><br>Token examples (context with <b>target</b> token):<br>  0: <b>Once</b> upon a time there was<br>  1: Once <b>upon</b> a time there was a<br>  2: Once upon <b>a</b> time there was a little<br>  3: Once upon a <b>time</b> there was a little boy<br>  4: Once upon a time <b>there</b> was a little boy named<br>  5: Once upon a time there <b>was</b> a little boy named Tim<br>  6: upon a time there was <b>a</b> little boy named Timmy<br>  7: a time there was a <b>little</b> boy named Timmy.",
                    "Sample 1437<br>Sequence length: 128<br><br>Text preview:<br>Once upon a time, in a small town, there was a little boy named Tim. Tim liked to sit under a big tree near his house. One day, while he was sitting, ...<br><br>Token examples (context with <b>target</b> token):<br>  0: <b>Once</b> upon a time, in<br>  1: Once <b>upon</b> a time, in a<br>  2: Once upon <b>a</b> time, in a small<br>  3: Once upon a <b>time,</b> in a small town<br>  4: Once upon a time, <b>in</b> a small town,<br>  5: Once upon a time, in <b>a</b> small town, there<br>  6: upon a time, in a <b>small</b> town, there was<br>  7: a time, in a small <b>town,</b> there was a",
                    "Sample 33<br>Sequence length: 128<br><br>Text preview:<br>Once upon a time, there was an old lady who lived in a small house. She loved to mix things in her big pot. One day, she decided to mix some yummy sou...<br><br>Token examples (context with <b>target</b> token):<br>  0: <b>Once</b> upon a time, there<br>  1: Once <b>upon</b> a time, there was<br>  2: Once upon <b>a</b> time, there was an<br>  3: Once upon a <b>time,</b> there was an old<br>  4: Once upon a time, <b>there</b> was an old lady<br>  5: Once upon a time, there <b>was</b> an old lady who<br>  6: upon a time, there was <b>an</b> old lady who lived<br>  7: a time, there was an <b>old</b> lady who lived in",
                    "Sample 1225<br>Sequence length: 128<br><br>Text preview:<br>John looked through the window. He saw a small bear in the garden. His eyes widened in shock. He hadn't expected to see it there! The bear stared back...<br><br>Token examples (context with <b>target</b> token):<br>  0: <b>John</b> looked through the window.<br>  1: John <b>looked</b> through the window. He<br>  2: John looked <b>through</b> the window. He saw<br>  3: John looked through <b>the</b> window. He saw a<br>  4: John looked through the <b>window.</b> He saw a small<br>  5: John looked through the window. <b>He</b> saw a small bear<br>  6: looked through the window. He <b>saw</b> a small bear in<br>  7: through the window. He saw <b>a</b> small bear in the",
                    "Sample 126<br>Sequence length: 128<br><br>Text preview:<br>Once upon a time there was a bird named Max. He loved being able to soar through the sky. One day however, Max felt helpless when his wing was injured...<br><br>Token examples (context with <b>target</b> token):<br>  0: <b>Once</b> upon a time there was<br>  1: Once <b>upon</b> a time there was a<br>  2: Once upon <b>a</b> time there was a bird<br>  3: Once upon a <b>time</b> there was a bird named<br>  4: Once upon a time <b>there</b> was a bird named Max<br>  5: Once upon a time there <b>was</b> a bird named Max.<br>  6: upon a time there was <b>a</b> bird named Max. He<br>  7: a time there was a <b>bird</b> named Max. He loved",
                    "Sample 653<br>Sequence length: 128<br><br>Text preview:<br>Once upon a time, there was a clever little bunny named Benny. Benny loved to hop around the forest and play with his friends. One day, Benny's friend...<br><br>Token examples (context with <b>target</b> token):<br>  0: <b>Once</b> upon a time, there<br>  1: Once <b>upon</b> a time, there was<br>  2: Once upon <b>a</b> time, there was a<br>  3: Once upon a <b>time,</b> there was a clever<br>  4: Once upon a time, <b>there</b> was a clever little<br>  5: Once upon a time, there <b>was</b> a clever little bunny<br>  6: upon a time, there was <b>a</b> clever little bunny named<br>  7: a time, there was a <b>clever</b> little bunny named Benny",
                    "Sample 2251<br>Sequence length: 128<br><br>Text preview:<br>Sara was a charming girl who liked to speak to everyone. She had many friends at her school and at her home. She also liked to play with her toys, esp...<br><br>Token examples (context with <b>target</b> token):<br>  0: <b>Sara</b> was a charming girl<br>  1: Sara <b>was</b> a charming girl who<br>  2: Sara was <b>a</b> charming girl who liked<br>  3: Sara was a <b>charming</b> girl who liked to<br>  4: Sara was a charming <b>girl</b> who liked to speak<br>  5: Sara was a charming girl <b>who</b> liked to speak to<br>  6: ara was a charming girl <b>who</b> liked to speak to everyone<br>  7: was a charming girl who <b>liked</b> to speak to everyone.",
                    "Sample 1388<br>Sequence length: 128<br><br>Text preview:<br>Once upon a time, there was a polite cactus. The cactus lived in a big garden with many friends. One day, the cactus met a little bird. The bird was v...<br><br>Token examples (context with <b>target</b> token):<br>  0: <b>Once</b> upon a time, there<br>  1: Once <b>upon</b> a time, there was<br>  2: Once upon <b>a</b> time, there was a<br>  3: Once upon a <b>time,</b> there was a polite<br>  4: Once upon a time, <b>there</b> was a polite c<br>  5: Once upon a time, there <b>was</b> a polite cactus<br>  6: upon a time, there was <b>a</b> polite cactus.<br>  7: a time, there was a <b>polite</b> cactus. The",
                    "Sample 341<br>Sequence length: 128<br><br>Text preview:<br>Once upon a time there lived a little boy named Joe. He was only three years old and he wanted nothing more than to learn to ride a motorcycle. Joe's ...<br><br>Token examples (context with <b>target</b> token):<br>  0: <b>Once</b> upon a time there lived<br>  1: Once <b>upon</b> a time there lived a<br>  2: Once upon <b>a</b> time there lived a little<br>  3: Once upon a <b>time</b> there lived a little boy<br>  4: Once upon a time <b>there</b> lived a little boy named<br>  5: Once upon a time there <b>lived</b> a little boy named Joe<br>  6: upon a time there lived <b>a</b> little boy named Joe.<br>  7: a time there lived a <b>little</b> boy named Joe. He",
                    "Sample 2005<br>Sequence length: 128<br><br>Text preview:<br>Once upon a time there was a very fragile bird. She lived in a lovely tree in the woods. Every day she went out and searched for tasty bugs.\n\nBut one ...<br><br>Token examples (context with <b>target</b> token):<br>  0: <b>Once</b> upon a time there was<br>  1: Once <b>upon</b> a time there was a<br>  2: Once upon <b>a</b> time there was a very<br>  3: Once upon a <b>time</b> there was a very fragile<br>  4: Once upon a time <b>there</b> was a very fragile bird<br>  5: Once upon a time there <b>was</b> a very fragile bird.<br>  6: upon a time there was <b>a</b> very fragile bird. She<br>  7: a time there was a <b>very</b> fragile bird. She lived",
                    "Sample 1937<br>Sequence length: 128<br><br>Text preview:<br>Once upon a time, there were two best friends. They were Lily and Rose.\n\nRose said to Lily, \"Do you want to come to my party?\" \n\nLily smiled and said,...<br><br>Token examples (context with <b>target</b> token):<br>  0: <b>Once</b> upon a time, there<br>  1: Once <b>upon</b> a time, there were<br>  2: Once upon <b>a</b> time, there were two<br>  3: Once upon a <b>time,</b> there were two best<br>  4: Once upon a time, <b>there</b> were two best friends<br>  5: Once upon a time, there <b>were</b> two best friends.<br>  6: upon a time, there were <b>two</b> best friends. They<br>  7: a time, there were two <b>best</b> friends. They were",
                    "Sample 1478<br>Sequence length: 128<br><br>Text preview:<br>One day, a good dog named Max went for a walk. He saw a big tree and leaned on it. He felt happy and wagged his tail.\n\nMax saw a cop and his car. The ...<br><br>Token examples (context with <b>target</b> token):<br>  0: <b>One</b> day, a good dog<br>  1: One <b>day,</b> a good dog named<br>  2: One day, <b>a</b> good dog named Max<br>  3: One day, a <b>good</b> dog named Max went<br>  4: One day, a good <b>dog</b> named Max went for<br>  5: One day, a good dog <b>named</b> Max went for a<br>  6: day, a good dog named <b>Max</b> went for a walk<br>  7: , a good dog named <b>Max</b> went for a walk.",
                    "Sample 272<br>Sequence length: 128<br><br>Text preview:<br>Once upon a time there were two friends, Emma and Jack. They went to the market together to see what they could find. While they walked around, Jack s...<br><br>Token examples (context with <b>target</b> token):<br>  0: <b>Once</b> upon a time there were<br>  1: Once <b>upon</b> a time there were two<br>  2: Once upon <b>a</b> time there were two friends<br>  3: Once upon a <b>time</b> there were two friends,<br>  4: Once upon a time <b>there</b> were two friends, Emma<br>  5: Once upon a time there <b>were</b> two friends, Emma and<br>  6: upon a time there were <b>two</b> friends, Emma and Jack<br>  7: a time there were two <b>friends,</b> Emma and Jack.",
                    "Sample 2153<br>Sequence length: 128<br><br>Text preview:<br>Sara was a gifted girl. She could sing, draw and read very well. She loved to learn new things and share them with her friends. One day, she went to t...<br><br>Token examples (context with <b>target</b> token):<br>  0: <b>Sara</b> was a gifted girl<br>  1: Sara <b>was</b> a gifted girl.<br>  2: Sara was <b>a</b> gifted girl. She<br>  3: Sara was a <b>gifted</b> girl. She could<br>  4: Sara was a gifted <b>girl.</b> She could sing<br>  5: Sara was a gifted girl. <b>She</b> could sing,<br>  6: ara was a gifted girl. <b>She</b> could sing, draw<br>  7: was a gifted girl. She <b>could</b> sing, draw and",
                    "Sample 2103<br>Sequence length: 128<br><br>Text preview:<br>Anna and Ben were twins who liked to play in the park. One day, they saw an elderly lady sitting on a bench. She had a big bag with her and a small do...<br><br>Token examples (context with <b>target</b> token):<br>  0: <b>Anna</b> and Ben were twins who<br>  1: Anna <b>and</b> Ben were twins who liked<br>  2: Anna and <b>Ben</b> were twins who liked to<br>  3: Anna and Ben <b>were</b> twins who liked to play<br>  4: Anna and Ben were <b>twins</b> who liked to play in<br>  5: Anna and Ben were twins <b>who</b> liked to play in the<br>  6: and Ben were twins who <b>liked</b> to play in the park<br>  7: Ben were twins who liked <b>to</b> play in the park.",
                    "Sample 2212<br>Sequence length: 128<br><br>Text preview:<br>Once upon a time, there was a little boy named Timmy. Timmy liked to go outside and play with his toys. One day, Timmy's mommy told him to come inside...<br><br>Token examples (context with <b>target</b> token):<br>  0: <b>Once</b> upon a time, there<br>  1: Once <b>upon</b> a time, there was<br>  2: Once upon <b>a</b> time, there was a<br>  3: Once upon a <b>time,</b> there was a little<br>  4: Once upon a time, <b>there</b> was a little boy<br>  5: Once upon a time, there <b>was</b> a little boy named<br>  6: upon a time, there was <b>a</b> little boy named Tim<br>  7: a time, there was a <b>little</b> boy named Timmy",
                    "Sample 2088<br>Sequence length: 128<br><br>Text preview:<br>Once upon a time there was a boy named Jack. He loved to explore and every week he found something new. One week Jack found a big, expensive toy. It w...<br><br>Token examples (context with <b>target</b> token):<br>  0: <b>Once</b> upon a time there was<br>  1: Once <b>upon</b> a time there was a<br>  2: Once upon <b>a</b> time there was a boy<br>  3: Once upon a <b>time</b> there was a boy named<br>  4: Once upon a time <b>there</b> was a boy named Jack<br>  5: Once upon a time there <b>was</b> a boy named Jack.<br>  6: upon a time there was <b>a</b> boy named Jack. He<br>  7: a time there was a <b>boy</b> named Jack. He loved",
                    "Sample 2199<br>Sequence length: 128<br><br>Text preview:<br>Tom and Jen were twins who liked to play outside. They had a big yard with a swing, a slide and a sandbox. Sometimes, they helped their dad with the g...<br><br>Token examples (context with <b>target</b> token):<br>  0: <b>Tom</b> and Jen were twins who<br>  1: Tom <b>and</b> Jen were twins who liked<br>  2: Tom and <b>Jen</b> were twins who liked to<br>  3: Tom and Jen <b>were</b> twins who liked to play<br>  4: Tom and Jen were <b>twins</b> who liked to play outside<br>  5: Tom and Jen were twins <b>who</b> liked to play outside.<br>  6: and Jen were twins who <b>liked</b> to play outside. They<br>  7: Jen were twins who liked <b>to</b> play outside. They had",
                    "Sample 1648<br>Sequence length: 128<br><br>Text preview:<br>Once upon a time, there was a dancer named Sandy. She was a beautiful dancer and she loved to perform for her family and friends.\n\nOne day, Sandy got ...<br><br>Token examples (context with <b>target</b> token):<br>  0: <b>Once</b> upon a time, there<br>  1: Once <b>upon</b> a time, there was<br>  2: Once upon <b>a</b> time, there was a<br>  3: Once upon a <b>time,</b> there was a dancer<br>  4: Once upon a time, <b>there</b> was a dancer named<br>  5: Once upon a time, there <b>was</b> a dancer named Sandy<br>  6: upon a time, there was <b>a</b> dancer named Sandy.<br>  7: a time, there was a <b>dancer</b> named Sandy. She",
                    "Sample 958<br>Sequence length: 128<br><br>Text preview:<br>Lily and Ben were playing in the dark. They had a flashlight and a tent. They liked to pretend they were explorers in a jungle. They saw many animals ...<br><br>Token examples (context with <b>target</b> token):<br>  0: <b>Lily</b> and Ben were playing<br>  1: Lily <b>and</b> Ben were playing in<br>  2: Lily and <b>Ben</b> were playing in the<br>  3: Lily and Ben <b>were</b> playing in the dark<br>  4: Lily and Ben were <b>playing</b> in the dark.<br>  5: Lily and Ben were playing <b>in</b> the dark. They<br>  6: ily and Ben were playing <b>in</b> the dark. They had<br>  7: and Ben were playing in <b>the</b> dark. They had a",
                    "Sample 1183<br>Sequence length: 128<br><br>Text preview:<br>Once upon a time, there was a sack. Inside the sack was some oat, and it was very expensive. Every day, the little sack waited by the phone, hoping so...<br><br>Token examples (context with <b>target</b> token):<br>  0: <b>Once</b> upon a time, there<br>  1: Once <b>upon</b> a time, there was<br>  2: Once upon <b>a</b> time, there was a<br>  3: Once upon a <b>time,</b> there was a sack<br>  4: Once upon a time, <b>there</b> was a sack.<br>  5: Once upon a time, there <b>was</b> a sack. Inside<br>  6: upon a time, there was <b>a</b> sack. Inside the<br>  7: a time, there was a <b>sack.</b> Inside the sack",
                    "Sample 1505<br>Sequence length: 128<br><br>Text preview:<br>Once there was a girl named Piper. She was only 3 years old, but she loved tasks. No matter how small or big the task seemed, Piper was there to fill ...<br><br>Token examples (context with <b>target</b> token):<br>  0: <b>Once</b> there was a girl named<br>  1: Once <b>there</b> was a girl named Piper<br>  2: Once there <b>was</b> a girl named Piper.<br>  3: Once there was <b>a</b> girl named Piper. She<br>  4: Once there was a <b>girl</b> named Piper. She was<br>  5: Once there was a girl <b>named</b> Piper. She was only<br>  6: there was a girl named <b>Piper.</b> She was only 3<br>  7: was a girl named Piper. <b>She</b> was only 3 years",
                    "Sample 1343<br>Sequence length: 128<br><br>Text preview:<br>Once upon a time, there was a little boy named George. He was excited to have a special day with his family.\n\nThey all went to the museum to see the s...<br><br>Token examples (context with <b>target</b> token):<br>  0: <b>Once</b> upon a time, there<br>  1: Once <b>upon</b> a time, there was<br>  2: Once upon <b>a</b> time, there was a<br>  3: Once upon a <b>time,</b> there was a little<br>  4: Once upon a time, <b>there</b> was a little boy<br>  5: Once upon a time, there <b>was</b> a little boy named<br>  6: upon a time, there was <b>a</b> little boy named George<br>  7: a time, there was a <b>little</b> boy named George.",
                    "Sample 2236<br>Sequence length: 128<br><br>Text preview:<br>Once upon a time, there was a princess. She was very pretty and everyone liked her. She had a big party and invited all her friends. She received lots...<br><br>Token examples (context with <b>target</b> token):<br>  0: <b>Once</b> upon a time, there<br>  1: Once <b>upon</b> a time, there was<br>  2: Once upon <b>a</b> time, there was a<br>  3: Once upon a <b>time,</b> there was a princess<br>  4: Once upon a time, <b>there</b> was a princess.<br>  5: Once upon a time, there <b>was</b> a princess. She<br>  6: upon a time, there was <b>a</b> princess. She was<br>  7: a time, there was a <b>princess.</b> She was very",
                    "Sample 1776<br>Sequence length: 128<br><br>Text preview:<br>Once upon a time, there was a little girl. She wanted to be successful, and to make her dream come true she had to build a special engine. The engine ...<br><br>Token examples (context with <b>target</b> token):<br>  0: <b>Once</b> upon a time, there<br>  1: Once <b>upon</b> a time, there was<br>  2: Once upon <b>a</b> time, there was a<br>  3: Once upon a <b>time,</b> there was a little<br>  4: Once upon a time, <b>there</b> was a little girl<br>  5: Once upon a time, there <b>was</b> a little girl.<br>  6: upon a time, there was <b>a</b> little girl. She<br>  7: a time, there was a <b>little</b> girl. She wanted",
                    "Sample 1826<br>Sequence length: 128<br><br>Text preview:<br>Once there was a chubby little girl named Jane. Jane wanted very badly to learn how to play the piano. Every day she heard the piano music coming from...<br><br>Token examples (context with <b>target</b> token):<br>  0: <b>Once</b> there was a chubby<br>  1: Once <b>there</b> was a chubby little<br>  2: Once there <b>was</b> a chubby little girl<br>  3: Once there was <b>a</b> chubby little girl named<br>  4: Once there was a <b>chubby</b> little girl named Jane<br>  5: Once there was a chubby <b>little</b> girl named Jane.<br>  6: there was a chubby little <b>girl</b> named Jane. Jane<br>  7: was a chubby little girl <b>named</b> Jane. Jane wanted",
                    "Sample 315<br>Sequence length: 128<br><br>Text preview:<br>Tiny Tom was walking in the park with his mom when he suddenly saw a huge well. He looked up at his mom with excitement and asked, \"What is that well ...<br><br>Token examples (context with <b>target</b> token):<br>  0: <b>Tiny</b> Tom was walking in<br>  1: Tiny <b>Tom</b> was walking in the<br>  2: Tiny Tom <b>was</b> walking in the park<br>  3: Tiny Tom was <b>walking</b> in the park with<br>  4: Tiny Tom was walking <b>in</b> the park with his<br>  5: Tiny Tom was walking in <b>the</b> park with his mom<br>  6: iny Tom was walking in <b>the</b> park with his mom when<br>  7: Tom was walking in the <b>park</b> with his mom when he",
                    "Sample 1904<br>Sequence length: 128<br><br>Text preview:<br>Once upon a time there was a little girl named Pam. She was very shy and never liked to be around a lot of people.\n\nSo each day, Pam would take a walk...<br><br>Token examples (context with <b>target</b> token):<br>  0: <b>Once</b> upon a time there was<br>  1: Once <b>upon</b> a time there was a<br>  2: Once upon <b>a</b> time there was a little<br>  3: Once upon a <b>time</b> there was a little girl<br>  4: Once upon a time <b>there</b> was a little girl named<br>  5: Once upon a time there <b>was</b> a little girl named Pam<br>  6: upon a time there was <b>a</b> little girl named Pam.<br>  7: a time there was a <b>little</b> girl named Pam. She",
                    "Sample 170<br>Sequence length: 128<br><br>Text preview:<br>Once upon a time there was a brilliant engine who lived in a car. One day, the car drove to a special place with a lot of cars. The engine met many ot...<br><br>Token examples (context with <b>target</b> token):<br>  0: <b>Once</b> upon a time there was<br>  1: Once <b>upon</b> a time there was a<br>  2: Once upon <b>a</b> time there was a brilliant<br>  3: Once upon a <b>time</b> there was a brilliant engine<br>  4: Once upon a time <b>there</b> was a brilliant engine who<br>  5: Once upon a time there <b>was</b> a brilliant engine who lived<br>  6: upon a time there was <b>a</b> brilliant engine who lived in<br>  7: a time there was a <b>brilliant</b> engine who lived in a",
                    "Sample 2265<br>Sequence length: 128<br><br>Text preview:<br>Lily loved to watch the sky when it was stormy. She liked to see the big clouds and hear the loud thunder. Sometimes, she saw bright flashes of lightn...<br><br>Token examples (context with <b>target</b> token):<br>  0: <b>Lily</b> loved to watch the<br>  1: Lily <b>loved</b> to watch the sky<br>  2: Lily loved <b>to</b> watch the sky when<br>  3: Lily loved to <b>watch</b> the sky when it<br>  4: Lily loved to watch <b>the</b> sky when it was<br>  5: Lily loved to watch the <b>sky</b> when it was storm<br>  6: ily loved to watch the <b>sky</b> when it was stormy<br>  7: loved to watch the sky <b>when</b> it was stormy.",
                    "Sample 1444<br>Sequence length: 128<br><br>Text preview:<br>One day, a small boy named Tim and his soft toy, Bunny, went for a walk. They saw a big tree with many turns. Tim and Bunny wanted to climb the tree.\n...<br><br>Token examples (context with <b>target</b> token):<br>  0: <b>One</b> day, a small boy<br>  1: One <b>day,</b> a small boy named<br>  2: One day, <b>a</b> small boy named Tim<br>  3: One day, a <b>small</b> boy named Tim and<br>  4: One day, a small <b>boy</b> named Tim and his<br>  5: One day, a small boy <b>named</b> Tim and his soft<br>  6: day, a small boy named <b>Tim</b> and his soft toy<br>  7: , a small boy named <b>Tim</b> and his soft toy,",
                    "Sample 393<br>Sequence length: 128<br><br>Text preview:<br>Once upon a time there was a little girl named Jack. She was four years old and loved playing outside.\n\nOne day, Jack went outside to play. Suddenly, ...<br><br>Token examples (context with <b>target</b> token):<br>  0: <b>Once</b> upon a time there was<br>  1: Once <b>upon</b> a time there was a<br>  2: Once upon <b>a</b> time there was a little<br>  3: Once upon a <b>time</b> there was a little girl<br>  4: Once upon a time <b>there</b> was a little girl named<br>  5: Once upon a time there <b>was</b> a little girl named Jack<br>  6: upon a time there was <b>a</b> little girl named Jack.<br>  7: a time there was a <b>little</b> girl named Jack. She",
                    "Sample 1658<br>Sequence length: 128<br><br>Text preview:<br>Once there was a girl named Mabel. She was only three years old and loved playing with her friends.\n\nOne day, Mabel went to the store with her mom. In...<br><br>Token examples (context with <b>target</b> token):<br>  0: <b>Once</b> there was a girl named<br>  1: Once <b>there</b> was a girl named M<br>  2: Once there <b>was</b> a girl named Mabel<br>  3: Once there was <b>a</b> girl named Mabel.<br>  4: Once there was a <b>girl</b> named Mabel. She<br>  5: Once there was a girl <b>named</b> Mabel. She was<br>  6: there was a girl named <b>Mabel.</b> She was only<br>  7: was a girl named Mabel. <b>She</b> was only three",
                    "Sample 58<br>Sequence length: 128<br><br>Text preview:<br>Once, there was a small boy named Charlie. Charlie loved stories more than anything else. Charlie's mommy always said that stories were special and de...<br><br>Token examples (context with <b>target</b> token):<br>  0: <b>Once,</b> there was a small<br>  1: Once, <b>there</b> was a small boy<br>  2: Once, there <b>was</b> a small boy named<br>  3: Once, there was <b>a</b> small boy named Charlie<br>  4: Once, there was a <b>small</b> boy named Charlie.<br>  5: Once, there was a small <b>boy</b> named Charlie. Charlie<br>  6: , there was a small <b>boy</b> named Charlie. Charlie loved<br>  7: there was a small boy <b>named</b> Charlie. Charlie loved stories",
                    "Sample 46<br>Sequence length: 128<br><br>Text preview:<br>Once upon a time, in a small town, there lived a humble girl named Lily. She loved to give and help others. One day, she saw an old lady who looked sa...<br><br>Token examples (context with <b>target</b> token):<br>  0: <b>Once</b> upon a time, in<br>  1: Once <b>upon</b> a time, in a<br>  2: Once upon <b>a</b> time, in a small<br>  3: Once upon a <b>time,</b> in a small town<br>  4: Once upon a time, <b>in</b> a small town,<br>  5: Once upon a time, in <b>a</b> small town, there<br>  6: upon a time, in a <b>small</b> town, there lived<br>  7: a time, in a small <b>town,</b> there lived a",
                    "Sample 2424<br>Sequence length: 128<br><br>Text preview:<br>Once upon a time, there was a little girl named Lily. She loved music and always wanted to play the flute. One day, her mommy bought her a flute and s...<br><br>Token examples (context with <b>target</b> token):<br>  0: <b>Once</b> upon a time, there<br>  1: Once <b>upon</b> a time, there was<br>  2: Once upon <b>a</b> time, there was a<br>  3: Once upon a <b>time,</b> there was a little<br>  4: Once upon a time, <b>there</b> was a little girl<br>  5: Once upon a time, there <b>was</b> a little girl named<br>  6: upon a time, there was <b>a</b> little girl named Lily<br>  7: a time, there was a <b>little</b> girl named Lily.",
                    "Sample 1047<br>Sequence length: 128<br><br>Text preview:<br>Once upon a time, there was a little bunny named Benny. Benny loved to play and have fun all day long. One day, Benny was hopping through the forest w...<br><br>Token examples (context with <b>target</b> token):<br>  0: <b>Once</b> upon a time, there<br>  1: Once <b>upon</b> a time, there was<br>  2: Once upon <b>a</b> time, there was a<br>  3: Once upon a <b>time,</b> there was a little<br>  4: Once upon a time, <b>there</b> was a little bunny<br>  5: Once upon a time, there <b>was</b> a little bunny named<br>  6: upon a time, there was <b>a</b> little bunny named Benny<br>  7: a time, there was a <b>little</b> bunny named Benny.",
                    "Sample 1526<br>Sequence length: 128<br><br>Text preview:<br>The bald man sat in his chair, holding a journal. He was wearing a big, red hat and looked very serious. He read the journal for a long time. Suddenly...<br><br>Token examples (context with <b>target</b> token):<br>  0: <b>The</b> bald man sat in his<br>  1: The <b>bald</b> man sat in his chair<br>  2: The bald <b>man</b> sat in his chair,<br>  3: The bald man <b>sat</b> in his chair, holding<br>  4: The bald man sat <b>in</b> his chair, holding a<br>  5: The bald man sat in <b>his</b> chair, holding a journal<br>  6: bald man sat in his <b>chair,</b> holding a journal.<br>  7: man sat in his chair, <b>holding</b> a journal. He",
                    "Sample 1031<br>Sequence length: 128<br><br>Text preview:<br>Once upon a time, there was a little girl named Lily. She loved to play dress-up and wear pretty clothes. Her mommy had a big box of clothes that Lily...<br><br>Token examples (context with <b>target</b> token):<br>  0: <b>Once</b> upon a time, there<br>  1: Once <b>upon</b> a time, there was<br>  2: Once upon <b>a</b> time, there was a<br>  3: Once upon a <b>time,</b> there was a little<br>  4: Once upon a time, <b>there</b> was a little girl<br>  5: Once upon a time, there <b>was</b> a little girl named<br>  6: upon a time, there was <b>a</b> little girl named Lily<br>  7: a time, there was a <b>little</b> girl named Lily.",
                    "Sample 106<br>Sequence length: 128<br><br>Text preview:<br>Once upon a time, there was a little girl named Molly. She was very worried, because she had lost her favorite toy. One night, while she was crying in...<br><br>Token examples (context with <b>target</b> token):<br>  0: <b>Once</b> upon a time, there<br>  1: Once <b>upon</b> a time, there was<br>  2: Once upon <b>a</b> time, there was a<br>  3: Once upon a <b>time,</b> there was a little<br>  4: Once upon a time, <b>there</b> was a little girl<br>  5: Once upon a time, there <b>was</b> a little girl named<br>  6: upon a time, there was <b>a</b> little girl named Molly<br>  7: a time, there was a <b>little</b> girl named Molly.",
                    "Sample 869<br>Sequence length: 128<br><br>Text preview:<br>Once upon a time, there was a big red ball. The ball was very bouncy and fun to play with. But one day, the ball got a hole in it and it couldn't boun...<br><br>Token examples (context with <b>target</b> token):<br>  0: <b>Once</b> upon a time, there<br>  1: Once <b>upon</b> a time, there was<br>  2: Once upon <b>a</b> time, there was a<br>  3: Once upon a <b>time,</b> there was a big<br>  4: Once upon a time, <b>there</b> was a big red<br>  5: Once upon a time, there <b>was</b> a big red ball<br>  6: upon a time, there was <b>a</b> big red ball.<br>  7: a time, there was a <b>big</b> red ball. The",
                    "Sample 26<br>Sequence length: 128<br><br>Text preview:<br>Once upon a time, there was a smelly old tree. By the tree, there was a big hole. In the hole, there was a shiny coin. A boy named Tim saw the coin an...<br><br>Token examples (context with <b>target</b> token):<br>  0: <b>Once</b> upon a time, there<br>  1: Once <b>upon</b> a time, there was<br>  2: Once upon <b>a</b> time, there was a<br>  3: Once upon a <b>time,</b> there was a sm<br>  4: Once upon a time, <b>there</b> was a smelly<br>  5: Once upon a time, there <b>was</b> a smelly old<br>  6: upon a time, there was <b>a</b> smelly old tree<br>  7: a time, there was a <b>smelly</b> old tree.",
                    "Sample 69<br>Sequence length: 128<br><br>Text preview:<br>Once there was a naughty little girl. She was very naughty and always misbehaving. One day she do something very naughty. She took her daddyâ€™s tie a...<br><br>Token examples (context with <b>target</b> token):<br>  0: <b>Once</b> there was a naughty little<br>  1: Once <b>there</b> was a naughty little girl<br>  2: Once there <b>was</b> a naughty little girl.<br>  3: Once there was <b>a</b> naughty little girl. She<br>  4: Once there was a <b>naughty</b> little girl. She was<br>  5: Once there was a naughty <b>little</b> girl. She was very<br>  6: there was a naughty little <b>girl.</b> She was very naughty<br>  7: was a naughty little girl. <b>She</b> was very naughty and",
                    "Sample 1789<br>Sequence length: 128<br><br>Text preview:<br>John had a lovely sister. He loved to play with her and they were the best of friends.\n\nOne day, John's sister got sick and had to stay in bed. John w...<br><br>Token examples (context with <b>target</b> token):<br>  0: <b>John</b> had a lovely sister.<br>  1: John <b>had</b> a lovely sister. He<br>  2: John had <b>a</b> lovely sister. He loved<br>  3: John had a <b>lovely</b> sister. He loved to<br>  4: John had a lovely <b>sister.</b> He loved to play<br>  5: John had a lovely sister. <b>He</b> loved to play with<br>  6: had a lovely sister. He <b>loved</b> to play with her<br>  7: a lovely sister. He loved <b>to</b> play with her and",
                    "Sample 1971<br>Sequence length: 128<br><br>Text preview:<br>Once upon a time, there was a little girl named Abby. Abby was three years old and she was playing in the garden one day.\nSuddenly, dark clouds starte...<br><br>Token examples (context with <b>target</b> token):<br>  0: <b>Once</b> upon a time, there<br>  1: Once <b>upon</b> a time, there was<br>  2: Once upon <b>a</b> time, there was a<br>  3: Once upon a <b>time,</b> there was a little<br>  4: Once upon a time, <b>there</b> was a little girl<br>  5: Once upon a time, there <b>was</b> a little girl named<br>  6: upon a time, there was <b>a</b> little girl named Abby<br>  7: a time, there was a <b>little</b> girl named Abby.",
                    "Sample 2202<br>Sequence length: 128<br><br>Text preview:<br>Once upon a time, there was a little boy named Timmy. Timmy loved to play with his toys all day long. He had a big toy box where he kept all his toys....<br><br>Token examples (context with <b>target</b> token):<br>  0: <b>Once</b> upon a time, there<br>  1: Once <b>upon</b> a time, there was<br>  2: Once upon <b>a</b> time, there was a<br>  3: Once upon a <b>time,</b> there was a little<br>  4: Once upon a time, <b>there</b> was a little boy<br>  5: Once upon a time, there <b>was</b> a little boy named<br>  6: upon a time, there was <b>a</b> little boy named Tim<br>  7: a time, there was a <b>little</b> boy named Timmy",
                    "Sample 1325<br>Sequence length: 128<br><br>Text preview:<br>Once upon a time, there lived two friends. They were very excited to have a dance party.\n\nSo, they went to a big house. It was an unusual house becaus...<br><br>Token examples (context with <b>target</b> token):<br>  0: <b>Once</b> upon a time, there<br>  1: Once <b>upon</b> a time, there lived<br>  2: Once upon <b>a</b> time, there lived two<br>  3: Once upon a <b>time,</b> there lived two friends<br>  4: Once upon a time, <b>there</b> lived two friends.<br>  5: Once upon a time, there <b>lived</b> two friends. They<br>  6: upon a time, there lived <b>two</b> friends. They were<br>  7: a time, there lived two <b>friends.</b> They were very",
                    "Sample 2486<br>Sequence length: 128<br><br>Text preview:<br>Once upon a time, there was a little girl named Lily. She loved to play outside in the park with her friends. One day, Lily found a shiny coin on the ...<br><br>Token examples (context with <b>target</b> token):<br>  0: <b>Once</b> upon a time, there<br>  1: Once <b>upon</b> a time, there was<br>  2: Once upon <b>a</b> time, there was a<br>  3: Once upon a <b>time,</b> there was a little<br>  4: Once upon a time, <b>there</b> was a little girl<br>  5: Once upon a time, there <b>was</b> a little girl named<br>  6: upon a time, there was <b>a</b> little girl named Lily<br>  7: a time, there was a <b>little</b> girl named Lily.",
                    "Sample 543<br>Sequence length: 128<br><br>Text preview:<br>Once there was a little girl who wanted to do something special. She had a box of pretty ornaments that she wanted to take somewhere. She was so glad ...<br><br>Token examples (context with <b>target</b> token):<br>  0: <b>Once</b> there was a little girl<br>  1: Once <b>there</b> was a little girl who<br>  2: Once there <b>was</b> a little girl who wanted<br>  3: Once there was <b>a</b> little girl who wanted to<br>  4: Once there was a <b>little</b> girl who wanted to do<br>  5: Once there was a little <b>girl</b> who wanted to do something<br>  6: there was a little girl <b>who</b> wanted to do something special<br>  7: was a little girl who <b>wanted</b> to do something special.",
                    "Sample 1582<br>Sequence length: 128<br><br>Text preview:<br>Once upon a time there was a wealthy princess. She was always in a hurry to go out and have fun.\n\nOne day, she asked her maid for some special makeup....<br><br>Token examples (context with <b>target</b> token):<br>  0: <b>Once</b> upon a time there was<br>  1: Once <b>upon</b> a time there was a<br>  2: Once upon <b>a</b> time there was a wealthy<br>  3: Once upon a <b>time</b> there was a wealthy princess<br>  4: Once upon a time <b>there</b> was a wealthy princess.<br>  5: Once upon a time there <b>was</b> a wealthy princess. She<br>  6: upon a time there was <b>a</b> wealthy princess. She was<br>  7: a time there was a <b>wealthy</b> princess. She was always",
                    "Sample 2080<br>Sequence length: 128<br><br>Text preview:<br>John was walking with his daddy along a beach. He could hear the waves crashing against the shore. Suddenly, he spotted a dolphin. He was so excited t...<br><br>Token examples (context with <b>target</b> token):<br>  0: <b>John</b> was walking with his daddy<br>  1: John <b>was</b> walking with his daddy along<br>  2: John was <b>walking</b> with his daddy along a<br>  3: John was walking <b>with</b> his daddy along a beach<br>  4: John was walking with <b>his</b> daddy along a beach.<br>  5: John was walking with his <b>daddy</b> along a beach. He<br>  6: was walking with his daddy <b>along</b> a beach. He could<br>  7: walking with his daddy along <b>a</b> beach. He could hear",
                    "Sample 2001<br>Sequence length: 128<br><br>Text preview:<br>One day there was a little boy. His name was Mark. He was only three years old. He was with his mom and dad. They were going to the park.\n\nMark was so...<br><br>Token examples (context with <b>target</b> token):<br>  0: <b>One</b> day there was a little<br>  1: One <b>day</b> there was a little boy<br>  2: One day <b>there</b> was a little boy.<br>  3: One day there <b>was</b> a little boy. His<br>  4: One day there was <b>a</b> little boy. His name<br>  5: One day there was a <b>little</b> boy. His name was<br>  6: day there was a little <b>boy.</b> His name was Mark<br>  7: there was a little boy. <b>His</b> name was Mark.",
                    "Sample 2002<br>Sequence length: 128<br><br>Text preview:<br>Katy and her dad were in the garden. Katy's dad took out a microscope. He looked at Katy with a thoughtful face and said, \"Let's look at the plants in...<br><br>Token examples (context with <b>target</b> token):<br>  0: <b>Katy</b> and her dad were<br>  1: Katy <b>and</b> her dad were in<br>  2: Katy and <b>her</b> dad were in the<br>  3: Katy and her <b>dad</b> were in the garden<br>  4: Katy and her dad <b>were</b> in the garden.<br>  5: Katy and her dad were <b>in</b> the garden. Katy<br>  6: y and her dad were <b>in</b> the garden. Katy's<br>  7: and her dad were in <b>the</b> garden. Katy's dad",
                    "Sample 1472<br>Sequence length: 128<br><br>Text preview:<br>One day, a girl named Ann and her sister, Jane, went to the park. They saw a man playing a drum. They liked the sound and started to clap. The man smi...<br><br>Token examples (context with <b>target</b> token):<br>  0: <b>One</b> day, a girl named<br>  1: One <b>day,</b> a girl named Ann<br>  2: One day, <b>a</b> girl named Ann and<br>  3: One day, a <b>girl</b> named Ann and her<br>  4: One day, a girl <b>named</b> Ann and her sister<br>  5: One day, a girl named <b>Ann</b> and her sister,<br>  6: day, a girl named Ann <b>and</b> her sister, Jane<br>  7: , a girl named Ann <b>and</b> her sister, Jane,",
                    "Sample 1438<br>Sequence length: 128<br><br>Text preview:<br>Once upon a time, in a small town, there was a big black balloon. It was a very special balloon. It could fly high up in the sky.\n\nOne sunny day, a li...<br><br>Token examples (context with <b>target</b> token):<br>  0: <b>Once</b> upon a time, in<br>  1: Once <b>upon</b> a time, in a<br>  2: Once upon <b>a</b> time, in a small<br>  3: Once upon a <b>time,</b> in a small town<br>  4: Once upon a time, <b>in</b> a small town,<br>  5: Once upon a time, in <b>a</b> small town, there<br>  6: upon a time, in a <b>small</b> town, there was<br>  7: a time, in a small <b>town,</b> there was a",
                    "Sample 1969<br>Sequence length: 128<br><br>Text preview:<br>There were two best friends. One day, one of them suggested going on a ship. The other one was jealous and said no. The friend suggested again, but th...<br><br>Token examples (context with <b>target</b> token):<br>  0: <b>There</b> were two best friends.<br>  1: There <b>were</b> two best friends. One<br>  2: There were <b>two</b> best friends. One day<br>  3: There were two <b>best</b> friends. One day,<br>  4: There were two best <b>friends.</b> One day, one<br>  5: There were two best friends. <b>One</b> day, one of<br>  6: were two best friends. One <b>day,</b> one of them<br>  7: two best friends. One day, <b>one</b> of them suggested",
                    "Sample 2339<br>Sequence length: 128<br><br>Text preview:<br>Lily and Max were friends who liked to play with blocks. They could build towers, bridges, and houses with their blocks. One day, they decided to make...<br><br>Token examples (context with <b>target</b> token):<br>  0: <b>Lily</b> and Max were friends<br>  1: Lily <b>and</b> Max were friends who<br>  2: Lily and <b>Max</b> were friends who liked<br>  3: Lily and Max <b>were</b> friends who liked to<br>  4: Lily and Max were <b>friends</b> who liked to play<br>  5: Lily and Max were friends <b>who</b> liked to play with<br>  6: ily and Max were friends <b>who</b> liked to play with blocks<br>  7: and Max were friends who <b>liked</b> to play with blocks.",
                    "Sample 1102<br>Sequence length: 128<br><br>Text preview:<br>Mama and baby were in the car. They were going to the grocery. Mama was tired, but baby was excited. They drove to the grocery and Mama got out of the...<br><br>Token examples (context with <b>target</b> token):<br>  0: <b>Mama</b> and baby were in<br>  1: Mama <b>and</b> baby were in the<br>  2: Mama and <b>baby</b> were in the car<br>  3: Mama and baby <b>were</b> in the car.<br>  4: Mama and baby were <b>in</b> the car. They<br>  5: Mama and baby were in <b>the</b> car. They were<br>  6: ama and baby were in <b>the</b> car. They were going<br>  7: and baby were in the <b>car.</b> They were going to",
                    "Sample 1324<br>Sequence length: 128<br><br>Text preview:<br>Once upon a time there was a chubby bunny named Pancake. Pancake lived in the woods with her friends, but she was having a problem. Pancake was feelin...<br><br>Token examples (context with <b>target</b> token):<br>  0: <b>Once</b> upon a time there was<br>  1: Once <b>upon</b> a time there was a<br>  2: Once upon <b>a</b> time there was a ch<br>  3: Once upon a <b>time</b> there was a chubby<br>  4: Once upon a time <b>there</b> was a chubby bunny<br>  5: Once upon a time there <b>was</b> a chubby bunny named<br>  6: upon a time there was <b>a</b> chubby bunny named Panc<br>  7: a time there was a <b>chubby</b> bunny named Pancake",
                    "Sample 1852<br>Sequence length: 128<br><br>Text preview:<br>Maisy was a 3 year old girl who wanted to succeed. She wanted to be like her parents and do something special. She thought about it for a long time. \n...<br><br>Token examples (context with <b>target</b> token):<br>  0: <b>Maisy</b> was a 3 year<br>  1: Maisy <b>was</b> a 3 year old<br>  2: Maisy was <b>a</b> 3 year old girl<br>  3: Maisy was a <b>3</b> year old girl who<br>  4: Maisy was a 3 <b>year</b> old girl who wanted<br>  5: Maisy was a 3 year <b>old</b> girl who wanted to<br>  6: isy was a 3 year <b>old</b> girl who wanted to succeed<br>  7: was a 3 year old <b>girl</b> who wanted to succeed.",
                    "Sample 2018<br>Sequence length: 128<br><br>Text preview:<br>Once upon a time there was a boy named Alex. He wanted so much to eat some chocolate but his mom said he had to wait. Alex was very impatient. \n\nHe as...<br><br>Token examples (context with <b>target</b> token):<br>  0: <b>Once</b> upon a time there was<br>  1: Once <b>upon</b> a time there was a<br>  2: Once upon <b>a</b> time there was a boy<br>  3: Once upon a <b>time</b> there was a boy named<br>  4: Once upon a time <b>there</b> was a boy named Alex<br>  5: Once upon a time there <b>was</b> a boy named Alex.<br>  6: upon a time there was <b>a</b> boy named Alex. He<br>  7: a time there was a <b>boy</b> named Alex. He wanted",
                    "Sample 832<br>Sequence length: 128<br><br>Text preview:<br>Once upon a time, there was a boy named Timmy. Timmy had an ordinary day playing with his toys until he heard a loud snap. It was his sister, Sally, w...<br><br>Token examples (context with <b>target</b> token):<br>  0: <b>Once</b> upon a time, there<br>  1: Once <b>upon</b> a time, there was<br>  2: Once upon <b>a</b> time, there was a<br>  3: Once upon a <b>time,</b> there was a boy<br>  4: Once upon a time, <b>there</b> was a boy named<br>  5: Once upon a time, there <b>was</b> a boy named Tim<br>  6: upon a time, there was <b>a</b> boy named Timmy<br>  7: a time, there was a <b>boy</b> named Timmy.",
                    "Sample 1997<br>Sequence length: 128<br><br>Text preview:<br>John saw something cute on the other side of the playground. He wanted to know what it was. He ran to the other side and saw a prize. He wanted it! He...<br><br>Token examples (context with <b>target</b> token):<br>  0: <b>John</b> saw something cute on the<br>  1: John <b>saw</b> something cute on the other<br>  2: John saw <b>something</b> cute on the other side<br>  3: John saw something <b>cute</b> on the other side of<br>  4: John saw something cute <b>on</b> the other side of the<br>  5: John saw something cute on <b>the</b> other side of the playground<br>  6: saw something cute on the <b>other</b> side of the playground.<br>  7: something cute on the other <b>side</b> of the playground. He",
                    "Sample 2404<br>Sequence length: 128<br><br>Text preview:<br>Once upon a time, there was a little boy named Tom. Tom loved to play with his toys and cuddle with his favorite blanket. Every night, Tom's mom would...<br><br>Token examples (context with <b>target</b> token):<br>  0: <b>Once</b> upon a time, there<br>  1: Once <b>upon</b> a time, there was<br>  2: Once upon <b>a</b> time, there was a<br>  3: Once upon a <b>time,</b> there was a little<br>  4: Once upon a time, <b>there</b> was a little boy<br>  5: Once upon a time, there <b>was</b> a little boy named<br>  6: upon a time, there was <b>a</b> little boy named Tom<br>  7: a time, there was a <b>little</b> boy named Tom.",
                    "Sample 1116<br>Sequence length: 128<br><br>Text preview:<br>Once upon a time there was a boy named Youth. He was only three years old and had soft, curly hair. One day, Youth decided to go exploring. He touched...<br><br>Token examples (context with <b>target</b> token):<br>  0: <b>Once</b> upon a time there was<br>  1: Once <b>upon</b> a time there was a<br>  2: Once upon <b>a</b> time there was a boy<br>  3: Once upon a <b>time</b> there was a boy named<br>  4: Once upon a time <b>there</b> was a boy named Youth<br>  5: Once upon a time there <b>was</b> a boy named Youth.<br>  6: upon a time there was <b>a</b> boy named Youth. He<br>  7: a time there was a <b>boy</b> named Youth. He was",
                    "Sample 54<br>Sequence length: 128<br><br>Text preview:<br>Once, there was a girl. She had a garage. Inside the garage she kept her toys.\n\nOne day, the girl noticed something was wrong with her toys. She went ...<br><br>Token examples (context with <b>target</b> token):<br>  0: <b>Once,</b> there was a girl<br>  1: Once, <b>there</b> was a girl.<br>  2: Once, there <b>was</b> a girl. She<br>  3: Once, there was <b>a</b> girl. She had<br>  4: Once, there was a <b>girl.</b> She had a<br>  5: Once, there was a girl. <b>She</b> had a garage<br>  6: , there was a girl. <b>She</b> had a garage.<br>  7: there was a girl. She <b>had</b> a garage. Inside",
                    "Sample 2311<br>Sequence length: 128<br><br>Text preview:<br>Anna and Ben are playing with their toys in the living room. Anna has a doll and Ben has a car. They are having fun making noises and moving their toy...<br><br>Token examples (context with <b>target</b> token):<br>  0: <b>Anna</b> and Ben are playing with<br>  1: Anna <b>and</b> Ben are playing with their<br>  2: Anna and <b>Ben</b> are playing with their toys<br>  3: Anna and Ben <b>are</b> playing with their toys in<br>  4: Anna and Ben are <b>playing</b> with their toys in the<br>  5: Anna and Ben are playing <b>with</b> their toys in the living<br>  6: and Ben are playing with <b>their</b> toys in the living room<br>  7: Ben are playing with their <b>toys</b> in the living room.",
                    "Sample 1765<br>Sequence length: 128<br><br>Text preview:<br>Once upon a time there was a girl named Sally. Sally was very smart and she wanted to test her skills. She wanted to see if she could be successful.\n\n...<br><br>Token examples (context with <b>target</b> token):<br>  0: <b>Once</b> upon a time there was<br>  1: Once <b>upon</b> a time there was a<br>  2: Once upon <b>a</b> time there was a girl<br>  3: Once upon a <b>time</b> there was a girl named<br>  4: Once upon a time <b>there</b> was a girl named Sally<br>  5: Once upon a time there <b>was</b> a girl named Sally.<br>  6: upon a time there was <b>a</b> girl named Sally. Sally<br>  7: a time there was a <b>girl</b> named Sally. Sally was",
                    "Sample 1262<br>Sequence length: 128<br><br>Text preview:<br>Once there was a young boy named Jim. He was playing outside on a beautiful day. He was admiring all the colourful things around him. Then he noticed ...<br><br>Token examples (context with <b>target</b> token):<br>  0: <b>Once</b> there was a young boy<br>  1: Once <b>there</b> was a young boy named<br>  2: Once there <b>was</b> a young boy named Jim<br>  3: Once there was <b>a</b> young boy named Jim.<br>  4: Once there was a <b>young</b> boy named Jim. He<br>  5: Once there was a young <b>boy</b> named Jim. He was<br>  6: there was a young boy <b>named</b> Jim. He was playing<br>  7: was a young boy named <b>Jim.</b> He was playing outside",
                    "Sample 1470<br>Sequence length: 128<br><br>Text preview:<br>Once upon a time, there was a funny dog named Spot. Spot loved to play all day long. In the evening, when the sun went down, Spot would go home to his...<br><br>Token examples (context with <b>target</b> token):<br>  0: <b>Once</b> upon a time, there<br>  1: Once <b>upon</b> a time, there was<br>  2: Once upon <b>a</b> time, there was a<br>  3: Once upon a <b>time,</b> there was a funny<br>  4: Once upon a time, <b>there</b> was a funny dog<br>  5: Once upon a time, there <b>was</b> a funny dog named<br>  6: upon a time, there was <b>a</b> funny dog named Spot<br>  7: a time, there was a <b>funny</b> dog named Spot.",
                    "Sample 2090<br>Sequence length: 128<br><br>Text preview:<br>Mama and Jack were very excited. They had just moved into a new house. Jack was only three so he couldn't help much, but he watched as Mama unpacked a...<br><br>Token examples (context with <b>target</b> token):<br>  0: <b>Mama</b> and Jack were very<br>  1: Mama <b>and</b> Jack were very excited<br>  2: Mama and <b>Jack</b> were very excited.<br>  3: Mama and Jack <b>were</b> very excited. They<br>  4: Mama and Jack were <b>very</b> excited. They had<br>  5: Mama and Jack were very <b>excited.</b> They had just<br>  6: ama and Jack were very <b>excited.</b> They had just moved<br>  7: and Jack were very excited. <b>They</b> had just moved into",
                    "Sample 717<br>Sequence length: 128<br><br>Text preview:<br>Lily and Ben were hungry. They wanted to eat something yummy. They went to the kitchen and looked at the fridge. The fridge was big and cold. It had a...<br><br>Token examples (context with <b>target</b> token):<br>  0: <b>Lily</b> and Ben were hungry<br>  1: Lily <b>and</b> Ben were hungry.<br>  2: Lily and <b>Ben</b> were hungry. They<br>  3: Lily and Ben <b>were</b> hungry. They wanted<br>  4: Lily and Ben were <b>hungry.</b> They wanted to<br>  5: Lily and Ben were hungry. <b>They</b> wanted to eat<br>  6: ily and Ben were hungry. <b>They</b> wanted to eat something<br>  7: and Ben were hungry. They <b>wanted</b> to eat something y",
                    "Sample 675<br>Sequence length: 128<br><br>Text preview:<br>Once upon a time, there was a little girl named Lily. She loved to take naps in her cozy bed every day. One afternoon, while she was taking her nap, s...<br><br>Token examples (context with <b>target</b> token):<br>  0: <b>Once</b> upon a time, there<br>  1: Once <b>upon</b> a time, there was<br>  2: Once upon <b>a</b> time, there was a<br>  3: Once upon a <b>time,</b> there was a little<br>  4: Once upon a time, <b>there</b> was a little girl<br>  5: Once upon a time, there <b>was</b> a little girl named<br>  6: upon a time, there was <b>a</b> little girl named Lily<br>  7: a time, there was a <b>little</b> girl named Lily.",
                    "Sample 1702<br>Sequence length: 128<br><br>Text preview:<br>Once upon a time there was a field. It was green and very big. In the middle of the field was a surprise. It was a flower! It was so pretty and it was...<br><br>Token examples (context with <b>target</b> token):<br>  0: <b>Once</b> upon a time there was<br>  1: Once <b>upon</b> a time there was a<br>  2: Once upon <b>a</b> time there was a field<br>  3: Once upon a <b>time</b> there was a field.<br>  4: Once upon a time <b>there</b> was a field. It<br>  5: Once upon a time there <b>was</b> a field. It was<br>  6: upon a time there was <b>a</b> field. It was green<br>  7: a time there was a <b>field.</b> It was green and",
                    "Sample 423<br>Sequence length: 128<br><br>Text preview:<br>Once upon a time, there was a wide meadow. All different animals lived in the meadow together. They all ate the same food, played together and had pea...<br><br>Token examples (context with <b>target</b> token):<br>  0: <b>Once</b> upon a time, there<br>  1: Once <b>upon</b> a time, there was<br>  2: Once upon <b>a</b> time, there was a<br>  3: Once upon a <b>time,</b> there was a wide<br>  4: Once upon a time, <b>there</b> was a wide me<br>  5: Once upon a time, there <b>was</b> a wide meadow<br>  6: upon a time, there was <b>a</b> wide meadow.<br>  7: a time, there was a <b>wide</b> meadow. All",
                    "Sample 2135<br>Sequence length: 128<br><br>Text preview:<br>Lily and Ben were friends who liked to play with toys. They had a toy phone that could record their voices. They liked to pretend they were talking to...<br><br>Token examples (context with <b>target</b> token):<br>  0: <b>Lily</b> and Ben were friends<br>  1: Lily <b>and</b> Ben were friends who<br>  2: Lily and <b>Ben</b> were friends who liked<br>  3: Lily and Ben <b>were</b> friends who liked to<br>  4: Lily and Ben were <b>friends</b> who liked to play<br>  5: Lily and Ben were friends <b>who</b> liked to play with<br>  6: ily and Ben were friends <b>who</b> liked to play with toys<br>  7: and Ben were friends who <b>liked</b> to play with toys.",
                    "Sample 1408<br>Sequence length: 128<br><br>Text preview:<br>Once upon a time, there was a little boy named Tim. Tim liked to play with his glow toy at night. He would run around the house, making the toy glow i...<br><br>Token examples (context with <b>target</b> token):<br>  0: <b>Once</b> upon a time, there<br>  1: Once <b>upon</b> a time, there was<br>  2: Once upon <b>a</b> time, there was a<br>  3: Once upon a <b>time,</b> there was a little<br>  4: Once upon a time, <b>there</b> was a little boy<br>  5: Once upon a time, there <b>was</b> a little boy named<br>  6: upon a time, there was <b>a</b> little boy named Tim<br>  7: a time, there was a <b>little</b> boy named Tim.",
                    "Sample 1156<br>Sequence length: 128<br><br>Text preview:<br>Once upon a time there were two friends, Jake and Sue, who lived in a tiny universe. One day, Jake thought it would be fun to test their universe. He ...<br><br>Token examples (context with <b>target</b> token):<br>  0: <b>Once</b> upon a time there were<br>  1: Once <b>upon</b> a time there were two<br>  2: Once upon <b>a</b> time there were two friends<br>  3: Once upon a <b>time</b> there were two friends,<br>  4: Once upon a time <b>there</b> were two friends, Jake<br>  5: Once upon a time there <b>were</b> two friends, Jake and<br>  6: upon a time there were <b>two</b> friends, Jake and Sue<br>  7: a time there were two <b>friends,</b> Jake and Sue,",
                    "Sample 318<br>Sequence length: 128<br><br>Text preview:<br>One day, John was playing outside in the rain. He splashed in puddles and kicked up mud. He was having lots of fun, and was almost completely soaked.\n...<br><br>Token examples (context with <b>target</b> token):<br>  0: <b>One</b> day, John was playing<br>  1: One <b>day,</b> John was playing outside<br>  2: One day, <b>John</b> was playing outside in<br>  3: One day, John <b>was</b> playing outside in the<br>  4: One day, John was <b>playing</b> outside in the rain<br>  5: One day, John was playing <b>outside</b> in the rain.<br>  6: day, John was playing outside <b>in</b> the rain. He<br>  7: , John was playing outside <b>in</b> the rain. He spl",
                    "Sample 839<br>Sequence length: 128<br><br>Text preview:<br>Once upon a time, there was a little girl named Lily. She loved dressing up in her costume and pretending to be a princess. One day, she wanted to sen...<br><br>Token examples (context with <b>target</b> token):<br>  0: <b>Once</b> upon a time, there<br>  1: Once <b>upon</b> a time, there was<br>  2: Once upon <b>a</b> time, there was a<br>  3: Once upon a <b>time,</b> there was a little<br>  4: Once upon a time, <b>there</b> was a little girl<br>  5: Once upon a time, there <b>was</b> a little girl named<br>  6: upon a time, there was <b>a</b> little girl named Lily<br>  7: a time, there was a <b>little</b> girl named Lily.",
                    "Sample 628<br>Sequence length: 128<br><br>Text preview:<br>Once upon a time, there was a little lock. It wasn't a fun lock, because it was all closed up, and it just looked sad and boring.\n\nThe little lock was...<br><br>Token examples (context with <b>target</b> token):<br>  0: <b>Once</b> upon a time, there<br>  1: Once <b>upon</b> a time, there was<br>  2: Once upon <b>a</b> time, there was a<br>  3: Once upon a <b>time,</b> there was a little<br>  4: Once upon a time, <b>there</b> was a little lock<br>  5: Once upon a time, there <b>was</b> a little lock.<br>  6: upon a time, there was <b>a</b> little lock. It<br>  7: a time, there was a <b>little</b> lock. It wasn",
                    "Sample 1313<br>Sequence length: 128<br><br>Text preview:<br>Once there was a wealthy robot who liked to do things in reverse. He reversed all the way to work, then he reversed all the way home again. He reverse...<br><br>Token examples (context with <b>target</b> token):<br>  0: <b>Once</b> there was a wealthy robot<br>  1: Once <b>there</b> was a wealthy robot who<br>  2: Once there <b>was</b> a wealthy robot who liked<br>  3: Once there was <b>a</b> wealthy robot who liked to<br>  4: Once there was a <b>wealthy</b> robot who liked to do<br>  5: Once there was a wealthy <b>robot</b> who liked to do things<br>  6: there was a wealthy robot <b>who</b> liked to do things in<br>  7: was a wealthy robot who <b>liked</b> to do things in reverse",
                    "Sample 185<br>Sequence length: 128<br><br>Text preview:<br>Once upon a time, there were two bears, Bob and Jenny. Bob was a young bear, and Jenny was an old bear. They were discussing the summer day.\n\n\"The sun...<br><br>Token examples (context with <b>target</b> token):<br>  0: <b>Once</b> upon a time, there<br>  1: Once <b>upon</b> a time, there were<br>  2: Once upon <b>a</b> time, there were two<br>  3: Once upon a <b>time,</b> there were two bears<br>  4: Once upon a time, <b>there</b> were two bears,<br>  5: Once upon a time, there <b>were</b> two bears, Bob<br>  6: upon a time, there were <b>two</b> bears, Bob and<br>  7: a time, there were two <b>bears,</b> Bob and Jenny",
                    "Sample 1856<br>Sequence length: 128<br><br>Text preview:<br>Once upon a time, there was a little girl called Mia. She was three years old and loved to look at the stars in the night sky. Every night, she would ...<br><br>Token examples (context with <b>target</b> token):<br>  0: <b>Once</b> upon a time, there<br>  1: Once <b>upon</b> a time, there was<br>  2: Once upon <b>a</b> time, there was a<br>  3: Once upon a <b>time,</b> there was a little<br>  4: Once upon a time, <b>there</b> was a little girl<br>  5: Once upon a time, there <b>was</b> a little girl called<br>  6: upon a time, there was <b>a</b> little girl called Mia<br>  7: a time, there was a <b>little</b> girl called Mia.",
                    "Sample 449<br>Sequence length: 128<br><br>Text preview:<br>Once there was a bug who liked to twist. Every day the bug would twist and twist, until one day something bad happened. The bug twisted a little too m...<br><br>Token examples (context with <b>target</b> token):<br>  0: <b>Once</b> there was a bug who<br>  1: Once <b>there</b> was a bug who liked<br>  2: Once there <b>was</b> a bug who liked to<br>  3: Once there was <b>a</b> bug who liked to twist<br>  4: Once there was a <b>bug</b> who liked to twist.<br>  5: Once there was a bug <b>who</b> liked to twist. Every<br>  6: there was a bug who <b>liked</b> to twist. Every day<br>  7: was a bug who liked <b>to</b> twist. Every day the",
                    "Sample 1002<br>Sequence length: 128<br><br>Text preview:<br>Once upon a time, there was a big red truck. It was very loud and made lots of noise. One day, the truck was driving down the road and saw a little gi...<br><br>Token examples (context with <b>target</b> token):<br>  0: <b>Once</b> upon a time, there<br>  1: Once <b>upon</b> a time, there was<br>  2: Once upon <b>a</b> time, there was a<br>  3: Once upon a <b>time,</b> there was a big<br>  4: Once upon a time, <b>there</b> was a big red<br>  5: Once upon a time, there <b>was</b> a big red truck<br>  6: upon a time, there was <b>a</b> big red truck.<br>  7: a time, there was a <b>big</b> red truck. It",
                    "Sample 305<br>Sequence length: 128<br><br>Text preview:<br>John was out at the park with his family. He wanted to act brave, so he ran and jumped across the wooden bridge. But when he reached the other side, h...<br><br>Token examples (context with <b>target</b> token):<br>  0: <b>John</b> was out at the park<br>  1: John <b>was</b> out at the park with<br>  2: John was <b>out</b> at the park with his<br>  3: John was out <b>at</b> the park with his family<br>  4: John was out at <b>the</b> park with his family.<br>  5: John was out at the <b>park</b> with his family. He<br>  6: was out at the park <b>with</b> his family. He wanted<br>  7: out at the park with <b>his</b> family. He wanted to",
                    "Sample 1933<br>Sequence length: 128<br><br>Text preview:<br>Timmy was sad. His baseball had rolled away to an area he couldn't reach. Suddenly a dependable friend walked up and said, \"I can help you.\" He grabbe...<br><br>Token examples (context with <b>target</b> token):<br>  0: <b>Timmy</b> was sad. His<br>  1: Timmy <b>was</b> sad. His baseball<br>  2: Timmy was <b>sad.</b> His baseball had<br>  3: Timmy was sad. <b>His</b> baseball had rolled<br>  4: Timmy was sad. His <b>baseball</b> had rolled away<br>  5: Timmy was sad. His baseball <b>had</b> rolled away to<br>  6: my was sad. His baseball <b>had</b> rolled away to an<br>  7: was sad. His baseball had <b>rolled</b> away to an area",
                    "Sample 219<br>Sequence length: 128<br><br>Text preview:<br>One day, a little boy was playing in his garden. He was excited to feel the sun on his face and the grass beneath his feet. Suddenly, he noticed a spi...<br><br>Token examples (context with <b>target</b> token):<br>  0: <b>One</b> day, a little boy<br>  1: One <b>day,</b> a little boy was<br>  2: One day, <b>a</b> little boy was playing<br>  3: One day, a <b>little</b> boy was playing in<br>  4: One day, a little <b>boy</b> was playing in his<br>  5: One day, a little boy <b>was</b> playing in his garden<br>  6: day, a little boy was <b>playing</b> in his garden.<br>  7: , a little boy was <b>playing</b> in his garden. He",
                    "Sample 67<br>Sequence length: 128<br><br>Text preview:<br>Once upon a time, there was a caterpillar called Bill. He had 8 small legs and loved exploring in the garden.\n\nOne day, Bill was walking around when h...<br><br>Token examples (context with <b>target</b> token):<br>  0: <b>Once</b> upon a time, there<br>  1: Once <b>upon</b> a time, there was<br>  2: Once upon <b>a</b> time, there was a<br>  3: Once upon a <b>time,</b> there was a cater<br>  4: Once upon a time, <b>there</b> was a caterpillar<br>  5: Once upon a time, there <b>was</b> a caterpillar called<br>  6: upon a time, there was <b>a</b> caterpillar called Bill<br>  7: a time, there was a <b>caterpillar</b> called Bill.",
                    "Sample 1490<br>Sequence length: 128<br><br>Text preview:<br>Once upon a time, in a lovely pond, there was a swan named Lily. Lily was a very pretty swan with white feathers. She liked to swim and play with her ...<br><br>Token examples (context with <b>target</b> token):<br>  0: <b>Once</b> upon a time, in<br>  1: Once <b>upon</b> a time, in a<br>  2: Once upon <b>a</b> time, in a lovely<br>  3: Once upon a <b>time,</b> in a lovely pond<br>  4: Once upon a time, <b>in</b> a lovely pond,<br>  5: Once upon a time, in <b>a</b> lovely pond, there<br>  6: upon a time, in a <b>lovely</b> pond, there was<br>  7: a time, in a lovely <b>pond,</b> there was a",
                    "Sample 528<br>Sequence length: 128<br><br>Text preview:<br>Once there was a small tank. It was filled with water, and under the water was a little fish. It was his home. He swam around in the water, and everyt...<br><br>Token examples (context with <b>target</b> token):<br>  0: <b>Once</b> there was a small tank<br>  1: Once <b>there</b> was a small tank.<br>  2: Once there <b>was</b> a small tank. It<br>  3: Once there was <b>a</b> small tank. It was<br>  4: Once there was a <b>small</b> tank. It was filled<br>  5: Once there was a small <b>tank.</b> It was filled with<br>  6: there was a small tank. <b>It</b> was filled with water<br>  7: was a small tank. It <b>was</b> filled with water,",
                    "Sample 889<br>Sequence length: 128<br><br>Text preview:<br>Once upon a time, there was a boy named Timmy. Timmy liked to wear his red vest every day. It was his favorite vest. He wore it to school, to the park...<br><br>Token examples (context with <b>target</b> token):<br>  0: <b>Once</b> upon a time, there<br>  1: Once <b>upon</b> a time, there was<br>  2: Once upon <b>a</b> time, there was a<br>  3: Once upon a <b>time,</b> there was a boy<br>  4: Once upon a time, <b>there</b> was a boy named<br>  5: Once upon a time, there <b>was</b> a boy named Tim<br>  6: upon a time, there was <b>a</b> boy named Timmy<br>  7: a time, there was a <b>boy</b> named Timmy.",
                    "Sample 1484<br>Sequence length: 128<br><br>Text preview:<br>One day, a boy named Tim and his dog, Spot, went to the park. They saw many kids playing. Tim and Spot were very glad. They wanted to play too.\n\nTim s...<br><br>Token examples (context with <b>target</b> token):<br>  0: <b>One</b> day, a boy named<br>  1: One <b>day,</b> a boy named Tim<br>  2: One day, <b>a</b> boy named Tim and<br>  3: One day, a <b>boy</b> named Tim and his<br>  4: One day, a boy <b>named</b> Tim and his dog<br>  5: One day, a boy named <b>Tim</b> and his dog,<br>  6: day, a boy named Tim <b>and</b> his dog, Spot<br>  7: , a boy named Tim <b>and</b> his dog, Spot,",
                    "Sample 1657<br>Sequence length: 128<br><br>Text preview:<br>Once there was a brave frog. He was looking for a home. He hopped and hopped for days. Suddenly, he came to a big swamp. He felt lonely, but he decide...<br><br>Token examples (context with <b>target</b> token):<br>  0: <b>Once</b> there was a brave frog<br>  1: Once <b>there</b> was a brave frog.<br>  2: Once there <b>was</b> a brave frog. He<br>  3: Once there was <b>a</b> brave frog. He was<br>  4: Once there was a <b>brave</b> frog. He was looking<br>  5: Once there was a brave <b>frog.</b> He was looking for<br>  6: there was a brave frog. <b>He</b> was looking for a<br>  7: was a brave frog. He <b>was</b> looking for a home",
                    "Sample 1732<br>Sequence length: 128<br><br>Text preview:<br>Once upon a time, there was a little girl. She had a big toy box with lots of fun things inside. But the box was very heavy and she couldn't open it. ...<br><br>Token examples (context with <b>target</b> token):<br>  0: <b>Once</b> upon a time, there<br>  1: Once <b>upon</b> a time, there was<br>  2: Once upon <b>a</b> time, there was a<br>  3: Once upon a <b>time,</b> there was a little<br>  4: Once upon a time, <b>there</b> was a little girl<br>  5: Once upon a time, there <b>was</b> a little girl.<br>  6: upon a time, there was <b>a</b> little girl. She<br>  7: a time, there was a <b>little</b> girl. She had",
                    "Sample 1841<br>Sequence length: 128<br><br>Text preview:<br>Once upon a time, there were two best friends: Jack and Jill. Every day Jack and Jill played together in their garden.\n\nOne day, Jack had a special su...<br><br>Token examples (context with <b>target</b> token):<br>  0: <b>Once</b> upon a time, there<br>  1: Once <b>upon</b> a time, there were<br>  2: Once upon <b>a</b> time, there were two<br>  3: Once upon a <b>time,</b> there were two best<br>  4: Once upon a time, <b>there</b> were two best friends<br>  5: Once upon a time, there <b>were</b> two best friends:<br>  6: upon a time, there were <b>two</b> best friends: Jack<br>  7: a time, there were two <b>best</b> friends: Jack and",
                    "Sample 1222<br>Sequence length: 128<br><br>Text preview:<br>Once upon a time there was a rabbit. She was a very happy rabbit because she always had a big smile on her face.\n\nOne day, she decided to go for a wal...<br><br>Token examples (context with <b>target</b> token):<br>  0: <b>Once</b> upon a time there was<br>  1: Once <b>upon</b> a time there was a<br>  2: Once upon <b>a</b> time there was a rabbit<br>  3: Once upon a <b>time</b> there was a rabbit.<br>  4: Once upon a time <b>there</b> was a rabbit. She<br>  5: Once upon a time there <b>was</b> a rabbit. She was<br>  6: upon a time there was <b>a</b> rabbit. She was a<br>  7: a time there was a <b>rabbit.</b> She was a very",
                    "Sample 2207<br>Sequence length: 128<br><br>Text preview:<br>Once upon a time, there was a cat named Mittens. Mittens loved to stretch and play all day. One Wednesday, Mittens went outside to play, but it was ve...<br><br>Token examples (context with <b>target</b> token):<br>  0: <b>Once</b> upon a time, there<br>  1: Once <b>upon</b> a time, there was<br>  2: Once upon <b>a</b> time, there was a<br>  3: Once upon a <b>time,</b> there was a cat<br>  4: Once upon a time, <b>there</b> was a cat named<br>  5: Once upon a time, there <b>was</b> a cat named Mitt<br>  6: upon a time, there was <b>a</b> cat named Mittens<br>  7: a time, there was a <b>cat</b> named Mittens.",
                    "Sample 1154<br>Sequence length: 128<br><br>Text preview:<br>Once upon a time, there was a little girl called Lucy. She wanted to go on an adventure and so she packed a bag with her favourite things. She got rea...<br><br>Token examples (context with <b>target</b> token):<br>  0: <b>Once</b> upon a time, there<br>  1: Once <b>upon</b> a time, there was<br>  2: Once upon <b>a</b> time, there was a<br>  3: Once upon a <b>time,</b> there was a little<br>  4: Once upon a time, <b>there</b> was a little girl<br>  5: Once upon a time, there <b>was</b> a little girl called<br>  6: upon a time, there was <b>a</b> little girl called Lucy<br>  7: a time, there was a <b>little</b> girl called Lucy.",
                    "Sample 482<br>Sequence length: 128<br><br>Text preview:<br>Once upon a time there was a beautiful pool. It was so big and so deep and so blue. One day, a little boy named Jack was playing by the pool. He wante...<br><br>Token examples (context with <b>target</b> token):<br>  0: <b>Once</b> upon a time there was<br>  1: Once <b>upon</b> a time there was a<br>  2: Once upon <b>a</b> time there was a beautiful<br>  3: Once upon a <b>time</b> there was a beautiful pool<br>  4: Once upon a time <b>there</b> was a beautiful pool.<br>  5: Once upon a time there <b>was</b> a beautiful pool. It<br>  6: upon a time there was <b>a</b> beautiful pool. It was<br>  7: a time there was a <b>beautiful</b> pool. It was so",
                    "Sample 1283<br>Sequence length: 128<br><br>Text preview:<br>Once there was a boy. His name was Ben. One day, he went to the store with his mom. He saw some beef there. He wanted to buy it, so he asked his mom. ...<br><br>Token examples (context with <b>target</b> token):<br>  0: <b>Once</b> there was a boy.<br>  1: Once <b>there</b> was a boy. His<br>  2: Once there <b>was</b> a boy. His name<br>  3: Once there was <b>a</b> boy. His name was<br>  4: Once there was a <b>boy.</b> His name was Ben<br>  5: Once there was a boy. <b>His</b> name was Ben.<br>  6: there was a boy. His <b>name</b> was Ben. One<br>  7: was a boy. His name <b>was</b> Ben. One day",
                    "Sample 1586<br>Sequence length: 128<br><br>Text preview:<br>Once upon a time there was a little girl named Ellie who was 3 years old. \nOne day, Ellie was feeling chilly and cold so she decided to find something...<br><br>Token examples (context with <b>target</b> token):<br>  0: <b>Once</b> upon a time there was<br>  1: Once <b>upon</b> a time there was a<br>  2: Once upon <b>a</b> time there was a little<br>  3: Once upon a <b>time</b> there was a little girl<br>  4: Once upon a time <b>there</b> was a little girl named<br>  5: Once upon a time there <b>was</b> a little girl named Ellie<br>  6: upon a time there was <b>a</b> little girl named Ellie who<br>  7: a time there was a <b>little</b> girl named Ellie who was",
                    "Sample 2188<br>Sequence length: 128<br><br>Text preview:<br>Anna and Lily are sisters. They like to play with dolls and blocks. But sometimes they fight over toys. Anna wants to play with Lily's pink doll. Lily...<br><br>Token examples (context with <b>target</b> token):<br>  0: <b>Anna</b> and Lily are sisters.<br>  1: Anna <b>and</b> Lily are sisters. They<br>  2: Anna and <b>Lily</b> are sisters. They like<br>  3: Anna and Lily <b>are</b> sisters. They like to<br>  4: Anna and Lily are <b>sisters.</b> They like to play<br>  5: Anna and Lily are sisters. <b>They</b> like to play with<br>  6: and Lily are sisters. They <b>like</b> to play with dolls<br>  7: Lily are sisters. They like <b>to</b> play with dolls and",
                    "Sample 1176<br>Sequence length: 128<br><br>Text preview:<br>Once upon a time there was a dependable frog called Mary. Mary lived in a muddy pond, and every day she would hop around the pond looking for somethin...<br><br>Token examples (context with <b>target</b> token):<br>  0: <b>Once</b> upon a time there was<br>  1: Once <b>upon</b> a time there was a<br>  2: Once upon <b>a</b> time there was a depend<br>  3: Once upon a <b>time</b> there was a dependable<br>  4: Once upon a time <b>there</b> was a dependable frog<br>  5: Once upon a time there <b>was</b> a dependable frog called<br>  6: upon a time there was <b>a</b> dependable frog called Mary<br>  7: a time there was a <b>dependable</b> frog called Mary.",
                    "Sample 1530<br>Sequence length: 128<br><br>Text preview:<br>Once upon a time, there was a little girl named Jane. She was three years old and she loved to explore the world around her.\n\nOne day, Jane asked her ...<br><br>Token examples (context with <b>target</b> token):<br>  0: <b>Once</b> upon a time, there<br>  1: Once <b>upon</b> a time, there was<br>  2: Once upon <b>a</b> time, there was a<br>  3: Once upon a <b>time,</b> there was a little<br>  4: Once upon a time, <b>there</b> was a little girl<br>  5: Once upon a time, there <b>was</b> a little girl named<br>  6: upon a time, there was <b>a</b> little girl named Jane<br>  7: a time, there was a <b>little</b> girl named Jane.",
                    "Sample 1301<br>Sequence length: 128<br><br>Text preview:<br>Once upon a time there was a monkey named Pete. Pete loved to bathe. Every morning he headed over to the river and splashed around in the cool water. ...<br><br>Token examples (context with <b>target</b> token):<br>  0: <b>Once</b> upon a time there was<br>  1: Once <b>upon</b> a time there was a<br>  2: Once upon <b>a</b> time there was a monkey<br>  3: Once upon a <b>time</b> there was a monkey named<br>  4: Once upon a time <b>there</b> was a monkey named Pete<br>  5: Once upon a time there <b>was</b> a monkey named Pete.<br>  6: upon a time there was <b>a</b> monkey named Pete. Pete<br>  7: a time there was a <b>monkey</b> named Pete. Pete loved",
                    "Sample 499<br>Sequence length: 128<br><br>Text preview:<br>Once there was a little puppy named Spot. He lived in the city and was very lonely. He wanted to find a friend to play with, but he didnâ€™t know wher...<br><br>Token examples (context with <b>target</b> token):<br>  0: <b>Once</b> there was a little puppy<br>  1: Once <b>there</b> was a little puppy named<br>  2: Once there <b>was</b> a little puppy named Spot<br>  3: Once there was <b>a</b> little puppy named Spot.<br>  4: Once there was a <b>little</b> puppy named Spot. He<br>  5: Once there was a little <b>puppy</b> named Spot. He lived<br>  6: there was a little puppy <b>named</b> Spot. He lived in<br>  7: was a little puppy named <b>Spot.</b> He lived in the",
                    "Sample 526<br>Sequence length: 128<br><br>Text preview:<br>Once upon a time, there was a little girl. She had a snack in her hand that she wanted to eat. But when she tried to open it, she struggled. She pulle...<br><br>Token examples (context with <b>target</b> token):<br>  0: <b>Once</b> upon a time, there<br>  1: Once <b>upon</b> a time, there was<br>  2: Once upon <b>a</b> time, there was a<br>  3: Once upon a <b>time,</b> there was a little<br>  4: Once upon a time, <b>there</b> was a little girl<br>  5: Once upon a time, there <b>was</b> a little girl.<br>  6: upon a time, there was <b>a</b> little girl. She<br>  7: a time, there was a <b>little</b> girl. She had",
                    "Sample 1349<br>Sequence length: 128<br><br>Text preview:<br>Once upon a time there was a girl who loved to swim. She wanted to go swim in the sea but it was too far away, so she decided to swim in the lake near...<br><br>Token examples (context with <b>target</b> token):<br>  0: <b>Once</b> upon a time there was<br>  1: Once <b>upon</b> a time there was a<br>  2: Once upon <b>a</b> time there was a girl<br>  3: Once upon a <b>time</b> there was a girl who<br>  4: Once upon a time <b>there</b> was a girl who loved<br>  5: Once upon a time there <b>was</b> a girl who loved to<br>  6: upon a time there was <b>a</b> girl who loved to swim<br>  7: a time there was a <b>girl</b> who loved to swim.",
                    "Sample 602<br>Sequence length: 128<br><br>Text preview:<br>Once upon a time, there was an ancient rose. The rose was very special because it was old and beautiful. One day, a very tiny bug wanted to try the ro...<br><br>Token examples (context with <b>target</b> token):<br>  0: <b>Once</b> upon a time, there<br>  1: Once <b>upon</b> a time, there was<br>  2: Once upon <b>a</b> time, there was an<br>  3: Once upon a <b>time,</b> there was an ancient<br>  4: Once upon a time, <b>there</b> was an ancient rose<br>  5: Once upon a time, there <b>was</b> an ancient rose.<br>  6: upon a time, there was <b>an</b> ancient rose. The<br>  7: a time, there was an <b>ancient</b> rose. The rose",
                    "Sample 247<br>Sequence length: 128<br><br>Text preview:<br>Once upon a time, there was a father and daughter. The little girl was very excited because her daddy was going to paint their house.\n\nThe daddy grabb...<br><br>Token examples (context with <b>target</b> token):<br>  0: <b>Once</b> upon a time, there<br>  1: Once <b>upon</b> a time, there was<br>  2: Once upon <b>a</b> time, there was a<br>  3: Once upon a <b>time,</b> there was a father<br>  4: Once upon a time, <b>there</b> was a father and<br>  5: Once upon a time, there <b>was</b> a father and daughter<br>  6: upon a time, there was <b>a</b> father and daughter.<br>  7: a time, there was a <b>father</b> and daughter. The",
                    "Sample 2344<br>Sequence length: 128<br><br>Text preview:<br>Tim and his mom went to the park. Tim liked to play with the swings and the slide. He saw a big dog with a leash. The dog was brown and had long hair....<br><br>Token examples (context with <b>target</b> token):<br>  0: <b>Tim</b> and his mom went to<br>  1: Tim <b>and</b> his mom went to the<br>  2: Tim and <b>his</b> mom went to the park<br>  3: Tim and his <b>mom</b> went to the park.<br>  4: Tim and his mom <b>went</b> to the park. Tim<br>  5: Tim and his mom went <b>to</b> the park. Tim liked<br>  6: and his mom went to <b>the</b> park. Tim liked to<br>  7: his mom went to the <b>park.</b> Tim liked to play",
                    "Sample 2027<br>Sequence length: 128<br><br>Text preview:<br>Sammy was out in the yard, playing with his football. He rolled it around and tried to kick it with his feet. He noticed that it was becoming difficul...<br><br>Token examples (context with <b>target</b> token):<br>  0: <b>Sammy</b> was out in the<br>  1: Sammy <b>was</b> out in the yard<br>  2: Sammy was <b>out</b> in the yard,<br>  3: Sammy was out <b>in</b> the yard, playing<br>  4: Sammy was out in <b>the</b> yard, playing with<br>  5: Sammy was out in the <b>yard,</b> playing with his<br>  6: my was out in the <b>yard,</b> playing with his football<br>  7: was out in the yard, <b>playing</b> with his football.",
                    "Sample 952<br>Sequence length: 128<br><br>Text preview:<br>Sara and Ben are twins. They like to play with their toys. They have a big box of gems. The gems are shiny and pretty. They have red, blue, green, and...<br><br>Token examples (context with <b>target</b> token):<br>  0: <b>Sara</b> and Ben are twins<br>  1: Sara <b>and</b> Ben are twins.<br>  2: Sara and <b>Ben</b> are twins. They<br>  3: Sara and Ben <b>are</b> twins. They like<br>  4: Sara and Ben are <b>twins.</b> They like to<br>  5: Sara and Ben are twins. <b>They</b> like to play<br>  6: ara and Ben are twins. <b>They</b> like to play with<br>  7: and Ben are twins. They <b>like</b> to play with their",
                    "Sample 1882<br>Sequence length: 128<br><br>Text preview:<br>Jack enjoyed exploring the park very early in the morning. Every morning, he put on his favourite red shirt and ran out the door. Today Jack was excit...<br><br>Token examples (context with <b>target</b> token):<br>  0: <b>Jack</b> enjoyed exploring the park very<br>  1: Jack <b>enjoyed</b> exploring the park very early<br>  2: Jack enjoyed <b>exploring</b> the park very early in<br>  3: Jack enjoyed exploring <b>the</b> park very early in the<br>  4: Jack enjoyed exploring the <b>park</b> very early in the morning<br>  5: Jack enjoyed exploring the park <b>very</b> early in the morning.<br>  6: enjoyed exploring the park very <b>early</b> in the morning. Every<br>  7: exploring the park very early <b>in</b> the morning. Every morning",
                    "Sample 1492<br>Sequence length: 128<br><br>Text preview:<br>Once upon a time, in a big yard, there was a brown tree. The tree had many leaves. The leaves were green, yellow, and red. The wind blew, and the leav...<br><br>Token examples (context with <b>target</b> token):<br>  0: <b>Once</b> upon a time, in<br>  1: Once <b>upon</b> a time, in a<br>  2: Once upon <b>a</b> time, in a big<br>  3: Once upon a <b>time,</b> in a big yard<br>  4: Once upon a time, <b>in</b> a big yard,<br>  5: Once upon a time, in <b>a</b> big yard, there<br>  6: upon a time, in a <b>big</b> yard, there was<br>  7: a time, in a big <b>yard,</b> there was a",
                    "Sample 2487<br>Sequence length: 128<br><br>Text preview:<br>Once upon a time, there was a big dog named Max. Max loved to dig in the dirt and play with his ball. One day, Max's owner noticed that he was feeling...<br><br>Token examples (context with <b>target</b> token):<br>  0: <b>Once</b> upon a time, there<br>  1: Once <b>upon</b> a time, there was<br>  2: Once upon <b>a</b> time, there was a<br>  3: Once upon a <b>time,</b> there was a big<br>  4: Once upon a time, <b>there</b> was a big dog<br>  5: Once upon a time, there <b>was</b> a big dog named<br>  6: upon a time, there was <b>a</b> big dog named Max<br>  7: a time, there was a <b>big</b> dog named Max.",
                    "Sample 500<br>Sequence length: 128<br><br>Text preview:<br>Once upon a time there was an intelligent frog. He lived in a big bathroom. The frog was very curious and he liked exploring.\n\nOne day, the frog was l...<br><br>Token examples (context with <b>target</b> token):<br>  0: <b>Once</b> upon a time there was<br>  1: Once <b>upon</b> a time there was an<br>  2: Once upon <b>a</b> time there was an intelligent<br>  3: Once upon a <b>time</b> there was an intelligent frog<br>  4: Once upon a time <b>there</b> was an intelligent frog.<br>  5: Once upon a time there <b>was</b> an intelligent frog. He<br>  6: upon a time there was <b>an</b> intelligent frog. He lived<br>  7: a time there was an <b>intelligent</b> frog. He lived in",
                    "Sample 1199<br>Sequence length: 128<br><br>Text preview:<br>Robbie was a very proud little three year old boy. He loved playing outside and running around the garden with his friends.\n\nOne day, Robbie was outsi...<br><br>Token examples (context with <b>target</b> token):<br>  0: <b>Robbie</b> was a very proud<br>  1: Robbie <b>was</b> a very proud little<br>  2: Robbie was <b>a</b> very proud little three<br>  3: Robbie was a <b>very</b> proud little three year<br>  4: Robbie was a very <b>proud</b> little three year old<br>  5: Robbie was a very proud <b>little</b> three year old boy<br>  6: bie was a very proud <b>little</b> three year old boy.<br>  7: was a very proud little <b>three</b> year old boy. He",
                    "Sample 617<br>Sequence length: 128<br><br>Text preview:<br>Once upon a time, there was an elderly man. Every day he would sit outside in his garden and watch the birds. One day, a magical fairy appeared and ga...<br><br>Token examples (context with <b>target</b> token):<br>  0: <b>Once</b> upon a time, there<br>  1: Once <b>upon</b> a time, there was<br>  2: Once upon <b>a</b> time, there was an<br>  3: Once upon a <b>time,</b> there was an elderly<br>  4: Once upon a time, <b>there</b> was an elderly man<br>  5: Once upon a time, there <b>was</b> an elderly man.<br>  6: upon a time, there was <b>an</b> elderly man. Every<br>  7: a time, there was an <b>elderly</b> man. Every day",
                    "Sample 1461<br>Sequence length: 128<br><br>Text preview:<br>Once upon a time, there was a painter named Tom. He loved to paint pretty pictures. One day, Tom was feeling sad. He wept because he could not paint a...<br><br>Token examples (context with <b>target</b> token):<br>  0: <b>Once</b> upon a time, there<br>  1: Once <b>upon</b> a time, there was<br>  2: Once upon <b>a</b> time, there was a<br>  3: Once upon a <b>time,</b> there was a painter<br>  4: Once upon a time, <b>there</b> was a painter named<br>  5: Once upon a time, there <b>was</b> a painter named Tom<br>  6: upon a time, there was <b>a</b> painter named Tom.<br>  7: a time, there was a <b>painter</b> named Tom. He",
                    "Sample 961<br>Sequence length: 128<br><br>Text preview:<br>Tom and Lily were twins who loved to look at the stars. Every night, they would go outside with their dad and point at the different shapes and colors...<br><br>Token examples (context with <b>target</b> token):<br>  0: <b>Tom</b> and Lily were twins who<br>  1: Tom <b>and</b> Lily were twins who loved<br>  2: Tom and <b>Lily</b> were twins who loved to<br>  3: Tom and Lily <b>were</b> twins who loved to look<br>  4: Tom and Lily were <b>twins</b> who loved to look at<br>  5: Tom and Lily were twins <b>who</b> loved to look at the<br>  6: and Lily were twins who <b>loved</b> to look at the stars<br>  7: Lily were twins who loved <b>to</b> look at the stars.",
                    "Sample 1080<br>Sequence length: 128<br><br>Text preview:<br>Once upon a time there was a little boy who wanted to buy cauliflower. But he didn't have any money, so he couldn't buy it. He was very jealous of the...<br><br>Token examples (context with <b>target</b> token):<br>  0: <b>Once</b> upon a time there was<br>  1: Once <b>upon</b> a time there was a<br>  2: Once upon <b>a</b> time there was a little<br>  3: Once upon a <b>time</b> there was a little boy<br>  4: Once upon a time <b>there</b> was a little boy who<br>  5: Once upon a time there <b>was</b> a little boy who wanted<br>  6: upon a time there was <b>a</b> little boy who wanted to<br>  7: a time there was a <b>little</b> boy who wanted to buy",
                    "Sample 769<br>Sequence length: 128<br><br>Text preview:<br>Lily was a little girl who liked to play dress-up. She had many clothes and hats and shoes in her big sack. She liked to pretend she was a princess or...<br><br>Token examples (context with <b>target</b> token):<br>  0: <b>Lily</b> was a little girl<br>  1: Lily <b>was</b> a little girl who<br>  2: Lily was <b>a</b> little girl who liked<br>  3: Lily was a <b>little</b> girl who liked to<br>  4: Lily was a little <b>girl</b> who liked to play<br>  5: Lily was a little girl <b>who</b> liked to play dress<br>  6: ily was a little girl <b>who</b> liked to play dress-<br>  7: was a little girl who <b>liked</b> to play dress-up",
                    "Sample 1920<br>Sequence length: 128<br><br>Text preview:<br>Mary was playing in her classroom when she had an idea. She was going to spoil all her classmates! She took three candy bars and started sharing them ...<br><br>Token examples (context with <b>target</b> token):<br>  0: <b>Mary</b> was playing in her classroom<br>  1: Mary <b>was</b> playing in her classroom when<br>  2: Mary was <b>playing</b> in her classroom when she<br>  3: Mary was playing <b>in</b> her classroom when she had<br>  4: Mary was playing in <b>her</b> classroom when she had an<br>  5: Mary was playing in her <b>classroom</b> when she had an idea<br>  6: was playing in her classroom <b>when</b> she had an idea.<br>  7: playing in her classroom when <b>she</b> had an idea. She",
                    "Sample 324<br>Sequence length: 128<br><br>Text preview:<br>Mommy and Jimmy were walking down a path one night. It was dark, and their shadows were long. \nJimmy said, \"Mommy, look at my shadow. I want to let it...<br><br>Token examples (context with <b>target</b> token):<br>  0: <b>Mommy</b> and Jimmy were walking<br>  1: Mommy <b>and</b> Jimmy were walking down<br>  2: Mommy and <b>Jimmy</b> were walking down a<br>  3: Mommy and Jimmy <b>were</b> walking down a path<br>  4: Mommy and Jimmy were <b>walking</b> down a path one<br>  5: Mommy and Jimmy were walking <b>down</b> a path one night<br>  6: my and Jimmy were walking <b>down</b> a path one night.<br>  7: and Jimmy were walking down <b>a</b> path one night. It",
                    "Sample 1076<br>Sequence length: 128<br><br>Text preview:<br>Once upon a time, there was a little girl called Daisy. Daisy wanted a new toy, so she went to the toy shop. In the shop, she saw a big bow. She wante...<br><br>Token examples (context with <b>target</b> token):<br>  0: <b>Once</b> upon a time, there<br>  1: Once <b>upon</b> a time, there was<br>  2: Once upon <b>a</b> time, there was a<br>  3: Once upon a <b>time,</b> there was a little<br>  4: Once upon a time, <b>there</b> was a little girl<br>  5: Once upon a time, there <b>was</b> a little girl called<br>  6: upon a time, there was <b>a</b> little girl called Daisy<br>  7: a time, there was a <b>little</b> girl called Daisy.",
                    "Sample 32<br>Sequence length: 128<br><br>Text preview:<br>Once upon a time, there was a little boat. The boat was blue and it liked to float on the water. One day, the sun was very hot and the water began to ...<br><br>Token examples (context with <b>target</b> token):<br>  0: <b>Once</b> upon a time, there<br>  1: Once <b>upon</b> a time, there was<br>  2: Once upon <b>a</b> time, there was a<br>  3: Once upon a <b>time,</b> there was a little<br>  4: Once upon a time, <b>there</b> was a little boat<br>  5: Once upon a time, there <b>was</b> a little boat.<br>  6: upon a time, there was <b>a</b> little boat. The<br>  7: a time, there was a <b>little</b> boat. The boat",
                    "Sample 2274<br>Sequence length: 128<br><br>Text preview:<br>Ben was sad. He wanted to go to the park with Mom and Dad, but they said no. They said it was too cold and wet outside. Ben did not like cold and wet....<br><br>Token examples (context with <b>target</b> token):<br>  0: <b>Ben</b> was sad. He wanted<br>  1: Ben <b>was</b> sad. He wanted to<br>  2: Ben was <b>sad.</b> He wanted to go<br>  3: Ben was sad. <b>He</b> wanted to go to<br>  4: Ben was sad. He <b>wanted</b> to go to the<br>  5: Ben was sad. He wanted <b>to</b> go to the park<br>  6: was sad. He wanted to <b>go</b> to the park with<br>  7: sad. He wanted to go <b>to</b> the park with Mom",
                    "Sample 1777<br>Sequence length: 128<br><br>Text preview:<br>Once upon a time, a poor hedgehog named Jennifer lived deep in the woods. She was very sad because she wasn't rich like the other animals. One day, as...<br><br>Token examples (context with <b>target</b> token):<br>  0: <b>Once</b> upon a time, a<br>  1: Once <b>upon</b> a time, a poor<br>  2: Once upon <b>a</b> time, a poor hedge<br>  3: Once upon a <b>time,</b> a poor hedgehog<br>  4: Once upon a time, <b>a</b> poor hedgehog named<br>  5: Once upon a time, a <b>poor</b> hedgehog named Jennifer<br>  6: upon a time, a poor <b>hedgehog</b> named Jennifer lived<br>  7: a time, a poor hedgehog <b>named</b> Jennifer lived deep",
                    "Sample 1074<br>Sequence length: 128<br><br>Text preview:<br>Once upon a time, there was a charming oyster. It lived in the sea and everyone in the village said how beautiful it was.\n\nOne day, a boy came to the ...<br><br>Token examples (context with <b>target</b> token):<br>  0: <b>Once</b> upon a time, there<br>  1: Once <b>upon</b> a time, there was<br>  2: Once upon <b>a</b> time, there was a<br>  3: Once upon a <b>time,</b> there was a charming<br>  4: Once upon a time, <b>there</b> was a charming oy<br>  5: Once upon a time, there <b>was</b> a charming oyster<br>  6: upon a time, there was <b>a</b> charming oyster.<br>  7: a time, there was a <b>charming</b> oyster. It",
                    "Sample 957<br>Sequence length: 128<br><br>Text preview:<br>Lily and Tom are friends. They like to play in the park. One day, they see a big slide. Lily wants to go on the slide, but Tom is scared.\n\n\"Come on, T...<br><br>Token examples (context with <b>target</b> token):<br>  0: <b>Lily</b> and Tom are friends<br>  1: Lily <b>and</b> Tom are friends.<br>  2: Lily and <b>Tom</b> are friends. They<br>  3: Lily and Tom <b>are</b> friends. They like<br>  4: Lily and Tom are <b>friends.</b> They like to<br>  5: Lily and Tom are friends. <b>They</b> like to play<br>  6: ily and Tom are friends. <b>They</b> like to play in<br>  7: and Tom are friends. They <b>like</b> to play in the",
                    "Sample 481<br>Sequence length: 128<br><br>Text preview:<br>Once upon a time, there was a horse. He was very heavy. He liked to travel far and wide. Every day, his owners would remind him to stay safe and not w...<br><br>Token examples (context with <b>target</b> token):<br>  0: <b>Once</b> upon a time, there<br>  1: Once <b>upon</b> a time, there was<br>  2: Once upon <b>a</b> time, there was a<br>  3: Once upon a <b>time,</b> there was a horse<br>  4: Once upon a time, <b>there</b> was a horse.<br>  5: Once upon a time, there <b>was</b> a horse. He<br>  6: upon a time, there was <b>a</b> horse. He was<br>  7: a time, there was a <b>horse.</b> He was very",
                    "Sample 1662<br>Sequence length: 128<br><br>Text preview:<br>Once there was a wealthy family with three kids. Two of them were in university, but the youngest one was only three. He wanted to go to university to...<br><br>Token examples (context with <b>target</b> token):<br>  0: <b>Once</b> there was a wealthy family<br>  1: Once <b>there</b> was a wealthy family with<br>  2: Once there <b>was</b> a wealthy family with three<br>  3: Once there was <b>a</b> wealthy family with three kids<br>  4: Once there was a <b>wealthy</b> family with three kids.<br>  5: Once there was a wealthy <b>family</b> with three kids. Two<br>  6: there was a wealthy family <b>with</b> three kids. Two of<br>  7: was a wealthy family with <b>three</b> kids. Two of them",
                    "Sample 2111<br>Sequence length: 128<br><br>Text preview:<br>Jen and Ben had a dog named Spot. Spot was unique. He had black and white spots all over his fur. He liked to run and play and chase balls. Jen and Be...<br><br>Token examples (context with <b>target</b> token):<br>  0: <b>Jen</b> and Ben had a dog<br>  1: Jen <b>and</b> Ben had a dog named<br>  2: Jen and <b>Ben</b> had a dog named Spot<br>  3: Jen and Ben <b>had</b> a dog named Spot.<br>  4: Jen and Ben had <b>a</b> dog named Spot. Spot<br>  5: Jen and Ben had a <b>dog</b> named Spot. Spot was<br>  6: and Ben had a dog <b>named</b> Spot. Spot was unique<br>  7: Ben had a dog named <b>Spot.</b> Spot was unique.",
                    "Sample 94<br>Sequence length: 128<br><br>Text preview:<br>Once upon a time there lived a little girl named Amy. She was very alert and always looked for new things to explore. One day she decided to search fo...<br><br>Token examples (context with <b>target</b> token):<br>  0: <b>Once</b> upon a time there lived<br>  1: Once <b>upon</b> a time there lived a<br>  2: Once upon <b>a</b> time there lived a little<br>  3: Once upon a <b>time</b> there lived a little girl<br>  4: Once upon a time <b>there</b> lived a little girl named<br>  5: Once upon a time there <b>lived</b> a little girl named Amy<br>  6: upon a time there lived <b>a</b> little girl named Amy.<br>  7: a time there lived a <b>little</b> girl named Amy. She",
                    "Sample 1382<br>Sequence length: 128<br><br>Text preview:<br>Once upon a time, there was a sailor. He had a big boat. He loved to sail on the water. The sailor was stubborn. He did not like to ask for help.\n\nOne...<br><br>Token examples (context with <b>target</b> token):<br>  0: <b>Once</b> upon a time, there<br>  1: Once <b>upon</b> a time, there was<br>  2: Once upon <b>a</b> time, there was a<br>  3: Once upon a <b>time,</b> there was a sailor<br>  4: Once upon a time, <b>there</b> was a sailor.<br>  5: Once upon a time, there <b>was</b> a sailor. He<br>  6: upon a time, there was <b>a</b> sailor. He had<br>  7: a time, there was a <b>sailor.</b> He had a",
                    "Sample 1980<br>Sequence length: 128<br><br>Text preview:<br>Once upon a time, there was a great reindeer. He had a special job. He was a snow-stopper. His job was to prevent snow from coming. Every day, he stoo...<br><br>Token examples (context with <b>target</b> token):<br>  0: <b>Once</b> upon a time, there<br>  1: Once <b>upon</b> a time, there was<br>  2: Once upon <b>a</b> time, there was a<br>  3: Once upon a <b>time,</b> there was a great<br>  4: Once upon a time, <b>there</b> was a great re<br>  5: Once upon a time, there <b>was</b> a great reind<br>  6: upon a time, there was <b>a</b> great reindeer<br>  7: a time, there was a <b>great</b> reindeer.",
                    "Sample 2089<br>Sequence length: 128<br><br>Text preview:<br>Once upon a time, there was a small girl named Leah. She was not feeling very happy that day because the sky was gloomy. \n\nLeah's mommy asked her, \"Wh...<br><br>Token examples (context with <b>target</b> token):<br>  0: <b>Once</b> upon a time, there<br>  1: Once <b>upon</b> a time, there was<br>  2: Once upon <b>a</b> time, there was a<br>  3: Once upon a <b>time,</b> there was a small<br>  4: Once upon a time, <b>there</b> was a small girl<br>  5: Once upon a time, there <b>was</b> a small girl named<br>  6: upon a time, there was <b>a</b> small girl named Leah<br>  7: a time, there was a <b>small</b> girl named Leah.",
                    "Sample 722<br>Sequence length: 128<br><br>Text preview:<br>Lily and Ben are friends. They like to play in the farm. They see many animals in the farm. They see cows, pigs, sheep and chickens.\n\nOne day, they wa...<br><br>Token examples (context with <b>target</b> token):<br>  0: <b>Lily</b> and Ben are friends<br>  1: Lily <b>and</b> Ben are friends.<br>  2: Lily and <b>Ben</b> are friends. They<br>  3: Lily and Ben <b>are</b> friends. They like<br>  4: Lily and Ben are <b>friends.</b> They like to<br>  5: Lily and Ben are friends. <b>They</b> like to play<br>  6: ily and Ben are friends. <b>They</b> like to play in<br>  7: and Ben are friends. They <b>like</b> to play in the",
                    "Sample 1741<br>Sequence length: 128<br><br>Text preview:<br>Once upon a time, there was a boy named Jack. He was 3 years old. Jack collected many different kinds of rubber things - rubber ducks, rubber balls, a...<br><br>Token examples (context with <b>target</b> token):<br>  0: <b>Once</b> upon a time, there<br>  1: Once <b>upon</b> a time, there was<br>  2: Once upon <b>a</b> time, there was a<br>  3: Once upon a <b>time,</b> there was a boy<br>  4: Once upon a time, <b>there</b> was a boy named<br>  5: Once upon a time, there <b>was</b> a boy named Jack<br>  6: upon a time, there was <b>a</b> boy named Jack.<br>  7: a time, there was a <b>boy</b> named Jack. He",
                    "Sample 1589<br>Sequence length: 128<br><br>Text preview:<br>Once upon a time, there was a little girl called Jody. She was three-years-old and very curious. Jody was playing in the living room, and noticed some...<br><br>Token examples (context with <b>target</b> token):<br>  0: <b>Once</b> upon a time, there<br>  1: Once <b>upon</b> a time, there was<br>  2: Once upon <b>a</b> time, there was a<br>  3: Once upon a <b>time,</b> there was a little<br>  4: Once upon a time, <b>there</b> was a little girl<br>  5: Once upon a time, there <b>was</b> a little girl called<br>  6: upon a time, there was <b>a</b> little girl called J<br>  7: a time, there was a <b>little</b> girl called Jody",
                    "Sample 1501<br>Sequence length: 128<br><br>Text preview:<br>Once there was a 3 year old boy named Jack. Every day, Jack liked to help his Mom in the kitchen. Today, Jack wanted to bake something special for his...<br><br>Token examples (context with <b>target</b> token):<br>  0: <b>Once</b> there was a 3 year<br>  1: Once <b>there</b> was a 3 year old<br>  2: Once there <b>was</b> a 3 year old boy<br>  3: Once there was <b>a</b> 3 year old boy named<br>  4: Once there was a <b>3</b> year old boy named Jack<br>  5: Once there was a 3 <b>year</b> old boy named Jack.<br>  6: there was a 3 year <b>old</b> boy named Jack. Every<br>  7: was a 3 year old <b>boy</b> named Jack. Every day",
                    "Sample 2436<br>Sequence length: 128<br><br>Text preview:<br>Once upon a time, there was a little girl named Lily. She loved to play outside, even when it was very cold and the ground was icy. One day, she was p...<br><br>Token examples (context with <b>target</b> token):<br>  0: <b>Once</b> upon a time, there<br>  1: Once <b>upon</b> a time, there was<br>  2: Once upon <b>a</b> time, there was a<br>  3: Once upon a <b>time,</b> there was a little<br>  4: Once upon a time, <b>there</b> was a little girl<br>  5: Once upon a time, there <b>was</b> a little girl named<br>  6: upon a time, there was <b>a</b> little girl named Lily<br>  7: a time, there was a <b>little</b> girl named Lily.",
                    "Sample 36<br>Sequence length: 128<br><br>Text preview:<br>Once upon a time, there was a little dog named Zigzag. Zigzag loved to run and play in the park. One day, Zigzag saw a big twisty slide. He wanted to ...<br><br>Token examples (context with <b>target</b> token):<br>  0: <b>Once</b> upon a time, there<br>  1: Once <b>upon</b> a time, there was<br>  2: Once upon <b>a</b> time, there was a<br>  3: Once upon a <b>time,</b> there was a little<br>  4: Once upon a time, <b>there</b> was a little dog<br>  5: Once upon a time, there <b>was</b> a little dog named<br>  6: upon a time, there was <b>a</b> little dog named Zig<br>  7: a time, there was a <b>little</b> dog named Zigzag",
                    "Sample 229<br>Sequence length: 128<br><br>Text preview:<br>Once upon a time, there was a little girl named Jacky. Jacky loved playing with her helicopter. She liked to fly it high in the sky and spin around an...<br><br>Token examples (context with <b>target</b> token):<br>  0: <b>Once</b> upon a time, there<br>  1: Once <b>upon</b> a time, there was<br>  2: Once upon <b>a</b> time, there was a<br>  3: Once upon a <b>time,</b> there was a little<br>  4: Once upon a time, <b>there</b> was a little girl<br>  5: Once upon a time, there <b>was</b> a little girl named<br>  6: upon a time, there was <b>a</b> little girl named Jack<br>  7: a time, there was a <b>little</b> girl named Jacky",
                    "Sample 1097<br>Sequence length: 128<br><br>Text preview:<br>Once upon a time, there were two friends: Jack and Jill. Jack had a brilliant idea. He wanted to make something special using clay.\n\nHe asked Jill for...<br><br>Token examples (context with <b>target</b> token):<br>  0: <b>Once</b> upon a time, there<br>  1: Once <b>upon</b> a time, there were<br>  2: Once upon <b>a</b> time, there were two<br>  3: Once upon a <b>time,</b> there were two friends<br>  4: Once upon a time, <b>there</b> were two friends:<br>  5: Once upon a time, there <b>were</b> two friends: Jack<br>  6: upon a time, there were <b>two</b> friends: Jack and<br>  7: a time, there were two <b>friends:</b> Jack and Jill",
                    "Sample 2179<br>Sequence length: 128<br><br>Text preview:<br>Bella and Ben were playing with their toy cars in the living room. They liked to make vroom and beep sounds as they drove them around. Bella had a red...<br><br>Token examples (context with <b>target</b> token):<br>  0: <b>Bella</b> and Ben were playing<br>  1: Bella <b>and</b> Ben were playing with<br>  2: Bella and <b>Ben</b> were playing with their<br>  3: Bella and Ben <b>were</b> playing with their toy<br>  4: Bella and Ben were <b>playing</b> with their toy cars<br>  5: Bella and Ben were playing <b>with</b> their toy cars in<br>  6: ella and Ben were playing <b>with</b> their toy cars in the<br>  7: and Ben were playing with <b>their</b> toy cars in the living",
                    "Sample 1887<br>Sequence length: 128<br><br>Text preview:<br>A bunny named Alex was feeling sad. He wanted to make himself feel better, but he didn't know how. It was getting harder and harder each day.\n\nThen on...<br><br>Token examples (context with <b>target</b> token):<br>  0: <b>A</b> bunny named Alex was feeling<br>  1: A <b>bunny</b> named Alex was feeling sad<br>  2: A bunny <b>named</b> Alex was feeling sad.<br>  3: A bunny named <b>Alex</b> was feeling sad. He<br>  4: A bunny named Alex <b>was</b> feeling sad. He wanted<br>  5: A bunny named Alex was <b>feeling</b> sad. He wanted to<br>  6: bunny named Alex was feeling <b>sad.</b> He wanted to make<br>  7: named Alex was feeling sad. <b>He</b> wanted to make himself",
                    "Sample 885<br>Sequence length: 128<br><br>Text preview:<br>Once upon a time, there was a happy family who lived in a small town. They loved to play together and sing songs. One day, the sun started to rise ear...<br><br>Token examples (context with <b>target</b> token):<br>  0: <b>Once</b> upon a time, there<br>  1: Once <b>upon</b> a time, there was<br>  2: Once upon <b>a</b> time, there was a<br>  3: Once upon a <b>time,</b> there was a happy<br>  4: Once upon a time, <b>there</b> was a happy family<br>  5: Once upon a time, there <b>was</b> a happy family who<br>  6: upon a time, there was <b>a</b> happy family who lived<br>  7: a time, there was a <b>happy</b> family who lived in",
                    "Sample 923<br>Sequence length: 128<br><br>Text preview:<br>Anna and Ben are twins. They like to play outside and look at the sky. They see many white clouds in the blue sky. They try to guess what the clouds l...<br><br>Token examples (context with <b>target</b> token):<br>  0: <b>Anna</b> and Ben are twins.<br>  1: Anna <b>and</b> Ben are twins. They<br>  2: Anna and <b>Ben</b> are twins. They like<br>  3: Anna and Ben <b>are</b> twins. They like to<br>  4: Anna and Ben are <b>twins.</b> They like to play<br>  5: Anna and Ben are twins. <b>They</b> like to play outside<br>  6: and Ben are twins. They <b>like</b> to play outside and<br>  7: Ben are twins. They like <b>to</b> play outside and look",
                    "Sample 1400<br>Sequence length: 128<br><br>Text preview:<br>Once upon a time, in a big sea, there was a sleepy fish named Bob. Bob lived near a reef with many other fish. One day, Bob woke up and saw that his f...<br><br>Token examples (context with <b>target</b> token):<br>  0: <b>Once</b> upon a time, in<br>  1: Once <b>upon</b> a time, in a<br>  2: Once upon <b>a</b> time, in a big<br>  3: Once upon a <b>time,</b> in a big sea<br>  4: Once upon a time, <b>in</b> a big sea,<br>  5: Once upon a time, in <b>a</b> big sea, there<br>  6: upon a time, in a <b>big</b> sea, there was<br>  7: a time, in a big <b>sea,</b> there was a",
                    "Sample 199<br>Sequence length: 128<br><br>Text preview:<br>The sun showed its face in the morning sky and it shone brightly. The birds flew up to the sky and sang their happy song.\n\nThen, a little girl named L...<br><br>Token examples (context with <b>target</b> token):<br>  0: <b>The</b> sun showed its face in<br>  1: The <b>sun</b> showed its face in the<br>  2: The sun <b>showed</b> its face in the morning<br>  3: The sun showed <b>its</b> face in the morning sky<br>  4: The sun showed its <b>face</b> in the morning sky and<br>  5: The sun showed its face <b>in</b> the morning sky and it<br>  6: sun showed its face in <b>the</b> morning sky and it shone<br>  7: showed its face in the <b>morning</b> sky and it shone brightly",
                    "Sample 1106<br>Sequence length: 128<br><br>Text preview:<br>Once upon a time, there was a tank. It looked just like any ordinary tank. Inside the tank was a long, stretchy rope. Every day, a little girl named S...<br><br>Token examples (context with <b>target</b> token):<br>  0: <b>Once</b> upon a time, there<br>  1: Once <b>upon</b> a time, there was<br>  2: Once upon <b>a</b> time, there was a<br>  3: Once upon a <b>time,</b> there was a tank<br>  4: Once upon a time, <b>there</b> was a tank.<br>  5: Once upon a time, there <b>was</b> a tank. It<br>  6: upon a time, there was <b>a</b> tank. It looked<br>  7: a time, there was a <b>tank.</b> It looked just",
                    "Sample 2289<br>Sequence length: 128<br><br>Text preview:<br>Lily and Ben are twins. They like to play in the park. There is a big slide in the park. Lily and Ben want to go on the slide.\n\nBut the slide is too h...<br><br>Token examples (context with <b>target</b> token):<br>  0: <b>Lily</b> and Ben are twins<br>  1: Lily <b>and</b> Ben are twins.<br>  2: Lily and <b>Ben</b> are twins. They<br>  3: Lily and Ben <b>are</b> twins. They like<br>  4: Lily and Ben are <b>twins.</b> They like to<br>  5: Lily and Ben are twins. <b>They</b> like to play<br>  6: ily and Ben are twins. <b>They</b> like to play in<br>  7: and Ben are twins. They <b>like</b> to play in the",
                    "Sample 2045<br>Sequence length: 128<br><br>Text preview:<br>Once there was a little girl named Sarah. She was three years old. One day, Sarah was in the kitchen. She saw some candy that was in a jar. \n\n\"I want ...<br><br>Token examples (context with <b>target</b> token):<br>  0: <b>Once</b> there was a little girl<br>  1: Once <b>there</b> was a little girl named<br>  2: Once there <b>was</b> a little girl named Sarah<br>  3: Once there was <b>a</b> little girl named Sarah.<br>  4: Once there was a <b>little</b> girl named Sarah. She<br>  5: Once there was a little <b>girl</b> named Sarah. She was<br>  6: there was a little girl <b>named</b> Sarah. She was three<br>  7: was a little girl named <b>Sarah.</b> She was three years",
                    "Sample 1509<br>Sequence length: 128<br><br>Text preview:<br>Once there were two friends, Tom and Sam. Tom had a triangle and he was very happy. But then something bad happened.\nTom suffered a lot. He was so sad...<br><br>Token examples (context with <b>target</b> token):<br>  0: <b>Once</b> there were two friends,<br>  1: Once <b>there</b> were two friends, Tom<br>  2: Once there <b>were</b> two friends, Tom and<br>  3: Once there were <b>two</b> friends, Tom and Sam<br>  4: Once there were two <b>friends,</b> Tom and Sam.<br>  5: Once there were two friends, <b>Tom</b> and Sam. Tom<br>  6: there were two friends, Tom <b>and</b> Sam. Tom had<br>  7: were two friends, Tom and <b>Sam.</b> Tom had a",
                    "Sample 2429<br>Sequence length: 128<br><br>Text preview:<br>Once upon a time, there was a poor frog. He lived in a big pond with lots of other frogs. One day, he wanted to impress his friends by jumping really ...<br><br>Token examples (context with <b>target</b> token):<br>  0: <b>Once</b> upon a time, there<br>  1: Once <b>upon</b> a time, there was<br>  2: Once upon <b>a</b> time, there was a<br>  3: Once upon a <b>time,</b> there was a poor<br>  4: Once upon a time, <b>there</b> was a poor frog<br>  5: Once upon a time, there <b>was</b> a poor frog.<br>  6: upon a time, there was <b>a</b> poor frog. He<br>  7: a time, there was a <b>poor</b> frog. He lived",
                    "Sample 825<br>Sequence length: 128<br><br>Text preview:<br>Once upon a time, there was a little girl named Lily. One day, she went to a meeting with her mommy. The meeting was very boring and hard for Lily to ...<br><br>Token examples (context with <b>target</b> token):<br>  0: <b>Once</b> upon a time, there<br>  1: Once <b>upon</b> a time, there was<br>  2: Once upon <b>a</b> time, there was a<br>  3: Once upon a <b>time,</b> there was a little<br>  4: Once upon a time, <b>there</b> was a little girl<br>  5: Once upon a time, there <b>was</b> a little girl named<br>  6: upon a time, there was <b>a</b> little girl named Lily<br>  7: a time, there was a <b>little</b> girl named Lily.",
                    "Sample 1898<br>Sequence length: 128<br><br>Text preview:<br>Once upon a time, there was a lively little fish. Every day he swam around in the lake, looking for food. One day, he swam across an old man's fishing...<br><br>Token examples (context with <b>target</b> token):<br>  0: <b>Once</b> upon a time, there<br>  1: Once <b>upon</b> a time, there was<br>  2: Once upon <b>a</b> time, there was a<br>  3: Once upon a <b>time,</b> there was a lively<br>  4: Once upon a time, <b>there</b> was a lively little<br>  5: Once upon a time, there <b>was</b> a lively little fish<br>  6: upon a time, there was <b>a</b> lively little fish.<br>  7: a time, there was a <b>lively</b> little fish. Every",
                    "Sample 1425<br>Sequence length: 128<br><br>Text preview:<br>Once, there was a big race. Many kids ran in the race. One boy, Tom, wanted to win. He wanted the victory. He saw another boy, Sam, who was very fast....<br><br>Token examples (context with <b>target</b> token):<br>  0: <b>Once,</b> there was a big<br>  1: Once, <b>there</b> was a big race<br>  2: Once, there <b>was</b> a big race.<br>  3: Once, there was <b>a</b> big race. Many<br>  4: Once, there was a <b>big</b> race. Many kids<br>  5: Once, there was a big <b>race.</b> Many kids ran<br>  6: , there was a big <b>race.</b> Many kids ran in<br>  7: there was a big race. <b>Many</b> kids ran in the",
                    "Sample 194<br>Sequence length: 128<br><br>Text preview:<br>Mummy and John were in the park. John was eating his ice-cream, while Mummy was talking to a friend. Suddenly, John felt embarrassed as he saw everyon...<br><br>Token examples (context with <b>target</b> token):<br>  0: <b>Mummy</b> and John were in<br>  1: Mummy <b>and</b> John were in the<br>  2: Mummy and <b>John</b> were in the park<br>  3: Mummy and John <b>were</b> in the park.<br>  4: Mummy and John were <b>in</b> the park. John<br>  5: Mummy and John were in <b>the</b> park. John was<br>  6: ummy and John were in <b>the</b> park. John was eating<br>  7: and John were in the <b>park.</b> John was eating his",
                    "Sample 2121<br>Sequence length: 128<br><br>Text preview:<br>Tim and Mia were playing in the park. They liked to dig in the sand and look for treasures. One day, they found something shiny and hard in the sand. ...<br><br>Token examples (context with <b>target</b> token):<br>  0: <b>Tim</b> and Mia were playing in<br>  1: Tim <b>and</b> Mia were playing in the<br>  2: Tim and <b>Mia</b> were playing in the park<br>  3: Tim and Mia <b>were</b> playing in the park.<br>  4: Tim and Mia were <b>playing</b> in the park. They<br>  5: Tim and Mia were playing <b>in</b> the park. They liked<br>  6: and Mia were playing in <b>the</b> park. They liked to<br>  7: Mia were playing in the <b>park.</b> They liked to dig",
                    "Sample 2337<br>Sequence length: 128<br><br>Text preview:<br>Lily and Max were playing in the yard. They liked to kick the ball and run after it. Sometimes they kicked it too hard and it went over the fence. The...<br><br>Token examples (context with <b>target</b> token):<br>  0: <b>Lily</b> and Max were playing<br>  1: Lily <b>and</b> Max were playing in<br>  2: Lily and <b>Max</b> were playing in the<br>  3: Lily and Max <b>were</b> playing in the yard<br>  4: Lily and Max were <b>playing</b> in the yard.<br>  5: Lily and Max were playing <b>in</b> the yard. They<br>  6: ily and Max were playing <b>in</b> the yard. They liked<br>  7: and Max were playing in <b>the</b> yard. They liked to",
                    "Sample 644<br>Sequence length: 128<br><br>Text preview:<br>Once upon a time, there was a little girl called Sally. She wanted to find something special, something no one else had. So one day she set off on an ...<br><br>Token examples (context with <b>target</b> token):<br>  0: <b>Once</b> upon a time, there<br>  1: Once <b>upon</b> a time, there was<br>  2: Once upon <b>a</b> time, there was a<br>  3: Once upon a <b>time,</b> there was a little<br>  4: Once upon a time, <b>there</b> was a little girl<br>  5: Once upon a time, there <b>was</b> a little girl called<br>  6: upon a time, there was <b>a</b> little girl called Sally<br>  7: a time, there was a <b>little</b> girl called Sally.",
                    "Sample 928<br>Sequence length: 128<br><br>Text preview:<br>Tom and Jen are friends. They like to look at the stars at night. They have a big book with pictures of stars and planets. They want to see a comet. A...<br><br>Token examples (context with <b>target</b> token):<br>  0: <b>Tom</b> and Jen are friends.<br>  1: Tom <b>and</b> Jen are friends. They<br>  2: Tom and <b>Jen</b> are friends. They like<br>  3: Tom and Jen <b>are</b> friends. They like to<br>  4: Tom and Jen are <b>friends.</b> They like to look<br>  5: Tom and Jen are friends. <b>They</b> like to look at<br>  6: and Jen are friends. They <b>like</b> to look at the<br>  7: Jen are friends. They like <b>to</b> look at the stars",
                    "Sample 1369<br>Sequence length: 128<br><br>Text preview:<br>Once upon a time, in a small village, there was a boy named Tim. Tim had a toy whip. He liked to play with his whip every day. But sometimes, he felt ...<br><br>Token examples (context with <b>target</b> token):<br>  0: <b>Once</b> upon a time, in<br>  1: Once <b>upon</b> a time, in a<br>  2: Once upon <b>a</b> time, in a small<br>  3: Once upon a <b>time,</b> in a small village<br>  4: Once upon a time, <b>in</b> a small village,<br>  5: Once upon a time, in <b>a</b> small village, there<br>  6: upon a time, in a <b>small</b> village, there was<br>  7: a time, in a small <b>village,</b> there was a",
                    "Sample 1211<br>Sequence length: 128<br><br>Text preview:<br>One day, there was a modern horn. It was a loud horn! It made noise every day. The noise was so loud, everyone could hear it. \n\nOne day, a small boy n...<br><br>Token examples (context with <b>target</b> token):<br>  0: <b>One</b> day, there was a<br>  1: One <b>day,</b> there was a modern<br>  2: One day, <b>there</b> was a modern horn<br>  3: One day, there <b>was</b> a modern horn.<br>  4: One day, there was <b>a</b> modern horn. It<br>  5: One day, there was a <b>modern</b> horn. It was<br>  6: day, there was a modern <b>horn.</b> It was a<br>  7: , there was a modern <b>horn.</b> It was a loud",
                    "Sample 1563<br>Sequence length: 128<br><br>Text preview:<br>Once upon a time there were two friends, Emma and Jack. One day, they wanted to discuss furniture.\n\n\"Let's talk about furniture,\" said Emma.\n\n\"Yes,\" s...<br><br>Token examples (context with <b>target</b> token):<br>  0: <b>Once</b> upon a time there were<br>  1: Once <b>upon</b> a time there were two<br>  2: Once upon <b>a</b> time there were two friends<br>  3: Once upon a <b>time</b> there were two friends,<br>  4: Once upon a time <b>there</b> were two friends, Emma<br>  5: Once upon a time there <b>were</b> two friends, Emma and<br>  6: upon a time there were <b>two</b> friends, Emma and Jack<br>  7: a time there were two <b>friends,</b> Emma and Jack.",
                    "Sample 2074<br>Sequence length: 128<br><br>Text preview:<br>Once upon a time there was a bear named Bobby. He was loyal to his family and always played sports with them. He was the best of all the animals at sp...<br><br>Token examples (context with <b>target</b> token):<br>  0: <b>Once</b> upon a time there was<br>  1: Once <b>upon</b> a time there was a<br>  2: Once upon <b>a</b> time there was a bear<br>  3: Once upon a <b>time</b> there was a bear named<br>  4: Once upon a time <b>there</b> was a bear named Bobby<br>  5: Once upon a time there <b>was</b> a bear named Bobby.<br>  6: upon a time there was <b>a</b> bear named Bobby. He<br>  7: a time there was a <b>bear</b> named Bobby. He was",
                    "Sample 1374<br>Sequence length: 128<br><br>Text preview:<br>Once upon a time, there was a little girl named Lily. She loved to play with her toy blocks. One day, she wanted to make a very big stack. But, the bl...<br><br>Token examples (context with <b>target</b> token):<br>  0: <b>Once</b> upon a time, there<br>  1: Once <b>upon</b> a time, there was<br>  2: Once upon <b>a</b> time, there was a<br>  3: Once upon a <b>time,</b> there was a little<br>  4: Once upon a time, <b>there</b> was a little girl<br>  5: Once upon a time, there <b>was</b> a little girl named<br>  6: upon a time, there was <b>a</b> little girl named Lily<br>  7: a time, there was a <b>little</b> girl named Lily.",
                    "Sample 266<br>Sequence length: 128<br><br>Text preview:<br>Ted was a lively little boy. He was always ready for adventure. One day Ted found a shiny red helmet and he couldn't resist trying it on. He wore it e...<br><br>Token examples (context with <b>target</b> token):<br>  0: <b>Ted</b> was a lively little boy<br>  1: Ted <b>was</b> a lively little boy.<br>  2: Ted was <b>a</b> lively little boy. He<br>  3: Ted was a <b>lively</b> little boy. He was<br>  4: Ted was a lively <b>little</b> boy. He was always<br>  5: Ted was a lively little <b>boy.</b> He was always ready<br>  6: was a lively little boy. <b>He</b> was always ready for<br>  7: a lively little boy. He <b>was</b> always ready for adventure",
                    "Sample 1177<br>Sequence length: 128<br><br>Text preview:<br>One day, a group of friends were playing outside when they started to feel hot. They noticed that there was an amazing spray nearby. \n\nSo the friends ...<br><br>Token examples (context with <b>target</b> token):<br>  0: <b>One</b> day, a group of<br>  1: One <b>day,</b> a group of friends<br>  2: One day, <b>a</b> group of friends were<br>  3: One day, a <b>group</b> of friends were playing<br>  4: One day, a group <b>of</b> friends were playing outside<br>  5: One day, a group of <b>friends</b> were playing outside when<br>  6: day, a group of friends <b>were</b> playing outside when they<br>  7: , a group of friends <b>were</b> playing outside when they started",
                    "Sample 1180<br>Sequence length: 128<br><br>Text preview:<br>Once upon a time there was a family who loved to study. They would read books, learn about numbers and practice their words every day.\n\nOne day, a spe...<br><br>Token examples (context with <b>target</b> token):<br>  0: <b>Once</b> upon a time there was<br>  1: Once <b>upon</b> a time there was a<br>  2: Once upon <b>a</b> time there was a family<br>  3: Once upon a <b>time</b> there was a family who<br>  4: Once upon a time <b>there</b> was a family who loved<br>  5: Once upon a time there <b>was</b> a family who loved to<br>  6: upon a time there was <b>a</b> family who loved to study<br>  7: a time there was a <b>family</b> who loved to study.",
                    "Sample 670<br>Sequence length: 128<br><br>Text preview:<br>Once upon a time, there was a car. The car was very old and needed a mechanic to fix it. The mechanic was a serious man who worked hard to make the ca...<br><br>Token examples (context with <b>target</b> token):<br>  0: <b>Once</b> upon a time, there<br>  1: Once <b>upon</b> a time, there was<br>  2: Once upon <b>a</b> time, there was a<br>  3: Once upon a <b>time,</b> there was a car<br>  4: Once upon a time, <b>there</b> was a car.<br>  5: Once upon a time, there <b>was</b> a car. The<br>  6: upon a time, there was <b>a</b> car. The car<br>  7: a time, there was a <b>car.</b> The car was",
                    "Sample 1700<br>Sequence length: 128<br><br>Text preview:<br>Once upon a time there were two little bunnies who were very sad. They were hugging each other and crying.\n\nThe first bunny said, \"We are so sad. Why ...<br><br>Token examples (context with <b>target</b> token):<br>  0: <b>Once</b> upon a time there were<br>  1: Once <b>upon</b> a time there were two<br>  2: Once upon <b>a</b> time there were two little<br>  3: Once upon a <b>time</b> there were two little b<br>  4: Once upon a time <b>there</b> were two little bunn<br>  5: Once upon a time there <b>were</b> two little bunnies<br>  6: upon a time there were <b>two</b> little bunnies who<br>  7: a time there were two <b>little</b> bunnies who were",
                    "Sample 2020<br>Sequence length: 128<br><br>Text preview:<br>Once upon a time there was a clumsy boy. His name was Tommy. He loved to touch things.\n\nOne day, Tommy was playing in his room when he found a mysteri...<br><br>Token examples (context with <b>target</b> token):<br>  0: <b>Once</b> upon a time there was<br>  1: Once <b>upon</b> a time there was a<br>  2: Once upon <b>a</b> time there was a clumsy<br>  3: Once upon a <b>time</b> there was a clumsy boy<br>  4: Once upon a time <b>there</b> was a clumsy boy.<br>  5: Once upon a time there <b>was</b> a clumsy boy. His<br>  6: upon a time there was <b>a</b> clumsy boy. His name<br>  7: a time there was a <b>clumsy</b> boy. His name was",
                    "Sample 152<br>Sequence length: 128<br><br>Text preview:<br>A mummy and her little girl called Sarah were getting ready to go on a trip. Sarah watched as her mummy packed a big sack with lots of things.\n\n\"What'...<br><br>Token examples (context with <b>target</b> token):<br>  0: <b>A</b> mummy and her little girl<br>  1: A <b>mummy</b> and her little girl called<br>  2: A mummy <b>and</b> her little girl called Sarah<br>  3: A mummy and <b>her</b> little girl called Sarah were<br>  4: A mummy and her <b>little</b> girl called Sarah were getting<br>  5: A mummy and her little <b>girl</b> called Sarah were getting ready<br>  6: mummy and her little girl <b>called</b> Sarah were getting ready to<br>  7: and her little girl called <b>Sarah</b> were getting ready to go",
                    "Sample 1272<br>Sequence length: 128<br><br>Text preview:<br>Nick wanted to ride his bike. He was excited and put on his helmet. Nick was careful when he pedaled down the street. He went faster and smiled with d...<br><br>Token examples (context with <b>target</b> token):<br>  0: <b>Nick</b> wanted to ride his bike<br>  1: Nick <b>wanted</b> to ride his bike.<br>  2: Nick wanted <b>to</b> ride his bike. He<br>  3: Nick wanted to <b>ride</b> his bike. He was<br>  4: Nick wanted to ride <b>his</b> bike. He was excited<br>  5: Nick wanted to ride his <b>bike.</b> He was excited and<br>  6: wanted to ride his bike. <b>He</b> was excited and put<br>  7: to ride his bike. He <b>was</b> excited and put on",
                    "Sample 1497<br>Sequence length: 128<br><br>Text preview:<br>Once upon a time, there was a little girl named Lily. Lily was a very busy girl. She loved to play with her toys and run around the house. One day, sh...<br><br>Token examples (context with <b>target</b> token):<br>  0: <b>Once</b> upon a time, there<br>  1: Once <b>upon</b> a time, there was<br>  2: Once upon <b>a</b> time, there was a<br>  3: Once upon a <b>time,</b> there was a little<br>  4: Once upon a time, <b>there</b> was a little girl<br>  5: Once upon a time, there <b>was</b> a little girl named<br>  6: upon a time, there was <b>a</b> little girl named Lily<br>  7: a time, there was a <b>little</b> girl named Lily.",
                    "Sample 2043<br>Sequence length: 128<br><br>Text preview:<br>Once upon a time, there was a little boy named Billy. He was a very playful boy and loved to go outside and play. One day, Billy was outside playing w...<br><br>Token examples (context with <b>target</b> token):<br>  0: <b>Once</b> upon a time, there<br>  1: Once <b>upon</b> a time, there was<br>  2: Once upon <b>a</b> time, there was a<br>  3: Once upon a <b>time,</b> there was a little<br>  4: Once upon a time, <b>there</b> was a little boy<br>  5: Once upon a time, there <b>was</b> a little boy named<br>  6: upon a time, there was <b>a</b> little boy named Billy<br>  7: a time, there was a <b>little</b> boy named Billy.",
                    "Sample 1667<br>Sequence length: 128<br><br>Text preview:<br>Once upon a time, there were two twins called Tim and Tom. They loved to play together in the park. One day, they were running around and playing tag....<br><br>Token examples (context with <b>target</b> token):<br>  0: <b>Once</b> upon a time, there<br>  1: Once <b>upon</b> a time, there were<br>  2: Once upon <b>a</b> time, there were two<br>  3: Once upon a <b>time,</b> there were two twins<br>  4: Once upon a time, <b>there</b> were two twins called<br>  5: Once upon a time, there <b>were</b> two twins called Tim<br>  6: upon a time, there were <b>two</b> twins called Tim and<br>  7: a time, there were two <b>twins</b> called Tim and Tom",
                    "Sample 575<br>Sequence length: 128<br><br>Text preview:<br>Once upon a time there was a boy named Tim. One day, Tim wanted to visit his friend. He put on his shoes and picked up his toy car to take with him. \n...<br><br>Token examples (context with <b>target</b> token):<br>  0: <b>Once</b> upon a time there was<br>  1: Once <b>upon</b> a time there was a<br>  2: Once upon <b>a</b> time there was a boy<br>  3: Once upon a <b>time</b> there was a boy named<br>  4: Once upon a time <b>there</b> was a boy named Tim<br>  5: Once upon a time there <b>was</b> a boy named Tim.<br>  6: upon a time there was <b>a</b> boy named Tim. One<br>  7: a time there was a <b>boy</b> named Tim. One day",
                    "Sample 836<br>Sequence length: 128<br><br>Text preview:<br>Once upon a time, there was a big game. It was locked and no one could play. But then, a boy came and he had a key. He used the key to unlock the game...<br><br>Token examples (context with <b>target</b> token):<br>  0: <b>Once</b> upon a time, there<br>  1: Once <b>upon</b> a time, there was<br>  2: Once upon <b>a</b> time, there was a<br>  3: Once upon a <b>time,</b> there was a big<br>  4: Once upon a time, <b>there</b> was a big game<br>  5: Once upon a time, there <b>was</b> a big game.<br>  6: upon a time, there was <b>a</b> big game. It<br>  7: a time, there was a <b>big</b> game. It was",
                    "Sample 1985<br>Sequence length: 128<br><br>Text preview:<br>Once upon a time, there was a boy named Joe. He was a happy three year old. One day, Joe was looking at his calendar. He frowned. Something didn't sme...<br><br>Token examples (context with <b>target</b> token):<br>  0: <b>Once</b> upon a time, there<br>  1: Once <b>upon</b> a time, there was<br>  2: Once upon <b>a</b> time, there was a<br>  3: Once upon a <b>time,</b> there was a boy<br>  4: Once upon a time, <b>there</b> was a boy named<br>  5: Once upon a time, there <b>was</b> a boy named Joe<br>  6: upon a time, there was <b>a</b> boy named Joe.<br>  7: a time, there was a <b>boy</b> named Joe. He",
                    "Sample 1796<br>Sequence length: 128<br><br>Text preview:<br>Once upon a time, there was an old man walking in a park. He was whistling and singing a happy tune! \n\nLittle John was in the park too, playing with h...<br><br>Token examples (context with <b>target</b> token):<br>  0: <b>Once</b> upon a time, there<br>  1: Once <b>upon</b> a time, there was<br>  2: Once upon <b>a</b> time, there was an<br>  3: Once upon a <b>time,</b> there was an old<br>  4: Once upon a time, <b>there</b> was an old man<br>  5: Once upon a time, there <b>was</b> an old man walking<br>  6: upon a time, there was <b>an</b> old man walking in<br>  7: a time, there was an <b>old</b> man walking in a",
                    "Sample 680<br>Sequence length: 128<br><br>Text preview:<br>Once upon a time, there was a little girl named Lily. She loved to play all day and never wanted to go to sleep. Her mommy always told her to go to he...<br><br>Token examples (context with <b>target</b> token):<br>  0: <b>Once</b> upon a time, there<br>  1: Once <b>upon</b> a time, there was<br>  2: Once upon <b>a</b> time, there was a<br>  3: Once upon a <b>time,</b> there was a little<br>  4: Once upon a time, <b>there</b> was a little girl<br>  5: Once upon a time, there <b>was</b> a little girl named<br>  6: upon a time, there was <b>a</b> little girl named Lily<br>  7: a time, there was a <b>little</b> girl named Lily.",
                    "Sample 307<br>Sequence length: 128<br><br>Text preview:<br>Once upon a time there were two friends, Jack and Jill. They liked to play together every day in the park.\n\nOne day, Jack wanted to eat beef for his l...<br><br>Token examples (context with <b>target</b> token):<br>  0: <b>Once</b> upon a time there were<br>  1: Once <b>upon</b> a time there were two<br>  2: Once upon <b>a</b> time there were two friends<br>  3: Once upon a <b>time</b> there were two friends,<br>  4: Once upon a time <b>there</b> were two friends, Jack<br>  5: Once upon a time there <b>were</b> two friends, Jack and<br>  6: upon a time there were <b>two</b> friends, Jack and Jill<br>  7: a time there were two <b>friends,</b> Jack and Jill.",
                    "Sample 90<br>Sequence length: 128<br><br>Text preview:<br>Once upon a time, there was a modest car. It drove around the country at a careful speed. Every day, its driver, Lizzie, said to the car, â€œLetâ€™s g...<br><br>Token examples (context with <b>target</b> token):<br>  0: <b>Once</b> upon a time, there<br>  1: Once <b>upon</b> a time, there was<br>  2: Once upon <b>a</b> time, there was a<br>  3: Once upon a <b>time,</b> there was a modest<br>  4: Once upon a time, <b>there</b> was a modest car<br>  5: Once upon a time, there <b>was</b> a modest car.<br>  6: upon a time, there was <b>a</b> modest car. It<br>  7: a time, there was a <b>modest</b> car. It drove",
                    "Sample 145<br>Sequence length: 128<br><br>Text preview:<br>The little girl was standing on the side of the road, watching all the people and bright flags in the parade. She was so excited and wanted to join in...<br><br>Token examples (context with <b>target</b> token):<br>  0: <b>The</b> little girl was standing on<br>  1: The <b>little</b> girl was standing on the<br>  2: The little <b>girl</b> was standing on the side<br>  3: The little girl <b>was</b> standing on the side of<br>  4: The little girl was <b>standing</b> on the side of the<br>  5: The little girl was standing <b>on</b> the side of the road<br>  6: little girl was standing on <b>the</b> side of the road,<br>  7: girl was standing on the <b>side</b> of the road, watching",
                    "Sample 434<br>Sequence length: 128<br><br>Text preview:<br>Once upon a time, there was a litttle girl. She had black hair and black eyes and she was very brave. She wanted to explore the world.\n\nOne day she de...<br><br>Token examples (context with <b>target</b> token):<br>  0: <b>Once</b> upon a time, there<br>  1: Once <b>upon</b> a time, there was<br>  2: Once upon <b>a</b> time, there was a<br>  3: Once upon a <b>time,</b> there was a l<br>  4: Once upon a time, <b>there</b> was a litt<br>  5: Once upon a time, there <b>was</b> a litttle<br>  6: upon a time, there was <b>a</b> litttle girl<br>  7: a time, there was a <b>litttle</b> girl.",
                    "Sample 102<br>Sequence length: 128<br><br>Text preview:<br>One day, John and his mom were out in the woods. John was looking to find some lumber for his toy boat. They had been scourging for hours, but hadn't ...<br><br>Token examples (context with <b>target</b> token):<br>  0: <b>One</b> day, John and his<br>  1: One <b>day,</b> John and his mom<br>  2: One day, <b>John</b> and his mom were<br>  3: One day, John <b>and</b> his mom were out<br>  4: One day, John and <b>his</b> mom were out in<br>  5: One day, John and his <b>mom</b> were out in the<br>  6: day, John and his mom <b>were</b> out in the woods<br>  7: , John and his mom <b>were</b> out in the woods.",
                    "Sample 2129<br>Sequence length: 128<br><br>Text preview:<br>Sam was a curious boy who liked to examine everything he saw. One day, he found a big onion in the kitchen. He wondered what it was and how it smelled...<br><br>Token examples (context with <b>target</b> token):<br>  0: <b>Sam</b> was a curious boy who<br>  1: Sam <b>was</b> a curious boy who liked<br>  2: Sam was <b>a</b> curious boy who liked to<br>  3: Sam was a <b>curious</b> boy who liked to examine<br>  4: Sam was a curious <b>boy</b> who liked to examine everything<br>  5: Sam was a curious boy <b>who</b> liked to examine everything he<br>  6: was a curious boy who <b>liked</b> to examine everything he saw<br>  7: a curious boy who liked <b>to</b> examine everything he saw.",
                    "Sample 2195<br>Sequence length: 128<br><br>Text preview:<br>Anna and Ben are friends. They like to play in the field near their house. The field has many flowers and butterflies. Anna and Ben run and laugh and ...<br><br>Token examples (context with <b>target</b> token):<br>  0: <b>Anna</b> and Ben are friends.<br>  1: Anna <b>and</b> Ben are friends. They<br>  2: Anna and <b>Ben</b> are friends. They like<br>  3: Anna and Ben <b>are</b> friends. They like to<br>  4: Anna and Ben are <b>friends.</b> They like to play<br>  5: Anna and Ben are friends. <b>They</b> like to play in<br>  6: and Ben are friends. They <b>like</b> to play in the<br>  7: Ben are friends. They like <b>to</b> play in the field",
                    "Sample 39<br>Sequence length: 128<br><br>Text preview:<br>One day, a boy named Tim found a big hammer in his toy box. He took the hammer and went to play in the deep mud outside. While he was playing, he saw ...<br><br>Token examples (context with <b>target</b> token):<br>  0: <b>One</b> day, a boy named<br>  1: One <b>day,</b> a boy named Tim<br>  2: One day, <b>a</b> boy named Tim found<br>  3: One day, a <b>boy</b> named Tim found a<br>  4: One day, a boy <b>named</b> Tim found a big<br>  5: One day, a boy named <b>Tim</b> found a big hammer<br>  6: day, a boy named Tim <b>found</b> a big hammer in<br>  7: , a boy named Tim <b>found</b> a big hammer in his",
                    "Sample 1956<br>Sequence length: 128<br><br>Text preview:<br>Once upon a time there was a little girl called Star. Star was three and loved helping the people in her family prepare dinners.\n\nOne day, Star asked ...<br><br>Token examples (context with <b>target</b> token):<br>  0: <b>Once</b> upon a time there was<br>  1: Once <b>upon</b> a time there was a<br>  2: Once upon <b>a</b> time there was a little<br>  3: Once upon a <b>time</b> there was a little girl<br>  4: Once upon a time <b>there</b> was a little girl called<br>  5: Once upon a time there <b>was</b> a little girl called Star<br>  6: upon a time there was <b>a</b> little girl called Star.<br>  7: a time there was a <b>little</b> girl called Star. Star",
                    "Sample 1544<br>Sequence length: 128<br><br>Text preview:<br>Once upon a time, there two friends. One of them was clever, the other was not.\n\nThe clever one said to the other, \"Let's measure a car!\"\n\nThe not-so-...<br><br>Token examples (context with <b>target</b> token):<br>  0: <b>Once</b> upon a time, there<br>  1: Once <b>upon</b> a time, there two<br>  2: Once upon <b>a</b> time, there two friends<br>  3: Once upon a <b>time,</b> there two friends.<br>  4: Once upon a time, <b>there</b> two friends. One<br>  5: Once upon a time, there <b>two</b> friends. One of<br>  6: upon a time, there two <b>friends.</b> One of them<br>  7: a time, there two friends. <b>One</b> of them was",
                    "Sample 1381<br>Sequence length: 128<br><br>Text preview:<br>Once upon a time, there was a gifted dog named Spot. Spot could do many fun tricks. He could show people how he could jump very high and run very fast...<br><br>Token examples (context with <b>target</b> token):<br>  0: <b>Once</b> upon a time, there<br>  1: Once <b>upon</b> a time, there was<br>  2: Once upon <b>a</b> time, there was a<br>  3: Once upon a <b>time,</b> there was a gifted<br>  4: Once upon a time, <b>there</b> was a gifted dog<br>  5: Once upon a time, there <b>was</b> a gifted dog named<br>  6: upon a time, there was <b>a</b> gifted dog named Spot<br>  7: a time, there was a <b>gifted</b> dog named Spot.",
                    "Sample 2319<br>Sequence length: 128<br><br>Text preview:<br>Tim and Sam are friends. They like to play in the park. One day, they see a big lake. They want to swim in the lake. They run to the lake.\n\nBut the la...<br><br>Token examples (context with <b>target</b> token):<br>  0: <b>Tim</b> and Sam are friends.<br>  1: Tim <b>and</b> Sam are friends. They<br>  2: Tim and <b>Sam</b> are friends. They like<br>  3: Tim and Sam <b>are</b> friends. They like to<br>  4: Tim and Sam are <b>friends.</b> They like to play<br>  5: Tim and Sam are friends. <b>They</b> like to play in<br>  6: and Sam are friends. They <b>like</b> to play in the<br>  7: Sam are friends. They like <b>to</b> play in the park",
                    "Sample 1784<br>Sequence length: 128<br><br>Text preview:<br>Once upon a time there was a giant tree in a hidden forest. Every night an owl would come and rest in its branches. One night the owl heard a strange ...<br><br>Token examples (context with <b>target</b> token):<br>  0: <b>Once</b> upon a time there was<br>  1: Once <b>upon</b> a time there was a<br>  2: Once upon <b>a</b> time there was a giant<br>  3: Once upon a <b>time</b> there was a giant tree<br>  4: Once upon a time <b>there</b> was a giant tree in<br>  5: Once upon a time there <b>was</b> a giant tree in a<br>  6: upon a time there was <b>a</b> giant tree in a hidden<br>  7: a time there was a <b>giant</b> tree in a hidden forest",
                    "Sample 1939<br>Sequence length: 128<br><br>Text preview:<br>One morning, Jack woke up feeling adventurous. He shouted for his mum, but she was busy. He put on his shoes and went outside.\n\nSuddenly, Jack saw a p...<br><br>Token examples (context with <b>target</b> token):<br>  0: <b>One</b> morning, Jack woke up<br>  1: One <b>morning,</b> Jack woke up feeling<br>  2: One morning, <b>Jack</b> woke up feeling adventurous<br>  3: One morning, Jack <b>woke</b> up feeling adventurous.<br>  4: One morning, Jack woke <b>up</b> feeling adventurous. He<br>  5: One morning, Jack woke up <b>feeling</b> adventurous. He shouted<br>  6: morning, Jack woke up feeling <b>adventurous.</b> He shouted for<br>  7: , Jack woke up feeling <b>adventurous.</b> He shouted for his",
                    "Sample 1703<br>Sequence length: 128<br><br>Text preview:<br>Once upon a time, there was a bird with a mysterious sound. Everytime it would play and make its sound, the little animals around would smile. They al...<br><br>Token examples (context with <b>target</b> token):<br>  0: <b>Once</b> upon a time, there<br>  1: Once <b>upon</b> a time, there was<br>  2: Once upon <b>a</b> time, there was a<br>  3: Once upon a <b>time,</b> there was a bird<br>  4: Once upon a time, <b>there</b> was a bird with<br>  5: Once upon a time, there <b>was</b> a bird with a<br>  6: upon a time, there was <b>a</b> bird with a mysterious<br>  7: a time, there was a <b>bird</b> with a mysterious sound",
                    "Sample 992<br>Sequence length: 128<br><br>Text preview:<br>Anna and Ben were at the park with their mom. They liked to play on the swings, the slide and the sandbox. They saw many other kids and some dogs too....<br><br>Token examples (context with <b>target</b> token):<br>  0: <b>Anna</b> and Ben were at the<br>  1: Anna <b>and</b> Ben were at the park<br>  2: Anna and <b>Ben</b> were at the park with<br>  3: Anna and Ben <b>were</b> at the park with their<br>  4: Anna and Ben were <b>at</b> the park with their mom<br>  5: Anna and Ben were at <b>the</b> park with their mom.<br>  6: and Ben were at the <b>park</b> with their mom. They<br>  7: Ben were at the park <b>with</b> their mom. They liked",
                    "Sample 664<br>Sequence length: 128<br><br>Text preview:<br>Once upon a time, there was a little girl named Lily. She loved to play in the park with her friends. One day, she saw a big slide and wanted to try i...<br><br>Token examples (context with <b>target</b> token):<br>  0: <b>Once</b> upon a time, there<br>  1: Once <b>upon</b> a time, there was<br>  2: Once upon <b>a</b> time, there was a<br>  3: Once upon a <b>time,</b> there was a little<br>  4: Once upon a time, <b>there</b> was a little girl<br>  5: Once upon a time, there <b>was</b> a little girl named<br>  6: upon a time, there was <b>a</b> little girl named Lily<br>  7: a time, there was a <b>little</b> girl named Lily.",
                    "Sample 1536<br>Sequence length: 128<br><br>Text preview:<br>Once upon a time, there was a little girl who was very intelligent. She went to the store with her mom and bought a new toy. The toy had lots of littl...<br><br>Token examples (context with <b>target</b> token):<br>  0: <b>Once</b> upon a time, there<br>  1: Once <b>upon</b> a time, there was<br>  2: Once upon <b>a</b> time, there was a<br>  3: Once upon a <b>time,</b> there was a little<br>  4: Once upon a time, <b>there</b> was a little girl<br>  5: Once upon a time, there <b>was</b> a little girl who<br>  6: upon a time, there was <b>a</b> little girl who was<br>  7: a time, there was a <b>little</b> girl who was very",
                    "Sample 2078<br>Sequence length: 128<br><br>Text preview:<br>Once upon a time there was a little girl called Millie. Millie loved playing outside in the sun, and she often went to the beach to explore the shore....<br><br>Token examples (context with <b>target</b> token):<br>  0: <b>Once</b> upon a time there was<br>  1: Once <b>upon</b> a time there was a<br>  2: Once upon <b>a</b> time there was a little<br>  3: Once upon a <b>time</b> there was a little girl<br>  4: Once upon a time <b>there</b> was a little girl called<br>  5: Once upon a time there <b>was</b> a little girl called Mill<br>  6: upon a time there was <b>a</b> little girl called Millie<br>  7: a time there was a <b>little</b> girl called Millie.",
                    "Sample 361<br>Sequence length: 128<br><br>Text preview:<br>Once there was a huge bird. It lived high up in the sky and loved the wind. Every day, it would soar among the clouds and look down on the people in t...<br><br>Token examples (context with <b>target</b> token):<br>  0: <b>Once</b> there was a huge bird<br>  1: Once <b>there</b> was a huge bird.<br>  2: Once there <b>was</b> a huge bird. It<br>  3: Once there was <b>a</b> huge bird. It lived<br>  4: Once there was a <b>huge</b> bird. It lived high<br>  5: Once there was a huge <b>bird.</b> It lived high up<br>  6: there was a huge bird. <b>It</b> lived high up in<br>  7: was a huge bird. It <b>lived</b> high up in the",
                    "Sample 203<br>Sequence length: 128<br><br>Text preview:<br>Once upon a time there were two friends, Jack and Lea. They were playing in the park one day when Jack said, \"Let's do an exercise!\" \n\nLea said, \"What...<br><br>Token examples (context with <b>target</b> token):<br>  0: <b>Once</b> upon a time there were<br>  1: Once <b>upon</b> a time there were two<br>  2: Once upon <b>a</b> time there were two friends<br>  3: Once upon a <b>time</b> there were two friends,<br>  4: Once upon a time <b>there</b> were two friends, Jack<br>  5: Once upon a time there <b>were</b> two friends, Jack and<br>  6: upon a time there were <b>two</b> friends, Jack and Le<br>  7: a time there were two <b>friends,</b> Jack and Lea",
                    "Sample 1051<br>Sequence length: 128<br><br>Text preview:<br>Once upon a time there were two friends, Joe and Sally. They loved playing together and always had fun. One day they were walking in the park and noti...<br><br>Token examples (context with <b>target</b> token):<br>  0: <b>Once</b> upon a time there were<br>  1: Once <b>upon</b> a time there were two<br>  2: Once upon <b>a</b> time there were two friends<br>  3: Once upon a <b>time</b> there were two friends,<br>  4: Once upon a time <b>there</b> were two friends, Joe<br>  5: Once upon a time there <b>were</b> two friends, Joe and<br>  6: upon a time there were <b>two</b> friends, Joe and Sally<br>  7: a time there were two <b>friends,</b> Joe and Sally.",
                    "Sample 1712<br>Sequence length: 128<br><br>Text preview:<br>Once upon a time there was a wise old fox who lived near by a big forest. The fox had a beautiful coat of bright red fur. All the other animals of the...<br><br>Token examples (context with <b>target</b> token):<br>  0: <b>Once</b> upon a time there was<br>  1: Once <b>upon</b> a time there was a<br>  2: Once upon <b>a</b> time there was a wise<br>  3: Once upon a <b>time</b> there was a wise old<br>  4: Once upon a time <b>there</b> was a wise old fox<br>  5: Once upon a time there <b>was</b> a wise old fox who<br>  6: upon a time there was <b>a</b> wise old fox who lived<br>  7: a time there was a <b>wise</b> old fox who lived near",
                    "Sample 2026<br>Sequence length: 128<br><br>Text preview:<br>James was walking down the street with mommy. It was a sunny day, the sun was shining and the birds were singing.\n\n\"Mommy, why is there a sign up ahea...<br><br>Token examples (context with <b>target</b> token):<br>  0: <b>James</b> was walking down the street<br>  1: James <b>was</b> walking down the street with<br>  2: James was <b>walking</b> down the street with mom<br>  3: James was walking <b>down</b> the street with mommy<br>  4: James was walking down <b>the</b> street with mommy.<br>  5: James was walking down the <b>street</b> with mommy. It<br>  6: was walking down the street <b>with</b> mommy. It was<br>  7: walking down the street with <b>mommy.</b> It was a",
                    "Sample 979<br>Sequence length: 128<br><br>Text preview:<br>Tim and Sam are playing with blocks. They like to build towers and houses and cars. Tim has a red block and Sam has a blue block. They want to make a ...<br><br>Token examples (context with <b>target</b> token):<br>  0: <b>Tim</b> and Sam are playing with<br>  1: Tim <b>and</b> Sam are playing with blocks<br>  2: Tim and <b>Sam</b> are playing with blocks.<br>  3: Tim and Sam <b>are</b> playing with blocks. They<br>  4: Tim and Sam are <b>playing</b> with blocks. They like<br>  5: Tim and Sam are playing <b>with</b> blocks. They like to<br>  6: and Sam are playing with <b>blocks.</b> They like to build<br>  7: Sam are playing with blocks. <b>They</b> like to build towers",
                    "Sample 522<br>Sequence length: 128<br><br>Text preview:<br>Once there was a truck. It was big and strong and very reliable. Everyone in town knew they could trust the truck. It was always there to help.\n\nBut t...<br><br>Token examples (context with <b>target</b> token):<br>  0: <b>Once</b> there was a truck.<br>  1: Once <b>there</b> was a truck. It<br>  2: Once there <b>was</b> a truck. It was<br>  3: Once there was <b>a</b> truck. It was big<br>  4: Once there was a <b>truck.</b> It was big and<br>  5: Once there was a truck. <b>It</b> was big and strong<br>  6: there was a truck. It <b>was</b> big and strong and<br>  7: was a truck. It was <b>big</b> and strong and very",
                    "Sample 1314<br>Sequence length: 128<br><br>Text preview:<br>Once upon a time there was a little girl called Sam. Sam was very brave, but she was also very small.\n\nOne day, Sam had to travel across the sea to a ...<br><br>Token examples (context with <b>target</b> token):<br>  0: <b>Once</b> upon a time there was<br>  1: Once <b>upon</b> a time there was a<br>  2: Once upon <b>a</b> time there was a little<br>  3: Once upon a <b>time</b> there was a little girl<br>  4: Once upon a time <b>there</b> was a little girl called<br>  5: Once upon a time there <b>was</b> a little girl called Sam<br>  6: upon a time there was <b>a</b> little girl called Sam.<br>  7: a time there was a <b>little</b> girl called Sam. Sam",
                    "Sample 1056<br>Sequence length: 128<br><br>Text preview:<br>Once there was a little girl who was very fearful. One night she heard a loud noise coming from her bedroom. It sounded like something was inside her ...<br><br>Token examples (context with <b>target</b> token):<br>  0: <b>Once</b> there was a little girl<br>  1: Once <b>there</b> was a little girl who<br>  2: Once there <b>was</b> a little girl who was<br>  3: Once there was <b>a</b> little girl who was very<br>  4: Once there was a <b>little</b> girl who was very fearful<br>  5: Once there was a little <b>girl</b> who was very fearful.<br>  6: there was a little girl <b>who</b> was very fearful. One<br>  7: was a little girl who <b>was</b> very fearful. One night",
                    "Sample 2106<br>Sequence length: 128<br><br>Text preview:<br>Lily liked to write. She had a big book and a red pen. She wrote her name, her mom's name, and her cat's name. She wrote some letters and some shapes....<br><br>Token examples (context with <b>target</b> token):<br>  0: <b>Lily</b> liked to write.<br>  1: Lily <b>liked</b> to write. She<br>  2: Lily liked <b>to</b> write. She had<br>  3: Lily liked to <b>write.</b> She had a<br>  4: Lily liked to write. <b>She</b> had a big<br>  5: Lily liked to write. She <b>had</b> a big book<br>  6: ily liked to write. She <b>had</b> a big book and<br>  7: liked to write. She had <b>a</b> big book and a",
                    "Sample 258<br>Sequence length: 128<br><br>Text preview:<br>Once upon a time, there was a group of yellow chickens on a farm. Every morning they would run around, looking for things to eat and play. One day, th...<br><br>Token examples (context with <b>target</b> token):<br>  0: <b>Once</b> upon a time, there<br>  1: Once <b>upon</b> a time, there was<br>  2: Once upon <b>a</b> time, there was a<br>  3: Once upon a <b>time,</b> there was a group<br>  4: Once upon a time, <b>there</b> was a group of<br>  5: Once upon a time, there <b>was</b> a group of yellow<br>  6: upon a time, there was <b>a</b> group of yellow chickens<br>  7: a time, there was a <b>group</b> of yellow chickens on",
                    "Sample 2356<br>Sequence length: 128<br><br>Text preview:<br>Once upon a time, there was a bald man named Tom. Tom loved to eat candy, but he didn't like the taste of it when it was dirty. One day, he went to a ...<br><br>Token examples (context with <b>target</b> token):<br>  0: <b>Once</b> upon a time, there<br>  1: Once <b>upon</b> a time, there was<br>  2: Once upon <b>a</b> time, there was a<br>  3: Once upon a <b>time,</b> there was a bald<br>  4: Once upon a time, <b>there</b> was a bald man<br>  5: Once upon a time, there <b>was</b> a bald man named<br>  6: upon a time, there was <b>a</b> bald man named Tom<br>  7: a time, there was a <b>bald</b> man named Tom.",
                    "Sample 1850<br>Sequence length: 128<br><br>Text preview:<br>Once upon a time a little girl went for a walk in the park. As she went, she looked around at all of the interesting things she saw. Suddenly, she saw...<br><br>Token examples (context with <b>target</b> token):<br>  0: <b>Once</b> upon a time a little<br>  1: Once <b>upon</b> a time a little girl<br>  2: Once upon <b>a</b> time a little girl went<br>  3: Once upon a <b>time</b> a little girl went for<br>  4: Once upon a time <b>a</b> little girl went for a<br>  5: Once upon a time a <b>little</b> girl went for a walk<br>  6: upon a time a little <b>girl</b> went for a walk in<br>  7: a time a little girl <b>went</b> for a walk in the",
                    "Sample 987<br>Sequence length: 128<br><br>Text preview:<br>Anna and Ben were playing with their toys in the park. They saw a big crane lifting heavy things. They wanted to know how it worked.\n\n\"Let's go and as...<br><br>Token examples (context with <b>target</b> token):<br>  0: <b>Anna</b> and Ben were playing with<br>  1: Anna <b>and</b> Ben were playing with their<br>  2: Anna and <b>Ben</b> were playing with their toys<br>  3: Anna and Ben <b>were</b> playing with their toys in<br>  4: Anna and Ben were <b>playing</b> with their toys in the<br>  5: Anna and Ben were playing <b>with</b> their toys in the park<br>  6: and Ben were playing with <b>their</b> toys in the park.<br>  7: Ben were playing with their <b>toys</b> in the park. They",
                    "Sample 1613<br>Sequence length: 128<br><br>Text preview:<br>One day there was a modern car. It was bright green and had lots of buttons. The car belonged to a little boy. He loved to play with the buttons on th...<br><br>Token examples (context with <b>target</b> token):<br>  0: <b>One</b> day there was a modern<br>  1: One <b>day</b> there was a modern car<br>  2: One day <b>there</b> was a modern car.<br>  3: One day there <b>was</b> a modern car. It<br>  4: One day there was <b>a</b> modern car. It was<br>  5: One day there was a <b>modern</b> car. It was bright<br>  6: day there was a modern <b>car.</b> It was bright green<br>  7: there was a modern car. <b>It</b> was bright green and",
                    "Sample 1406<br>Sequence length: 128<br><br>Text preview:<br>Once upon a time, there was a frog named Fred. Fred loved to hop and play with his friends. One day, Fred saw an attractive red blanket on the grass. ...<br><br>Token examples (context with <b>target</b> token):<br>  0: <b>Once</b> upon a time, there<br>  1: Once <b>upon</b> a time, there was<br>  2: Once upon <b>a</b> time, there was a<br>  3: Once upon a <b>time,</b> there was a frog<br>  4: Once upon a time, <b>there</b> was a frog named<br>  5: Once upon a time, there <b>was</b> a frog named Fred<br>  6: upon a time, there was <b>a</b> frog named Fred.<br>  7: a time, there was a <b>frog</b> named Fred. Fred",
                    "Sample 640<br>Sequence length: 128<br><br>Text preview:<br>Once upon a time, there was a strong cone in the park. It was so big that no-one could move it.\n\nOne day, a little boy came to the park with his dad. ...<br><br>Token examples (context with <b>target</b> token):<br>  0: <b>Once</b> upon a time, there<br>  1: Once <b>upon</b> a time, there was<br>  2: Once upon <b>a</b> time, there was a<br>  3: Once upon a <b>time,</b> there was a strong<br>  4: Once upon a time, <b>there</b> was a strong cone<br>  5: Once upon a time, there <b>was</b> a strong cone in<br>  6: upon a time, there was <b>a</b> strong cone in the<br>  7: a time, there was a <b>strong</b> cone in the park",
                    "Sample 1089<br>Sequence length: 128<br><br>Text preview:<br>One day, there was a wild seat in the park. It was big and made of wood. Mum sat down and she asked her little girl if she wanted to sit too. The litt...<br><br>Token examples (context with <b>target</b> token):<br>  0: <b>One</b> day, there was a<br>  1: One <b>day,</b> there was a wild<br>  2: One day, <b>there</b> was a wild seat<br>  3: One day, there <b>was</b> a wild seat in<br>  4: One day, there was <b>a</b> wild seat in the<br>  5: One day, there was a <b>wild</b> seat in the park<br>  6: day, there was a wild <b>seat</b> in the park.<br>  7: , there was a wild <b>seat</b> in the park. It",
                    "Sample 2256<br>Sequence length: 128<br><br>Text preview:<br>Spot was a dog who liked to play with his friends. He had a ball, a bone and a rope. He was happy when he shared his toys with other dogs. But one day...<br><br>Token examples (context with <b>target</b> token):<br>  0: <b>Spot</b> was a dog who liked<br>  1: Spot <b>was</b> a dog who liked to<br>  2: Spot was <b>a</b> dog who liked to play<br>  3: Spot was a <b>dog</b> who liked to play with<br>  4: Spot was a dog <b>who</b> liked to play with his<br>  5: Spot was a dog who <b>liked</b> to play with his friends<br>  6: was a dog who liked <b>to</b> play with his friends.<br>  7: a dog who liked to <b>play</b> with his friends. He",
                    "Sample 1344<br>Sequence length: 128<br><br>Text preview:<br>Once upon a time there was an ash tree. It was mighty tall and stood in the middle of a sunny field. Every day it waved in the wind and twinkled in th...<br><br>Token examples (context with <b>target</b> token):<br>  0: <b>Once</b> upon a time there was<br>  1: Once <b>upon</b> a time there was an<br>  2: Once upon <b>a</b> time there was an ash<br>  3: Once upon a <b>time</b> there was an ash tree<br>  4: Once upon a time <b>there</b> was an ash tree.<br>  5: Once upon a time there <b>was</b> an ash tree. It<br>  6: upon a time there was <b>an</b> ash tree. It was<br>  7: a time there was an <b>ash</b> tree. It was mighty",
                    "Sample 1672<br>Sequence length: 128<br><br>Text preview:<br>Once there was a brave knight. He was traveling in a far away land when he saw a volcano. He was very curious, so he decided to explore it. He rode cl...<br><br>Token examples (context with <b>target</b> token):<br>  0: <b>Once</b> there was a brave knight<br>  1: Once <b>there</b> was a brave knight.<br>  2: Once there <b>was</b> a brave knight. He<br>  3: Once there was <b>a</b> brave knight. He was<br>  4: Once there was a <b>brave</b> knight. He was traveling<br>  5: Once there was a brave <b>knight.</b> He was traveling in<br>  6: there was a brave knight. <b>He</b> was traveling in a<br>  7: was a brave knight. He <b>was</b> traveling in a far",
                    "Sample 37<br>Sequence length: 128<br><br>Text preview:<br>Once upon a time, in a small house, there was a cat and a dog. They liked to play all day. One day, they saw a shiny chain on the floor. They both wan...<br><br>Token examples (context with <b>target</b> token):<br>  0: <b>Once</b> upon a time, in<br>  1: Once <b>upon</b> a time, in a<br>  2: Once upon <b>a</b> time, in a small<br>  3: Once upon a <b>time,</b> in a small house<br>  4: Once upon a time, <b>in</b> a small house,<br>  5: Once upon a time, in <b>a</b> small house, there<br>  6: upon a time, in a <b>small</b> house, there was<br>  7: a time, in a small <b>house,</b> there was a",
                    "Sample 310<br>Sequence length: 128<br><br>Text preview:<br>Once upon a time, there was a little boy named Jack. Jack was a happy and active child who loved to play around wherever he went.\n\nToday, Jack was fee...<br><br>Token examples (context with <b>target</b> token):<br>  0: <b>Once</b> upon a time, there<br>  1: Once <b>upon</b> a time, there was<br>  2: Once upon <b>a</b> time, there was a<br>  3: Once upon a <b>time,</b> there was a little<br>  4: Once upon a time, <b>there</b> was a little boy<br>  5: Once upon a time, there <b>was</b> a little boy named<br>  6: upon a time, there was <b>a</b> little boy named Jack<br>  7: a time, there was a <b>little</b> boy named Jack.",
                    "Sample 2309<br>Sequence length: 128<br><br>Text preview:<br>Lily liked to help her mom in the kitchen. She wanted to be a good cook like her mom. Today, they were going to make soup for lunch. Mom said they nee...<br><br>Token examples (context with <b>target</b> token):<br>  0: <b>Lily</b> liked to help her<br>  1: Lily <b>liked</b> to help her mom<br>  2: Lily liked <b>to</b> help her mom in<br>  3: Lily liked to <b>help</b> her mom in the<br>  4: Lily liked to help <b>her</b> mom in the kitchen<br>  5: Lily liked to help her <b>mom</b> in the kitchen.<br>  6: ily liked to help her <b>mom</b> in the kitchen. She<br>  7: liked to help her mom <b>in</b> the kitchen. She wanted",
                    "Sample 1121<br>Sequence length: 128<br><br>Text preview:<br>Jimmy was walking home from school. It was dark outside. As he walked, he saw an old house. The windows were dark and it was so quiet. He wanted to se...<br><br>Token examples (context with <b>target</b> token):<br>  0: <b>Jimmy</b> was walking home from school<br>  1: Jimmy <b>was</b> walking home from school.<br>  2: Jimmy was <b>walking</b> home from school. It<br>  3: Jimmy was walking <b>home</b> from school. It was<br>  4: Jimmy was walking home <b>from</b> school. It was dark<br>  5: Jimmy was walking home from <b>school.</b> It was dark outside<br>  6: was walking home from school. <b>It</b> was dark outside.<br>  7: walking home from school. It <b>was</b> dark outside. As",
                    "Sample 368<br>Sequence length: 128<br><br>Text preview:<br>Once upon a time there was a charming little girl and her father. Every day they liked to play together. One day the little girl had a paper in her ha...<br><br>Token examples (context with <b>target</b> token):<br>  0: <b>Once</b> upon a time there was<br>  1: Once <b>upon</b> a time there was a<br>  2: Once upon <b>a</b> time there was a charming<br>  3: Once upon a <b>time</b> there was a charming little<br>  4: Once upon a time <b>there</b> was a charming little girl<br>  5: Once upon a time there <b>was</b> a charming little girl and<br>  6: upon a time there was <b>a</b> charming little girl and her<br>  7: a time there was a <b>charming</b> little girl and her father",
                    "Sample 2380<br>Sequence length: 128<br><br>Text preview:<br>Once upon a time, there was a friendly cat named Mittens. Mittens loved to explore and go on adventures. One day, Mittens found a map that showed a bi...<br><br>Token examples (context with <b>target</b> token):<br>  0: <b>Once</b> upon a time, there<br>  1: Once <b>upon</b> a time, there was<br>  2: Once upon <b>a</b> time, there was a<br>  3: Once upon a <b>time,</b> there was a friendly<br>  4: Once upon a time, <b>there</b> was a friendly cat<br>  5: Once upon a time, there <b>was</b> a friendly cat named<br>  6: upon a time, there was <b>a</b> friendly cat named Mitt<br>  7: a time, there was a <b>friendly</b> cat named Mittens",
                    "Sample 1767<br>Sequence length: 128<br><br>Text preview:<br>Once upon a time there was a curious little boy. He wanted to explore the world all around him. So he started down a path.\n\nAs he walked along the pat...<br><br>Token examples (context with <b>target</b> token):<br>  0: <b>Once</b> upon a time there was<br>  1: Once <b>upon</b> a time there was a<br>  2: Once upon <b>a</b> time there was a curious<br>  3: Once upon a <b>time</b> there was a curious little<br>  4: Once upon a time <b>there</b> was a curious little boy<br>  5: Once upon a time there <b>was</b> a curious little boy.<br>  6: upon a time there was <b>a</b> curious little boy. He<br>  7: a time there was a <b>curious</b> little boy. He wanted",
                    "Sample 291<br>Sequence length: 128<br><br>Text preview:<br>Once there was a panda who was very hairy. He was called Andy. Every day, Andy would go and search for food.\n\nOne day, he was walking deep in the fore...<br><br>Token examples (context with <b>target</b> token):<br>  0: <b>Once</b> there was a panda<br>  1: Once <b>there</b> was a panda who<br>  2: Once there <b>was</b> a panda who was<br>  3: Once there was <b>a</b> panda who was very<br>  4: Once there was a <b>panda</b> who was very hairy<br>  5: Once there was a panda <b>who</b> was very hairy.<br>  6: there was a panda who <b>was</b> very hairy. He<br>  7: was a panda who was <b>very</b> hairy. He was",
                    "Sample 208<br>Sequence length: 128<br><br>Text preview:<br>Minnie was a three year old girl who loved to explore. One day, she decided to investigate an old house in the woods. As she started to look around, s...<br><br>Token examples (context with <b>target</b> token):<br>  0: <b>Minnie</b> was a three year<br>  1: Minnie <b>was</b> a three year old<br>  2: Minnie was <b>a</b> three year old girl<br>  3: Minnie was a <b>three</b> year old girl who<br>  4: Minnie was a three <b>year</b> old girl who loved<br>  5: Minnie was a three year <b>old</b> girl who loved to<br>  6: innie was a three year <b>old</b> girl who loved to explore<br>  7: was a three year old <b>girl</b> who loved to explore.",
                    "Sample 913<br>Sequence length: 128<br><br>Text preview:<br>Lila and Lulu were twins. They liked to play with their dolls. They had many dolls, but their favorite was Molly. Molly had smooth hair and a pretty d...<br><br>Token examples (context with <b>target</b> token):<br>  0: <b>Lila</b> and Lulu were<br>  1: Lila <b>and</b> Lulu were twins<br>  2: Lila and <b>Lulu</b> were twins.<br>  3: Lila and Lulu <b>were</b> twins. They<br>  4: Lila and Lulu were <b>twins.</b> They liked<br>  5: Lila and Lulu were twins. <b>They</b> liked to<br>  6: ila and Lulu were twins. <b>They</b> liked to play<br>  7: and Lulu were twins. They <b>liked</b> to play with",
                    "Sample 689<br>Sequence length: 128<br><br>Text preview:<br>Once upon a time, there was a little girl named Lily. She loved to play with her toys and run around outside. One day, her mom asked her to clean her ...<br><br>Token examples (context with <b>target</b> token):<br>  0: <b>Once</b> upon a time, there<br>  1: Once <b>upon</b> a time, there was<br>  2: Once upon <b>a</b> time, there was a<br>  3: Once upon a <b>time,</b> there was a little<br>  4: Once upon a time, <b>there</b> was a little girl<br>  5: Once upon a time, there <b>was</b> a little girl named<br>  6: upon a time, there was <b>a</b> little girl named Lily<br>  7: a time, there was a <b>little</b> girl named Lily.",
                    "Sample 313<br>Sequence length: 128<br><br>Text preview:<br>Mia was building lots of different shapes with blocks. She had built a big circle and a square and lots of different shapes! Daddy came in to join her...<br><br>Token examples (context with <b>target</b> token):<br>  0: <b>Mia</b> was building lots of<br>  1: Mia <b>was</b> building lots of different<br>  2: Mia was <b>building</b> lots of different shapes<br>  3: Mia was building <b>lots</b> of different shapes with<br>  4: Mia was building lots <b>of</b> different shapes with blocks<br>  5: Mia was building lots of <b>different</b> shapes with blocks.<br>  6: ia was building lots of <b>different</b> shapes with blocks. She<br>  7: was building lots of different <b>shapes</b> with blocks. She had",
                    "Sample 536<br>Sequence length: 128<br><br>Text preview:<br>Once upon a time there was a little girl. Her name was Lucy. She was three years old.\n\nEvery morning, Lucy's mommy would raise her up and give her a b...<br><br>Token examples (context with <b>target</b> token):<br>  0: <b>Once</b> upon a time there was<br>  1: Once <b>upon</b> a time there was a<br>  2: Once upon <b>a</b> time there was a little<br>  3: Once upon a <b>time</b> there was a little girl<br>  4: Once upon a time <b>there</b> was a little girl.<br>  5: Once upon a time there <b>was</b> a little girl. Her<br>  6: upon a time there was <b>a</b> little girl. Her name<br>  7: a time there was a <b>little</b> girl. Her name was",
                    "Sample 260<br>Sequence length: 128<br><br>Text preview:<br>Once upon a time, there was a little girl named Lucy. She was only three years old. She loved playing outside in the sunshine and running around with ...<br><br>Token examples (context with <b>target</b> token):<br>  0: <b>Once</b> upon a time, there<br>  1: Once <b>upon</b> a time, there was<br>  2: Once upon <b>a</b> time, there was a<br>  3: Once upon a <b>time,</b> there was a little<br>  4: Once upon a time, <b>there</b> was a little girl<br>  5: Once upon a time, there <b>was</b> a little girl named<br>  6: upon a time, there was <b>a</b> little girl named Lucy<br>  7: a time, there was a <b>little</b> girl named Lucy.",
                    "Sample 1809<br>Sequence length: 128<br><br>Text preview:<br>Once upon a time, there was a little girl named Grace. Grace was obedient and always did what the grown-ups told her. Her parents were so proud of lit...<br><br>Token examples (context with <b>target</b> token):<br>  0: <b>Once</b> upon a time, there<br>  1: Once <b>upon</b> a time, there was<br>  2: Once upon <b>a</b> time, there was a<br>  3: Once upon a <b>time,</b> there was a little<br>  4: Once upon a time, <b>there</b> was a little girl<br>  5: Once upon a time, there <b>was</b> a little girl named<br>  6: upon a time, there was <b>a</b> little girl named Grace<br>  7: a time, there was a <b>little</b> girl named Grace.",
                    "Sample 2214<br>Sequence length: 128<br><br>Text preview:<br>Once upon a time, there was a sailor. He liked to travel on his boat. One day, he woke up feeling grumpy. He didn't know why he felt that way. He went...<br><br>Token examples (context with <b>target</b> token):<br>  0: <b>Once</b> upon a time, there<br>  1: Once <b>upon</b> a time, there was<br>  2: Once upon <b>a</b> time, there was a<br>  3: Once upon a <b>time,</b> there was a sailor<br>  4: Once upon a time, <b>there</b> was a sailor.<br>  5: Once upon a time, there <b>was</b> a sailor. He<br>  6: upon a time, there was <b>a</b> sailor. He liked<br>  7: a time, there was a <b>sailor.</b> He liked to",
                    "Sample 1689<br>Sequence length: 128<br><br>Text preview:<br>Sammy was walking in the park. He looked around and was so excited to see how colorful it was. Everywhere he looked he saw grass that was different co...<br><br>Token examples (context with <b>target</b> token):<br>  0: <b>Sammy</b> was walking in the<br>  1: Sammy <b>was</b> walking in the park<br>  2: Sammy was <b>walking</b> in the park.<br>  3: Sammy was walking <b>in</b> the park. He<br>  4: Sammy was walking in <b>the</b> park. He looked<br>  5: Sammy was walking in the <b>park.</b> He looked around<br>  6: my was walking in the <b>park.</b> He looked around and<br>  7: was walking in the park. <b>He</b> looked around and was",
                    "Sample 1518<br>Sequence length: 128<br><br>Text preview:<br>Once there was a small fish. It swam in the pond and had a lot of fun. The fish loved to splash and jump out of the water. One day, it saw a square on...<br><br>Token examples (context with <b>target</b> token):<br>  0: <b>Once</b> there was a small fish<br>  1: Once <b>there</b> was a small fish.<br>  2: Once there <b>was</b> a small fish. It<br>  3: Once there was <b>a</b> small fish. It sw<br>  4: Once there was a <b>small</b> fish. It swam<br>  5: Once there was a small <b>fish.</b> It swam in<br>  6: there was a small fish. <b>It</b> swam in the<br>  7: was a small fish. It <b>swam</b> in the pond",
                    "Sample 2382<br>Sequence length: 128<br><br>Text preview:<br>Once upon a time, there was a little girl named Lily. One day, she went to the ice cream truck and received a cone with her favorite flavor, chocolate...<br><br>Token examples (context with <b>target</b> token):<br>  0: <b>Once</b> upon a time, there<br>  1: Once <b>upon</b> a time, there was<br>  2: Once upon <b>a</b> time, there was a<br>  3: Once upon a <b>time,</b> there was a little<br>  4: Once upon a time, <b>there</b> was a little girl<br>  5: Once upon a time, there <b>was</b> a little girl named<br>  6: upon a time, there was <b>a</b> little girl named Lily<br>  7: a time, there was a <b>little</b> girl named Lily.",
                    "Sample 306<br>Sequence length: 128<br><br>Text preview:<br>Once upon a time, there lived a little girl. She had a special mission; to collect doves. Everyday she would put on her brightly coloured dress and he...<br><br>Token examples (context with <b>target</b> token):<br>  0: <b>Once</b> upon a time, there<br>  1: Once <b>upon</b> a time, there lived<br>  2: Once upon <b>a</b> time, there lived a<br>  3: Once upon a <b>time,</b> there lived a little<br>  4: Once upon a time, <b>there</b> lived a little girl<br>  5: Once upon a time, there <b>lived</b> a little girl.<br>  6: upon a time, there lived <b>a</b> little girl. She<br>  7: a time, there lived a <b>little</b> girl. She had",
                    "Sample 594<br>Sequence length: 128<br><br>Text preview:<br>Today, Jake and Anny were playing in the garden. Jake had a rough toy train that he liked to push around. Suddenly, when they weren't looking, the toy...<br><br>Token examples (context with <b>target</b> token):<br>  0: <b>Today,</b> Jake and Anny<br>  1: Today, <b>Jake</b> and Anny were<br>  2: Today, Jake <b>and</b> Anny were playing<br>  3: Today, Jake and <b>Anny</b> were playing in<br>  4: Today, Jake and Anny <b>were</b> playing in the<br>  5: Today, Jake and Anny were <b>playing</b> in the garden<br>  6: , Jake and Anny were <b>playing</b> in the garden.<br>  7: Jake and Anny were playing <b>in</b> the garden. Jake",
                    "Sample 107<br>Sequence length: 128<br><br>Text preview:<br>Once upon a time there was a small boy who wanted to go on an adventure. He decided to take a boat out to sea. After a few hours, the boat sailed onto...<br><br>Token examples (context with <b>target</b> token):<br>  0: <b>Once</b> upon a time there was<br>  1: Once <b>upon</b> a time there was a<br>  2: Once upon <b>a</b> time there was a small<br>  3: Once upon a <b>time</b> there was a small boy<br>  4: Once upon a time <b>there</b> was a small boy who<br>  5: Once upon a time there <b>was</b> a small boy who wanted<br>  6: upon a time there was <b>a</b> small boy who wanted to<br>  7: a time there was a <b>small</b> boy who wanted to go",
                    "Sample 752<br>Sequence length: 128<br><br>Text preview:<br>Lily and Sam were playing with their trucks in the backyard. They liked to make noises and pretend they were driving on the road. Lily had a red truck...<br><br>Token examples (context with <b>target</b> token):<br>  0: <b>Lily</b> and Sam were playing<br>  1: Lily <b>and</b> Sam were playing with<br>  2: Lily and <b>Sam</b> were playing with their<br>  3: Lily and Sam <b>were</b> playing with their trucks<br>  4: Lily and Sam were <b>playing</b> with their trucks in<br>  5: Lily and Sam were playing <b>with</b> their trucks in the<br>  6: ily and Sam were playing <b>with</b> their trucks in the backyard<br>  7: and Sam were playing with <b>their</b> trucks in the backyard.",
                    "Sample 1679<br>Sequence length: 128<br><br>Text preview:<br>Sam was a bald man. Every day he would put on his special jacket. The jacket was very important to Sam. It had lots of pockets, and in them was all th...<br><br>Token examples (context with <b>target</b> token):<br>  0: <b>Sam</b> was a bald man.<br>  1: Sam <b>was</b> a bald man. Every<br>  2: Sam was <b>a</b> bald man. Every day<br>  3: Sam was a <b>bald</b> man. Every day he<br>  4: Sam was a bald <b>man.</b> Every day he would<br>  5: Sam was a bald man. <b>Every</b> day he would put<br>  6: was a bald man. Every <b>day</b> he would put on<br>  7: a bald man. Every day <b>he</b> would put on his",
                    "Sample 1839<br>Sequence length: 128<br><br>Text preview:<br>Once upon a time there was a clumsy rabbit. He was always bumping into things and tripping over his feet. But one day, he found an amazing jewel. It w...<br><br>Token examples (context with <b>target</b> token):<br>  0: <b>Once</b> upon a time there was<br>  1: Once <b>upon</b> a time there was a<br>  2: Once upon <b>a</b> time there was a clumsy<br>  3: Once upon a <b>time</b> there was a clumsy rabbit<br>  4: Once upon a time <b>there</b> was a clumsy rabbit.<br>  5: Once upon a time there <b>was</b> a clumsy rabbit. He<br>  6: upon a time there was <b>a</b> clumsy rabbit. He was<br>  7: a time there was a <b>clumsy</b> rabbit. He was always",
                    "Sample 432<br>Sequence length: 128<br><br>Text preview:<br>Once upon a time there was a mechanic. He had a long day because he had to fix a lot of cars. He was so tired, he decided to take a break. So he went ...<br><br>Token examples (context with <b>target</b> token):<br>  0: <b>Once</b> upon a time there was<br>  1: Once <b>upon</b> a time there was a<br>  2: Once upon <b>a</b> time there was a mechanic<br>  3: Once upon a <b>time</b> there was a mechanic.<br>  4: Once upon a time <b>there</b> was a mechanic. He<br>  5: Once upon a time there <b>was</b> a mechanic. He had<br>  6: upon a time there was <b>a</b> mechanic. He had a<br>  7: a time there was a <b>mechanic.</b> He had a long",
                    "Sample 2240<br>Sequence length: 128<br><br>Text preview:<br>Once upon a time, there was a little girl named Lily. She loved to play outside in the sunshine. One day, she went on a walk with her mommy. They walk...<br><br>Token examples (context with <b>target</b> token):<br>  0: <b>Once</b> upon a time, there<br>  1: Once <b>upon</b> a time, there was<br>  2: Once upon <b>a</b> time, there was a<br>  3: Once upon a <b>time,</b> there was a little<br>  4: Once upon a time, <b>there</b> was a little girl<br>  5: Once upon a time, there <b>was</b> a little girl named<br>  6: upon a time, there was <b>a</b> little girl named Lily<br>  7: a time, there was a <b>little</b> girl named Lily.",
                    "Sample 1452<br>Sequence length: 128<br><br>Text preview:<br>One day, a girl named Sue went to her mom's kitchen. She saw her mom kneel down to get a cup. The cup was for coffee. Sue thought coffee was dull. She...<br><br>Token examples (context with <b>target</b> token):<br>  0: <b>One</b> day, a girl named<br>  1: One <b>day,</b> a girl named Sue<br>  2: One day, <b>a</b> girl named Sue went<br>  3: One day, a <b>girl</b> named Sue went to<br>  4: One day, a girl <b>named</b> Sue went to her<br>  5: One day, a girl named <b>Sue</b> went to her mom<br>  6: day, a girl named Sue <b>went</b> to her mom's<br>  7: , a girl named Sue <b>went</b> to her mom's kitchen",
                    "Sample 1063<br>Sequence length: 128<br><br>Text preview:<br>Once there was a little human called Kate. She wanted to win something amazing. Every day she practised hard.\n\nOne day, Kate felt ready. She put on he...<br><br>Token examples (context with <b>target</b> token):<br>  0: <b>Once</b> there was a little human<br>  1: Once <b>there</b> was a little human called<br>  2: Once there <b>was</b> a little human called Kate<br>  3: Once there was <b>a</b> little human called Kate.<br>  4: Once there was a <b>little</b> human called Kate. She<br>  5: Once there was a little <b>human</b> called Kate. She wanted<br>  6: there was a little human <b>called</b> Kate. She wanted to<br>  7: was a little human called <b>Kate.</b> She wanted to win",
                    "Sample 472<br>Sequence length: 128<br><br>Text preview:<br>One day, Daisy went to the subway with her mom and dad. She saw a lot of people running around. Daisy asked why they were running. Her mom told her th...<br><br>Token examples (context with <b>target</b> token):<br>  0: <b>One</b> day, Daisy went to<br>  1: One <b>day,</b> Daisy went to the<br>  2: One day, <b>Daisy</b> went to the subway<br>  3: One day, Daisy <b>went</b> to the subway with<br>  4: One day, Daisy went <b>to</b> the subway with her<br>  5: One day, Daisy went to <b>the</b> subway with her mom<br>  6: day, Daisy went to the <b>subway</b> with her mom and<br>  7: , Daisy went to the <b>subway</b> with her mom and dad",
                    "Sample 1081<br>Sequence length: 128<br><br>Text preview:<br>The little girl was very excited. She had been walking around the field with her parents. It was a beautiful day and the sun was shining. The little g...<br><br>Token examples (context with <b>target</b> token):<br>  0: <b>The</b> little girl was very excited<br>  1: The <b>little</b> girl was very excited.<br>  2: The little <b>girl</b> was very excited. She<br>  3: The little girl <b>was</b> very excited. She had<br>  4: The little girl was <b>very</b> excited. She had been<br>  5: The little girl was very <b>excited.</b> She had been walking<br>  6: little girl was very excited. <b>She</b> had been walking around<br>  7: girl was very excited. She <b>had</b> been walking around the",
                    "Sample 2374<br>Sequence length: 128<br><br>Text preview:<br>Once upon a time, there was a little girl named Lily. She loved to play outside and explore the world around her. One day, she found a shiny rock on t...<br><br>Token examples (context with <b>target</b> token):<br>  0: <b>Once</b> upon a time, there<br>  1: Once <b>upon</b> a time, there was<br>  2: Once upon <b>a</b> time, there was a<br>  3: Once upon a <b>time,</b> there was a little<br>  4: Once upon a time, <b>there</b> was a little girl<br>  5: Once upon a time, there <b>was</b> a little girl named<br>  6: upon a time, there was <b>a</b> little girl named Lily<br>  7: a time, there was a <b>little</b> girl named Lily.",
                    "Sample 1559<br>Sequence length: 128<br><br>Text preview:<br>Once upon a time, there was a small family that loved festivals. Every year, they would go to the local spicy festival together.\n\nThis year, they were...<br><br>Token examples (context with <b>target</b> token):<br>  0: <b>Once</b> upon a time, there<br>  1: Once <b>upon</b> a time, there was<br>  2: Once upon <b>a</b> time, there was a<br>  3: Once upon a <b>time,</b> there was a small<br>  4: Once upon a time, <b>there</b> was a small family<br>  5: Once upon a time, there <b>was</b> a small family that<br>  6: upon a time, there was <b>a</b> small family that loved<br>  7: a time, there was a <b>small</b> family that loved festivals",
                    "Sample 2233<br>Sequence length: 128<br><br>Text preview:<br>Once upon a time, a boy named Timmy had a big drum. He loved to bang it loud, but his mom said it was too noisy. One day, Timmy decided to stir up som...<br><br>Token examples (context with <b>target</b> token):<br>  0: <b>Once</b> upon a time, a<br>  1: Once <b>upon</b> a time, a boy<br>  2: Once upon <b>a</b> time, a boy named<br>  3: Once upon a <b>time,</b> a boy named Tim<br>  4: Once upon a time, <b>a</b> boy named Timmy<br>  5: Once upon a time, a <b>boy</b> named Timmy had<br>  6: upon a time, a boy <b>named</b> Timmy had a<br>  7: a time, a boy named <b>Timmy</b> had a big",
                    "Sample 1293<br>Sequence length: 128<br><br>Text preview:<br>One day, May and her mom went to the store. May was excited to explore the shelves. She saw the price tags and was confused. She didn't understand why...<br><br>Token examples (context with <b>target</b> token):<br>  0: <b>One</b> day, May and her<br>  1: One <b>day,</b> May and her mom<br>  2: One day, <b>May</b> and her mom went<br>  3: One day, May <b>and</b> her mom went to<br>  4: One day, May and <b>her</b> mom went to the<br>  5: One day, May and her <b>mom</b> went to the store<br>  6: day, May and her mom <b>went</b> to the store.<br>  7: , May and her mom <b>went</b> to the store. May",
                    "Sample 2144<br>Sequence length: 128<br><br>Text preview:<br>Lily and Ben are twins who like to play pretend. They have a toy kitchen and a lot of plastic food. One day, they decide to perform a show for their m...<br><br>Token examples (context with <b>target</b> token):<br>  0: <b>Lily</b> and Ben are twins<br>  1: Lily <b>and</b> Ben are twins who<br>  2: Lily and <b>Ben</b> are twins who like<br>  3: Lily and Ben <b>are</b> twins who like to<br>  4: Lily and Ben are <b>twins</b> who like to play<br>  5: Lily and Ben are twins <b>who</b> like to play pretend<br>  6: ily and Ben are twins <b>who</b> like to play pretend.<br>  7: and Ben are twins who <b>like</b> to play pretend. They",
                    "Sample 458<br>Sequence length: 128<br><br>Text preview:<br>Once upon a time there was a big elephant. He wanted to know how much he weighed, so he asked the wise old animal doctor.\nThe animal doctor said he ne...<br><br>Token examples (context with <b>target</b> token):<br>  0: <b>Once</b> upon a time there was<br>  1: Once <b>upon</b> a time there was a<br>  2: Once upon <b>a</b> time there was a big<br>  3: Once upon a <b>time</b> there was a big elephant<br>  4: Once upon a time <b>there</b> was a big elephant.<br>  5: Once upon a time there <b>was</b> a big elephant. He<br>  6: upon a time there was <b>a</b> big elephant. He wanted<br>  7: a time there was a <b>big</b> elephant. He wanted to",
                    "Sample 1171<br>Sequence length: 128<br><br>Text preview:<br>Once upon a time, there were two best friends who promised to always be together. They were so happy, but one day something scary happened. They met a...<br><br>Token examples (context with <b>target</b> token):<br>  0: <b>Once</b> upon a time, there<br>  1: Once <b>upon</b> a time, there were<br>  2: Once upon <b>a</b> time, there were two<br>  3: Once upon a <b>time,</b> there were two best<br>  4: Once upon a time, <b>there</b> were two best friends<br>  5: Once upon a time, there <b>were</b> two best friends who<br>  6: upon a time, there were <b>two</b> best friends who promised<br>  7: a time, there were two <b>best</b> friends who promised to",
                    "Sample 1068<br>Sequence length: 128<br><br>Text preview:<br>Once upon a time there was a birdcage. It was round and made of metal. Inside was a little bird. It was yellow and looked very happy in its cage. \n\nTh...<br><br>Token examples (context with <b>target</b> token):<br>  0: <b>Once</b> upon a time there was<br>  1: Once <b>upon</b> a time there was a<br>  2: Once upon <b>a</b> time there was a bird<br>  3: Once upon a <b>time</b> there was a birdc<br>  4: Once upon a time <b>there</b> was a birdcage<br>  5: Once upon a time there <b>was</b> a birdcage.<br>  6: upon a time there was <b>a</b> birdcage. It<br>  7: a time there was a <b>birdcage.</b> It was",
                    "Sample 1067<br>Sequence length: 128<br><br>Text preview:<br>Once upon a time there was a bear. He was a nice bear and wanted to be fair. He wanted to give everyone the same.\n\nThe bear had an idea, he wanted to ...<br><br>Token examples (context with <b>target</b> token):<br>  0: <b>Once</b> upon a time there was<br>  1: Once <b>upon</b> a time there was a<br>  2: Once upon <b>a</b> time there was a bear<br>  3: Once upon a <b>time</b> there was a bear.<br>  4: Once upon a time <b>there</b> was a bear. He<br>  5: Once upon a time there <b>was</b> a bear. He was<br>  6: upon a time there was <b>a</b> bear. He was a<br>  7: a time there was a <b>bear.</b> He was a nice",
                    "Sample 2081<br>Sequence length: 128<br><br>Text preview:<br>One day, Joe was very troubled. He wanted to fix something but he didn't know what. He walked around, looking for something to do, when he saw an old,...<br><br>Token examples (context with <b>target</b> token):<br>  0: <b>One</b> day, Joe was very<br>  1: One <b>day,</b> Joe was very troubled<br>  2: One day, <b>Joe</b> was very troubled.<br>  3: One day, Joe <b>was</b> very troubled. He<br>  4: One day, Joe was <b>very</b> troubled. He wanted<br>  5: One day, Joe was very <b>troubled.</b> He wanted to<br>  6: day, Joe was very troubled. <b>He</b> wanted to fix<br>  7: , Joe was very troubled. <b>He</b> wanted to fix something",
                    "Sample 2205<br>Sequence length: 128<br><br>Text preview:<br>Once upon a time, there was a little girl named Lily. She loved to play and have fun. One night, Lily's mommy told her it was time for bed. Lily didn'...<br><br>Token examples (context with <b>target</b> token):<br>  0: <b>Once</b> upon a time, there<br>  1: Once <b>upon</b> a time, there was<br>  2: Once upon <b>a</b> time, there was a<br>  3: Once upon a <b>time,</b> there was a little<br>  4: Once upon a time, <b>there</b> was a little girl<br>  5: Once upon a time, there <b>was</b> a little girl named<br>  6: upon a time, there was <b>a</b> little girl named Lily<br>  7: a time, there was a <b>little</b> girl named Lily.",
                    "Sample 900<br>Sequence length: 128<br><br>Text preview:<br>Anna and Ben are twins. They like to play with their toys. They have many toys, but they have one favorite toy. It is a big gray elephant. The elephan...<br><br>Token examples (context with <b>target</b> token):<br>  0: <b>Anna</b> and Ben are twins.<br>  1: Anna <b>and</b> Ben are twins. They<br>  2: Anna and <b>Ben</b> are twins. They like<br>  3: Anna and Ben <b>are</b> twins. They like to<br>  4: Anna and Ben are <b>twins.</b> They like to play<br>  5: Anna and Ben are twins. <b>They</b> like to play with<br>  6: and Ben are twins. They <b>like</b> to play with their<br>  7: Ben are twins. They like <b>to</b> play with their toys",
                    "Sample 2216<br>Sequence length: 128<br><br>Text preview:<br>Once upon a time, there was a little girl named Lily. She loved to ride her scooter all around the park. One day, Lily fell off her scooter and hurt h...<br><br>Token examples (context with <b>target</b> token):<br>  0: <b>Once</b> upon a time, there<br>  1: Once <b>upon</b> a time, there was<br>  2: Once upon <b>a</b> time, there was a<br>  3: Once upon a <b>time,</b> there was a little<br>  4: Once upon a time, <b>there</b> was a little girl<br>  5: Once upon a time, there <b>was</b> a little girl named<br>  6: upon a time, there was <b>a</b> little girl named Lily<br>  7: a time, there was a <b>little</b> girl named Lily.",
                    "Sample 1837<br>Sequence length: 128<br><br>Text preview:<br>Once upon a time, there was a little girl named Polly. Polly was a 3 year old and she loved to paint. \n\nOne day, her mommy gave her a teaspoon and sai...<br><br>Token examples (context with <b>target</b> token):<br>  0: <b>Once</b> upon a time, there<br>  1: Once <b>upon</b> a time, there was<br>  2: Once upon <b>a</b> time, there was a<br>  3: Once upon a <b>time,</b> there was a little<br>  4: Once upon a time, <b>there</b> was a little girl<br>  5: Once upon a time, there <b>was</b> a little girl named<br>  6: upon a time, there was <b>a</b> little girl named Polly<br>  7: a time, there was a <b>little</b> girl named Polly.",
                    "Sample 1498<br>Sequence length: 128<br><br>Text preview:<br>Once upon a time, there was a chubby cat named Tom. Tom had a red balloon. He loved to play with it all day. He would bat it with his paw and watch it...<br><br>Token examples (context with <b>target</b> token):<br>  0: <b>Once</b> upon a time, there<br>  1: Once <b>upon</b> a time, there was<br>  2: Once upon <b>a</b> time, there was a<br>  3: Once upon a <b>time,</b> there was a ch<br>  4: Once upon a time, <b>there</b> was a chubby<br>  5: Once upon a time, there <b>was</b> a chubby cat<br>  6: upon a time, there was <b>a</b> chubby cat named<br>  7: a time, there was a <b>chubby</b> cat named Tom",
                    "Sample 881<br>Sequence length: 128<br><br>Text preview:<br>Once upon a time, there was a little girl named Lily. She loved to play with her toys on the table. One day, Lily's mom said, \"Lily, it's time to clea...<br><br>Token examples (context with <b>target</b> token):<br>  0: <b>Once</b> upon a time, there<br>  1: Once <b>upon</b> a time, there was<br>  2: Once upon <b>a</b> time, there was a<br>  3: Once upon a <b>time,</b> there was a little<br>  4: Once upon a time, <b>there</b> was a little girl<br>  5: Once upon a time, there <b>was</b> a little girl named<br>  6: upon a time, there was <b>a</b> little girl named Lily<br>  7: a time, there was a <b>little</b> girl named Lily.",
                    "Sample 65<br>Sequence length: 128<br><br>Text preview:<br>Once upon a time there was a kitty who liked to play with a special brush. Each day, the kitty would lend the brush to a friend in the park. Every day...<br><br>Token examples (context with <b>target</b> token):<br>  0: <b>Once</b> upon a time there was<br>  1: Once <b>upon</b> a time there was a<br>  2: Once upon <b>a</b> time there was a k<br>  3: Once upon a <b>time</b> there was a kitty<br>  4: Once upon a time <b>there</b> was a kitty who<br>  5: Once upon a time there <b>was</b> a kitty who liked<br>  6: upon a time there was <b>a</b> kitty who liked to<br>  7: a time there was a <b>kitty</b> who liked to play",
                    "Sample 2353<br>Sequence length: 128<br><br>Text preview:<br>Once upon a time, there was a little girl named Lily who loved to help her mom in the kitchen. One day, Lily's mom asked her to put the dishes in the ...<br><br>Token examples (context with <b>target</b> token):<br>  0: <b>Once</b> upon a time, there<br>  1: Once <b>upon</b> a time, there was<br>  2: Once upon <b>a</b> time, there was a<br>  3: Once upon a <b>time,</b> there was a little<br>  4: Once upon a time, <b>there</b> was a little girl<br>  5: Once upon a time, there <b>was</b> a little girl named<br>  6: upon a time, there was <b>a</b> little girl named Lily<br>  7: a time, there was a <b>little</b> girl named Lily who",
                    "Sample 1779<br>Sequence length: 128<br><br>Text preview:<br>Once there was a compassionate policeman. He loved to talk to everyone. He always had a smile ready for anyone he met.\n\nOne day, a little girl came to...<br><br>Token examples (context with <b>target</b> token):<br>  0: <b>Once</b> there was a compassionate policeman<br>  1: Once <b>there</b> was a compassionate policeman.<br>  2: Once there <b>was</b> a compassionate policeman. He<br>  3: Once there was <b>a</b> compassionate policeman. He loved<br>  4: Once there was a <b>compassionate</b> policeman. He loved to<br>  5: Once there was a compassionate <b>policeman.</b> He loved to talk<br>  6: there was a compassionate policeman. <b>He</b> loved to talk to<br>  7: was a compassionate policeman. He <b>loved</b> to talk to everyone",
                    "Sample 304<br>Sequence length: 128<br><br>Text preview:<br>Once upon a time, there was a delicate boat floating in the ocean. It was getting tired so it decided to take a rest. The boat gently floated to a bea...<br><br>Token examples (context with <b>target</b> token):<br>  0: <b>Once</b> upon a time, there<br>  1: Once <b>upon</b> a time, there was<br>  2: Once upon <b>a</b> time, there was a<br>  3: Once upon a <b>time,</b> there was a delicate<br>  4: Once upon a time, <b>there</b> was a delicate boat<br>  5: Once upon a time, there <b>was</b> a delicate boat floating<br>  6: upon a time, there was <b>a</b> delicate boat floating in<br>  7: a time, there was a <b>delicate</b> boat floating in the",
                    "Sample 2444<br>Sequence length: 128<br><br>Text preview:<br>Once upon a time, there was a big, brown cow named Betsy. Betsy had a big horn on her head that she used to scratch her itchy spots. One day, Betsy wa...<br><br>Token examples (context with <b>target</b> token):<br>  0: <b>Once</b> upon a time, there<br>  1: Once <b>upon</b> a time, there was<br>  2: Once upon <b>a</b> time, there was a<br>  3: Once upon a <b>time,</b> there was a big<br>  4: Once upon a time, <b>there</b> was a big,<br>  5: Once upon a time, there <b>was</b> a big, brown<br>  6: upon a time, there was <b>a</b> big, brown cow<br>  7: a time, there was a <b>big,</b> brown cow named",
                    "Sample 604<br>Sequence length: 128<br><br>Text preview:<br>Once upon a time, there was a bell. It was round and made of shiny metal. It was so thick that it was hard to move.\n\nOne day, a boy was playing in the...<br><br>Token examples (context with <b>target</b> token):<br>  0: <b>Once</b> upon a time, there<br>  1: Once <b>upon</b> a time, there was<br>  2: Once upon <b>a</b> time, there was a<br>  3: Once upon a <b>time,</b> there was a bell<br>  4: Once upon a time, <b>there</b> was a bell.<br>  5: Once upon a time, there <b>was</b> a bell. It<br>  6: upon a time, there was <b>a</b> bell. It was<br>  7: a time, there was a <b>bell.</b> It was round",
                    "Sample 2286<br>Sequence length: 128<br><br>Text preview:<br>Ben and Lily liked to play with their toys in their room. They had many toys, but their favorite ones were the blocks. They could make many things wit...<br><br>Token examples (context with <b>target</b> token):<br>  0: <b>Ben</b> and Lily liked to play<br>  1: Ben <b>and</b> Lily liked to play with<br>  2: Ben and <b>Lily</b> liked to play with their<br>  3: Ben and Lily <b>liked</b> to play with their toys<br>  4: Ben and Lily liked <b>to</b> play with their toys in<br>  5: Ben and Lily liked to <b>play</b> with their toys in their<br>  6: and Lily liked to play <b>with</b> their toys in their room<br>  7: Lily liked to play with <b>their</b> toys in their room.",
                    "Sample 2070<br>Sequence length: 128<br><br>Text preview:<br>Jack was a very curious three-year-old boy. He loved to explore and often went to the museum with his mom and dad. Today, they were going to the museu...<br><br>Token examples (context with <b>target</b> token):<br>  0: <b>Jack</b> was a very curious three<br>  1: Jack <b>was</b> a very curious three-<br>  2: Jack was <b>a</b> very curious three-year<br>  3: Jack was a <b>very</b> curious three-year-<br>  4: Jack was a very <b>curious</b> three-year-old<br>  5: Jack was a very curious <b>three-year-old</b> boy<br>  6: was a very curious three-year-old <b>boy.</b><br>  7: a very curious three-year-old boy. <b>He</b>",
                    "Sample 1876<br>Sequence length: 128<br><br>Text preview:<br>John and his mom were walking to the park. As they passed the store, John saw a present in the window. He asked his mom if he could get it. His mom sa...<br><br>Token examples (context with <b>target</b> token):<br>  0: <b>John</b> and his mom were walking<br>  1: John <b>and</b> his mom were walking to<br>  2: John and <b>his</b> mom were walking to the<br>  3: John and his <b>mom</b> were walking to the park<br>  4: John and his mom <b>were</b> walking to the park.<br>  5: John and his mom were <b>walking</b> to the park. As<br>  6: and his mom were walking <b>to</b> the park. As they<br>  7: his mom were walking to <b>the</b> park. As they passed",
                    "Sample 1606<br>Sequence length: 128<br><br>Text preview:<br>Once upon a time there there was a fierce big cat called Max. He liked to take long walks in the wide forest near his home. One day, Max came across a...<br><br>Token examples (context with <b>target</b> token):<br>  0: <b>Once</b> upon a time there there<br>  1: Once <b>upon</b> a time there there was<br>  2: Once upon <b>a</b> time there there was a<br>  3: Once upon a <b>time</b> there there was a fierce<br>  4: Once upon a time <b>there</b> there was a fierce big<br>  5: Once upon a time there <b>there</b> was a fierce big cat<br>  6: upon a time there there <b>was</b> a fierce big cat called<br>  7: a time there there was <b>a</b> fierce big cat called Max",
                    "Sample 2224<br>Sequence length: 128<br><br>Text preview:<br>Once upon a time, there was a penguin named Pete. Pete loved to travel to new places. One day, he decided to go to the North Pole. It was very icy the...<br><br>Token examples (context with <b>target</b> token):<br>  0: <b>Once</b> upon a time, there<br>  1: Once <b>upon</b> a time, there was<br>  2: Once upon <b>a</b> time, there was a<br>  3: Once upon a <b>time,</b> there was a pengu<br>  4: Once upon a time, <b>there</b> was a penguin<br>  5: Once upon a time, there <b>was</b> a penguin named<br>  6: upon a time, there was <b>a</b> penguin named Pete<br>  7: a time, there was a <b>penguin</b> named Pete.",
                    "Sample 1327<br>Sequence length: 128<br><br>Text preview:<br>Once there was a girl who was very scared. She was walking around a dark corner when she heard a strange noise. She was so scared that she ran away.\n\n...<br><br>Token examples (context with <b>target</b> token):<br>  0: <b>Once</b> there was a girl who<br>  1: Once <b>there</b> was a girl who was<br>  2: Once there <b>was</b> a girl who was very<br>  3: Once there was <b>a</b> girl who was very scared<br>  4: Once there was a <b>girl</b> who was very scared.<br>  5: Once there was a girl <b>who</b> was very scared. She<br>  6: there was a girl who <b>was</b> very scared. She was<br>  7: was a girl who was <b>very</b> scared. She was walking",
                    "Sample 1617<br>Sequence length: 128<br><br>Text preview:<br>Once upon a time, there was a little girl. She loved to dream. She would imagine what the world would look like with more jam. She thought everything ...<br><br>Token examples (context with <b>target</b> token):<br>  0: <b>Once</b> upon a time, there<br>  1: Once <b>upon</b> a time, there was<br>  2: Once upon <b>a</b> time, there was a<br>  3: Once upon a <b>time,</b> there was a little<br>  4: Once upon a time, <b>there</b> was a little girl<br>  5: Once upon a time, there <b>was</b> a little girl.<br>  6: upon a time, there was <b>a</b> little girl. She<br>  7: a time, there was a <b>little</b> girl. She loved",
                    "Sample 1587<br>Sequence length: 128<br><br>Text preview:<br>Once upon a time, there was a little girl who wanted to go to the store. She was so excited! When she arrived at the store, she ordered a treat. The s...<br><br>Token examples (context with <b>target</b> token):<br>  0: <b>Once</b> upon a time, there<br>  1: Once <b>upon</b> a time, there was<br>  2: Once upon <b>a</b> time, there was a<br>  3: Once upon a <b>time,</b> there was a little<br>  4: Once upon a time, <b>there</b> was a little girl<br>  5: Once upon a time, there <b>was</b> a little girl who<br>  6: upon a time, there was <b>a</b> little girl who wanted<br>  7: a time, there was a <b>little</b> girl who wanted to",
                    "Sample 2435<br>Sequence length: 128<br><br>Text preview:<br>Once upon a time, there was a boy named Timmy. Timmy went to the store with his mommy to buy some candy. While they were walking, they saw a man selli...<br><br>Token examples (context with <b>target</b> token):<br>  0: <b>Once</b> upon a time, there<br>  1: Once <b>upon</b> a time, there was<br>  2: Once upon <b>a</b> time, there was a<br>  3: Once upon a <b>time,</b> there was a boy<br>  4: Once upon a time, <b>there</b> was a boy named<br>  5: Once upon a time, there <b>was</b> a boy named Tim<br>  6: upon a time, there was <b>a</b> boy named Timmy<br>  7: a time, there was a <b>boy</b> named Timmy.",
                    "Sample 2313<br>Sequence length: 128<br><br>Text preview:<br>Tim and Kim are twins who like to play with toys. They have many toys, but they want more. They see a big box in the living room. It is a gift for the...<br><br>Token examples (context with <b>target</b> token):<br>  0: <b>Tim</b> and Kim are twins who<br>  1: Tim <b>and</b> Kim are twins who like<br>  2: Tim and <b>Kim</b> are twins who like to<br>  3: Tim and Kim <b>are</b> twins who like to play<br>  4: Tim and Kim are <b>twins</b> who like to play with<br>  5: Tim and Kim are twins <b>who</b> like to play with toys<br>  6: and Kim are twins who <b>like</b> to play with toys.<br>  7: Kim are twins who like <b>to</b> play with toys. They",
                    "Sample 2391<br>Sequence length: 128<br><br>Text preview:<br>Once upon a time, there was a big orange cat named Max. Max was very bald, with no fur on his head. One day, Max saw a little mouse and wanted to eat ...<br><br>Token examples (context with <b>target</b> token):<br>  0: <b>Once</b> upon a time, there<br>  1: Once <b>upon</b> a time, there was<br>  2: Once upon <b>a</b> time, there was a<br>  3: Once upon a <b>time,</b> there was a big<br>  4: Once upon a time, <b>there</b> was a big orange<br>  5: Once upon a time, there <b>was</b> a big orange cat<br>  6: upon a time, there was <b>a</b> big orange cat named<br>  7: a time, there was a <b>big</b> orange cat named Max",
                    "Sample 1990<br>Sequence length: 128<br><br>Text preview:<br>Once upon a time there was a boy called Jack. He was three years old and living near the sea. One day Jack wanted to go for a walk and see the navy. S...<br><br>Token examples (context with <b>target</b> token):<br>  0: <b>Once</b> upon a time there was<br>  1: Once <b>upon</b> a time there was a<br>  2: Once upon <b>a</b> time there was a boy<br>  3: Once upon a <b>time</b> there was a boy called<br>  4: Once upon a time <b>there</b> was a boy called Jack<br>  5: Once upon a time there <b>was</b> a boy called Jack.<br>  6: upon a time there was <b>a</b> boy called Jack. He<br>  7: a time there was a <b>boy</b> called Jack. He was",
                    "Sample 534<br>Sequence length: 128<br><br>Text preview:<br>The boy had many questions. He wondered what an airport was. He asked his mum what the strange place was and why they were heading there. His mum smil...<br><br>Token examples (context with <b>target</b> token):<br>  0: <b>The</b> boy had many questions.<br>  1: The <b>boy</b> had many questions. He<br>  2: The boy <b>had</b> many questions. He wondered<br>  3: The boy had <b>many</b> questions. He wondered what<br>  4: The boy had many <b>questions.</b> He wondered what an<br>  5: The boy had many questions. <b>He</b> wondered what an airport<br>  6: boy had many questions. He <b>wondered</b> what an airport was<br>  7: had many questions. He wondered <b>what</b> an airport was.",
                    "Sample 51<br>Sequence length: 128<br><br>Text preview:<br>Once there was a graceful bird called Billy. He was always looking for something to do. One day he decided to try something new. He wanted to weigh hi...<br><br>Token examples (context with <b>target</b> token):<br>  0: <b>Once</b> there was a graceful bird<br>  1: Once <b>there</b> was a graceful bird called<br>  2: Once there <b>was</b> a graceful bird called Billy<br>  3: Once there was <b>a</b> graceful bird called Billy.<br>  4: Once there was a <b>graceful</b> bird called Billy. He<br>  5: Once there was a graceful <b>bird</b> called Billy. He was<br>  6: there was a graceful bird <b>called</b> Billy. He was always<br>  7: was a graceful bird called <b>Billy.</b> He was always looking",
                    "Sample 1198<br>Sequence length: 128<br><br>Text preview:<br>Once upon a time there was a kitty. She was playful and always running around. One day she wanted to explore the world, and she tried to escape from t...<br><br>Token examples (context with <b>target</b> token):<br>  0: <b>Once</b> upon a time there was<br>  1: Once <b>upon</b> a time there was a<br>  2: Once upon <b>a</b> time there was a k<br>  3: Once upon a <b>time</b> there was a kitty<br>  4: Once upon a time <b>there</b> was a kitty.<br>  5: Once upon a time there <b>was</b> a kitty. She<br>  6: upon a time there was <b>a</b> kitty. She was<br>  7: a time there was a <b>kitty.</b> She was playful",
                    "Sample 851<br>Sequence length: 128<br><br>Text preview:<br>Once upon a time, there was a little boy named Timmy. Timmy loved to play football with his friends. One day, Timmy's friend asked him if he wanted to...<br><br>Token examples (context with <b>target</b> token):<br>  0: <b>Once</b> upon a time, there<br>  1: Once <b>upon</b> a time, there was<br>  2: Once upon <b>a</b> time, there was a<br>  3: Once upon a <b>time,</b> there was a little<br>  4: Once upon a time, <b>there</b> was a little boy<br>  5: Once upon a time, there <b>was</b> a little boy named<br>  6: upon a time, there was <b>a</b> little boy named Tim<br>  7: a time, there was a <b>little</b> boy named Timmy",
                    "Sample 550<br>Sequence length: 128<br><br>Text preview:<br>Jimmy was searching for something special to watch on tv. He wanted to find a good film. He asked his dad to help him find something available.\n\nThey ...<br><br>Token examples (context with <b>target</b> token):<br>  0: <b>Jimmy</b> was searching for something special<br>  1: Jimmy <b>was</b> searching for something special to<br>  2: Jimmy was <b>searching</b> for something special to watch<br>  3: Jimmy was searching <b>for</b> something special to watch on<br>  4: Jimmy was searching for <b>something</b> special to watch on tv<br>  5: Jimmy was searching for something <b>special</b> to watch on tv.<br>  6: was searching for something special <b>to</b> watch on tv. He<br>  7: searching for something special to <b>watch</b> on tv. He wanted",
                    "Sample 841<br>Sequence length: 128<br><br>Text preview:<br>Once upon a time, there was a little girl named Lily. She loved to wander in the great outdoors. One day, she wandered into a forest and got lost. She...<br><br>Token examples (context with <b>target</b> token):<br>  0: <b>Once</b> upon a time, there<br>  1: Once <b>upon</b> a time, there was<br>  2: Once upon <b>a</b> time, there was a<br>  3: Once upon a <b>time,</b> there was a little<br>  4: Once upon a time, <b>there</b> was a little girl<br>  5: Once upon a time, there <b>was</b> a little girl named<br>  6: upon a time, there was <b>a</b> little girl named Lily<br>  7: a time, there was a <b>little</b> girl named Lily.",
                    "Sample 1004<br>Sequence length: 128<br><br>Text preview:<br>Once upon a time, there was a little girl named Lily. She liked to play outside in her yard with her toys. One day, she heard a sound that made her st...<br><br>Token examples (context with <b>target</b> token):<br>  0: <b>Once</b> upon a time, there<br>  1: Once <b>upon</b> a time, there was<br>  2: Once upon <b>a</b> time, there was a<br>  3: Once upon a <b>time,</b> there was a little<br>  4: Once upon a time, <b>there</b> was a little girl<br>  5: Once upon a time, there <b>was</b> a little girl named<br>  6: upon a time, there was <b>a</b> little girl named Lily<br>  7: a time, there was a <b>little</b> girl named Lily.",
                    "Sample 2028<br>Sequence length: 128<br><br>Text preview:<br>Once upon a time there was a giant. He was tall, strong, and always smiled. Everywhere he went people thanked him for his kindness.\n\nOne day, he went ...<br><br>Token examples (context with <b>target</b> token):<br>  0: <b>Once</b> upon a time there was<br>  1: Once <b>upon</b> a time there was a<br>  2: Once upon <b>a</b> time there was a giant<br>  3: Once upon a <b>time</b> there was a giant.<br>  4: Once upon a time <b>there</b> was a giant. He<br>  5: Once upon a time there <b>was</b> a giant. He was<br>  6: upon a time there was <b>a</b> giant. He was tall<br>  7: a time there was a <b>giant.</b> He was tall,",
                    "Sample 1352<br>Sequence length: 128<br><br>Text preview:<br>Once upon a time, there was a little boy named Tim. Tim liked to play with his toys. One day, Tim saw a toy on a high shelf. The shelf was far away fr...<br><br>Token examples (context with <b>target</b> token):<br>  0: <b>Once</b> upon a time, there<br>  1: Once <b>upon</b> a time, there was<br>  2: Once upon <b>a</b> time, there was a<br>  3: Once upon a <b>time,</b> there was a little<br>  4: Once upon a time, <b>there</b> was a little boy<br>  5: Once upon a time, there <b>was</b> a little boy named<br>  6: upon a time, there was <b>a</b> little boy named Tim<br>  7: a time, there was a <b>little</b> boy named Tim.",
                    "Sample 1203<br>Sequence length: 128<br><br>Text preview:<br>Once there was a friendly sun. Every day he would shine and give off light. He was happy to do this and it made people smile.\n\nOne day, a big cloud wa...<br><br>Token examples (context with <b>target</b> token):<br>  0: <b>Once</b> there was a friendly sun<br>  1: Once <b>there</b> was a friendly sun.<br>  2: Once there <b>was</b> a friendly sun. Every<br>  3: Once there was <b>a</b> friendly sun. Every day<br>  4: Once there was a <b>friendly</b> sun. Every day he<br>  5: Once there was a friendly <b>sun.</b> Every day he would<br>  6: there was a friendly sun. <b>Every</b> day he would shine<br>  7: was a friendly sun. Every <b>day</b> he would shine and",
                    "Sample 1753<br>Sequence length: 128<br><br>Text preview:<br>Once upon a time there was a big and strong tree. The tree liked to stretch its branches and leaves in the sunshine. One day, a little boy came and de...<br><br>Token examples (context with <b>target</b> token):<br>  0: <b>Once</b> upon a time there was<br>  1: Once <b>upon</b> a time there was a<br>  2: Once upon <b>a</b> time there was a big<br>  3: Once upon a <b>time</b> there was a big and<br>  4: Once upon a time <b>there</b> was a big and strong<br>  5: Once upon a time there <b>was</b> a big and strong tree<br>  6: upon a time there was <b>a</b> big and strong tree.<br>  7: a time there was a <b>big</b> and strong tree. The",
                    "Sample 2011<br>Sequence length: 128<br><br>Text preview:<br>Once upon a time, there was a shy little bird named Tweety. One day, he went for a walk around the park. As he was walking, he slipped on a banana pee...<br><br>Token examples (context with <b>target</b> token):<br>  0: <b>Once</b> upon a time, there<br>  1: Once <b>upon</b> a time, there was<br>  2: Once upon <b>a</b> time, there was a<br>  3: Once upon a <b>time,</b> there was a shy<br>  4: Once upon a time, <b>there</b> was a shy little<br>  5: Once upon a time, there <b>was</b> a shy little bird<br>  6: upon a time, there was <b>a</b> shy little bird named<br>  7: a time, there was a <b>shy</b> little bird named Twe",
                    "Sample 1208<br>Sequence length: 128<br><br>Text preview:<br>Once upon a time there was a peanut. It was happy and round, like a ball. But something was wrong. The peanut was smelly. It could smell really bad, l...<br><br>Token examples (context with <b>target</b> token):<br>  0: <b>Once</b> upon a time there was<br>  1: Once <b>upon</b> a time there was a<br>  2: Once upon <b>a</b> time there was a peanut<br>  3: Once upon a <b>time</b> there was a peanut.<br>  4: Once upon a time <b>there</b> was a peanut. It<br>  5: Once upon a time there <b>was</b> a peanut. It was<br>  6: upon a time there was <b>a</b> peanut. It was happy<br>  7: a time there was a <b>peanut.</b> It was happy and",
                    "Sample 1052<br>Sequence length: 128<br><br>Text preview:<br>Once upon a time, there was a chicken who was feeling a little worried. She was feeling very sad because no matter how hard she tried, nothing seemed ...<br><br>Token examples (context with <b>target</b> token):<br>  0: <b>Once</b> upon a time, there<br>  1: Once <b>upon</b> a time, there was<br>  2: Once upon <b>a</b> time, there was a<br>  3: Once upon a <b>time,</b> there was a chicken<br>  4: Once upon a time, <b>there</b> was a chicken who<br>  5: Once upon a time, there <b>was</b> a chicken who was<br>  6: upon a time, there was <b>a</b> chicken who was feeling<br>  7: a time, there was a <b>chicken</b> who was feeling a",
                    "Sample 2180<br>Sequence length: 128<br><br>Text preview:<br>Sara and Tom are twins. They like to play together. One day, they find a big bottle of shampoo in the bathroom. The shampoo is colorful. It has red, b...<br><br>Token examples (context with <b>target</b> token):<br>  0: <b>Sara</b> and Tom are twins<br>  1: Sara <b>and</b> Tom are twins.<br>  2: Sara and <b>Tom</b> are twins. They<br>  3: Sara and Tom <b>are</b> twins. They like<br>  4: Sara and Tom are <b>twins.</b> They like to<br>  5: Sara and Tom are twins. <b>They</b> like to play<br>  6: ara and Tom are twins. <b>They</b> like to play together<br>  7: and Tom are twins. They <b>like</b> to play together.",
                    "Sample 935<br>Sequence length: 128<br><br>Text preview:<br>Lila was a big girl who liked to drive her toy car. She had a pink car with four wheels and a horn. She liked to go fast and make noise. She also had ...<br><br>Token examples (context with <b>target</b> token):<br>  0: <b>Lila</b> was a big girl<br>  1: Lila <b>was</b> a big girl who<br>  2: Lila was <b>a</b> big girl who liked<br>  3: Lila was a <b>big</b> girl who liked to<br>  4: Lila was a big <b>girl</b> who liked to drive<br>  5: Lila was a big girl <b>who</b> liked to drive her<br>  6: ila was a big girl <b>who</b> liked to drive her toy<br>  7: was a big girl who <b>liked</b> to drive her toy car",
                    "Sample 1129<br>Sequence length: 128<br><br>Text preview:<br>Once upon a time, there was a chubby bee named Buzzy. Buzzy loved to fly around and explore the world. He flew above a river and saw something very in...<br><br>Token examples (context with <b>target</b> token):<br>  0: <b>Once</b> upon a time, there<br>  1: Once <b>upon</b> a time, there was<br>  2: Once upon <b>a</b> time, there was a<br>  3: Once upon a <b>time,</b> there was a ch<br>  4: Once upon a time, <b>there</b> was a chubby<br>  5: Once upon a time, there <b>was</b> a chubby bee<br>  6: upon a time, there was <b>a</b> chubby bee named<br>  7: a time, there was a <b>chubby</b> bee named Buzz",
                    "Sample 645<br>Sequence length: 128<br><br>Text preview:<br>Once upon a time, in a far away land there lived a perfect fire. All the people were scared of it because it was so big. Every night the fire grew big...<br><br>Token examples (context with <b>target</b> token):<br>  0: <b>Once</b> upon a time, in<br>  1: Once <b>upon</b> a time, in a<br>  2: Once upon <b>a</b> time, in a far<br>  3: Once upon a <b>time,</b> in a far away<br>  4: Once upon a time, <b>in</b> a far away land<br>  5: Once upon a time, in <b>a</b> far away land there<br>  6: upon a time, in a <b>far</b> away land there lived<br>  7: a time, in a far <b>away</b> land there lived a",
                    "Sample 1581<br>Sequence length: 128<br><br>Text preview:<br>Once there was an old lady who wanted to go for a walk in the park. She carefully put on her shoes and stepped out into the warm sunshine. Everywhere ...<br><br>Token examples (context with <b>target</b> token):<br>  0: <b>Once</b> there was an old lady<br>  1: Once <b>there</b> was an old lady who<br>  2: Once there <b>was</b> an old lady who wanted<br>  3: Once there was <b>an</b> old lady who wanted to<br>  4: Once there was an <b>old</b> lady who wanted to go<br>  5: Once there was an old <b>lady</b> who wanted to go for<br>  6: there was an old lady <b>who</b> wanted to go for a<br>  7: was an old lady who <b>wanted</b> to go for a walk"
                  ],
                  "type": "scatter",
                  "x": {
                    "bdata": "fHm0QEX0zUDp9Mu//ZQKwRdUR741XWE/llWiQED8tT9azdg/fI54wBopM0B6wum/zZEXQSquZ8D1TrA+qwUBQSli6cBtFhDBdpUqvyhlhkBdFAvBO8WQvgKNF8ARiL/AYIyXwCCZSj+Ml5A+JTSCQEGXpsBaWc3AIq9MQHtwo8CgnwXAC6s3QF1A+78S54bAwAX3QIBng8CmoI7AYA3NQHjPk0C/TlhAwe+oQCLEekBG0rzAv/qiP3z6tUC7/5+/veyOvuLyFMFTiRJBevTuwF1g2z7m3HU/DTRxQALwkMDqxQBBPmWwQK7ABr8FAIW+AD7WwCqHq8Ak92s8y5vnwJs/nUB80UTAVVfYQCfroMBMh9m/FTnHQPuzqMA1G4bAE3jXv1c5TECKAgVB/WoYQBMagMB7n4S+xjmsP2UfckBYSbrAVd3AwG5Jg8A1lJTAexwLv+AsID8Fy9VAe6+evz9DHEERJ2PANayGwAtXlsAE6HnAF8TIwKiJBMEIoUJAoMufQLuUA737Q/C/84MqQGJsJkDbHgHBy/nQQNCIR8CcKN/ArwBDQM7XJEDoO5dAJJx7v6BcZkBl7W7AhacSQX5NZUB+Ne0/CXm8wJsct0BLh9W//xEIwJfRO0BFG1/AhH4FQMblLkDHkwbAyhr9vybpk8B9a0BAYob2wHeiXUCbi/FAXGQmQBROfECvnnDAwL9wQA0jwMDU0KhA0syvP7Y61r5uAuVAl5l6QFzu6cDLWlzA83AoQH8Agb+7vPQ+J2SCwJgUJ0Bl69G/s4ylwLkhY8AwKFdA1TYCwG7r+EB+P0fAjvvRwIpC4MCPB+e/5ei+QM2No8DjYeI/wtxyQG5lsMBZxhJAQQeYwCS49z7Ot27A2HqZQPKb+b/VHri/gqJyQBlhM8AdlFJA9OeywFYZucBgZ69AL4a6P5eMRECWFS9AY3HIwDE4scBu1FRAq+uvPx1WtEDGm0HArlTBQIhwsD/IM5FAosWBwKf1Rb8oBbE/uKPdwLmBxsBnq31AmHqfQPm/ED9hBwfBbkWgwCDr1ECG3P8/33XJQDzSPsARxMQ/cbIRwYBqGMFRQaG/iXUIQGBa8D/fRddAsTYqQXd0xsBGr08/I8TDvxSNDMFDBIxA6smhQCniBEBVfSpBQ9DIQEJL9MBvCzLAoMjFQMu0V78M3ZRAIdzfwKE3yUARTZ3AIPpOPuhBfcBOcBFBWvG7wOISscB0MEdAm3EJvyVFyEBOi17A92DXwJ/DFcBaqbo/cgfcv77tJcExh69A62VOv+nSDsCYQAHBS2gQv29TsUAWl/O/oVeSQBupcsAHEoC+2xcNQOVfvcA4z7hASupqQDDcGsBpWe299w8cwG6agECJ0+nAH1lnvjgXKEFP+aXAy/bkPuhQ6z9jtxHBO4ThwDy59EDr0t+/zy5SQAvyNUADdQXAYKXJQNNo90C/OAjA4YS6wIFIXD9C/Ow/PN3WQDLlqEC73tDA4yG0v0JuAEC2vzXA9HO1P+6umD/wG/5AuvwqP/bNUcB1mhhAT1AKP2fg/D9LPI9A7a7/vzmEaT8IehBBXJRAP/xKlT9nH/BAebMoQKxL4z5/EBdBycUPwfMS0kAPh68/1AIjv31698Dj3ok/LZQ3v+6MfjySYv9AJKLgwP3RDcEZGRE+f6cZwdOcXcCBgcxASo2IQBDnnMCg0wxASEgXwNMwE0GXhefAJL6LQGmbRkBbzYXA+u8aQd2Q68AtenVAMbzRQBEHC8FHfr4/1QY7QG+bLz/ZXnXApHMjwP0o6kCBVsdAbRpVv6BGaMDVnIXAidbewJ+X5cC/NzHB5WiqvbxVkT80cGRAGY0BQW6ZUMCoLanAn3acQH0oBcFXuwzAyREewar+pT9getJA8NFtv+Ey+cCZouY/bAwgwfOGPcDrRwHB0w2NP1yT08D+YPNA67AGwTqZVUBpbVlAz+AYQMtxRsDXz3LA5Lu9QJQJizkLRVI+898JwTaZeUBg7RNBbPsgwNO8Pj/D5iVBqKA5QEB4gUD7qBRA1VMcwYZ0zcCbVuE/oNKXQKoR1UDm2ILAiscNQBhpHkG1USFAHIu1QOw39MABJHfAqf3OP4kRTj+aKKBArIajQDnjTj9Yf5E/7MRmwIcQG7/LIK3ACJ/lwFov+T9RGKDAS6qFQJy8AsCbzdw+8d+BwPAmL76wPirA4zMIQHUjzT6Hg2/A+gABQJSAw0AyLgPBovGzQOpQyMBS0A8/gPgZQHX5KcDt/rw/IKKZQP2zxL/7PATB5KmOwC4Y8UCq6rU/Ek/0PxMDsEAudxbAobdPwBQmwr8ouAHAQrRmQPYJUr9t69U/xbXNwGpRJz8n8og/DoWHQKgBvMBh5/jACwLkv8qpz78l6j/AGz4owPELqUAW8AxBTZIrQE5j7MDRLdY+AKe2QIlpmkB46RNAk1IKQEFajkDeO/TA4RqWv8CjEkGc70zAzz5CQGk9rj+DI1bAjM+lP5xBBEEoc4vAt5jWP+85FL++qh2/9WcMP+WzuT7C6kLAOlUuwIJnJsBcMQfBSYD8vggIB8HzAALB/O9TQJTLcUB+ovxAQrY/wBOLckCGrXPAombOwGsfNMC85HI/tJ7nwFviNMBKs1M/Wl/gQOEgXkC7lL5AXe/TwEY2tcDbhXtAcSZ0QHpvZkA=",
                    "dtype": "f4"
                  },
                  "y": {
                    "bdata": "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",
                    "dtype": "f4"
                  }
                }
              ],
              "layout": {
                "height": 700,
                "hovermode": "closest",
                "template": {
                  "data": {
                    "bar": [
                      {
                        "error_x": {
                          "color": "#2a3f5f"
                        },
                        "error_y": {
                          "color": "#2a3f5f"
                        },
                        "marker": {
                          "line": {
                            "color": "#E5ECF6",
                            "width": 0.5
                          },
                          "pattern": {
                            "fillmode": "overlay",
                            "size": 10,
                            "solidity": 0.2
                          }
                        },
                        "type": "bar"
                      }
                    ],
                    "barpolar": [
                      {
                        "marker": {
                          "line": {
                            "color": "#E5ECF6",
                            "width": 0.5
                          },
                          "pattern": {
                            "fillmode": "overlay",
                            "size": 10,
                            "solidity": 0.2
                          }
                        },
                        "type": "barpolar"
                      }
                    ],
                    "carpet": [
                      {
                        "aaxis": {
                          "endlinecolor": "#2a3f5f",
                          "gridcolor": "white",
                          "linecolor": "white",
                          "minorgridcolor": "white",
                          "startlinecolor": "#2a3f5f"
                        },
                        "baxis": {
                          "endlinecolor": "#2a3f5f",
                          "gridcolor": "white",
                          "linecolor": "white",
                          "minorgridcolor": "white",
                          "startlinecolor": "#2a3f5f"
                        },
                        "type": "carpet"
                      }
                    ],
                    "choropleth": [
                      {
                        "colorbar": {
                          "outlinewidth": 0,
                          "ticks": ""
                        },
                        "type": "choropleth"
                      }
                    ],
                    "contour": [
                      {
                        "colorbar": {
                          "outlinewidth": 0,
                          "ticks": ""
                        },
                        "colorscale": [
                          [
                            0,
                            "#0d0887"
                          ],
                          [
                            0.1111111111111111,
                            "#46039f"
                          ],
                          [
                            0.2222222222222222,
                            "#7201a8"
                          ],
                          [
                            0.3333333333333333,
                            "#9c179e"
                          ],
                          [
                            0.4444444444444444,
                            "#bd3786"
                          ],
                          [
                            0.5555555555555556,
                            "#d8576b"
                          ],
                          [
                            0.6666666666666666,
                            "#ed7953"
                          ],
                          [
                            0.7777777777777778,
                            "#fb9f3a"
                          ],
                          [
                            0.8888888888888888,
                            "#fdca26"
                          ],
                          [
                            1,
                            "#f0f921"
                          ]
                        ],
                        "type": "contour"
                      }
                    ],
                    "contourcarpet": [
                      {
                        "colorbar": {
                          "outlinewidth": 0,
                          "ticks": ""
                        },
                        "type": "contourcarpet"
                      }
                    ],
                    "heatmap": [
                      {
                        "colorbar": {
                          "outlinewidth": 0,
                          "ticks": ""
                        },
                        "colorscale": [
                          [
                            0,
                            "#0d0887"
                          ],
                          [
                            0.1111111111111111,
                            "#46039f"
                          ],
                          [
                            0.2222222222222222,
                            "#7201a8"
                          ],
                          [
                            0.3333333333333333,
                            "#9c179e"
                          ],
                          [
                            0.4444444444444444,
                            "#bd3786"
                          ],
                          [
                            0.5555555555555556,
                            "#d8576b"
                          ],
                          [
                            0.6666666666666666,
                            "#ed7953"
                          ],
                          [
                            0.7777777777777778,
                            "#fb9f3a"
                          ],
                          [
                            0.8888888888888888,
                            "#fdca26"
                          ],
                          [
                            1,
                            "#f0f921"
                          ]
                        ],
                        "type": "heatmap"
                      }
                    ],
                    "histogram": [
                      {
                        "marker": {
                          "pattern": {
                            "fillmode": "overlay",
                            "size": 10,
                            "solidity": 0.2
                          }
                        },
                        "type": "histogram"
                      }
                    ],
                    "histogram2d": [
                      {
                        "colorbar": {
                          "outlinewidth": 0,
                          "ticks": ""
                        },
                        "colorscale": [
                          [
                            0,
                            "#0d0887"
                          ],
                          [
                            0.1111111111111111,
                            "#46039f"
                          ],
                          [
                            0.2222222222222222,
                            "#7201a8"
                          ],
                          [
                            0.3333333333333333,
                            "#9c179e"
                          ],
                          [
                            0.4444444444444444,
                            "#bd3786"
                          ],
                          [
                            0.5555555555555556,
                            "#d8576b"
                          ],
                          [
                            0.6666666666666666,
                            "#ed7953"
                          ],
                          [
                            0.7777777777777778,
                            "#fb9f3a"
                          ],
                          [
                            0.8888888888888888,
                            "#fdca26"
                          ],
                          [
                            1,
                            "#f0f921"
                          ]
                        ],
                        "type": "histogram2d"
                      }
                    ],
                    "histogram2dcontour": [
                      {
                        "colorbar": {
                          "outlinewidth": 0,
                          "ticks": ""
                        },
                        "colorscale": [
                          [
                            0,
                            "#0d0887"
                          ],
                          [
                            0.1111111111111111,
                            "#46039f"
                          ],
                          [
                            0.2222222222222222,
                            "#7201a8"
                          ],
                          [
                            0.3333333333333333,
                            "#9c179e"
                          ],
                          [
                            0.4444444444444444,
                            "#bd3786"
                          ],
                          [
                            0.5555555555555556,
                            "#d8576b"
                          ],
                          [
                            0.6666666666666666,
                            "#ed7953"
                          ],
                          [
                            0.7777777777777778,
                            "#fb9f3a"
                          ],
                          [
                            0.8888888888888888,
                            "#fdca26"
                          ],
                          [
                            1,
                            "#f0f921"
                          ]
                        ],
                        "type": "histogram2dcontour"
                      }
                    ],
                    "mesh3d": [
                      {
                        "colorbar": {
                          "outlinewidth": 0,
                          "ticks": ""
                        },
                        "type": "mesh3d"
                      }
                    ],
                    "parcoords": [
                      {
                        "line": {
                          "colorbar": {
                            "outlinewidth": 0,
                            "ticks": ""
                          }
                        },
                        "type": "parcoords"
                      }
                    ],
                    "pie": [
                      {
                        "automargin": true,
                        "type": "pie"
                      }
                    ],
                    "scatter": [
                      {
                        "fillpattern": {
                          "fillmode": "overlay",
                          "size": 10,
                          "solidity": 0.2
                        },
                        "type": "scatter"
                      }
                    ],
                    "scatter3d": [
                      {
                        "line": {
                          "colorbar": {
                            "outlinewidth": 0,
                            "ticks": ""
                          }
                        },
                        "marker": {
                          "colorbar": {
                            "outlinewidth": 0,
                            "ticks": ""
                          }
                        },
                        "type": "scatter3d"
                      }
                    ],
                    "scattercarpet": [
                      {
                        "marker": {
                          "colorbar": {
                            "outlinewidth": 0,
                            "ticks": ""
                          }
                        },
                        "type": "scattercarpet"
                      }
                    ],
                    "scattergeo": [
                      {
                        "marker": {
                          "colorbar": {
                            "outlinewidth": 0,
                            "ticks": ""
                          }
                        },
                        "type": "scattergeo"
                      }
                    ],
                    "scattergl": [
                      {
                        "marker": {
                          "colorbar": {
                            "outlinewidth": 0,
                            "ticks": ""
                          }
                        },
                        "type": "scattergl"
                      }
                    ],
                    "scattermap": [
                      {
                        "marker": {
                          "colorbar": {
                            "outlinewidth": 0,
                            "ticks": ""
                          }
                        },
                        "type": "scattermap"
                      }
                    ],
                    "scattermapbox": [
                      {
                        "marker": {
                          "colorbar": {
                            "outlinewidth": 0,
                            "ticks": ""
                          }
                        },
                        "type": "scattermapbox"
                      }
                    ],
                    "scatterpolar": [
                      {
                        "marker": {
                          "colorbar": {
                            "outlinewidth": 0,
                            "ticks": ""
                          }
                        },
                        "type": "scatterpolar"
                      }
                    ],
                    "scatterpolargl": [
                      {
                        "marker": {
                          "colorbar": {
                            "outlinewidth": 0,
                            "ticks": ""
                          }
                        },
                        "type": "scatterpolargl"
                      }
                    ],
                    "scatterternary": [
                      {
                        "marker": {
                          "colorbar": {
                            "outlinewidth": 0,
                            "ticks": ""
                          }
                        },
                        "type": "scatterternary"
                      }
                    ],
                    "surface": [
                      {
                        "colorbar": {
                          "outlinewidth": 0,
                          "ticks": ""
                        },
                        "colorscale": [
                          [
                            0,
                            "#0d0887"
                          ],
                          [
                            0.1111111111111111,
                            "#46039f"
                          ],
                          [
                            0.2222222222222222,
                            "#7201a8"
                          ],
                          [
                            0.3333333333333333,
                            "#9c179e"
                          ],
                          [
                            0.4444444444444444,
                            "#bd3786"
                          ],
                          [
                            0.5555555555555556,
                            "#d8576b"
                          ],
                          [
                            0.6666666666666666,
                            "#ed7953"
                          ],
                          [
                            0.7777777777777778,
                            "#fb9f3a"
                          ],
                          [
                            0.8888888888888888,
                            "#fdca26"
                          ],
                          [
                            1,
                            "#f0f921"
                          ]
                        ],
                        "type": "surface"
                      }
                    ],
                    "table": [
                      {
                        "cells": {
                          "fill": {
                            "color": "#EBF0F8"
                          },
                          "line": {
                            "color": "white"
                          }
                        },
                        "header": {
                          "fill": {
                            "color": "#C8D4E3"
                          },
                          "line": {
                            "color": "white"
                          }
                        },
                        "type": "table"
                      }
                    ]
                  },
                  "layout": {
                    "annotationdefaults": {
                      "arrowcolor": "#2a3f5f",
                      "arrowhead": 0,
                      "arrowwidth": 1
                    },
                    "autotypenumbers": "strict",
                    "coloraxis": {
                      "colorbar": {
                        "outlinewidth": 0,
                        "ticks": ""
                      }
                    },
                    "colorscale": {
                      "diverging": [
                        [
                          0,
                          "#8e0152"
                        ],
                        [
                          0.1,
                          "#c51b7d"
                        ],
                        [
                          0.2,
                          "#de77ae"
                        ],
                        [
                          0.3,
                          "#f1b6da"
                        ],
                        [
                          0.4,
                          "#fde0ef"
                        ],
                        [
                          0.5,
                          "#f7f7f7"
                        ],
                        [
                          0.6,
                          "#e6f5d0"
                        ],
                        [
                          0.7,
                          "#b8e186"
                        ],
                        [
                          0.8,
                          "#7fbc41"
                        ],
                        [
                          0.9,
                          "#4d9221"
                        ],
                        [
                          1,
                          "#276419"
                        ]
                      ],
                      "sequential": [
                        [
                          0,
                          "#0d0887"
                        ],
                        [
                          0.1111111111111111,
                          "#46039f"
                        ],
                        [
                          0.2222222222222222,
                          "#7201a8"
                        ],
                        [
                          0.3333333333333333,
                          "#9c179e"
                        ],
                        [
                          0.4444444444444444,
                          "#bd3786"
                        ],
                        [
                          0.5555555555555556,
                          "#d8576b"
                        ],
                        [
                          0.6666666666666666,
                          "#ed7953"
                        ],
                        [
                          0.7777777777777778,
                          "#fb9f3a"
                        ],
                        [
                          0.8888888888888888,
                          "#fdca26"
                        ],
                        [
                          1,
                          "#f0f921"
                        ]
                      ],
                      "sequentialminus": [
                        [
                          0,
                          "#0d0887"
                        ],
                        [
                          0.1111111111111111,
                          "#46039f"
                        ],
                        [
                          0.2222222222222222,
                          "#7201a8"
                        ],
                        [
                          0.3333333333333333,
                          "#9c179e"
                        ],
                        [
                          0.4444444444444444,
                          "#bd3786"
                        ],
                        [
                          0.5555555555555556,
                          "#d8576b"
                        ],
                        [
                          0.6666666666666666,
                          "#ed7953"
                        ],
                        [
                          0.7777777777777778,
                          "#fb9f3a"
                        ],
                        [
                          0.8888888888888888,
                          "#fdca26"
                        ],
                        [
                          1,
                          "#f0f921"
                        ]
                      ]
                    },
                    "colorway": [
                      "#636efa",
                      "#EF553B",
                      "#00cc96",
                      "#ab63fa",
                      "#FFA15A",
                      "#19d3f3",
                      "#FF6692",
                      "#B6E880",
                      "#FF97FF",
                      "#FECB52"
                    ],
                    "font": {
                      "color": "#2a3f5f"
                    },
                    "geo": {
                      "bgcolor": "white",
                      "lakecolor": "white",
                      "landcolor": "#E5ECF6",
                      "showlakes": true,
                      "showland": true,
                      "subunitcolor": "white"
                    },
                    "hoverlabel": {
                      "align": "left"
                    },
                    "hovermode": "closest",
                    "mapbox": {
                      "style": "light"
                    },
                    "paper_bgcolor": "white",
                    "plot_bgcolor": "#E5ECF6",
                    "polar": {
                      "angularaxis": {
                        "gridcolor": "white",
                        "linecolor": "white",
                        "ticks": ""
                      },
                      "bgcolor": "#E5ECF6",
                      "radialaxis": {
                        "gridcolor": "white",
                        "linecolor": "white",
                        "ticks": ""
                      }
                    },
                    "scene": {
                      "xaxis": {
                        "backgroundcolor": "#E5ECF6",
                        "gridcolor": "white",
                        "gridwidth": 2,
                        "linecolor": "white",
                        "showbackground": true,
                        "ticks": "",
                        "zerolinecolor": "white"
                      },
                      "yaxis": {
                        "backgroundcolor": "#E5ECF6",
                        "gridcolor": "white",
                        "gridwidth": 2,
                        "linecolor": "white",
                        "showbackground": true,
                        "ticks": "",
                        "zerolinecolor": "white"
                      },
                      "zaxis": {
                        "backgroundcolor": "#E5ECF6",
                        "gridcolor": "white",
                        "gridwidth": 2,
                        "linecolor": "white",
                        "showbackground": true,
                        "ticks": "",
                        "zerolinecolor": "white"
                      }
                    },
                    "shapedefaults": {
                      "line": {
                        "color": "#2a3f5f"
                      }
                    },
                    "ternary": {
                      "aaxis": {
                        "gridcolor": "white",
                        "linecolor": "white",
                        "ticks": ""
                      },
                      "baxis": {
                        "gridcolor": "white",
                        "linecolor": "white",
                        "ticks": ""
                      },
                      "bgcolor": "#E5ECF6",
                      "caxis": {
                        "gridcolor": "white",
                        "linecolor": "white",
                        "ticks": ""
                      }
                    },
                    "title": {
                      "x": 0.05
                    },
                    "xaxis": {
                      "automargin": true,
                      "gridcolor": "white",
                      "linecolor": "white",
                      "ticks": "",
                      "title": {
                        "standoff": 15
                      },
                      "zerolinecolor": "white",
                      "zerolinewidth": 2
                    },
                    "yaxis": {
                      "automargin": true,
                      "gridcolor": "white",
                      "linecolor": "white",
                      "ticks": "",
                      "title": {
                        "standoff": 15
                      },
                      "zerolinecolor": "white",
                      "zerolinewidth": 2
                    }
                  }
                },
                "title": {
                  "text": "t-SNE Visualization of Gradients: transformer.h.0.attn.attention.v_proj.weight"
                },
                "width": 900,
                "xaxis": {
                  "title": {
                    "text": "t-SNE 1"
                  }
                },
                "yaxis": {
                  "title": {
                    "text": "t-SNE 2"
                  }
                }
              }
            }
          },
          "metadata": {},
          "output_type": "display_data"
        },
        {
          "name": "stdout",
          "output_type": "stream",
          "text": [
            "Saved interactive plot to tinystories_gradients/tsne_transformer_h_0_attn_attention_v_proj_weight.html\n",
            "\n",
            "✅ t-SNE visualizations complete!\n"
          ]
        }
      ],
      "source": [
        "# Create t-SNE visualizations\n",
        "if gradient_tensors is not None:\n",
        "    if USE_SINGLE_LAYER:\n",
        "        print(f\"🎨 Creating t-SNE visualization for single layer: {TARGET_LAYER}\")\n",
        "        # For single layer, adjust keywords based on the layer type\n",
        "        if 'embed' in TARGET_LAYER.lower():\n",
        "            keywords = ['embed']\n",
        "        elif 'attn' in TARGET_LAYER.lower() or 'attention' in TARGET_LAYER.lower():\n",
        "            keywords = ['attn', 'attention']\n",
        "        elif 'mlp' in TARGET_LAYER.lower():\n",
        "            keywords = ['mlp']\n",
        "        else:\n",
        "            keywords = [TARGET_LAYER.split('.')[-2]]  # Use the second-to-last component\n",
        "        \n",
        "        figures = create_multiple_tsne_visualizations(\n",
        "            gradient_tensors=gradient_tensors,\n",
        "            token_data=token_data,\n",
        "            save_dir=SAVE_DIR,\n",
        "            keywords=keywords,\n",
        "            n_samples=500,  # Use more samples for single layer\n",
        "            perplexity=30\n",
        "        )\n",
        "    else:\n",
        "        print(\"🎨 Creating t-SNE visualizations for all layers...\")\n",
        "        figures = create_multiple_tsne_visualizations(\n",
        "            gradient_tensors=gradient_tensors,\n",
        "            token_data=token_data,\n",
        "            save_dir=SAVE_DIR,\n",
        "            keywords=['embed', 'attention', 'attn', 'mlp'],\n",
        "            n_samples=300,\n",
        "            perplexity=30\n",
        "        )\n",
        "else:\n",
        "    print(\"❌ No gradient data available for visualization\")\n"
      ]
    },
    {
      "cell_type": "code",
      "execution_count": null,
      "metadata": {},
      "outputs": [],
      "source": [
        "# Analyze gradient diversity\n",
        "if gradient_tensors is not None:\n",
        "    print(\"📊 Analyzing gradient diversity...\")\n",
        "    \n",
        "    if USE_SINGLE_LAYER:\n",
        "        # For single layer, we can analyze the loaded gradients directly\n",
        "        from efficient_gradient_collector import analyze_gradient_diversity\n",
        "        diversity_stats = analyze_gradient_diversity(gradient_tensors)\n",
        "        print(f\"✅ Analyzed diversity for {len(gradient_tensors)} layer(s)\")\n",
        "    else:\n",
        "        # For all layers, use the batch-based analysis\n",
        "        diversity_stats = collector.analyze_diversity_from_batches()\n",
        "        print(f\"✅ Analyzed diversity from saved batches\")\n",
        "else:\n",
        "    diversity_stats = None\n"
      ]
    },
    {
      "cell_type": "code",
      "execution_count": null,
      "metadata": {},
      "outputs": [],
      "source": [
        "# Print comprehensive summary\n",
        "if gradient_tensors is not None and diversity_stats is not None:\n",
        "    if USE_SINGLE_LAYER:\n",
        "        print(f\"\\n🎯 SINGLE LAYER ANALYSIS SUMMARY\")\n",
        "        print(f\"=\" * 50)\n",
        "        print(f\"Model: {MODEL_NAME}\")\n",
        "        print(f\"Target Layer: {TARGET_LAYER}\")\n",
        "        print(f\"Total samples analyzed: {len(token_data) if token_data else 0}\")\n",
        "        print()\n",
        "        \n",
        "        # Show gradient statistics for the single layer\n",
        "        if isinstance(diversity_stats, dict):\n",
        "            for layer_name, layer_stats in diversity_stats.items():\n",
        "                if isinstance(layer_stats, dict):\n",
        "                    print(f\"📊 Layer: {layer_name}\")\n",
        "                    print(f\"  Samples: {layer_stats.get('num_samples', 'N/A')}\")\n",
        "                    print(f\"  Mean cosine similarity: {layer_stats.get('mean_similarity', 0):.4f}\")\n",
        "                    print(f\"  Std cosine similarity: {layer_stats.get('std_similarity', 0):.4f}\")\n",
        "                    print(f\"  High similarity pairs (>0.95): {layer_stats.get('high_similarity_count', 0)}\")\n",
        "                    print(f\"  Mean gradient norm: {layer_stats.get('gradient_norm_mean', 0):.6f}\")\n",
        "                    print(f\"  Std gradient norm: {layer_stats.get('gradient_norm_std', 0):.6f}\")\n",
        "        \n",
        "        # Show visualization info\n",
        "        try:\n",
        "            if 'figures' in locals() and figures and len(figures) > 0:\n",
        "                print(f\"\\n🎨 Visualizations created: {len(figures)}\")\n",
        "                for fig_name in figures.keys():\n",
        "                    print(f\"  - {fig_name}\")\n",
        "        except:\n",
        "            print(\"\\n🎨 Visualization status: Check above for creation status\")\n",
        "        \n",
        "        print(f\"\\n💾 Data saved to: {SAVE_DIR}\")\n",
        "        \n",
        "    else:\n",
        "        print(\"📈 Using full multi-layer summary...\")\n",
        "        print_gradient_summary(\n",
        "            collector=collector,\n",
        "            gradient_tensors=gradient_tensors,\n",
        "            token_data=token_data,\n",
        "            diversity_stats=diversity_stats,\n",
        "            figures=figures if 'figures' in locals() else {},\n",
        "            model_name=MODEL_NAME\n",
        "        )\n",
        "else:\n",
        "    print(\"❌ No data available for summary\")\n"
      ]
    }
  ],
  "metadata": {
    "kernelspec": {
      "display_name": "Python 3",
      "language": "python",
      "name": "python3"
    },
    "language_info": {
      "codemirror_mode": {
        "name": "ipython",
        "version": 3
      },
      "file_extension": ".py",
      "mimetype": "text/x-python",
      "name": "python",
      "nbconvert_exporter": "python",
      "pygments_lexer": "ipython3",
      "version": "3.10.12"
    }
  },
  "nbformat": 4,
  "nbformat_minor": 2
}
