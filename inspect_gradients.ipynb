{
 "cells": [
  {
   "cell_type": "code",
   "execution_count": 1,
   "metadata": {},
   "outputs": [
    {
     "name": "stdout",
     "output_type": "stream",
     "text": [
      "Loading gradients from: results/gradients\n",
      "Epoch: 0\n"
     ]
    }
   ],
   "source": [
    "%load_ext autoreload\n",
    "%autoreload 2\n",
    "\n",
    "import torch\n",
    "import numpy as np\n",
    "import matplotlib.pyplot as plt\n",
    "from gradient_loader import load_stacked_gradients, load_gradients_by_batch\n",
    "\n",
    "# Configuration\n",
    "GRADIENTS_DIR = \"results/gradients\"\n",
    "EPOCH_TO_LOAD = 0\n",
    "\n",
    "print(f\"Loading gradients from: {GRADIENTS_DIR}\")\n",
    "print(f\"Epoch: {EPOCH_TO_LOAD}\")"
   ]
  },
  {
   "cell_type": "code",
   "execution_count": null,
   "metadata": {},
   "outputs": [
    {
     "name": "stdout",
     "output_type": "stream",
     "text": [
      "Loaded metadata: {'epoch': 0, 'batch_idx': 937, 'total_samples': 32, 'parameter_names': ['network.0.weight', 'network.0.bias', 'network.3.weight', 'network.3.bias']}\n",
      "Found 3752 gradient files\n",
      "Concatenating gradients from all batches...\n"
     ]
    }
   ],
   "source": [
    "# Load all gradients for the entire epoch (combines all batches)\n",
    "try:\n",
    "    stacked_gradients = load_stacked_gradients(GRADIENTS_DIR, EPOCH_TO_LOAD)\n",
    "    print(f\"\\n✅ Successfully loaded gradients for {len(stacked_gradients)} parameters\")\n",
    "    \n",
    "    # Show what we loaded\n",
    "    for param_name, gradients in stacked_gradients.items():\n",
    "        print(f\"  {param_name}: {gradients.shape}\")\n",
    "        \n",
    "except FileNotFoundError as e:\n",
    "    print(f\"❌ {e}\")\n",
    "    print(\"Make sure you've run training with gradient collection enabled.\")"
   ]
  }
 ],
 "metadata": {
  "kernelspec": {
   "display_name": "Python 3",
   "language": "python",
   "name": "python3"
  },
  "language_info": {
   "codemirror_mode": {
    "name": "ipython",
    "version": 3
   },
   "file_extension": ".py",
   "mimetype": "text/x-python",
   "name": "python",
   "nbconvert_exporter": "python",
   "pygments_lexer": "ipython3",
   "version": "3.10.12"
  }
 },
 "nbformat": 4,
 "nbformat_minor": 2
}
